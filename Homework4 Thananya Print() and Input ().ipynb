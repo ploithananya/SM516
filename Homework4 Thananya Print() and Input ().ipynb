{
 "cells": [
  {
   "cell_type": "markdown",
   "metadata": {},
   "source": [
    "**<div align=\"right\"> ธนัญญา ธนาวิชิตฤกษ์ <br>วิศวกรรมการเงิน UTCC <br>1910531201007**"
   ]
  },
  {
   "cell_type": "markdown",
   "metadata": {},
   "source": [
    "# Definition and Usage\n",
    "The print() function prints the specified message to the screen, or other standard output device.\n",
    "\n",
    "The message can be a string, or any other object, the object will be converted into a string before written to the screen.\n",
    "\n"
   ]
  },
  {
   "cell_type": "markdown",
   "metadata": {},
   "source": [
    "## The full syntax of print() is:\n",
    "Syntax\n",
    "\n",
    "print(object(s), separator=separator, end=end, file=file, flush=flush)\n",
    "\n",
    "Parameter Values\n",
    "\n",
    "Parameter\tDescription\n",
    "\n",
    "object(s)\tAny object, and as many as you like. Will be converted to string before printed\n",
    "\n",
    "sep='separator'\tOptional. Specify how to separate the objects, if there is more than one. Default is ' '\n",
    "\n",
    "end='end'\tOptional. Specify what to print at the end. Default is '\\n' (line feed)\n",
    "\n",
    "file\tOptional. An object with a write method. Default is sys.stdout\n",
    "\n",
    "flush\tOptional. A Boolean, specifying if the output is flushed (True) or buffered (False). Default is False"
   ]
  },
  {
   "cell_type": "code",
   "execution_count": 4,
   "metadata": {},
   "outputs": [
    {
     "name": "stdout",
     "output_type": "stream",
     "text": [
      "Hello how are you?\n"
     ]
    }
   ],
   "source": [
    "print(\"Hello\", \"how are you?\") #Print more than one object:\n"
   ]
  },
  {
   "cell_type": "code",
   "execution_count": 5,
   "metadata": {},
   "outputs": [
    {
     "name": "stdout",
     "output_type": "stream",
     "text": [
      "('apple', 'banana', 'cherry')\n"
     ]
    }
   ],
   "source": [
    "x = (\"apple\", \"banana\", \"cherry\") #Print a tuple:\n",
    "print(x)"
   ]
  },
  {
   "cell_type": "code",
   "execution_count": 6,
   "metadata": {},
   "outputs": [
    {
     "name": "stdout",
     "output_type": "stream",
     "text": [
      "Hello---how are you?\n"
     ]
    }
   ],
   "source": [
    "print(\"Hello\", \"how are you?\", sep=\"---\")#Print two messages, and specify the separator:"
   ]
  },
  {
   "cell_type": "code",
   "execution_count": 7,
   "metadata": {},
   "outputs": [
    {
     "name": "stdout",
     "output_type": "stream",
     "text": [
      "88\n",
      "3.14\n",
      "(1+2j)\n",
      "True\n",
      "[1, 2, 3]\n",
      "(1, 2, 3)\n"
     ]
    }
   ],
   "source": [
    "print(88) #showing class integer\n",
    "print(3.14) #showing class float\n",
    "print(1+2j) #showing class complex\n",
    "print(True) #showing class boolean\n",
    "print([1,2,3]) #showing class list\n",
    "print((1,2,3)) #showing class tuple"
   ]
  },
  {
   "cell_type": "code",
   "execution_count": 8,
   "metadata": {},
   "outputs": [
    {
     "name": "stdout",
     "output_type": "stream",
     "text": [
      "Mercury, Venus, Earth\n",
      "One Two Three "
     ]
    }
   ],
   "source": [
    "print(\"Mercury\", \"Venus\", \"Earth\", sep=', ')\n",
    "print(\"One\", end=' ')\n",
    "print(\"Two\", end=' ')\n",
    "print(\"Three\", end=' ')"
   ]
  },
  {
   "cell_type": "markdown",
   "metadata": {},
   "source": [
    "* place holder = ช่องว่าง $\\to$ %s \n",
    "* inject = ฉีด $\\to$ ฉีด object เข้าไปที่ช่องว่าง"
   ]
  },
  {
   "cell_type": "code",
   "execution_count": 9,
   "metadata": {},
   "outputs": [
    {
     "name": "stdout",
     "output_type": "stream",
     "text": [
      "Python language\n",
      "Version 3.800000\n",
      "123\n",
      "Python 3.800000 123\n"
     ]
    }
   ],
   "source": [
    "lang = \"Python\"  #object\n",
    "version = 3.8\n",
    "print(\"%s language\" % lang)\n",
    "print(\"Version %f\" % version) #float\n",
    "print(\"%d\" % 123) #digit\n",
    "print(\"%s %f %d\" % (lang, version, 123))"
   ]
  },
  {
   "cell_type": "markdown",
   "metadata": {},
   "source": [
    "## Real Python: Print()"
   ]
  },
  {
   "cell_type": "markdown",
   "metadata": {},
   "source": [
    "By the end of this tutorial, you’ll know how to:\n",
    "\n",
    "Avoid common mistakes with Python’s print()\n",
    "Deal with newlines, character encodings, and buffering\n",
    "Write text to files\n",
    "Mock print() in unit tests\n",
    "Build advanced user interfaces in the terminal\n",
    "\n",
    "#### Reference: https://realpython.com/python-print/#understanding-python-print"
   ]
  },
  {
   "cell_type": "code",
   "execution_count": 2,
   "metadata": {},
   "outputs": [],
   "source": [
    "import os"
   ]
  },
  {
   "cell_type": "code",
   "execution_count": 13,
   "metadata": {},
   "outputs": [
    {
     "data": {
      "text/plain": [
       "'\\r\\n'"
      ]
     },
     "execution_count": 13,
     "metadata": {},
     "output_type": "execute_result"
    }
   ],
   "source": [
    "os.linesep\n",
    "#This will immediately tell you that Windows and DOS represent the newline as a sequence of \\r followed by \\n:"
   ]
  },
  {
   "cell_type": "code",
   "execution_count": 14,
   "metadata": {},
   "outputs": [
    {
     "data": {
      "text/plain": [
       "'A line of text.'"
      ]
     },
     "execution_count": 14,
     "metadata": {},
     "output_type": "execute_result"
    }
   ],
   "source": [
    "'A line of text.\\n'.rstrip() \n",
    "#To remove the newline character from a string in Python, use its .rstrip() method, like this\n",
    "#This strips any trailing whitespace from the right edge of the string of characters."
   ]
  },
  {
   "cell_type": "code",
   "execution_count": 15,
   "metadata": {},
   "outputs": [
    {
     "name": "stdout",
     "output_type": "stream",
     "text": [
      "Please wait while the program is loading...\n"
     ]
    }
   ],
   "source": [
    " print('Please wait while the program is loading...') \n",
    "#First, you may pass a string literal directly to print():\n",
    "#String literals in Python can be enclosed either in single quotes (') or double quotes (\"). "
   ]
  },
  {
   "cell_type": "markdown",
   "metadata": {},
   "source": [
    "you can define multi-line string literals by enclosing them between ''' or \"\"\", which are often used as docstrings."
   ]
  },
  {
   "cell_type": "code",
   "execution_count": 16,
   "metadata": {},
   "outputs": [
    {
     "data": {
      "text/plain": [
       "'\\nThis is an example\\nof a multi-line string\\nin Python.\\n'"
      ]
     },
     "execution_count": 16,
     "metadata": {},
     "output_type": "execute_result"
    }
   ],
   "source": [
    "\"\"\"\n",
    "This is an example\n",
    "of a multi-line string\n",
    "in Python.\n",
    "\"\"\""
   ]
  },
  {
   "cell_type": "markdown",
   "metadata": {},
   "source": [
    "To remove indentation from a multi-line string, you might take advantage of the built-in textwrap module:"
   ]
  },
  {
   "cell_type": "code",
   "execution_count": 17,
   "metadata": {},
   "outputs": [],
   "source": [
    "import textwrap"
   ]
  },
  {
   "cell_type": "code",
   "execution_count": 20,
   "metadata": {},
   "outputs": [],
   "source": [
    "paragraph = '''\n",
    "    This is an example\n",
    "    of a multi-line string\n",
    "    in Python.\n",
    "    '''"
   ]
  },
  {
   "cell_type": "code",
   "execution_count": 21,
   "metadata": {},
   "outputs": [
    {
     "name": "stdout",
     "output_type": "stream",
     "text": [
      "\n",
      "    This is an example\n",
      "    of a multi-line string\n",
      "    in Python.\n",
      "    \n"
     ]
    }
   ],
   "source": [
    "print(paragraph)"
   ]
  },
  {
   "cell_type": "code",
   "execution_count": 22,
   "metadata": {},
   "outputs": [
    {
     "name": "stdout",
     "output_type": "stream",
     "text": [
      "This is an example\n",
      "of a multi-line string\n",
      "in Python.\n"
     ]
    }
   ],
   "source": [
    "print(textwrap.dedent(paragraph).strip())"
   ]
  },
  {
   "cell_type": "markdown",
   "metadata": {},
   "source": [
    "Secondly, you could extract that message into its own variable with a meaningful name to enhance readability and promote code reuse:"
   ]
  },
  {
   "cell_type": "code",
   "execution_count": 23,
   "metadata": {},
   "outputs": [],
   "source": [
    "message = 'Please wait while the program is loading...'"
   ]
  },
  {
   "cell_type": "code",
   "execution_count": 25,
   "metadata": {},
   "outputs": [
    {
     "name": "stdout",
     "output_type": "stream",
     "text": [
      "Please wait while the program is loading...\n"
     ]
    }
   ],
   "source": [
    "print(message)"
   ]
  },
  {
   "cell_type": "markdown",
   "metadata": {},
   "source": [
    "Lastly, you could pass an expression, like string concatenation, to be evaluated before printing the result:"
   ]
  },
  {
   "cell_type": "code",
   "execution_count": 26,
   "metadata": {},
   "outputs": [],
   "source": [
    "import os"
   ]
  },
  {
   "cell_type": "code",
   "execution_count": 27,
   "metadata": {},
   "outputs": [
    {
     "name": "stdout",
     "output_type": "stream",
     "text": [
      "Hello, Administrator! How are you?\n"
     ]
    }
   ],
   "source": [
    "print('Hello, ' + os.getlogin() + '! How are you?')"
   ]
  },
  {
   "cell_type": "code",
   "execution_count": 28,
   "metadata": {},
   "outputs": [
    {
     "name": "stdout",
     "output_type": "stream",
     "text": [
      "Hello, Administrator! How are you?\n"
     ]
    }
   ],
   "source": [
    "print(f'Hello, {os.getlogin()}! How are you?')"
   ]
  },
  {
   "cell_type": "code",
   "execution_count": 30,
   "metadata": {},
   "outputs": [
    {
     "data": {
      "text/plain": [
       "'My age is 42'"
      ]
     },
     "execution_count": 30,
     "metadata": {},
     "output_type": "execute_result"
    }
   ],
   "source": [
    "'My age is ' + str(42)"
   ]
  },
  {
   "cell_type": "markdown",
   "metadata": {},
   "source": [
    "Note: str() is a global built-in function that converts an object into its string representation.\n",
    "\n",
    "You can call it directly on any object, for example, a number:"
   ]
  },
  {
   "cell_type": "code",
   "execution_count": 31,
   "metadata": {},
   "outputs": [
    {
     "data": {
      "text/plain": [
       "'3.14'"
      ]
     },
     "execution_count": 31,
     "metadata": {},
     "output_type": "execute_result"
    }
   ],
   "source": [
    " str(3.14)"
   ]
  },
  {
   "cell_type": "code",
   "execution_count": 32,
   "metadata": {},
   "outputs": [
    {
     "name": "stdout",
     "output_type": "stream",
     "text": [
      "3.14\n",
      "(1+2j)\n",
      "True\n",
      "[1, 2, 3]\n",
      "(1, 2, 3)\n",
      "{'blue', 'green', 'red'}\n",
      "{'name': 'Alice', 'age': 42}\n",
      "hello\n"
     ]
    }
   ],
   "source": [
    "print(3.14)                          # <class 'float'>\n",
    "print(1 + 2j)                        # <class 'complex'>\n",
    "print(True)                          # <class 'bool'>\n",
    "print([1, 2, 3])                     # <class 'list'>\n",
    "print((1, 2, 3))                     # <class 'tuple'>\n",
    "print({'red', 'green', 'blue'})      # <class 'set'>\n",
    "print({'name': 'Alice', 'age': 42})  # <class 'dict'>\n",
    "print('hello')                       # <class 'str'>"
   ]
  },
  {
   "cell_type": "code",
   "execution_count": 33,
   "metadata": {},
   "outputs": [
    {
     "name": "stdout",
     "output_type": "stream",
     "text": [
      "None\n"
     ]
    }
   ],
   "source": [
    "print(None)"
   ]
  },
  {
   "cell_type": "markdown",
   "metadata": {},
   "source": [
    "## Separating Multiple Arguments"
   ]
  },
  {
   "cell_type": "code",
   "execution_count": 37,
   "metadata": {},
   "outputs": [
    {
     "name": "stdout",
     "output_type": "stream",
     "text": [
      "hello world\n",
      "hello world\n",
      "hello world\n",
      "helloworld\n",
      "hello\n",
      "world\n",
      "home/user/documents\n",
      "home/user/documents\n",
      "/home/user/documents\n"
     ]
    }
   ],
   "source": [
    "print('hello', 'world', sep=None)\n",
    "print('hello', 'world', sep=' ')\n",
    "print('hello', 'world')\n",
    "print('hello', 'world', sep='')\n",
    "print('hello', 'world', sep='\\n')\n",
    "print('home', 'user', 'documents', sep='/')\n",
    "print('home', 'user', 'documents', sep='/')\n",
    "print('', 'home', 'user', 'documents', sep='/')"
   ]
  },
  {
   "cell_type": "markdown",
   "metadata": {},
   "source": [
    "Note: Be careful about joining elements of a list or tuple.\n",
    "\n",
    "Doing it manually will result in a well-known TypeError if at least one of the elements isn’t a string:"
   ]
  },
  {
   "cell_type": "code",
   "execution_count": 42,
   "metadata": {},
   "outputs": [
    {
     "name": "stdout",
     "output_type": "stream",
     "text": [
      "jdoe is 42 years old\n",
      "1,Python Tricks,Dan Bader\n",
      "node -> child -> child\n"
     ]
    }
   ],
   "source": [
    "print(*['jdoe is', 42, 'years old'])\n",
    "print(1, 'Python Tricks', 'Dan Bader', sep=',')\n",
    "print('node', 'child', 'child', sep=' -> ')"
   ]
  },
  {
   "cell_type": "markdown",
   "metadata": {},
   "source": [
    "## Preventing Line Breaks"
   ]
  },
  {
   "cell_type": "code",
   "execution_count": 43,
   "metadata": {},
   "outputs": [
    {
     "name": "stdout",
     "output_type": "stream",
     "text": [
      "line1\n",
      "line2\n",
      "line3\n",
      "line1\r\n",
      "line2\r\n",
      "line3\n",
      "Checking file integrity...The first sentence. The second sentence. The last sentence.\n"
     ]
    }
   ],
   "source": [
    "print('line1\\nline2\\nline3')\n",
    "print('line1\\r\\nline2\\r\\nline3')\n",
    "print('Checking file integrity...', end='')\n",
    "# (...)\n",
    "print('The first sentence', end='. ')\n",
    "print('The second sentence', end='. ')\n",
    "print('The last sentence.')"
   ]
  },
  {
   "cell_type": "code",
   "execution_count": 44,
   "metadata": {},
   "outputs": [
    {
     "name": "stdout",
     "output_type": "stream",
     "text": [
      "Mercury, Venus, Earth, Mars, Jupiter, Saturn, Uranus, Neptune, Pluto\n"
     ]
    }
   ],
   "source": [
    "print('Mercury', 'Venus', 'Earth', sep=', ', end=', ')\n",
    "print('Mars', 'Jupiter', 'Saturn', sep=', ', end=', ')\n",
    "print('Uranus', 'Neptune', 'Pluto', sep=', ')"
   ]
  },
  {
   "cell_type": "code",
   "execution_count": 45,
   "metadata": {},
   "outputs": [
    {
     "name": "stdout",
     "output_type": "stream",
     "text": [
      "Printing in a Nutshell\n",
      " * Calling Print\n",
      " * Separating Multiple Arguments\n",
      " * Preventing Line Breaks\n"
     ]
    }
   ],
   "source": [
    "print('Printing in a Nutshell', end='\\n * ')\n",
    "print('Calling Print', end='\\n * ')\n",
    "print('Separating Multiple Arguments', end='\\n * ')\n",
    "print('Preventing Line Breaks')"
   ]
  },
  {
   "cell_type": "markdown",
   "metadata": {},
   "source": [
    "# Python input\n",
    "\n",
    "Python Input function to accept input from a user\n",
    "In Python, we have the following two functions to handle input from a user and system.\n",
    "\n",
    "* input(prompt) to accept input from a user.\n",
    "* print() to display output on the console.\n",
    "* Python 3 has a built-in function input() to accept user input.\n",
    "\n",
    "In Python 2, to accept user input we can use the following two functions: –\n",
    "\n",
    "input([prompt])\n",
    "raw_input([prompt])\n",
    "\n",
    "The input() function reads a line entered on a console by an input device such as a keyboard and convert it into a string and returns it. As a new developer, It is essential to understand what is input in Python.\n",
    "\n",
    "What is the input?\n",
    "* The Input is nothing but some value from a system or user. For example, if you want to perform an addition of two numbers on the calculator you need to provide two number to the calculator, those two number is nothing but an input provided by the user to a calculator program."
   ]
  },
  {
   "cell_type": "code",
   "execution_count": null,
   "metadata": {},
   "outputs": [],
   "source": [
    "name    = input(\"Enter Employee Name\")\n",
    "salary  = input(\"Enter salary\")\n",
    "company = input (\"Enter Company name\")\n",
    "print(\"Printing Employee Details\")\n",
    "print (\"Name\", \"Salary\", \"Company\")\n",
    "print (name, salary, company)"
   ]
  },
  {
   "cell_type": "code",
   "execution_count": null,
   "metadata": {},
   "outputs": [],
   "source": [
    "number = input (\"Enter number\")\n",
    "name   = input(\"Enter name\")\n",
    "\n",
    "print(\"Printing type of input value\")\n",
    "\n",
    "print (\"type of number\", type(number))\n",
    "print (\"type of name\", type(name))"
   ]
  },
  {
   "cell_type": "markdown",
   "metadata": {},
   "source": [
    "### Accept an Integer input from User\n",
    "Let’s see how to accept an integer value from a user in Python. We need to convert an input string value into an integer using a int() function."
   ]
  },
  {
   "cell_type": "code",
   "execution_count": null,
   "metadata": {},
   "outputs": [],
   "source": [
    "first_number = int ( input (\"Enter first number\") )\n",
    "second_number = int ( input (\"Enter second number\") )\n",
    "\n",
    "sum = first_number + second_number\n",
    "\n",
    "print(\"Addition of two number is: \", sum)"
   ]
  },
  {
   "cell_type": "markdown",
   "metadata": {},
   "source": [
    "Note: As you can see, we explicitly added a cast of an integer type to an input function to convert an input value to the integer type."
   ]
  },
  {
   "cell_type": "markdown",
   "metadata": {},
   "source": [
    "### Accept float input from User\n",
    "Let’s see how to accept float value from a user in Python. You need to convert user input to the float number using the float() function as we did for the integer value."
   ]
  },
  {
   "cell_type": "code",
   "execution_count": null,
   "metadata": {},
   "outputs": [],
   "source": [
    "float_number = float (input(\"Enter a float number\") )\n",
    "print (\"input float number is: \", float_number )\n",
    "print (\"type is:\", type(float_number) )"
   ]
  },
  {
   "cell_type": "markdown",
   "metadata": {},
   "source": [
    "Get multiple values from the user in one line\n",
    "In Python, It is possible to get multiple values from the user in one line. i.e., In Python, we can accept two or three values from the user in one input() call.\n",
    "\n",
    "For example, in a single execution of the input() function, we can ask the user hi/her name, age, and phone number and store it in three different variables. Let’ see how to do this."
   ]
  },
  {
   "cell_type": "code",
   "execution_count": null,
   "metadata": {},
   "outputs": [],
   "source": [
    "name, age, phone = input(\"Enter your name, Age, Percentage separated by space: \").split()\n",
    "print(\"User Details: \", name, age, phone)"
   ]
  },
  {
   "cell_type": "markdown",
   "metadata": {},
   "source": [
    "### Accept multiline input from a user"
   ]
  },
  {
   "cell_type": "code",
   "execution_count": null,
   "metadata": {},
   "outputs": [],
   "source": [
    "MultiLine = []\n",
    "while True:\n",
    "    line = input()\n",
    "    if line:\n",
    "        MultiLine.append(line)\n",
    "    else:\n",
    "        break\n",
    "finalText = '\\n'.join(MultiLine)\n",
    "print(\"Final text input\")\n",
    "print(finalText)"
   ]
  },
  {
   "cell_type": "markdown",
   "metadata": {},
   "source": [
    "Reference: https://pynative.com/python-input-function-get-user-input/"
   ]
  }
 ],
 "metadata": {
  "kernelspec": {
   "display_name": "Python 3",
   "language": "python",
   "name": "python3"
  },
  "language_info": {
   "codemirror_mode": {
    "name": "ipython",
    "version": 3
   },
   "file_extension": ".py",
   "mimetype": "text/x-python",
   "name": "python",
   "nbconvert_exporter": "python",
   "pygments_lexer": "ipython3",
   "version": "3.8.1"
  }
 },
 "nbformat": 4,
 "nbformat_minor": 2
}
