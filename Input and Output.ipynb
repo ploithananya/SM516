{
 "cells": [
  {
   "cell_type": "markdown",
   "metadata": {},
   "source": [
    "# <center> Input and Output"
   ]
  },
  {
   "cell_type": "markdown",
   "metadata": {},
   "source": [
    "<div align=right>บำรุง พ่วงเกิด</div>"
   ]
  },
  {
   "cell_type": "markdown",
   "metadata": {},
   "source": [
    "### ชุดตัวอักษร (Strings) $\\to$ วัตถุ (Objects) $\\to$ Tuple"
   ]
  },
  {
   "cell_type": "code",
   "execution_count": 103,
   "metadata": {},
   "outputs": [
    {
     "data": {
      "text/plain": [
       "'ในปี 2020 มีเหตุการณ์สำคัญคือ การระบาดของไวรัสโควิด-19'"
      ]
     },
     "execution_count": 103,
     "metadata": {},
     "output_type": "execute_result"
    }
   ],
   "source": [
    "''' รูปแบบ (format) การให้ค่า (literal) ของชุดตัวอักษร \n",
    "    ใช้ f หรือ F นำหน้า ''' # docstring\n",
    "\n",
    "ปี = 2020\n",
    "เหตุการณ์ = 'การระบาดของไวรัสโควิด-19'\n",
    "f'ในปี {ปี} มีเหตุการณ์สำคัญคือ {เหตุการณ์}'"
   ]
  },
  {
   "cell_type": "code",
   "execution_count": 104,
   "metadata": {},
   "outputs": [
    {
     "data": {
      "text/plain": [
       "'ในปี 2020 มีเหตุการณ์สำคัญคือ การระบาดของไวรัสโควิด-19'"
      ]
     },
     "execution_count": 104,
     "metadata": {},
     "output_type": "execute_result"
    }
   ],
   "source": [
    "''' ใช้ชุดตัวอักษร รวมกัน (String concatenation)'''\n",
    "\n",
    "'ในปี '+str(ปี)+' มีเหตุการณ์สำคัญคือ '+เหตุการณ์"
   ]
  },
  {
   "cell_type": "code",
   "execution_count": 105,
   "metadata": {},
   "outputs": [
    {
     "data": {
      "text/plain": [
       "' 42572654 YES votes  49.67%'"
      ]
     },
     "execution_count": 105,
     "metadata": {},
     "output_type": "execute_result"
    }
   ],
   "source": [
    "''' ตัวเลข แยกด้วย _ '''\n",
    "\n",
    "yes_votes = 42_572_654\n",
    "no_votes = 43_132_495\n",
    "\n",
    "percentage = yes_votes / (yes_votes + no_votes)\n",
    "'{:-9} YES votes  {:2.2%}'.format(yes_votes, percentage)"
   ]
  },
  {
   "cell_type": "code",
   "execution_count": 106,
   "metadata": {},
   "outputs": [
    {
     "data": {
      "text/plain": [
       "0.496733912684756"
      ]
     },
     "execution_count": 106,
     "metadata": {},
     "output_type": "execute_result"
    }
   ],
   "source": [
    "percentage"
   ]
  },
  {
   "cell_type": "markdown",
   "metadata": {},
   "source": [
    "### คำสั่ง print() พิมพ์ชุดอักษร"
   ]
  },
  {
   "cell_type": "markdown",
   "metadata": {},
   "source": [
    "NB. คำสั่ง print ใน Python 2.x ไม่ได้เป็น function แต่เป็น Expression\n",
    "\n",
    "print percentage"
   ]
  },
  {
   "cell_type": "code",
   "execution_count": 107,
   "metadata": {},
   "outputs": [
    {
     "name": "stdout",
     "output_type": "stream",
     "text": [
      "Help on built-in function print in module builtins:\n",
      "\n",
      "print(...)\n",
      "    print(value, ..., sep=' ', end='\\n', file=sys.stdout, flush=False)\n",
      "    \n",
      "    Prints the values to a stream, or to sys.stdout by default.\n",
      "    Optional keyword arguments:\n",
      "    file:  a file-like object (stream); defaults to the current sys.stdout.\n",
      "    sep:   string inserted between values, default a space.\n",
      "    end:   string appended after the last value, default a newline.\n",
      "    flush: whether to forcibly flush the stream.\n",
      "\n"
     ]
    }
   ],
   "source": [
    "help(print)"
   ]
  },
  {
   "cell_type": "markdown",
   "metadata": {},
   "source": [
    "ในการจัดรูปแบบในการพิมพ์ทำได้ 3 แบบ\n",
    "\n",
    "1. วิธีเก่า ใช้ modulo %\n",
    "1. ใช้ .format() method\n",
    "1. ใช้ f-strings ของใหม่ ดีกว่าของเก่า"
   ]
  },
  {
   "cell_type": "code",
   "execution_count": 108,
   "metadata": {},
   "outputs": [
    {
     "data": {
      "text/plain": [
       "1"
      ]
     },
     "execution_count": 108,
     "metadata": {},
     "output_type": "execute_result"
    }
   ],
   "source": [
    "5%4"
   ]
  },
  {
   "cell_type": "markdown",
   "metadata": {},
   "source": [
    "## ๑. จัดรูปแบบกับช่อง (Placeholder)"
   ]
  },
  {
   "cell_type": "code",
   "execution_count": 109,
   "metadata": {},
   "outputs": [
    {
     "name": "stdout",
     "output_type": "stream",
     "text": [
      "ฉันต้องการฉีดบางอย่างไปที่นี่\n"
     ]
    }
   ],
   "source": [
    "''' ใช้ %s ในการฉีด (inject) ชุดตัวอักษรเข้าไป modulo % คือ string formatting operator '''\n",
    "\n",
    "print('ฉันต้องการฉีด%sไปที่นี่'%'บางอย่าง')"
   ]
  },
  {
   "cell_type": "code",
   "execution_count": 110,
   "metadata": {},
   "outputs": [
    {
     "name": "stdout",
     "output_type": "stream",
     "text": [
      "ฉันต้องการฉีดบางอย่างและอีกอย่างไปที่นี่\n"
     ]
    }
   ],
   "source": [
    "''' แบบฉีดหลายที่ '''\n",
    "\n",
    "print('ฉันต้องการฉีด%sและ%sไปที่นี่'%('บางอย่าง','อีกอย่าง'))"
   ]
  },
  {
   "cell_type": "code",
   "execution_count": 111,
   "metadata": {},
   "outputs": [
    {
     "name": "stdout",
     "output_type": "stream",
     "text": [
      "ฉันต้องการฉีดบางอย่างและอีกอย่างไปที่นี่\n"
     ]
    }
   ],
   "source": [
    "''' ใช้เป็นตัวแปรก็ได้ '''\n",
    "\n",
    "ฉีด1, ฉีด2 = 'บางอย่าง','อีกอย่าง'\n",
    "print('ฉันต้องการฉีดs%และ%sไปที่นี่'%(ฉีด1,ฉีด2))"
   ]
  },
  {
   "cell_type": "markdown",
   "metadata": {},
   "source": [
    "### การเปลี่ยนรูปแบบเพื่อการพิมพ์"
   ]
  },
  {
   "cell_type": "markdown",
   "metadata": {},
   "source": [
    "* %s ใช้ method str() - string\n",
    "* %r ใช้ method repr() - representation"
   ]
  },
  {
   "cell_type": "code",
   "execution_count": 112,
   "metadata": {},
   "outputs": [
    {
     "name": "stdout",
     "output_type": "stream",
     "text": [
      "หล่อนบอกหล่อนว่ามีแฟนชื่อ สุเมธ\n",
      "หล่อนบอกว่าหล่อนมีแฟนชื่อ 'สุเมธ'\n"
     ]
    }
   ],
   "source": [
    "print('หล่อนบอกหล่อนว่ามีแฟนชื่อ %s'%'สุเมธ')\n",
    "print('หล่อนบอกว่าหล่อนมีแฟนชื่อ %r'%'สุเมธ')"
   ]
  },
  {
   "cell_type": "code",
   "execution_count": 113,
   "metadata": {},
   "outputs": [
    {
     "name": "stdout",
     "output_type": "stream",
     "text": [
      "หล่อนบอกว่าแขนของ นภัทร\tใหญ่ \n",
      "หล่อนบอกว่าแขนของ 'นภัทร\\tใหญ่' \n"
     ]
    }
   ],
   "source": [
    "print('หล่อนบอกว่าแขนของ %s '%'นภัทร\\tใหญ่')\n",
    "print('หล่อนบอกว่าแขนของ %r '%'นภัทร\\tใหญ่')"
   ]
  },
  {
   "cell_type": "markdown",
   "metadata": {},
   "source": [
    "* %d รูปแบบตัวเลขเป็นจำนวนเต็ม (integer)"
   ]
  },
  {
   "cell_type": "code",
   "execution_count": 114,
   "metadata": {},
   "outputs": [
    {
     "name": "stdout",
     "output_type": "stream",
     "text": [
      "น้ำหอม Victoria secret ราคา 3.22 บาท\n",
      "น้ำหอม Victoria secret ราคา 3 บาท\n"
     ]
    }
   ],
   "source": [
    "print('น้ำหอม Victoria secret ราคา %s บาท'%3.22)\n",
    "print('น้ำหอม Victoria secret ราคา %d บาท'%3.22)"
   ]
  },
  {
   "cell_type": "markdown",
   "metadata": {},
   "source": [
    "### ขยายและความแม่นยำของตัวเลข"
   ]
  },
  {
   "cell_type": "markdown",
   "metadata": {},
   "source": [
    "* %a.bf\n",
    "    * a คือจำนวนน้อยที่สุดของจำนวนตัวอักษรที่ใส่เข้ามา ถ้าใส่มาน้อยกว่าจะเป็นช่องว่างแทน\n",
    "    * b จำนวนตัวเลขทศนิยมหลังจุด"
   ]
  },
  {
   "cell_type": "code",
   "execution_count": 115,
   "metadata": {},
   "outputs": [
    {
     "name": "stdout",
     "output_type": "stream",
     "text": [
      "กรณ์เป็นหนี้ฟ้าอยู่ 12.35 ล้านบาท\n"
     ]
    }
   ],
   "source": [
    "print('กรณ์เป็นหนี้ฟ้าอยู่ %5.2f ล้านบาท'%(12.345)) # a คือ 5 ช่อง - ไม่มี spacebar"
   ]
  },
  {
   "cell_type": "code",
   "execution_count": 116,
   "metadata": {},
   "outputs": [
    {
     "name": "stdout",
     "output_type": "stream",
     "text": [
      "กรณ์เป็นหนี้ฟ้าอยู่ 12 ล้านบาท\n"
     ]
    }
   ],
   "source": [
    "print('กรณ์เป็นหนี้ฟ้าอยู่ %1.0f ล้านบาท'%(12.345)) # a มี 1 - ไม่มี spacebar"
   ]
  },
  {
   "cell_type": "code",
   "execution_count": 117,
   "metadata": {},
   "outputs": [
    {
     "name": "stdout",
     "output_type": "stream",
     "text": [
      "กรณ์เป็นหนี้ฟ้าอยู่ 12.345000 ล้านบาท\n"
     ]
    }
   ],
   "source": [
    "# ทศนิยม 6 ตำแหน่ง (2+1+6=8> a=1)\n",
    "print('กรณ์เป็นหนี้ฟ้าอยู่ %1.6f ล้านบาท'%(12.345))"
   ]
  },
  {
   "cell_type": "code",
   "execution_count": 120,
   "metadata": {},
   "outputs": [
    {
     "name": "stdout",
     "output_type": "stream",
     "text": [
      "กรณ์เป็นหนี้ฟ้าอยู่      12.35 ล้านบาท\n"
     ]
    }
   ],
   "source": [
    " # a คือ 10 (ตัวเลขทั้งหมด 2+1+2 = 5) มีช่องว่างนำหน้า = 10-5\n",
    "    \n",
    "print('กรณ์เป็นหนี้ฟ้าอยู่ %10.2f ล้านบาท'%(12.345))"
   ]
  },
  {
   "cell_type": "code",
   "execution_count": 119,
   "metadata": {},
   "outputs": [
    {
     "name": "stdout",
     "output_type": "stream",
     "text": [
      "กรณ์เป็นหนี้ฟ้าอยู่                12.35 ล้านบาท\n"
     ]
    }
   ],
   "source": [
    "# a คือ 20 (ตัวเลขทั้งหมด 2+1+2 = 5) มีช่องว่างนำหน้า = 20-5\n",
    "\n",
    "print('กรณ์เป็นหนี้ฟ้าอยู่ %20.2f ล้านบาท'%(12.345))"
   ]
  },
  {
   "cell_type": "markdown",
   "metadata": {},
   "source": [
    "ข้อสอบระดับ ป.ตรี"
   ]
  },
  {
   "cell_type": "markdown",
   "metadata": {},
   "source": [
    "### หลากหลายรูปแบบ"
   ]
  },
  {
   "cell_type": "code",
   "execution_count": 121,
   "metadata": {},
   "outputs": [
    {
     "name": "stdout",
     "output_type": "stream",
     "text": [
      "นางเอกชื่อ มณีจันทร์ มีเงิน  2.56 ล้านบาท สถานภาพ 'ยังโสด'\n"
     ]
    }
   ],
   "source": [
    "print('นางเอกชื่อ %s มีเงิน %5.2f ล้านบาท สถานภาพ %r'%('มณีจันทร์',2.5555,'ยังโสด'))"
   ]
  },
  {
   "cell_type": "markdown",
   "metadata": {},
   "source": [
    "## 2. จัดรูปกับ .format() method"
   ]
  },
  {
   "cell_type": "markdown",
   "metadata": {},
   "source": [
    "__รูปแบบ:__ 'ชุดอักษร {} และ {}'.format('อย่างที่1','อย่างที่2')"
   ]
  },
  {
   "cell_type": "code",
   "execution_count": 124,
   "metadata": {},
   "outputs": [
    {
     "name": "stdout",
     "output_type": "stream",
     "text": [
      "โควิดฉีดด้วยศฤงษ์\n"
     ]
    }
   ],
   "source": [
    "print('โควิดฉีดด้วย{}'.format('ศฤงษ์'))"
   ]
  },
  {
   "cell_type": "markdown",
   "metadata": {},
   "source": [
    "### วิธี .format() method ดีกว่าวิธีจัดรูปตามช่อง"
   ]
  },
  {
   "cell_type": "markdown",
   "metadata": {},
   "source": [
    "#### 1. วัตถุที่ใส่เข้าไปสามารถชี้ตำแหน่ง"
   ]
  },
  {
   "cell_type": "code",
   "execution_count": 131,
   "metadata": {},
   "outputs": [
    {
     "name": "stdout",
     "output_type": "stream",
     "text": [
      "ลำดับความหล่อ ศฤงษ์ นภัทร สุเมธ\n"
     ]
    }
   ],
   "source": [
    "print('ลำดับความหล่อ {1} {2} {0}'.format('สุเมธ', 'ศฤงษ์', 'นภัทร'))"
   ]
  },
  {
   "cell_type": "markdown",
   "metadata": {},
   "source": [
    "#### 2. วัตถุที่ใส่เข้าไปสามารถใช้ตัวแทน"
   ]
  },
  {
   "cell_type": "code",
   "execution_count": 132,
   "metadata": {},
   "outputs": [
    {
     "name": "stdout",
     "output_type": "stream",
     "text": [
      "ลำดับความหล่อ สุเมธ ศฤงษ์ นภัทร\n"
     ]
    }
   ],
   "source": [
    "print('ลำดับความหล่อ {a} {b} {c}'.format(a = 'สุเมธ', b = 'ศฤงษ์', c = 'นภัทร'))"
   ]
  },
  {
   "cell_type": "markdown",
   "metadata": {},
   "source": [
    "#### 3. วัตถุที่ใส่เข้าไปสามารถนำมาใช้ซ้ำ"
   ]
  },
  {
   "cell_type": "code",
   "execution_count": 133,
   "metadata": {},
   "outputs": [
    {
     "name": "stdout",
     "output_type": "stream",
     "text": [
      "สุเมธ หล่อ สุเมธ เก่ง สุเมธ ดี\n",
      "สุเมธ หล่อ สุเมธ เก่ง สุเมธ ดี\n"
     ]
    }
   ],
   "source": [
    "print('%s หล่อ %s เก่ง %s ดี'%('สุเมธ', 'สุเมธ', 'สุเมธ'))\n",
    "# เทียบกับ\n",
    "print('{พระเอก} หล่อ {พระเอก} เก่ง {พระเอก} ดี'.format(พระเอก='สุเมธ'))"
   ]
  },
  {
   "cell_type": "markdown",
   "metadata": {},
   "source": [
    "### การจัดวาง ขยาย และความแม่นยำกับ .format()"
   ]
  },
  {
   "cell_type": "code",
   "execution_count": 139,
   "metadata": {},
   "outputs": [
    {
     "name": "stdout",
     "output_type": "stream",
     "text": [
      "Name         | Marking | No      |      20 |\n",
      "Kanchana     |  3.1234\n",
      "Nuengrutai   |     2.0\n"
     ]
    }
   ],
   "source": [
    "print('{0:12} | {1:7} | {2:7} | {3:7} |'.format('Name', 'Marking', 'No', 20))\n",
    "print('{0:12} | {1:7}'.format('Kanchana', 3.1234))\n",
    "print('{0:12} | {1:7}'.format('Nuengrutai', 2.0))"
   ]
  },
  {
   "cell_type": "markdown",
   "metadata": {},
   "source": [
    "ใช้เครื่องหมายกำกับได้\n",
    "\n",
    "- < ชิดซ้าย\n",
    "- ^ จัดกลาง\n",
    "- \\> ชิดขวา\n"
   ]
  },
  {
   "cell_type": "code",
   "execution_count": 140,
   "metadata": {},
   "outputs": [
    {
     "name": "stdout",
     "output_type": "stream",
     "text": [
      "Left     |  Center  |    Right\n",
      "11       |    22    |       44\n"
     ]
    }
   ],
   "source": [
    "print('{0:<8} | {1:^8} | {2:>8}'.format('Left', 'Center', 'Right'))\n",
    "print('{0:<8} | {1:^8} | {2:>8}'.format(11, 22, 44))"
   ]
  },
  {
   "cell_type": "code",
   "execution_count": 141,
   "metadata": {},
   "outputs": [
    {
     "name": "stdout",
     "output_type": "stream",
     "text": [
      "Left==== | .Center. | ---Right\n",
      "11====== | ...22... | ------44\n"
     ]
    }
   ],
   "source": [
    "''' เปลี่ยนช่องว่าเป็นอักษรอื่น '''\n",
    "\n",
    "print('{0:=<8} | {1:.^8} | {2:->8}'.format('Left', 'Center', 'Right'))\n",
    "print('{0:=<8} | {1:.^8} | {2:->8}'.format(11, 22, 44))"
   ]
  },
  {
   "cell_type": "code",
   "execution_count": 142,
   "metadata": {},
   "outputs": [
    {
     "name": "stdout",
     "output_type": "stream",
     "text": [
      "This is my ten-character, two-decimal number:     13.58\n",
      "This is my ten-character, two-decimal number:     13.58\n"
     ]
    }
   ],
   "source": [
    "''' กำหนดช่อง และความแม่นยำ '''\n",
    "\n",
    "print('This is my ten-character, two-decimal number:%10.2f' %13.579)\n",
    "print('This is my ten-character, two-decimal number:{0:10.2f}'.format(13.579))"
   ]
  },
  {
   "cell_type": "markdown",
   "metadata": {},
   "source": [
    "## 3. จัดรูปแบบการให้ค่าชุดอักษร f-strings"
   ]
  },
  {
   "cell_type": "code",
   "execution_count": 145,
   "metadata": {},
   "outputs": [
    {
     "name": "stdout",
     "output_type": "stream",
     "text": [
      "เธอบอกว่าเธอชื่อธนัญญา\n"
     ]
    }
   ],
   "source": [
    "name = 'ธนัญญา'\n",
    "\n",
    "print(f'เธอบอกว่าเธอชื่อ{name}')"
   ]
  },
  {
   "cell_type": "code",
   "execution_count": 144,
   "metadata": {},
   "outputs": [
    {
     "name": "stdout",
     "output_type": "stream",
     "text": [
      "เธอบอกว่าเธอชื่อ'ธนัญญา'\n"
     ]
    }
   ],
   "source": [
    "print(f'เธอบอกว่าเธอชื่อ{name!r}')"
   ]
  },
  {
   "cell_type": "markdown",
   "metadata": {},
   "source": [
    "### รูปแบบ \"result: {value:{width}.{precision}}\""
   ]
  },
  {
   "cell_type": "code",
   "execution_count": 152,
   "metadata": {},
   "outputs": [
    {
     "name": "stdout",
     "output_type": "stream",
     "text": [
      "My 10 character, four decimal number is:   23.4568\n",
      "My 10 character, four decimal number is:   23.4568\n"
     ]
    }
   ],
   "source": [
    "num = 23.45678\n",
    "\n",
    "print(\"My 10 character, four decimal number is:{0:10.4f}\".format(num))\n",
    "print(f\"My 10 character, four decimal number is:{num:{10}.{6}}\")"
   ]
  },
  {
   "cell_type": "code",
   "execution_count": 153,
   "metadata": {},
   "outputs": [
    {
     "name": "stdout",
     "output_type": "stream",
     "text": [
      "My 10 character, four decimal number is:   23.4500\n",
      "My 10 character, four decimal number is:     23.45\n"
     ]
    }
   ],
   "source": [
    "num = 23.45\n",
    "\n",
    "print(\"My 10 character, four decimal number is:{0:10.4f}\".format(num))\n",
    "print(f\"My 10 character, four decimal number is:{num:{10}.{6}}\")"
   ]
  },
  {
   "cell_type": "code",
   "execution_count": 154,
   "metadata": {},
   "outputs": [
    {
     "name": "stdout",
     "output_type": "stream",
     "text": [
      "My 10 character, four decimal number is:   23.4500\n",
      "My 10 character, four decimal number is:   23.4500\n"
     ]
    }
   ],
   "source": [
    "num = 23.45\n",
    "\n",
    "print(\"My 10 character, four decimal number is:{0:10.4f}\".format(num))\n",
    "print(f\"My 10 character, four decimal number is:{num:10.4f}\")"
   ]
  },
  {
   "cell_type": "markdown",
   "metadata": {},
   "source": [
    "## คำสั่ง input()"
   ]
  },
  {
   "cell_type": "code",
   "execution_count": 155,
   "metadata": {},
   "outputs": [
    {
     "name": "stdout",
     "output_type": "stream",
     "text": [
      "Help on method raw_input in module ipykernel.kernelbase:\n",
      "\n",
      "raw_input(prompt='') method of ipykernel.ipkernel.IPythonKernel instance\n",
      "    Forward raw_input to frontends\n",
      "    \n",
      "    Raises\n",
      "    ------\n",
      "    StdinNotImplentedError if active frontend doesn't support stdin.\n",
      "\n"
     ]
    }
   ],
   "source": [
    "help(input)"
   ]
  },
  {
   "cell_type": "code",
   "execution_count": 156,
   "metadata": {},
   "outputs": [
    {
     "name": "stdout",
     "output_type": "stream",
     "text": [
      "120\n"
     ]
    }
   ],
   "source": [
    "a = input()"
   ]
  },
  {
   "cell_type": "code",
   "execution_count": 157,
   "metadata": {},
   "outputs": [
    {
     "data": {
      "text/plain": [
       "str"
      ]
     },
     "execution_count": 157,
     "metadata": {},
     "output_type": "execute_result"
    }
   ],
   "source": [
    "type(a)"
   ]
  },
  {
   "cell_type": "code",
   "execution_count": 161,
   "metadata": {},
   "outputs": [
    {
     "name": "stdout",
     "output_type": "stream",
     "text": [
      "Tell me your age: 67\n",
      "Wow! Your age is  67\n"
     ]
    }
   ],
   "source": [
    "test2word = input(\"Tell me your age: \")\n",
    "test2num = int(test2word)\n",
    "print(\"Wow! Your age is \", test2num)"
   ]
  },
  {
   "cell_type": "code",
   "execution_count": 163,
   "metadata": {},
   "outputs": [
    {
     "name": "stdout",
     "output_type": "stream",
     "text": [
      "Tell me your lucky number: 20.3\n",
      "This is not a valid number. It isn't a number at all!\n",
      "This is a string, go and try again. Better luck next time!\n"
     ]
    }
   ],
   "source": [
    "test3word = input(\"Tell me your lucky number: \")\n",
    "\n",
    "try:\n",
    "    test3num = int(test3word)\n",
    "    print(\"This is a valid number! Your lucky number is: \", test3num)\n",
    "except ValueError:\n",
    "    print(\"This is not a valid number. It isn't a number at all!\")\n",
    "    print(\"This is a string, go and try again. Better luck next time!\")"
   ]
  },
  {
   "cell_type": "code",
   "execution_count": 164,
   "metadata": {},
   "outputs": [],
   "source": [
    "# Makes a function that will contain the\n",
    "# desired program.\n",
    "\n",
    "def example():\n",
    "\n",
    "    # Calls for an infinite loop that keeps executing\n",
    "    # until an exception occurs\n",
    "    while True:\n",
    "        test4word = input(\"What's your name? \")\n",
    "\n",
    "        try:\n",
    "            test4num = int(input(\"From 1 to 7, how many hours do you play in your mobile?\" ))\n",
    "\n",
    "        # If something else that is not the string\n",
    "        # version of a number is introduced, the\n",
    "        # ValueError exception will be called.\n",
    "        except ValueError:\n",
    "            # The cycle will go on until validation\n",
    "            print(\"Error! This is not a number. Try again.\")\n",
    "\n",
    "        # When successfully converted to an integer,\n",
    "        # the loop will end.\n",
    "        else:\n",
    "            print(\"Impressive, \", test4word, \"! You spent\", test4num*60, \n",
    "                  \"minutes or\", test4num*60*60, \"seconds in your mobile!\")\n",
    "            break\n",
    "\n",
    "# The function is called\n"
   ]
  },
  {
   "cell_type": "code",
   "execution_count": 166,
   "metadata": {},
   "outputs": [
    {
     "name": "stdout",
     "output_type": "stream",
     "text": [
      "What's your name? dvdfzgzdfb\n",
      "From 1 to 7, how many hours do you play in your mobile?fd\n",
      "Error! This is not a number. Try again.\n",
      "What's your name? cxnvxcvnxj\n",
      "From 1 to 7, how many hours do you play in your mobile?sffsf\n",
      "Error! This is not a number. Try again.\n",
      "What's your name? xcvnvxnv,\n",
      "From 1 to 7, how many hours do you play in your mobile?90\n",
      "Impressive,  xcvnvxnv, ! You spent 5400 minutes or 324000 seconds in your mobile!\n"
     ]
    }
   ],
   "source": [
    "example()"
   ]
  },
  {
   "cell_type": "markdown",
   "metadata": {},
   "source": [
    "## แฟ้มข้อมูล Files"
   ]
  },
  {
   "cell_type": "markdown",
   "metadata": {},
   "source": [
    "### IPython Writing a File"
   ]
  },
  {
   "cell_type": "code",
   "execution_count": 187,
   "metadata": {},
   "outputs": [
    {
     "name": "stdout",
     "output_type": "stream",
     "text": [
      "Writing test.txt\n"
     ]
    }
   ],
   "source": [
    "%%writefile test.txt\n",
    "This is a book."
   ]
  },
  {
   "cell_type": "markdown",
   "metadata": {},
   "source": [
    "### Python Opening a file"
   ]
  },
  {
   "cell_type": "code",
   "execution_count": 170,
   "metadata": {},
   "outputs": [
    {
     "ename": "FileNotFoundError",
     "evalue": "[Errno 2] No such file or directory: 'whoops.txt'",
     "output_type": "error",
     "traceback": [
      "\u001b[1;31m---------------------------------------------------------------------------\u001b[0m",
      "\u001b[1;31mFileNotFoundError\u001b[0m                         Traceback (most recent call last)",
      "\u001b[1;32m<ipython-input-170-410403f4f4b4>\u001b[0m in \u001b[0;36m<module>\u001b[1;34m\u001b[0m\n\u001b[1;32m----> 1\u001b[1;33m \u001b[0mmyfile\u001b[0m \u001b[1;33m=\u001b[0m \u001b[0mopen\u001b[0m\u001b[1;33m(\u001b[0m\u001b[1;34m'whoops.txt'\u001b[0m\u001b[1;33m)\u001b[0m\u001b[1;33m\u001b[0m\u001b[1;33m\u001b[0m\u001b[0m\n\u001b[0m",
      "\u001b[1;31mFileNotFoundError\u001b[0m: [Errno 2] No such file or directory: 'whoops.txt'"
     ]
    }
   ],
   "source": [
    "myfile = open('whoops.txt')"
   ]
  },
  {
   "cell_type": "code",
   "execution_count": 171,
   "metadata": {},
   "outputs": [
    {
     "data": {
      "text/plain": [
       "'I:\\\\WPy64-3810\\\\notebooks\\\\Python'"
      ]
     },
     "execution_count": 171,
     "metadata": {},
     "output_type": "execute_result"
    }
   ],
   "source": [
    "pwd # print working directory"
   ]
  },
  {
   "cell_type": "code",
   "execution_count": 173,
   "metadata": {},
   "outputs": [
    {
     "name": "stdout",
     "output_type": "stream",
     "text": [
      " Volume in drive I is Extreme SSD\n",
      " Volume Serial Number is 402C-75E1\n",
      "\n",
      " Directory of I:\\WPy64-3810\\notebooks\\Python\n",
      "\n",
      "03/06/2020  20:19    <DIR>          .\n",
      "03/06/2020  20:19    <DIR>          ..\n",
      "03/06/2020  20:20    <DIR>          .ipynb_checkpoints\n",
      "03/28/2020  00:24             8,928 4_1-print.ipynb\n",
      "03/28/2020  13:32             1,991 4_1-print.rar\n",
      "03/28/2020  00:46             5,517 4_2-input.ipynb\n",
      "03/28/2020  13:30             1,509 4_2-input.rar\n",
      "03/28/2020  07:26            54,057 9781107033856_Python_Code.zip\n",
      "03/07/2020  10:37           673,748 Complete-Python-3-Bootcamp-master.zip\n",
      "03/28/2020  07:19         5,057,931 Financial-Models-Numerical-Methods-master.zip\n",
      "03/28/2020  13:28            19,384 HW 21032020 print().ipynb\n",
      "03/28/2020  13:09             4,136 HW 21032020 print().zip\n",
      "03/28/2020  13:39             9,410 Hw_print.ipynb\n",
      "03/28/2020  13:33             2,410 Hw_print.zip\n",
      "03/28/2020  15:21            32,889 Input and Output.ipynb\n",
      "03/28/2020  12:04               924 Introduction.ipynb\n",
      "03/28/2020  07:33        11,750,086 Jake VanderPlas - Python Data Science Handbook_ Essential Tools for Working with Data-O’Reilly Media (2016).pdf\n",
      "03/06/2020  21:07        21,192,407 Mark Lutz - Learning Python, 5th Edition_ Powerful Object-Oriented Programming-O'Reilly Media (2013).pdf\n",
      "03/28/2020  11:59             4,744 Methods and Functions.ipynb\n",
      "03/28/2020  09:07             3,014 Notebooks.ipynb\n",
      "03/28/2020  07:20           104,086 numerical-python-second-ed-master.zip\n",
      "03/28/2020  07:30        16,031,768 PythonDataScienceHandbook-master.zip\n",
      "03/07/2020  10:39         6,091,003 scientific-python-lectures-master.zip\n",
      "03/28/2020  15:19                59 test.txt\n",
      "03/28/2020  07:28            79,614 tutorial-tkinter-master.zip\n",
      "              22 File(s)     61,129,615 bytes\n",
      "               3 Dir(s)  131,559,587,840 bytes free\n"
     ]
    }
   ],
   "source": [
    "ls "
   ]
  },
  {
   "cell_type": "code",
   "execution_count": 188,
   "metadata": {},
   "outputs": [],
   "source": [
    "# Open the text.txt we made earlier\n",
    "\n",
    "my_file = open('test.txt')"
   ]
  },
  {
   "cell_type": "code",
   "execution_count": 189,
   "metadata": {},
   "outputs": [
    {
     "data": {
      "text/plain": [
       "'This is a book.\\n'"
      ]
     },
     "execution_count": 189,
     "metadata": {},
     "output_type": "execute_result"
    }
   ],
   "source": [
    "# We can now read the file\n",
    "\n",
    "my_file.read()"
   ]
  },
  {
   "cell_type": "code",
   "execution_count": 190,
   "metadata": {},
   "outputs": [
    {
     "data": {
      "text/plain": [
       "''"
      ]
     },
     "execution_count": 190,
     "metadata": {},
     "output_type": "execute_result"
    }
   ],
   "source": [
    "# But what happens if we try to read it again?\n",
    "\n",
    "my_file.read()"
   ]
  },
  {
   "cell_type": "code",
   "execution_count": 191,
   "metadata": {},
   "outputs": [
    {
     "data": {
      "text/plain": [
       "0"
      ]
     },
     "execution_count": 191,
     "metadata": {},
     "output_type": "execute_result"
    }
   ],
   "source": [
    "# Seek to the start of file (index 0)\n",
    "\n",
    "my_file.seek(0)"
   ]
  },
  {
   "cell_type": "code",
   "execution_count": 192,
   "metadata": {},
   "outputs": [
    {
     "data": {
      "text/plain": [
       "'This is a book.\\n'"
      ]
     },
     "execution_count": 192,
     "metadata": {},
     "output_type": "execute_result"
    }
   ],
   "source": [
    "# Now read again\n",
    "\n",
    "my_file.read()"
   ]
  },
  {
   "cell_type": "code",
   "execution_count": 193,
   "metadata": {},
   "outputs": [
    {
     "data": {
      "text/plain": [
       "['This is a book.\\n']"
      ]
     },
     "execution_count": 193,
     "metadata": {},
     "output_type": "execute_result"
    }
   ],
   "source": [
    "# Readlines returns a list of the lines in the file\n",
    "\n",
    "my_file.seek(0)\n",
    "my_file.readlines()"
   ]
  },
  {
   "cell_type": "code",
   "execution_count": 194,
   "metadata": {},
   "outputs": [],
   "source": [
    "my_file.close()"
   ]
  },
  {
   "cell_type": "markdown",
   "metadata": {},
   "source": [
    "### Writing to a File"
   ]
  },
  {
   "cell_type": "code",
   "execution_count": 195,
   "metadata": {},
   "outputs": [],
   "source": [
    "# Add a second argument to the function, 'w' which stands for write.\n",
    "# Passing 'w+' lets us read and write to the file\n",
    "\n",
    "my_file = open('test.txt','w+')"
   ]
  },
  {
   "cell_type": "code",
   "execution_count": 196,
   "metadata": {},
   "outputs": [
    {
     "data": {
      "text/plain": [
       "18"
      ]
     },
     "execution_count": 196,
     "metadata": {},
     "output_type": "execute_result"
    }
   ],
   "source": [
    "# Write to the file\n",
    "\n",
    "my_file.write('This is a new line')"
   ]
  },
  {
   "cell_type": "code",
   "execution_count": 197,
   "metadata": {},
   "outputs": [
    {
     "data": {
      "text/plain": [
       "'This is a new line'"
      ]
     },
     "execution_count": 197,
     "metadata": {},
     "output_type": "execute_result"
    }
   ],
   "source": [
    "# Read the file\n",
    "\n",
    "my_file.seek(0)\n",
    "my_file.read()"
   ]
  },
  {
   "cell_type": "code",
   "execution_count": 198,
   "metadata": {},
   "outputs": [],
   "source": [
    "my_file.close()  # always do this when you're done with a file"
   ]
  },
  {
   "cell_type": "markdown",
   "metadata": {},
   "source": [
    "### Appending to a File"
   ]
  },
  {
   "cell_type": "code",
   "execution_count": 199,
   "metadata": {},
   "outputs": [
    {
     "data": {
      "text/plain": [
       "23"
      ]
     },
     "execution_count": 199,
     "metadata": {},
     "output_type": "execute_result"
    }
   ],
   "source": [
    "my_file = open('test.txt','a+')\n",
    "my_file.write('\\nThis is text being appended to test.txt')\n",
    "my_file.write('\\nAnd another line here.')"
   ]
  },
  {
   "cell_type": "code",
   "execution_count": 200,
   "metadata": {},
   "outputs": [
    {
     "name": "stdout",
     "output_type": "stream",
     "text": [
      "This is a new line\n",
      "This is text being appended to test.txt\n",
      "And another line here.\n"
     ]
    }
   ],
   "source": [
    "my_file.seek(0)\n",
    "print(my_file.read())"
   ]
  },
  {
   "cell_type": "code",
   "execution_count": 201,
   "metadata": {},
   "outputs": [],
   "source": [
    "my_file.close()"
   ]
  },
  {
   "cell_type": "markdown",
   "metadata": {},
   "source": [
    "### Appending with %%writefile"
   ]
  },
  {
   "cell_type": "code",
   "execution_count": 202,
   "metadata": {},
   "outputs": [
    {
     "name": "stdout",
     "output_type": "stream",
     "text": [
      "Appending to test.txt\n"
     ]
    }
   ],
   "source": [
    "%%writefile -a test.txt\n",
    "This is text being appended to test.txt\n",
    "And another line here."
   ]
  },
  {
   "cell_type": "markdown",
   "metadata": {},
   "source": [
    "### Iterating through a File"
   ]
  },
  {
   "cell_type": "code",
   "execution_count": 203,
   "metadata": {},
   "outputs": [
    {
     "name": "stdout",
     "output_type": "stream",
     "text": [
      "Overwriting test.txt\n"
     ]
    }
   ],
   "source": [
    "%%writefile test.txt\n",
    "First Line\n",
    "Second Line"
   ]
  },
  {
   "cell_type": "code",
   "execution_count": null,
   "metadata": {},
   "outputs": [],
   "source": [
    "for line in open('test.txt'):\n",
    "    print(line)"
   ]
  },
  {
   "cell_type": "code",
   "execution_count": null,
   "metadata": {},
   "outputs": [],
   "source": [
    "# Pertaining to the first point above\n",
    "\n",
    "for asdf in open('test.txt'):\n",
    "    print(asdf)"
   ]
  },
  {
   "cell_type": "code",
   "execution_count": null,
   "metadata": {},
   "outputs": [],
   "source": []
  }
 ],
 "metadata": {
  "kernelspec": {
   "display_name": "Python 3",
   "language": "python",
   "name": "python3"
  },
  "language_info": {
   "codemirror_mode": {
    "name": "ipython",
    "version": 3
   },
   "file_extension": ".py",
   "mimetype": "text/x-python",
   "name": "python",
   "nbconvert_exporter": "python",
   "pygments_lexer": "ipython3",
   "version": "3.8.1"
  }
 },
 "nbformat": 4,
 "nbformat_minor": 2
}
