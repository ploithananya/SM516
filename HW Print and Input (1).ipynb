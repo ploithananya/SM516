{
 "cells": [
  {
   "cell_type": "code",
   "execution_count": 1,
   "metadata": {},
   "outputs": [
    {
     "name": "stdout",
     "output_type": "stream",
     "text": [
      "Hello Python\n",
      "My name is Napawan Kimapan\n",
      "Mercury Venus Earth\n",
      "Faii\n",
      "2020\n"
     ]
    }
   ],
   "source": [
    "print(\"Hello Python\")\n",
    "print(\"My name is Napawan Kimapan\")\n",
    "print(\"Mercury\", \"Venus\", \"Earth\")\n",
    "name = \"Faii\"\n",
    "year = 2020\n",
    "print(name)\n",
    "print(year)"
   ]
  },
  {
   "cell_type": "code",
   "execution_count": 2,
   "metadata": {},
   "outputs": [
    {
     "name": "stdout",
     "output_type": "stream",
     "text": [
      "Mercury, Venus, Earth\n",
      "One Two Three "
     ]
    }
   ],
   "source": [
    "print(\"Mercury\", \"Venus\", \"Earth\", sep=', ')\n",
    "print(\"One\", end=' ')\n",
    "print(\"Two\", end=' ')\n",
    "print(\"Three\", end=' ')"
   ]
  },
  {
   "cell_type": "code",
   "execution_count": 3,
   "metadata": {},
   "outputs": [
    {
     "name": "stdout",
     "output_type": "stream",
     "text": [
      "Python language\n",
      "Version 3.800000\n",
      "123\n",
      "Python 3.800000 123\n"
     ]
    }
   ],
   "source": [
    "lang = \"Python\"\n",
    "version = 3.8\n",
    "print(\"%s language\" % lang)\n",
    "print(\"Version %f\" % version)\n",
    "print(\"%d\" % 123)\n",
    "print(\"%s %f %d\" % (lang, version, 123))"
   ]
  },
  {
   "cell_type": "code",
   "execution_count": 4,
   "metadata": {},
   "outputs": [
    {
     "name": "stdout",
     "output_type": "stream",
     "text": [
      "<!DOCTYPE html>\n",
      "<html>\n",
      "<body>\n",
      "<h1>Welcome to Python tutorial on marcuscode.com</h1>\n",
      "</body>\n",
      "</html>\n"
     ]
    }
   ],
   "source": [
    "print('<!DOCTYPE html>');\n",
    "print('<html>');\n",
    "print('<body>');\n",
    "print('<h1>Welcome to Python tutorial on marcuscode.com</h1>');\n",
    "print('</body>');\n",
    "print('</html>');"
   ]
  },
  {
   "cell_type": "code",
   "execution_count": 5,
   "metadata": {},
   "outputs": [
    {
     "name": "stdout",
     "output_type": "stream",
     "text": [
      "Enter your name: Napawan Kimapan\n",
      "Hello Napawan Kimapan\n"
     ]
    }
   ],
   "source": [
    "name = input(\"Enter your name: \")\n",
    "print(\"Hello \" + name)"
   ]
  },
  {
   "cell_type": "code",
   "execution_count": 6,
   "metadata": {},
   "outputs": [
    {
     "name": "stdout",
     "output_type": "stream",
     "text": [
      "Enter first number: 6\n",
      "Enter second number: 6\n",
      "a + b = 12\n"
     ]
    }
   ],
   "source": [
    "a = int(input(\"Enter first number: \"))\n",
    "b = int(input(\"Enter second number: \"))\n",
    "print(\"a + b = %d\" % (a + b))"
   ]
  },
  {
   "cell_type": "code",
   "execution_count": 9,
   "metadata": {},
   "outputs": [
    {
     "data": {
      "text/plain": [
       "True"
      ]
     },
     "execution_count": 9,
     "metadata": {},
     "output_type": "execute_result"
    }
   ],
   "source": [
    "x = 10 #กำหนดค่า\n",
    "x = 1 + 1 #บวก\n",
    "x = 2 - 3 #ลบ\n",
    "x = 4 * 5 #คูณ\n",
    "x = 8 / 4 #หาร\n",
    "x = 7 % 3 #หารเอาเศษ\n",
    "x = 2 ** 5 #ยกกำลัง\n",
    "\n",
    "x += 1 #มีค่าเท่ากับการเขียนว่า x = x + 1\n",
    "\n",
    "10 == 10 #ได้ค่าเป็น True เป็นการเช็กว่าค่าทั้งสองเท่ากันหรือไม่ (ในกรณี 1 กัย \"1\" จะถือว่าไม่เท่ากันนะ)\n",
    "1 != 2 #จะได้ค่าเป็น False เอาไว้เช็กว่าไม่เท่ากับกัน"
   ]
  },
  {
   "cell_type": "code",
   "execution_count": 10,
   "metadata": {},
   "outputs": [],
   "source": [
    "x = 1\n",
    "y = float(x) #แปลง int เป็น float\n",
    "\n",
    "x = 1.5\n",
    "y = int(x) #แปลง float เป็น int\n",
    "\n",
    "x = \"2385\"\n",
    "y = int(x) #แปลง str เป็น int"
   ]
  },
  {
   "cell_type": "code",
   "execution_count": 11,
   "metadata": {},
   "outputs": [
    {
     "data": {
      "text/plain": [
       "NoneType"
      ]
     },
     "execution_count": 11,
     "metadata": {},
     "output_type": "execute_result"
    }
   ],
   "source": [
    "x = 10\n",
    "type(x) #int\n",
    "\n",
    "y = 3.1416\n",
    "type(y) #float\n",
    "\n",
    "name = \"tamemo.com\"\n",
    "type(name) #str\n",
    "\n",
    "b = True\n",
    "type(b) #bool\n",
    "\n",
    "n = None\n",
    "type(n) #NoneType"
   ]
  },
  {
   "cell_type": "code",
   "execution_count": 12,
   "metadata": {},
   "outputs": [
    {
     "name": "stdout",
     "output_type": "stream",
     "text": [
      "hello world!\n",
      "10\n"
     ]
    }
   ],
   "source": [
    "print(\"hello world!\")\n",
    "\n",
    "x = 10\n",
    "print(x)"
   ]
  },
  {
   "cell_type": "code",
   "execution_count": 13,
   "metadata": {},
   "outputs": [
    {
     "name": "stdout",
     "output_type": "stream",
     "text": [
      "1\n"
     ]
    },
    {
     "ename": "TypeError",
     "evalue": "'str' object does not support item assignment",
     "output_type": "error",
     "traceback": [
      "\u001b[1;31m---------------------------------------------------------------------------\u001b[0m",
      "\u001b[1;31mTypeError\u001b[0m                                 Traceback (most recent call last)",
      "\u001b[1;32m<ipython-input-13-d4b8f7bd2743>\u001b[0m in \u001b[0;36m<module>\u001b[1;34m\u001b[0m\n\u001b[0;32m      3\u001b[0m \u001b[1;33m\u001b[0m\u001b[0m\n\u001b[0;32m      4\u001b[0m \u001b[0mprint\u001b[0m\u001b[1;33m(\u001b[0m\u001b[0mnum\u001b[0m\u001b[1;33m[\u001b[0m\u001b[1;36m0\u001b[0m\u001b[1;33m]\u001b[0m\u001b[1;33m)\u001b[0m \u001b[1;31m#10\u001b[0m\u001b[1;33m\u001b[0m\u001b[1;33m\u001b[0m\u001b[0m\n\u001b[1;32m----> 5\u001b[1;33m \u001b[0mnum\u001b[0m\u001b[1;33m[\u001b[0m\u001b[1;36m0\u001b[0m\u001b[1;33m]\u001b[0m \u001b[1;33m=\u001b[0m \u001b[1;36m100\u001b[0m \u001b[1;31m#ตอนนี้ num จะมีค่าเป็น [100, 20, 30, 40]\u001b[0m\u001b[1;33m\u001b[0m\u001b[1;33m\u001b[0m\u001b[0m\n\u001b[0m",
      "\u001b[1;31mTypeError\u001b[0m: 'str' object does not support item assignment"
     ]
    }
   ],
   "source": [
    "um = [10, 20, 30, 40]\n",
    "manga = [\"One Piece\", \"Bleach\", \"Naruto\"]\n",
    "\n",
    "print(num[0]) #10\n",
    "num[0] = 100 #ตอนนี้ num จะมีค่าเป็น [100, 20, 30, 40]"
   ]
  },
  {
   "cell_type": "code",
   "execution_count": null,
   "metadata": {},
   "outputs": [],
   "source": []
  }
 ],
 "metadata": {
  "kernelspec": {
   "display_name": "Python 3",
   "language": "python",
   "name": "python3"
  },
  "language_info": {
   "codemirror_mode": {
    "name": "ipython",
    "version": 3
   },
   "file_extension": ".py",
   "mimetype": "text/x-python",
   "name": "python",
   "nbconvert_exporter": "python",
   "pygments_lexer": "ipython3",
   "version": "3.8.1"
  }
 },
 "nbformat": 4,
 "nbformat_minor": 2
}
