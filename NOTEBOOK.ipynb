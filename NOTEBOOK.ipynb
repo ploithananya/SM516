{
 "cells": [
  {
   "cell_type": "markdown",
   "metadata": {},
   "source": [
    "# NOTEBOOK for all important tools"
   ]
  },
  {
   "cell_type": "markdown",
   "metadata": {},
   "source": [
    "# Github"
   ]
  },
  {
   "cell_type": "markdown",
   "metadata": {},
   "source": [
    "* [Python 3 Boot Camp](https://github.com/Pierian-Data/Complete-Python-3-Bootcamp) \n",
    "* [Scientific Python Lecture](http://github.com/jrjohansson/scientific-python-lectures)\n",
    "* [PythonDataScienceHandbook](http://github.com/jakevdp/PythonDataScienceHandbook)\n",
    "* [Johansson's Numerical Python](http://github.com/Apress/numerical-python-second-ed)\n",
    "* [Tkinter](http://github.com/digitronik/tutorial-tkinter)\n",
    "* [Financial-Models-Numerical-Methods](http://github.com/cantaro86/Financial-Models-Numerical-Methods)\n",
    "* [WinPython](https://winpython.github.io/)"
   ]
  },
  {
   "cell_type": "markdown",
   "metadata": {
    "scrolled": true
   },
   "source": [
    "# Books"
   ]
  },
  {
   "cell_type": "markdown",
   "metadata": {},
   "source": [
    "* [Kiusalaas's Numerical Methods in Engineering](http://93.174.95.29/main/4ED9F9B3F290AF47BF6E36954835946E)\n",
    "* [Moore's Python GUI programming with Tkinter](http://93.174.95.29/main/0E0099C6513C743E5AA3C1EA617DD85D)\n",
    "* [Mark_Lutz's Workbook](http://93.174.95.29/main/F3DB1F1F790B0458450924941A5214A7)\n",
    "* [Robert Johansson - Numerical Python](http://93.174.95.29/main/EE156C826C5C44BAAD322218AB7C8CA0)"
   ]
  },
  {
   "cell_type": "markdown",
   "metadata": {},
   "source": [
    "# Facebook\n"
   ]
  },
  {
   "cell_type": "markdown",
   "metadata": {},
   "source": [
    "* [Real Python](https://www.facebook.com/LearnRealPython/)\n",
    "* [Python Programming](https://www.facebook.com/pythonprogramming.net/)\n",
    "* [Python Developer](https://www.facebook.com/PythonDevelopers/)\n",
    "* [ลุงวิศวกรสอนคำนวณ](https://www.facebook.com/UncleEngineer/)\n",
    "* [Python-Thailand](https://www.facebook.com/groups/admin.py.dev/)"
   ]
  },
  {
   "cell_type": "markdown",
   "metadata": {},
   "source": [
    "# Websites"
   ]
  },
  {
   "cell_type": "markdown",
   "metadata": {},
   "source": [
    "* [W3School Python](http://www.w3schools.com/python/default.asp)\n",
    "* [ipywidgets](http://ipywidgets.readthedocs.io/en/stable/)"
   ]
  },
  {
   "cell_type": "code",
   "execution_count": null,
   "metadata": {},
   "outputs": [],
   "source": []
  }
 ],
 "metadata": {
  "kernelspec": {
   "display_name": "Python 3",
   "language": "python",
   "name": "python3"
  },
  "language_info": {
   "codemirror_mode": {
    "name": "ipython",
    "version": 3
   },
   "file_extension": ".py",
   "mimetype": "text/x-python",
   "name": "python",
   "nbconvert_exporter": "python",
   "pygments_lexer": "ipython3",
   "version": "3.8.1"
  },
  "widgets": {
   "application/vnd.jupyter.widget-state+json": {
    "state": {},
    "version_major": 2,
    "version_minor": 0
   }
  }
 },
 "nbformat": 4,
 "nbformat_minor": 2
}
