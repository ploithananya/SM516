{
 "cells": [
  {
   "cell_type": "markdown",
   "metadata": {},
   "source": [
    "# <center>Basic Probability Theory lecture \n",
    "\n",
    "* Set Theory\n",
    "* Basic Probability"
   ]
  },
  {
   "cell_type": "markdown",
   "metadata": {},
   "source": [
    "## ทฤษฎีเซ็ตที่จะเป็นต่อทฤษฎีความน่าจะเป็นพื้นฐาน: นิยามพื้นฐาน\n",
    "\n",
    "* การศึกษาเรื่องความน่าจะเป็นต้องอาศับความรู้เกี่ยวกับทฤษฎีเซ็ต\n",
    "* เอกภพสัมพัทธ์ (universe) $S$ คือ เซ็ตที่มีสมาชิก **\"ทุกตัว\"**\n",
    "* เซ็ตว่าง $\\phi$ (empty set) คือเซ็ตที่ **\"ไม่มี\"** สมาชิกอยู่เลย\n",
    "* เซ็ต $A$ เป็นสับเซ็ตของเซ็ต $B$ ที่แทนด้วย $A \\subset B$ หมายความว่า สมาชิกทุกตัวที่อยู่ในเซ็ต $A$ ต้องเป็นสมาชิกที่อยู่ในเซ็ต $B$ ด้วย\n",
    "* ส่วนเติมเต็ม (complement) ของเซ็ต $A$ คือ เช็ตที่ประกอบไปด้วยสมาชิกทุกตัวของเอกภพสัมพัทธ์ (universe) $S$ **\"ที่ไม่เป็นสมาชิก\"** ของ $A$ โดยเรามักแทนส่วนเติมเต็มของเซ็ต $A$ ด้วย $A^c$\n",
    "\n",
    "<img src=\"images/1.1.png\" width=300 height=300/>"
   ]
  },
  {
   "cell_type": "markdown",
   "metadata": {},
   "source": [
    "## ทฤษฎีเซ็ตที่จำเป็นต่อทฤษฎีความน่าจะเป็นพื้นฐาน: Union\n",
    "\n",
    "* ยูเนียน (union) ของเซ็ต $A$ และ $B$ ซึ่งแทนด้วย $A \\cup B$ ประกอบไปด้วยสมาชิกทุกตัวที่อยู่ใน $A$ หรือ $B$\n",
    "\n",
    "<img src=\"images/1.2.png\" width=300 height=300/>\n",
    "\n",
    "**<u> สมบัติที่จำเป็น </u>**\n",
    "* $A \\cup B = B \\cup A$\n",
    "* $A \\cup A = A$\n",
    "* $A \\cup A^c = S$\n",
    "* $A \\cup \\phi = A$\n",
    "* $A \\cup S = S$\n",
    "* $ถ้า A \\subset B แล้ว A \\cup B = B$\n",
    "\n",
    "หลักการยูเนียนสามารถใช้ได้กับกรณีที่มีเซ็ตมากกว่าสองเซ็ต\n",
    "* ความสัมพันธ์ระหว่าง 3 เหตุการณ์ A, B และ C ใดๆ จะต้องสอดคล้องกับคุณสมบัติการเชื่อมโยงของยูเนียน (associative property of union) ต่อไปนี้\n",
    "\n",
    "$$ A \\cup B \\cup C = (A \\cup B) \\cup C = A \\cup (B \\cup C) $$\n",
    "\n",
    "* กรณีที่มีเซ็ตทั้งหมด n เซ็ต ประกอบไปด้วย $A_1, A_2, . . . , A_n$ เราสามารถเขียนยูเนียนของ n เหล่านี้ได้เป็น\n",
    "\n",
    "$$ ⋃_{i=1}^{n} A_i = A_1 \\cup A_2 \\cup . . . \\cup A_n  $$"
   ]
  },
  {
   "cell_type": "markdown",
   "metadata": {},
   "source": [
    "**<u> ตัวอย่าง </u>**"
   ]
  },
  {
   "cell_type": "code",
   "execution_count": 1,
   "metadata": {},
   "outputs": [
    {
     "name": "stdout",
     "output_type": "stream",
     "text": [
      "{'cherry', 'apple', 'google', 'banana', 'microsoft'}\n"
     ]
    }
   ],
   "source": [
    "x = {\"apple\", \"banana\", \"cherry\"}\n",
    "y = {\"google\", \"microsoft\", \"apple\"}\n",
    "z = x.union(y)\n",
    "\n",
    "print(z)"
   ]
  },
  {
   "cell_type": "code",
   "execution_count": 2,
   "metadata": {},
   "outputs": [
    {
     "name": "stdout",
     "output_type": "stream",
     "text": [
      "{'e', 'd', 'b', 'a', 'f', 'c'}\n"
     ]
    }
   ],
   "source": [
    "x = {\"a\", \"b\", \"c\"}\n",
    "y = {\"f\", \"d\", \"a\"}\n",
    "z = {\"c\", \"d\", \"e\"}\n",
    "\n",
    "result = x.union(y, z)\n",
    "\n",
    "print(result)"
   ]
  },
  {
   "cell_type": "markdown",
   "metadata": {},
   "source": [
    "## ทฤษฎีเซ็ตที่จะเป็นต่อทฤษฎีความน่าจะเป็นพื้นฐาน: Intersection\n",
    "\n",
    "* ส่วนร่วม (intersection) ของเซ็ต A และ B ซึ่งแทนด้วย $A \\cap B$ ประกอบไปด้วยสมาชิกทุกตัวที่อยู่ในทั้ง \"A และ B\"\n",
    "\n",
    "<img src=\"images/1.3.png\" width=300 height=300/>\n",
    "\n",
    "**<u> สมบัติที่จำเป็น </u>**\n",
    "* $A \\cap B = B \\cap A$\n",
    "* $A \\cap A = A$\n",
    "* $A \\cap A^c = \\phi$\n",
    "* $A \\cap ∅ = \\phi$\n",
    "* $A \\cap S = A$\n",
    "* $ถ้า A \\subset B แล้ว A \\cap B = A$\n",
    "\n",
    "ในทำนองเดียวกับการยูเนียน ส่วนรวม (intersection) สามารถใช้ได้กับกรณีที่เซ็ตมากกว่าสองเซ็ต\n",
    "\n",
    "* ความสัมพันธ์ระหว่าง 3 เหตุการณ์ A, B และ C ใดๆ จะต้องสอดคล้องกับคุณสมบัติการเชื่อมโยงของส่วนรวม (associative property of intersection) ต่อไปนี้\n",
    "\n",
    "$$ A \\cap B \\cap C = (A \\cap B) \\cap C = A \\cap (B \\cap C) $$\n",
    "\n",
    "* กรณีที่มีเซ็ตทั้งหมด n เซ็ต ประกอบไปด้วย $A_1, A_2, . . . , A_n$ เราสามารถเขียนส่วนรวมของ n เหล่านี้ได้เป็น\n",
    "\n",
    "$$ ⋂_{i=1}^{n} A_i = A_1 \\cap A_2 \\cap · · · \\cap A_n  $$\n"
   ]
  },
  {
   "cell_type": "markdown",
   "metadata": {},
   "source": [
    "**<u> ตัวอย่าง </u>**"
   ]
  },
  {
   "cell_type": "code",
   "execution_count": 3,
   "metadata": {},
   "outputs": [
    {
     "name": "stdout",
     "output_type": "stream",
     "text": [
      "{'apple'}\n"
     ]
    }
   ],
   "source": [
    "x = {\"apple\", \"banana\", \"cherry\"}\n",
    "y = {\"google\", \"microsoft\", \"apple\"}\n",
    "\n",
    "z = x.intersection(y)\n",
    "\n",
    "print(z)"
   ]
  },
  {
   "cell_type": "code",
   "execution_count": 4,
   "metadata": {},
   "outputs": [
    {
     "name": "stdout",
     "output_type": "stream",
     "text": [
      "{'c'}\n"
     ]
    }
   ],
   "source": [
    "x = {\"a\", \"b\", \"c\"}\n",
    "y = {\"c\", \"d\", \"e\"}\n",
    "z = {\"f\", \"g\", \"c\"}\n",
    "\n",
    "result = x.intersection(y, z)\n",
    "\n",
    "print(result)"
   ]
  },
  {
   "cell_type": "markdown",
   "metadata": {},
   "source": [
    "## ทฤษฎีเซ็ตที่จะเป็นต่อทฤษฎีความน่าจะเป็นพื้นฐาน: กฏพื้นฐาน\n",
    "\n",
    "**<u> นิยามสำคัญ </u>**\n",
    "* De Morgan's Laws\n",
    "\n",
    "$$ (A \\cup B)^c = A^c \\cap B^c $$  และ  $$ (A \\cap B)^c = A^c \\cup B^c $$\n",
    "\n",
    "* คุณสมบัติการกระจาย (distributive properties)\n",
    "\n",
    "$$ A \\cap (B ∪ C) = (A \\cap B) ∪ (A \\cap C) $$ และ $$ A \\cup (B \\cap C) = (A \\cup B) \\cap (A \\cup C) $$\n",
    "\n",
    "กำหนดให้ $A, B, และ C$ เป็นเซ็ต ถ้า $A \\subset B$ และ $B \\subset A$ แล้ว $A = B$ นอกจากนี้ ถ้า\n",
    "$A \\subset B$ และ $B \\subset C$ แล้ว $A \\subset C$"
   ]
  },
  {
   "cell_type": "markdown",
   "metadata": {},
   "source": [
    "## การไม่มีส่วนร่วมต่อกัน (disjoint) หรือ การไม่เกิดร่วมกัน (mutually exclusive)\n",
    "\n",
    "**<u> Definition </u>**\n",
    "<br>\n",
    "เซ็ต $A$ และ $B$ ไม่มีส่วนร่วมต่อกัน (disjoint) หรือไม่เกิดร่วมกัน (mutually exclusive) ถ้า $A \\cap B = \\phi$\n",
    "\n",
    "**<u> Example </u>**\n",
    "<br>\n",
    "พิจารณาการโยนลูกเต๋า 6 หน้า ปริภูมิตัวอย่างในกรณีนี้คือ {1, 2, 3, 4, 5, 6} เหตุการณ์ที่ผลลัพธ์เป็นเลขคี่ คือ $A_1 = {1,3,5}$ ส่วนเหตุการณ์ที่ผลลัพธ์เป็นเลขคู่คือ $A_2$= {2,4,6} ชัดเจนว่า $A_1 \\cap A_2 = \\phi$ ดังนั้น เราสามารถสรุปได้ว่า เหตุการณ์ $A_1$ และ $A_2$ ไม่มีส่วนร่วมต่อกัน (disjoint) ในทางตรงกันข้าม เหตุการณ์ที่ผลลัพธ์น้อยกว่า 3 คือ $A_3 = {1,2}$ ดังนั้น เหตุการณ์ $A_2$ และ $A_3$ มีส่วนร่วมต่อกัน เพราะ $ A_2 \\cap A_3 = {2} \\ne \\phi $"
   ]
  },
  {
   "cell_type": "markdown",
   "metadata": {},
   "source": [
    "**<u> ตัวอย่าง </u>**"
   ]
  },
  {
   "cell_type": "code",
   "execution_count": 5,
   "metadata": {},
   "outputs": [
    {
     "name": "stdout",
     "output_type": "stream",
     "text": [
      "True\n"
     ]
    }
   ],
   "source": [
    "x = {\"apple\", \"banana\", \"cherry\"}\n",
    "y = {\"google\", \"microsoft\", \"facebook\"}\n",
    "\n",
    "z = x.isdisjoint(y)\n",
    "\n",
    "print(z)"
   ]
  },
  {
   "cell_type": "markdown",
   "metadata": {},
   "source": [
    "## ความน่าจะเป็น (Probability)\n",
    "\n",
    "* **ความน่าจะเป็น (Probability)** เป็นพื้นฐานสำคัญเพื่อบอก \"โอกาส\" ที่แต่ละสถานการณ์หรือเหตุการณ์จะเกิดจากขึ้นจาก \"<u>การทดลองอันใดอันหนึ่ง</u> ไม่ว่าจะเป็นการะบวนการทดลองจริง (real experiment) หรือการทดลองทางความคิด (thought experiment)\"\n",
    "\n",
    "* ตัวอย่าง\n",
    "    - ความน่าจะเป็นที่ผลลัพธ์ของการโยนเหรียญเป็นหัว (หรือก้อย) เท่ากับ $\\frac{1}{2}$ หมายความว่า โอกาส (likelihood) ที่ผลลัพธ์ของการโยนเหรียญจะเป็นหัวหรือก้อยน่าจะพอๆ กัน\n",
    "    - ความน่าจะเป็นที่เด็กไทยจะเป็นโรคออทิสติก (autistic disorder)  มีค่าประมาณ 0.006 เพราะเราพบในข้อมูลว่าร้อยละ 0.6 ของเด็กไทยป่วยเป็นโรคดังกล่าว เป็นต้น"
   ]
  },
  {
   "cell_type": "markdown",
   "metadata": {},
   "source": [
    "## นิยามของการทดลอง (experiment)\n",
    "\n",
    "\n",
    "**<u>Definition</u> (การทดลอง)**\n",
    "การทดลอง (experiment) คือกระบวนการ (process) ที่สามารถระบุได้ว่าผลลัพธ์ที่เป็นไปได้ (possible outcomes)  ประกอบด้วยอะไรบ้าง เราเรียกการทดลองที่ไม่สามารถกำหนดผลลัพธ์ได้อย่างแน่นอนล่วงหน้าเพียงอันเดียวว่า การทดลองสุ่ม (random experiment)\n",
    "\n",
    "* ตัวอย่างการทดลองสุ่ม: การโยนเหรียญ 1 ครั้ง เราทราบว่าผลลัพธ์อาจเป็นเหรียญหงายหัวหรือก้อย แต่ก่อนที่จะโยนเหรียญลงไป เรา **\"ไม่สามารถ\"** บอกได้แน่นอนว่า เหรียญจะหงายหัวหรือก้อย"
   ]
  },
  {
   "cell_type": "markdown",
   "metadata": {},
   "source": [
    "## ปริภูมิตัวอย่าง (Sample space) และเหตุการณ์ (event)\n",
    "\n",
    "**<u>Definition</u> (ปริภูมิตัวอย่าง)**\n",
    "ปริภูมิตัวอย่าง (sample space) คือเซ็ตของผลลัพธ์ที่เป็นไปได้ (possible outcomes) ทั้งหมดของการทดลองอันใดอันหนึ่ง\n",
    "\n",
    "**<u>Definition</u> (เหตุการณ์)**\n",
    "เหตุการณ์ (event) หมายถึงเช็ตซึ่งระบุไว้ชัดเจน (well-defined set) ของผลลัพธ์ที่เป็นไปได้ (possible outcomes)\n",
    "\n",
    "**<u>ตัวอย่างของเหตุการณ์และปริภูมิตัวอย่าง</u>**\n",
    "* การทดลองสุ่มทอดลูกเต๋า 1 ลูก 1 ครั้ง\n",
    "    - ปริภูมิตัวอย่าง (sample space) คือ ผลลัพธ์ที่เป็นไปได้ทั้งหมด นั้นคือ {1, 2, 3, 4, 5, 6}\n",
    "    - ตัวอย่างเหตุการณ์ (event)\n",
    "        - เหตุการณ์ที่ลูกเต๋า **ออกหน้าเป็นเลขคี่** คือ {1, 3, 5}\n",
    "        - เหตุการณ์ที่ลูกเต๋า **ออกหน้าเป็นเลขคู่** คือ {2, 4, 6}\n",
    "        - เหตุการณ์ที่ลูกเต๋า **ออกหน้าเป็นเลขคู่ 7** นั้นคือ $\\phi$"
   ]
  },
  {
   "cell_type": "markdown",
   "metadata": {},
   "source": [
    "## ข้อควรระวังทางเทคนิค\n",
    " \n",
    " * ปริภูมิตัวอย่าง (sample space) **ไม่จำเป็น** ต้องมีคุณสมบัติเป็นเหตุการณ์ (event) ซึ่งจะเกิดขึ้นได้ในกรณีที่ปริภูมิตัวอย่างเป็น **เซ็ตแบบต่อเนื่อง**\n",
    " * ผู้อ่านที่สนใจสามารถศึกษาเพิ่มเติมได้จากหนังสือที่เกี่ยวกับมาตรวัดความน่าจะเป็น (Probability Measure) เช่น Billingley (2008)"
   ]
  },
  {
   "cell_type": "markdown",
   "metadata": {},
   "source": [
    "## สัทพจน์ของความน่าจะเป็น\n",
    "\n",
    "#### Axiom (คุณสมบัติการเป็นบวกของความน่าจะเป็น)\n",
    "ความน่าจะเป็นของเหตุการณ์ A ใดๆ จะต้องไม่น้อยกว่าศูนย์ นั่นคือ\n",
    "<div align=\"right\">(1)</div>\n",
    "$$ Pr(A) \\ge 0 $$ \n",
    "\n",
    "\n",
    "#### Axiom (คุณสมบัติความแน่นอนของปริภูมิตัวอย่าง)\n",
    "ความน่าจะเป็นของปริภูมิตัวอย่าง S ซึ่งเกิดขึ้นอย่างแน่นอนจะต้องมีค่าเท่ากับหนึ่ง นั่นคือ\n",
    "<div align=\"right\">(2)</div>\n",
    "$$ Pr(S) = 0 $$\n",
    "\n",
    "\n",
    "#### Axiom (คุณสมบัติการบวกกันของความน่าจะเป็น)\n",
    "ความน่าจะเป็นของยูเนียนของอนุกรมอนันต์ของเหตุการณ์ที่ไม่มีส่วนร่วมต่อกัน (disjoint events) มีค่าเท่ากับผลบวกของความน่าจะเป็นของแต่ละเหตุการณ์ นั่นคือ\n",
    "<div align=\"right\">(3)</div>\n",
    "$$ Pr \\left( ⋃_{i=1}^{\\infty} A_i \\right) = \\sum_{i = 1}^{\\infty} Pr(A_i)  $$\n"
   ]
  },
  {
   "cell_type": "markdown",
   "metadata": {},
   "source": [
    "## นิยามของความน่าจะเป็น\n",
    "\n",
    "**<u>Definition</u> (ความน่าจะเป็น probability)**\n",
    "ความน่าจะเป็น (probability) หรือมาตรวัดความน่าจะเป็น (probability measure) หมายถึง ฟังก์ชัน Pr(A) ที่ทำหน้าที่แปลงเหตุการณ์ $A \\subset S$ ใดๆ ให้อยู่ในรูปของจำนวนจริงที่สอดคล้องกับสัจพจน์ 1-3\n",
    "\n",
    "* สำหรับการทดลองอันใดอันหนึ่ง เราสามารถนิยามหรือสร้างความน่าจะเป็น (probability) ที่สอดคล้องกับสัจพจน์ของความน่าจะเป็นทั้ง 3 ข้อได้มากกว่า 1 แบบ กล่าวคือ ฟังก์ชันความน่าจะเป็นไม่มีความเป็นหนึ่งเดียว (not unique)\n",
    "* ตัวอย่าง: การทดลองโยนลูกเต๋า 6 หน้า ซึ่งมีปริภูมิตัวอย่างเป็น S = {1, 2, 3, 4, 5, 6}\n",
    "    - ฟังก์ชันที่กำหนดให้ความน่าจะเป็นของแต่ละผลลัพธ์ที่เป็นไปได้มีค่าเท่ากัน นั่นคือ ความน่าจะเป็นของผลการโยนที่ได้ค่า k มีค่าเท่ากับ $ p_k = \\frac{1}{6} $ สำหรับ k = 1,2,3,4,5,6\n",
    "    - ถ้ากำหนดให้ความน่าจะเป็นของผลการโยนที่ได้ค่า k มีค่าเท่ากับ $\\tilde{p} = \\frac{1}{18}$ สำหรับ\n",
    "    <br>k = 1,3,5 และความน่าจะเป็นของผลการโยนที่ได้ค่า k มีค่าเท่ากับ $\\tilde{p} = \\frac{5}{18}$\n",
    "    <br>k = 2,4,6 ฟังก์ชันนี้ก็สอดคล้องกับสัจพจน์"
   ]
  },
  {
   "cell_type": "markdown",
   "metadata": {},
   "source": [
    "## คุณสมบัติของความน่าจะเป็น: เช็ตว่าง\n",
    "\n",
    "**<u>Theorem</u>**\n",
    "<br> $$Pr(\\phi) = 0$$\n",
    "\n",
    "**<u>Proof.</u>**\n",
    "พิจารณาอนุกรมเหตุการณ์ $ A_1, A_2, . . . $ โดยที่ $ A_i = \\phi $ สำหรับทุก i = 1, 2, . . . ซึ่งไม่มีส่วนร่วมต่อกัน (disjoint) เพราะ $ A_i \\cap A_j = \\phi $ สำหรับทุก $ i \\ne j $ และ $ ⋃_{i=1}^{\\infty} A_i = \\phi $ ดังนั้น เราจึงสามารถประยุกต์ใช้สัจพจน์ \"การบวกกันของความน่าจะเป็น\" เพื่อแสดงว่า\n",
    "\n",
    "$$ Pr(\\phi) = Pr\\left( ⋃_{i=1}^{\\infty} A_i \\right) = \\sum_{i = 1}^{\\infty} Pr(A_i) $$\n",
    "มีทางเดียวที่สมการนี้จะเป็นจริงได้คือ $Pr(\\phi) = 0$"
   ]
  },
  {
   "cell_type": "code",
   "execution_count": 6,
   "metadata": {},
   "outputs": [
    {
     "name": "stdout",
     "output_type": "stream",
     "text": [
      "set()\n"
     ]
    }
   ],
   "source": [
    "#Create a new empty set \n",
    "x = set()\n",
    "print(x)"
   ]
  },
  {
   "cell_type": "code",
   "execution_count": 7,
   "metadata": {},
   "outputs": [
    {
     "name": "stdout",
     "output_type": "stream",
     "text": [
      "{0, 1, 2, 3, 4}\n"
     ]
    }
   ],
   "source": [
    "#Create a non empty set\n",
    "n = set([0, 1, 2, 3, 4])\n",
    "print(n)"
   ]
  },
  {
   "cell_type": "markdown",
   "metadata": {},
   "source": [
    "## คุณสมบัติของความน่าจะเป็น: Finite Disjoint\n",
    "\n",
    "**<u>Theorem</u>**\n",
    "สำหรับอนุกรมจำกัดของเหตุการณ์ $A_1, A_2, . . . , A_n$ ที่ไม่มีส่วนร่วมต่อกัน (disjoint) ใดๆ\n",
    "<div align=\"right\">(4)</div>\n",
    "$$ Pr\\left( ⋃_{i=1}^{n} A_i \\right) = \\sum_{i = 1}^{n} Pr(A_i) $$\n",
    "\n",
    "**<u>Proof.</u>**\n",
    "พิจารณาอนุกรมเหตุการณ์ $A_1, A_2, . . . $ โดยที่ $A_1, A_2, . . ., A_n $ ไม่มีส่วนร่วมต่อกัน (disjoint) และ $ \\left( ⋃_{i=1}^{\\infty} A_i \\right) = \\sum_{i = 1}^{n}A_i$\n",
    "\n",
    "$$ Pr(\\left( ⋃_{i=1}^{n} A_i \\right) = Pr\\left( ⋃_{i=1}^{\\infty} A_i \\right) = \\sum_{i = 1}^{\\infty} Pr(A_i) $$\n",
    "$$= \\sum_{i = 1}^{n} Pr(A_i) + \\sum_{i = n+1}^{\\infty} Pr(A_i) $$\n",
    "$$= \\sum_{i = 1}^{n} Pr(A_i) + 0 $$\n",
    "$$= \\sum_{i = 1}^{n} Pr(A_i) $$"
   ]
  },
  {
   "cell_type": "markdown",
   "metadata": {},
   "source": [
    "## คุณสมบัติของความน่าจะเป็น: Complement\n",
    "\n",
    "**<u>Theorem</u>**\n",
    "สำรับเหตุการณ์ $A$ ใดๆ\n",
    "<div align=\"right\">(5)</div>\n",
    "$$ Pr(A^C) = 1 - Pr(A) $$\n",
    "\n",
    "**<u>Proof.</u>**\n",
    "<br> เนื่องจาก $A$ และ $A^C$ ไม่มีส่วนร่วมต่อกัน (disjoint) และ $A \\cup A^C = S$ ดังนั้น\n",
    "\n",
    "$$ Pr(A) + Pr(A^C) = Pr(S) =1 $$\n",
    "\n",
    "ดังนั้น เราสามารถสรุปได้ว่า $ Pr(A^C) = 1- Pr(A)$"
   ]
  },
  {
   "cell_type": "markdown",
   "metadata": {},
   "source": [
    "## คุณสมบัติของความน่าจะเป็น: Subset\n",
    "\n",
    "**<u>Theorem</u>**\n",
    "<br>ถ้า $A \\subset B$ แล้ว $Pr(A) \\le Pr(B)$\n",
    "\n",
    "**<u>Proof.</u>**\n",
    "<br>เนื่องจาก $A$ และ $(B \\cap A^C)$ ไม่มีส่วนร่วมต่อกัน (disjoint) และ $B = A\\cap(B \\cap A^C) $ ดังนั้น\n",
    "$$Pr(B) = Pr(A) + Pr(B \\cap A^C)$$\n",
    "\n",
    "เนื่องจาก $Pr(B \\cap A^C) \\ge 0$ เราจึงสามารถสรุปได้ว่า $Pr(A) \\le Pr(B)$"
   ]
  },
  {
   "cell_type": "markdown",
   "metadata": {},
   "source": [
    "**<u> ตัวอย่าง </u>**"
   ]
  },
  {
   "cell_type": "code",
   "execution_count": 8,
   "metadata": {},
   "outputs": [
    {
     "name": "stdout",
     "output_type": "stream",
     "text": [
      "True\n"
     ]
    }
   ],
   "source": [
    "x = {\"a\", \"b\", \"c\"}\n",
    "y = {\"f\", \"e\", \"d\", \"c\", \"b\", \"a\"}\n",
    "\n",
    "z = x.issubset(y)\n",
    "\n",
    "print(z)"
   ]
  },
  {
   "cell_type": "markdown",
   "metadata": {},
   "source": [
    "## คุณสมบัติของความน่าจะเป็น: ค่าที่เป็นไปได้ของความน่าจะเป็น\n",
    "\n",
    "**<u>Theorem</u>**\n",
    "<br> สำหรับเหตุการณ์ $A$ ใดๆ $0 \\le Pr(A) \\le 1$\n",
    "\n",
    "**<u>Proof.</u>**\n",
    "<br>ส่วนแรกเป็นผลมาจากสัจพจน์ “การเป็นบวกของความน่าจะเป็น” ที่กำหนดให้ $0 \\le Pr(A)$ ส่วนที่สองเป็นผลมาจากทฤษฎีบทที่แล้ว เนื่องจาก $A \\subset S$ ดังนั้น $Pr(A) \\le Pr(S) = 1$ โดยที่สมการสุดท้ายเป็นผลมาจากสัจพจน์ \"ความแน่นอนของปริภูมิตัวอย่าง\""
   ]
  },
  {
   "cell_type": "markdown",
   "metadata": {},
   "source": [
    "## คุณสมบัติของความน่าจะเป็น: Intersection with Complement\n",
    "\n",
    "**<u>Theorem</u>**\n",
    "<br>สำหรับเหตุการณ์ $A$ และ $B$ ใดๆ\n",
    "\n",
    "$$ Pr(A \\cap B^C) = Pr(A) - Pr(A \\cap B)$$\n",
    "\n",
    "**<u>Proof.</u>**\n",
    "<br>จากทฤษฎีบทก่อนหน้านี้ ซึ่งระบุว่า $A = (A \\cap B)∪(A \\cap B^C)$ และ $(A \\cap B)$ และ $(A \\cap B^C)$ ไม่มีส่วนร่วมต่อกัน(disjoint) เราสามารถประยุกต์ใช้ทฤษฎีบทก่อนหน้านี้ เพื่อแสดงว่า\n",
    "\n",
    "$$ Pr(A) = Pr(A\\cap B) + Pr(A\\cap B^C)$$"
   ]
  },
  {
   "cell_type": "markdown",
   "metadata": {},
   "source": [
    "## คุณสมบัติของความน่าจะเป็น: Union\n",
    "\n",
    "**<u>Theorem</u>**\n",
    "<br>สำหรับเหตุการณ์ $A$ และ $B$ ใดๆ\n",
    "<div align=\"right\">(6)</div>\n",
    "$$ Pr(A \\cup B) = Pr(A) + Pr(B) - Pr(A \\cap B)$$\n",
    "\n",
    "**<u>Proof.</u>**\n",
    "<br>จากทฤษฎีบทก่อนหน้านี้ ซึ่งระบุว่า $A\\cup B = B \\cup (A \\cap B^C)$ และ $B$ และ $(A \\cap B^C)$ ไม่มีส่วนร่วมต่อกัน(disjoint) เราสามารถประยุกต์ใช้ทฤษฎีบทก่อนหน้านี้ เพื่อแสดงว่า\n",
    "\n",
    "$$ Pr(A\\cup B) = Pr(B) + Pr(A \\cap B^C)$$\n",
    "\n",
    "เมื่อแทนค่า $ Pr(A\\cap B^C) = Pr(A) - Pr(A\\cap B)$ จากทฤษฎีบทก่อนหน้านี้ ลงไปได้ว่า\n",
    "\n",
    "$$ Pr(A \\cup B) = Pr(A) + Pr(B) - Pr(A \\cap B) $$"
   ]
  },
  {
   "cell_type": "markdown",
   "metadata": {},
   "source": [
    "## คุณสมบัติของความน่าจะเป็น: Finite Unions\n",
    "\n",
    "**<u>Theorem</u>**\n",
    "<br>สำหรับอนุกรมจำกัดของเหตุการณ์ $A_1, . . ., A_n$\n",
    "<div align=\"right\">(7)</div>\n",
    "$$ Pr\\left( ⋃_{i=1}^{n} A_i \\right) = \\sum_{i = 1}^{n} Pr(A_i) - \\sum_{i < j}Pr(A_i \\cap A_j) + \\sum_{i<j<k}Pr(A_i \\cap A_j \\cap A_k) - \\sum_{i<j<k<l}Pr(A_i \\cap A_j \\cap A_k \\cap A_l) + . . . + (-1)^{n+1} Pr\\left( ⋂_{i=1}^{n} A_i \\right)$$\n",
    "\n",
    "**<u>Proof.</u>**\n",
    "* ทฤษฎีบทนี้ใช้วิธีการพิสูจน์แบบอุปนัย (induction) โดยเริ่มจากทฤษฎีบทก่อนหน้านี้ ซึ่งระบุว่าทฤษฎีบทที่ต้องการพิสูจน์นี้เป็นจริงในกรณีที่ n=2 ส่วนกรณีที่ n=1 นั้นสามารถเข้าใจได้ไม่ยาก\n",
    "* ส่วนที่เหลือคือการพิสูจน์ว่า ถ้าทฤษฎีนี้เป็นจริงสำหรับ n ใดๆ แล้วจต้องเป็นจริงสำหรับ m = n+1 เสมอ"
   ]
  },
  {
   "cell_type": "markdown",
   "metadata": {},
   "source": [
    "## Proof of Finite Unions (Con’t)\n",
    "* สมมติให้ทฤษฎีบทนี้เป็นจริงสำหรับ $n \\le 2$ และกำหนดให้ $A_1, . . ., A_{n+1}$ เป็นอนุกรมของเหตุการณ์ และ $A = ⋃_{i=1}^{n} A_i$ และ $B = A_{n+1}$ เราสามารถประยุกต์ใช้ทฤษฎีก่อนหน้าได้ว่า\n",
    "<div align=\"right\">(8)</div>\n",
    "<br>$ Pr\\left( ⋃_{i=1}^{n+1} A_i \\right) = Pr\\left(\\left[⋃_{i=1}^{n} A_i\\right] \\cup A_{n+1}\\right) $\n",
    "\n",
    "&emsp; &emsp; &emsp; &emsp; &emsp; &emsp; &emsp;&nbsp; $ = Pr\\left( ⋃_{i=1}^{n} A_i \\right) + Pr(A_{n+1}) - Pr\\left(\\left[⋃_{i=1}^{n} A_i\\right] \\cap A_{n+1}\\right) $\n",
    "\n",
    "* หลังจากนั้น เราสามารถประยุกต์ใช้คุณสมบัติการกระจายเพื่อแสดงว่า\n",
    "\n",
    "$$ \\left[⋃_{i=1}^{n} A_i\\right] \\cap A_{n+1} = ⋃_{i=1}^{n} (A_i \\cap A_{n+1})$$\n",
    "\n",
    "<br>\n",
    "\n",
    "**<u>Proof.</u>**\n",
    "<br>ซึ่งมีทั้งหมด n พจน์ ดังนั้น เราจึงสามารถประยุกต์ใช้สมการที่ (7) สำหรับ n พจน์ เพื่อแปลงพจน์ที่หนึ่งในสมการที่ (8) ให้เป็น\n",
    "\n",
    "$$ Pr\\left(⋃_{i=1}^{n} A_i\\right) = \\sum_{i = 1}^{n} Pr(A_i) - \\sum_{i < j}Pr(A_i \\cap A_j) + \\sum_{i<j<k}Pr(A_i \\cap A_j \\cap A_k) - \\sum_{i<j<k<l}Pr(A_i \\cap A_j \\cap A_k \\cap A_l) + . . . + (-1)^{n+1} Pr\\left( ⋂_{i=1}^{n} A_i \\right) $$\n",
    "\n",
    "และแปลงพจน์ที่สามในสมการที่ (8) ให้เป็น\n",
    "\n",
    "$$ -Pr\\left(⋃_{i=1}^{n} (A_i \\cap A_{n+1})\\right) = -\\sum_{i = 1}^{n} Pr(A_i \\cap A_{n+1}) + \\sum_{i < j}Pr(A_i \\cap A_j \\cap A_{n+1}) + \\sum_{i<j<k}Pr(A_i \\cap A_j \\cap A_k) - \\sum_{i<j<k<l}Pr(A_i \\cap A_j \\cap A_k \\cap A_l \\cap A_{n+1}) + . . . + (-1)^{n+2} Pr\\left( ⋂_{i=1}^{n+1} A_i \\right) $$\n",
    "\n",
    "<br> ขั้นตอนสุดท้าย คือการแทนผลที่ได้เข้าไปในสมการที่ (8) เราจะได้ว่า\n",
    "\n",
    "$$ Pr\\left(⋃_{i=1}^{n+1} A_i\\right) = \\sum_{i = 1}^{n+1} Pr(A_i) - \\sum_{i < j}Pr(A_i \\cap A_j) + \\sum_{i<j<k}Pr(A_i \\cap A_j \\cap A_k) - \\sum_{i<j<k<l}Pr(A_i \\cap A_j \\cap A_k \\cap A_l) + . . . + (-1)^{n+2} Pr\\left( ⋂_{i=1}^{n+1} A_i \\right) $$\n",
    "\n",
    "ซึ่งเป็นการพิสูจน์ว่า หากทฤษฎีบทนี้เป็นจริงสำหรับ $n \\ge 2$ แล้วจะต้องเป็นจริงสำหรับ $m =n+1$"
   ]
  },
  {
   "cell_type": "markdown",
   "metadata": {},
   "source": [
    "## เหตุการณ์ที่มีความน่าจะเป็นเท่ากับศูนย์ ไม่ได้หมายความว่าเป็นไปไม่ได้\n",
    "\n",
    "* เรามักจะบอกว่าเหตุการณ์ที่เป็นไปไม่ได้ (impossible events) มีความน่าจะเป็นเท่ากับศูนย์ แต่ในทางกลับกัน เหตุการณ์ที่มีความน่าจะเป็นเท่ากับศูนย์นั้นอาจจะเกิดขึ้นได้\n",
    "\n",
    "**<u>ตัวอย่าง</u>**\n",
    "<br>\n",
    "เหตุการณ์ที่ปริมาณน้ำฝนที่ตกในวันพรุ่งนี้มีค่าระหว่าง $ x - \\in $ และ $ x + \\in $ มิลลิเมตร โดยที่ $ x $ และ $ \\in $  เป็นค่าจำนวนจริงที่มากกว่าศูนย์\n",
    "\n",
    "* ความน่าจะเป็นของเหตุการณ์นี้ เมื่อเราพิจารณาลิมิตที่ ϵ ลู่เข้าสู่ 0 จะเท่ากับ 0 โดยอัตโนมัติ\n",
    "* แต่ไม่ได้หมายความว่า เหตุการณ์นี้เกิดขึ้นไม่ได้ เพราะถ้าเป็นเช่นนั้นย่อมหมายความว่า จะไม่สามารถมีฝนตกในปริมาณใดๆ ได้เลย\n",
    "* ตัวอย่างนี้คือคุณสมบัติพท้นฐานของการอินทิเกรต (integration) นั่นเอง\n"
   ]
  },
  {
   "cell_type": "markdown",
   "metadata": {},
   "source": [
    "อ้างอิง: [$Lecture Note^1$](http://riped.utcc.ac.th/tee/wp-content/uploads/sites/3/2019/08/stat-thai.pdf)"
   ]
  }
 ],
 "metadata": {
  "kernelspec": {
   "display_name": "Python 3",
   "language": "python",
   "name": "python3"
  },
  "language_info": {
   "codemirror_mode": {
    "name": "ipython",
    "version": 3
   },
   "file_extension": ".py",
   "mimetype": "text/x-python",
   "name": "python",
   "nbconvert_exporter": "python",
   "pygments_lexer": "ipython3",
   "version": "3.8.1"
  }
 },
 "nbformat": 4,
 "nbformat_minor": 2
}
