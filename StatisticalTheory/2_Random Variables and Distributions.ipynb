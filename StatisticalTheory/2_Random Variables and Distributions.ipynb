{
 "cells": [
  {
   "cell_type": "markdown",
   "metadata": {},
   "source": [
    "# <center> Random Variablesand Distributions"
   ]
  },
  {
   "cell_type": "markdown",
   "metadata": {},
   "source": [
    "* ตัวแปรสุ่ม(Random Variables)คืออะไร? \n",
    "* เมื่อเราพิจารณาตัวแปรสุ่มเราควรต้องถามว่าตัวแปรสุ่มนั้นมีการแจกแจงอย่างไร? เพราะ \n",
    "    การแจกแจง(distribution)คือผลของการรวบรวมคุณสมบัติเชิงความน่าจะเป็น (probabilistic properties) ทั้งหมดของตัวแปรสุ่ม \n",
    "* การแจกแจง(distribution)สามารถเขียนได้ในรูปของ p.f. หรือ p.d.f. และ C.D.F.\n"
   ]
  },
  {
   "cell_type": "markdown",
   "metadata": {},
   "source": [
    "## ตัวแปรสุ่ม (RandomVariables)\n",
    "**Deﬁnition (ตัวแปรสุ่ม(randomvariable))**\n",
    "\n",
    "ตัวแปรสุ่ม(randomvariable) X คือฟังก์ชันค่าจริง(real-valuedfunction) ซึ่งกำหนดค่า จำนวนจริงสำหรับแต่ละผลลัพธ์(outcomes) หรือเหตุการณ์(events) ในปริภูมิตัวอย่าง(samplespace) ซึ่งสามารถเขียนในรูปแบบทางคณิตศาสตร์ได้เป็น $X$ : $S$ → $R$ "
   ]
  },
  {
   "cell_type": "markdown",
   "metadata": {},
   "source": [
    "* เรามักจะแทนค่าที่เกิดขึ้นจริง(realization) ของตัวแปรสุ่ม $X$ สำหรับผลลัพธ์ $s ∈ S$ ในรูป $X(s) = x$ ซึ่งเป็นค่าจำนวนจริง\n",
    "* KeyBeneﬁt: เราสามารถวิเคราะห์บนค่าจำนวนจริงโดยไม่ต้องสนใจว่าเหตุการณ์ ที่อยู่เบื้องหลังคืออะไรซึ่งช่วยให้การวิเคราะห์มีความสะดวกอย่างมาก"
   ]
  },
  {
   "cell_type": "markdown",
   "metadata": {},
   "source": [
    "## ตัวอย่าง: ตัวแปรสุ่มแบบไม่ต่อเนื่อง\n",
    "**Example**\n",
    "\n",
    "พิจารณาการทดลองโยนเหรียญ 5 ครั้งดังนั้นปริภูมิตัวอย่าง(samplespace) ในกรณีนี้คือ \n",
    "<center>$S$ ={$s : s$ ผลของการโยนเหรียญ5ครั้ง}\n",
    "\n",
    "* ถ้าสิ่งที่เราสนใจคือจำนวนครั้งที่ผลการโยนเป็นก้อยซึ่งสามารถแทนได้ด้วยตัวแปรสุ่ม $X$ ซึ่งเป็น “ฟังก์ชันที่บอกถึงจำนวนครั้งของการโยนที่ได้ผลออกมาเป็นก้อย” \n",
    "<center>ผลลัพธ์ $s = HTTHT$ ($H$ แทนหัวและ $T$ แทนก้อย) คือ $X(s) = 3$\n",
    "* ถ้าสิ่งที่เราสนใจคือจำนวนครั้งของการโยนที่ได้ผลออกมาเป็นหัวเราสามารถแทนด้วย ตัวแปรสุ่ม Y ซึ่งเป็น “ฟังก์ชันที่บอกถึงจำนวนครั้งของการโยนที่ได้ผลออกมาเป็นหัว” \n",
    "<center>ผลลัพธ์ $s = HTTHT$ ($H$ แทนหัวและ $T$ แทนก้อย) คือ $Y(s) = 2$"
   ]
  },
  {
   "cell_type": "markdown",
   "metadata": {},
   "source": [
    "## เราสามารถสร้างตัวแปรสุ่มสำหรับการทดลองอันหนึ่งได้ไม่จำกัด\n",
    "\n",
    "* ตัวอย่างที่ผ่านมาแสดงให้เห็นว่า “เราสามารถสร้างตัวแปรสุ่มสำหรับการทดลองอันหนึ่งได้ไม่จำกัด” \n",
    "* เราจะเลือกใช้ตัวแปรสุ่มที่ช่วยให้เราวิเคราะห์ปัญหาของเราได้สะดวกที่สุด(ควรเลือกนิยามตัวแปรสุ่มให้เหมาะสม) \n",
    "* เราสามารถใช้การดำเนินการทางพีชคณิต(algebraic operation) กับตัวแปรสุ่มได้เช่น $Y(s) = 5−X(s)$ \n",
    "    > ในขณะที่เราอาจจะไม่สามารถทำได้กับผลลัพธ์จากการทดลองโดยตรง\n"
   ]
  },
  {
   "cell_type": "markdown",
   "metadata": {},
   "source": [
    "## ตัวอย่าง : ตัวแปรสุ่มแบบไม่ต่อเนื่องที่มาจากผลลัพธ์ที่เป็นแบบต่อเนื่อง\n",
    "\n",
    "**Example**\n",
    "\n",
    "พิจารณาการทดลองที่ผลลัพธ์คือความต้องการใช้ไฟฟ้าและน้ำประปา โดยในที่นี้สมมุติให้มีค่าตั้งแต 0 ถึง 1 ทั้งสองอย่างกำหนดให้ผลลัพธ์ของการทดลองนี้อยู่ในรูป $(x,y)$ โดยที่ $x ∈ [0,1]$ คือความต้องการใช้ไฟฟ้า และ $y ∈ [0,1]$ คือความต้องการใช้น้ำประปาสมมุติว่าเราสนใจว่าความต้องการใช้ไฟฟ้าและน้ำประปาสูงเกินไปหรือไม่โดยกำหนดว่า ความต้องการที่สูงเกินไปคือระดับความต้องการที่มากกว่า 0.5 สำหรับการใช้ไฟฟ้าและ 0.75 สำหรับการใช้น้ำประปา เราสามารถสร้างตัวแปรสุ่มเพื่อแทนสิ่งที่เราต้องการได้เป็น \n",
    "\n",
    "$$Z(x,y)=\\begin{Bmatrix}\n",
    "1, ถ้า x > 0.5 และ  y > 0.75\\\\\n",
    "0, สำหรับกรณีอื่น\\\\\n",
    "\\end{Bmatrix}$$\n",
    "\n",
    "โดยที่ $s = (x,y)$ คือผลลัพธ์ของการทดลองใดๆ\n",
    "    \n",
    "* **บทเรียน** : เราสามารถนิยามตัวแปรสุ่มแบบไม่ต่อเนื่อง(discrete random variable) จากปริภูมิตัวอย่างที่ค่าของผลลัพธ์เป็นแบบต่อเนื่องได้"
   ]
  },
  {
   "cell_type": "markdown",
   "metadata": {},
   "source": [
    "## การกำหนดตัวแปรสุ่มและความน่าจะเป็นของตัวแปรสุ่ม \n",
    "* จากบทเรียนก่อนหน้านี้ได้เรียนรู้แล้วว่าเราสามารถ**นิยามความน่าจะเป็น**ที่ถูกต้องตามหลักการ(well-deﬁnedprobability) สำหรับปริภูมิตัวอย่าง $S$ ของการทดลองอันหนึ่งได้มากมาย\n",
    "* เพื่อให้การอภิปรายมีความชัดเจนเราจำเป็นต้องเริ่มด้วย **“การกำหนด”** ก่อนว่าเรากำลังใช้ความน่าจะเป็นอันใดดังที่นำเสนอในเรื่องความน่าจะเป็น\n",
    "    > เราแทนความน่าจะเป็นของเหตุการณ์ $A$ ซึ่งเป็นสับเซ็ตของปริภูมิตัวอย่าง $S$ ด้วย $Pr(A)$ \n",
    "    > กำหนดให้ $C$ คือสับเซ็ตของจำนวนจริงที่ $A = {s : X(s) ∈ C}$ หรือเขียนแบบย่อได้เป็น $A = {X ∈ C}$ เป็นเหตุการณ์ ซึ่งเป็นสับเซ็ตของปริภูมิตัวอย่าง $S$\n",
    "* ตัวอย่างเช่น กรณีของการทดลองโยนเหรียญหาครั้งสมมุติว่า $C = {1}$ และ “$X$ คือตัวแปรสุ่ม” ที่บอกถึงจำนวนครั้งของการโยนที่ได้ผลออกมาเป็นก้อย \n",
    "    > เหตุการณ์ที่ได้จาก $C$ คือ $A = {THHHH,HTHHH,...,HHHHT}$ โดยที่ $H$ แทนหัวและ $T$ แทนก้อยนั่นคือ $X(s) = 1$ สำหรับทุกๆผลลัพธ์ $s ∈ A$ \n",
    "    > \n",
    "    >กำหนดความน่าจะเป็นจากตัวแปรสุ่ม $X$ ได้เป็น $Pr(X ∈ C) = Pr(X ∈ A) =$ $\\frac{5}{32}$ สำหรับ $C = {1}$ ผลของการรวบรวมความน่าจะเป็นในรูปแบบนี้ทั้งหมดคือ “การแจกแจงของตัวแปรสุ่ม $X$”"
   ]
  },
  {
   "cell_type": "markdown",
   "metadata": {},
   "source": [
    "## นิยาม: การแจกแจงของตัวแปรสุ่มไม่ต่อเนื่อง\n",
    "\n",
    "**Deﬁnition(การแจกแจงของตัวแปรสุ่ม (distribution of random variable))**\n",
    "\n",
    "สำหรับตัวแปรสุ่ม $X$ และความน่าจะเป็น $Pr(·)$ ที่นิยามบนปริภูมิตัวอย่าง $S$ การแจกแจงของตัวแปรสุ่ม(distributionofrandomvariable) $X$ คือเซ็ตของความน่าจะเป็นทุกอันที่อยู่ในรูปแบบ $Pr(X ∈ C)$ สำหรับเซ็ตของจำนวนจริง $C$ ทุกเซ็ตโดยที่ ${X ∈ C}$ เป็นเหตุการณ์\n",
    "* ข้อสังเกตอันหนึ่งคือการแจกแจงของ $X$ ก็คือมาตรวัดความน่าจะเป็น(probability measure) ที่นิยามบนเซ็ตของจำนวนจริงนั้นเองซึ่งสะท้อนข้อเท็จจริงที่ว่าตัวแปรสุ่ม คือ ฟังก์ชันจำนวนจริงที่แปลงผลลัพธ์ของการทดลองเป็นค่าจำนวนจริง"
   ]
  },
  {
   "cell_type": "markdown",
   "metadata": {},
   "source": [
    "## ตัวอย่าง : การกำหนดตัวแปรสุ่มและความน่าจะเป็นของตัวแปรสุ่ม \n",
    "\n",
    "**Example**\n",
    "พิจารณาการทดลองโยนเหรียญที่เที่ยงตรงจำนวน5ครั้งเราสนใจในตัวแปรสุ่ม $X$ ที่บอกถึง “จำนวนครั้งของการโยนที่ได้ผลออกมาเป็นก้อย”\n",
    "* ค่าที่เป็นไปได้ทั้งหมดของ $X$ คือ $0,1,2,3,4,5$ \n",
    "* ในการหาความน่าจะเป็นเราสามารถใช้ค่าสัมประสิทธิ์ทวินาม(binomial coefﬁcient)\n",
    "    > จำนวนผลลัพธ์ที่จะมีก้อย 0 ครั้ง จากการโยนทั้งหมด 5 ครั้งเท่ากับ $\\begin{pmatrix} 5 \\\\ 0 \\end{pmatrix}$ = $\\frac{5!}{0!5!}$ = 1\n",
    "    \n",
    "    > จำนวนผลลัพธ์ที่จะมีก้อย 3 ครั้ง จากการโยนทั้งหมด 5 ครั้งเท่ากับ $\\begin{pmatrix} 5 \\\\ 3 \\end{pmatrix}$ = $\\frac{5!}{3!2!}$ = 10\n",
    "\n",
    "* โดยสรุปการแจกแจงของตัวแปรสุ่ม X สามารถรวบรวมได้ ดังนี้ \n",
    "    > $Pr( X ∈ {0} ) =$ $\\frac{1}{32}$ \n",
    "    \n",
    "    > $Pr( X ∈ {1} ) =$ $\\frac{5}{32}$\n",
    "    \n",
    "    > $Pr( X ∈ {2} ) =$ $\\frac{10}{32}$\n",
    "    \n",
    "    > $Pr( X ∈ {3} ) =$ $\\frac{10}{32}$\n",
    "    \n",
    "    > $Pr( X ∈ {4} ) =$ $\\frac{5}{32}$\n",
    "    \n",
    "    > $Pr( X ∈ {5} ) =$ $\\frac{1}{32}$"
   ]
  },
  {
   "cell_type": "code",
   "execution_count": 1,
   "metadata": {},
   "outputs": [
    {
     "data": {
      "image/png": "[encoded data removed]",
      "text/plain": [
       "<Figure size 432x288 with 1 Axes>"
      ]
     },
     "metadata": {
      "needs_background": "light"
     },
     "output_type": "display_data"
    }
   ],
   "source": [
    "import numpy as np\n",
    "import matplotlib.pyplot as plt\n",
    " \n",
    "# Make a fake dataset:\n",
    "height = [1/32 , 5/32 , 10/32 , 10/32 , 5/32 , 1/32]\n",
    "bars = ('0', '1', '2', '3', '4' , '5')\n",
    "y_pos = np.arange(len(bars))\n",
    " \n",
    "# Create bars\n",
    "plt.bar(y_pos, height)\n",
    " \n",
    "# Create names on the x-axis\n",
    "plt.xticks(y_pos, bars)\n",
    " \n",
    "# Show graphic\n",
    "plt.show()"
   ]
  },
  {
   "cell_type": "markdown",
   "metadata": {},
   "source": [
    "## นิยาม : ตัวแปรสุ่มไม่ต่อเนื่องและฟังก์ชันความน่าจะเป็น\n",
    "\n",
    "**Deﬁnition**\n",
    "ตัวแปรสุ่ม $X$ มีการแจกแจงไม่ต่อเนื่อง(discrete distribution) หรือเป็นตัวแปรสุ่มไม่ต่อเนื่อง (discrete random variable) ถ้าค่าจำนวนจริงที่เป็นไปได้ของ $X$ มีจำนวนจำกัด $x1,...,xn$ หรืออย่างมากต้องเป็นอนุกรมอนันต์ที่นับได้ $x1,x2,...$ \n",
    "\n",
    "**Deﬁnition (ฟังก์ชันความน่าจะเป็น (probability function) )**\n",
    "\n",
    "ถ้าตัวแปรสุ่ม $X$ มีการแจกแจงไม่ต่อเนื่อง(discrete distribution) ฟังก์ชันความน่าจะเป็น (probability function หรือ p.f.) ของ $X$ คือฟังก์ชันf โดยที่สำหรับทุกค่าจำนวนจริง $x$ \n",
    "\n",
    "**<center> $f(x)$ $= Pr(X = x)$      ---------(1)** \n",
    "\n",
    "    \n",
    "นอกจากนี้เราเรียกส่วนปิดคลุม(closure) ของเซ็ต {$x :$ $f(x)$ $> 0$} ว่าส่วนค้ำจุน(support) ของ $X$"
   ]
  },
  {
   "cell_type": "markdown",
   "metadata": {},
   "source": [
    "## ตัวอย่าง : ตัวแปรสุ่มไม่ต่อเนื่องและฟังก์ชันความน่าจะเป็น\n",
    "\n",
    "**Example**\n",
    "\n",
    "ฟังก์ชันความน่าจะเป็น(p.f.) ของตัวแปรสุ่ม X ในตัวอย่างที่แล้วสามารถเขียนได้เป็น \n",
    "\n",
    "**<center>$f(0)$ = $\\frac{1}{32}$ ,$f(1)$ = $\\frac{5}{32}$ ,$f(2)$ = $\\frac{10}{32}$ ,$f(3)$ = $\\frac{10}{32}$ ,$f(4)$ = $\\frac{5}{32}$ ,$f(5)$ = $\\frac{1}{32}$**\n",
    "\n",
    "    \n",
    "ในขณะที่ส่วนค้ำจุน(support) ของ $X$ คือ ${0,1,2,3,4,5}$ \n",
    "\n",
    "* ผลรวมของฟังก์ชันความน่าจะเป็น(p.f.) จากทุกค่าในส่วนค้ำจุนจะต้องเท่ากับหนึ่ง\n",
    "    > ค่าแต่ละค่าในส่วนค้ำจุนเป็นผลมาจากเหตุการณ็ที่ไม่มีส่วนร่วมต่อกัน(disjoint) แต่ทุกค่าในส่วนค้ำจุนรวมกันเป็นปริภูมิตัวอย่าง \n",
    "    > ผลรวมของความน่าจะเป็นของทุกค่าจากส่วนค้ำจุนจึงเท่ากับความน่าจะเป็นของปริภูมิตัวอย่างซึ่งมีค่าเท่ากับหนึ่ง"
   ]
  },
  {
   "cell_type": "markdown",
   "metadata": {},
   "source": [
    "## คุณสมบัติของฟังก์ชันความน่าจะเป็น (p.f.)\n",
    "\n",
    "**Theorem**\n",
    "\n",
    "กำหนดให้ $X$ เป็นตัวแปรสุ่มไม่ต่อเนื่อง(discreterandomvariable) ที่มี $f$ แทนฟังก์ชันความน่าจะเป็น(probability function) ถ้า $x$ ไม่ใช่ค่าที่เป็นไปได้ $f(x) = 0$ และถ้าอนุกรม $x1,x2,...$ ประกอบด้วยค่าที่เป็นไปได้ทั้งหมดแล้ว\n",
    "\n",
    "**<center>$\\sum_{n=1}^{\\infty}$$f(Xi)$ = 1      ---------(2)**\n",
    "    \n",
    "**Theorem**\n",
    "    \n",
    "ถ้า X มีการแจกแจงไม่ต่อเนื่อง(discretedistribution) แล้วเราสามารถคำนวณหาค่าความน่าจะเป็นของสับเซ็ตของจำนวนจริง C ⊂ R ได้จาก \n",
    "    \n",
    "**<center>$Pr(X ∈ C) =$ $\\sum_{Xi∈C}$ $f(Xi)$      ---------(3)**"
   ]
  },
  {
   "cell_type": "markdown",
   "metadata": {},
   "source": [
    "\n",
    "**Deﬁnition**\n",
    "\n",
    "ตัวแปรสุ่มเบอร์นูลี(Bernoulli random variable) ที่มีค่าพารามิเตอร์ $p$ คือตัวแปรสุ่ม $X$ ที่มีค่าได้แค่สองค่า คือ 0 และ 1 โดยที่ $Pr(X = 1) = p$ และมีการแจกแจงแบบเบอร์นูลี(Bernoulli distribution) ที่มีค่าพารามิเตอร์ $p$ ซึ่งสามารถเขียนแทนได้ด้วย \n",
    "\n",
    "**<center>$f(x)$ = $p^x$$(1−p)^{1-x}$, สำหรับx = 0,1      ---------(4)**\n",
    "    \n",
    "* สังเกตได้ว่าการระบุเพียงชื่อของตัวแปรสุ่มหรือการแจกแจงไม่เพียงพอที่จะบอกถึงคุณสมบัติของตัวแปรสุ่ม\n",
    "    > ค่าพารามิเตอร์ที่ต่างกันย่อมเป็นตัวแปรสุ่มคนละตัวกัน\n",
    "* สิ่งที่ต้องการทราบเพื่อบอกถึงคุณสมบัติของตัวแปรสุ่มใดๆคือ “การแจกแจง” ซึ่งในที่นี้สามารถทราบได้จาก \n",
    "    > ชื่อของตัวแปรสุ่ม\n",
    "    \n",
    "    > ค่าพารามิเตอร์ที่เกี่ยวข้อง"
   ]
  },
  {
   "cell_type": "markdown",
   "metadata": {},
   "source": [
    "## ตัวแปรสุ่มทวินาม (binomial random variable)\n",
    "* ตัวแปรสุ่มไม่ต่อเนื่องที่มีชื่อเสียงอีกอันหนึ่งคือ “ตัวแปรสุ่มทวินาม (binomial random variable)”\n",
    "    > ที่มีพารามิเตอร์ $n$ และ $p$\n",
    "    \n",
    "    > เกิดจากการสุ่มเลือกตัวแปรสุ่มเบอร์นูลี (Bernoulli random variable) ที่มีพารามิเตอร์ $p$ ต่อเนื่องกันจำนวน $n$ ครั้ง \n",
    "    \n",
    "    > ดังนั้นการแจกแจงแบบตัวแปรสุ่มทวินาม (binomial random variable) มีพารามิเตอร์ $p$ ต่อเนื่องกันจำนวน $n$ ครั้งคือ \n",
    "\n",
    "**<center>$f(x)$ =$\\begin{pmatrix} n \\\\ x \\end{pmatrix}$$p^x$$(1−p)^{n−x}$ , สำหรับ $x = 0,1,...,n$      ---------(5)**"
   ]
  },
  {
   "cell_type": "markdown",
   "metadata": {},
   "source": [
    "## ตัวอย่าง : ตัวแปรสุ่มทวินาม (binomial random variable)\n",
    "\n",
    "**Example**\n",
    "พิจารณาการตรวจสอบคุณภาพของบะหมี่กึ่งสำเร็จรูปโดยที่ความน่าจะเป็นที่จะเกิดผลิตภัณฑ์ด้อยคุณภาพเท่ากับ $p$ ดังนั้นความน่าจะเป็นที่จะได้ผลิตภัณฑ์ที่ได้คุณภาพเท่ากับ $1−p$ สมมุติว่า เจ้าหน้าที่ทำการตรวจสอบผลิตภัณฑ์ทั้งหมดnครั้งและเหตุการณ์ที่บอกถึงผลการตรวจสอบเป็นอิสระต่อกันหรือการตรวจสอบแต่ละครั้งเป็นอิสระต่อกัน \n",
    "* ผลการทดสอบจะพบว่า\n",
    "    > มีผลิตภัณฑ์ด้อยคุณภาพทั้งหมด $x$ ครั้งจาก $n$ ครั้งและความน่าจะเป็นที่จะเกิดผลิตภัณฑ์ด้อยคุณภาพแต่ละชิ้นเท่ากับ $p$\n",
    "    \n",
    "    > อีก $n−x$ ชิ้นจะพบผลิตภัณฑ์ที่ได้คุณภาพและความน่าจะเป็นที่จะเกิดผลิตภัณฑ์ที่ได้คุณภาพแต่ละชิ้นเท่ากับ $1−p$\n",
    "    \n",
    "    > ความน่าจะเป็นของแต่ละรูปแบบเท่ากับ $p^x$$(1−p)^{n−x}$"
   ]
  },
  {
   "cell_type": "markdown",
   "metadata": {},
   "source": [
    "## ความสัมพันธ์ระหว่างตัวแปรสุ่มแบบเบอร์นูลีและตัวแปรสุ่มแบบทวินาม\n",
    "* การตรวจสอบแต่ละครั้งคือตัวแปรสุ่มเบอร์นูลี (Bernoulli random variable) ที่มีพารามิเตอร์ $p$ หนึ่งตัว\n",
    "* การตรวจสอบทั้งหมดnครั้งจึงเสมือนกับตัวแปรสุ่มเบอร์นูลี (Bernoulli random variable) ที่มีพารามิเตอร์ $p$ และเป็นอิสระต่อกันทั้งหมด $n$ ตัว ดังนั้น ความน่าจะเป็นของผลการตรวจสอบ $n$ ครั้งมีค่าเท่ากับ\n",
    "\n",
    "$$Pr (Y_1 = y_1,...,Y_n = y_n) = Pr(Y_1 = y_1)···Pr(Y_n = y_n)$$\n",
    "$$= p^{y_1} (1−p)^{1−y_1} ···p^{y_n} (1−p)^{1−y_n}$$\n",
    "$$=p^{∑^n_{i=1^{y_i}}}(n - p)^{1-{∑^n_{i=1^{y_i}}}}$$\n",
    "\n",
    "* กรณีที่มีผลิตภัณฑ์ด้อยคุณภาพทั้งหมด $x$ ชิ้นจะได้ว่า $\\sum_{i=1^y}^{n}$ = $x$ และความน่าจะเป็นของรูปแบบนี้มีค่าเท่ากับ $p^x(1−p)^{n−x}$\n",
    "* ตัวแปรสุ่มแบบทวินามที่มีพารามิเตอร์ $n$ และ $p$ เกิดจากตัวแปรสุ่มเบอร์นูลีที่มีพารามิเตอร์ $p$ และเป็นอิสระต่อกันทั้งหมด $n$ ตัว"
   ]
  },
  {
   "cell_type": "markdown",
   "metadata": {},
   "source": [
    "## นิยาม : ตัวแปรสุ่มต่อเนื่อง (Continuous Random Variables)\n",
    "\n",
    "**Deﬁnition**\n",
    "\n",
    "ตัวแปรสุ่ม $X$ เป็นตัวแปรสุ่มต่อเนื่อง (continuous random variable) และมีการแจกแจงต่อเนื่อง (continuous distribution) ถ้ามีฟังก์ชันที่ไม่เป็นลบ(non-negative function) $f$ นิยามบนเส้นจำนวนจริงโดยที่ความน่าจะเป็นที่ $X$ จะมีค่าที่เกิดขึ้นจริงในช่วงจำนวนจริง(interval of real numbres) ใดๆจะมีค่าเท่ากับผลการอินทิเกรตของ $f$ บนช่วงของจำนวนจริงนั้นนั่นคือความน่าจะเป็นที่ $X$ จะมีค่าอยู่ในช่วง $[a,b]$ เท่ากับ \n",
    "\n",
    "**<center>$Pr(a≤X≤b) =$ $\\int_a^b f(x) dx$      ---------(6)**\n",
    "    \n",
    "ส่วนกรณีที่เป็นช่วงที่ไม่มีขอบเขตบน(unbounded above) จะได้ว่า\n",
    "    \n",
    "**<center>$Pr(X≥a) =$ $\\int_a^{\\infty} f(x) dx$      ---------(7)**\n",
    "    \n",
    "และกรณีที่เป็นช่วงที่ไม่มีขอบเขตล่าง(unbounded below) จะได้ว่า\n",
    "    \n",
    "**<center>$Pr(X≤b) =$ $\\int_{-\\infty}^b f(x) dx$      ---------(8)**"
   ]
  },
  {
   "cell_type": "markdown",
   "metadata": {},
   "source": [
    "## นิยาม : ฟังก์ชันความหนาแน่นของความน่าจะเป็น (probability density function) \n",
    "\n",
    "**Deﬁnition**\n",
    "\n",
    "ถ้าตัวแปรสุ่ม $X$ มีการแจกแจงต่อเนื่อง(continuous distribution) เราจะเรียกฟังก์ชัน $f$ ในนิยามก่อนหน้าว่าฟังก์ชันความหนาแน่นของความน่าจะเป็น(probability density function) หรือเขียนย่อสั้นๆเป็น p.d.f. นอกจากนี้เราเรียกส่วนปิดคลุม(closure) ของเซ็ต${x : f(x) > 0}$ ว่าส่วนค้ำจุน(support) ของ $X$\n",
    "* ความสัมพันธ์ระหว่างความน่าจะเป็นและพื้นที่ใต้เส้นฟังก์ชันความหนาแน่นของความน่าจะเป็น\n",
    "* ความน่าจะเป็นที่ $X$ จะมีค่าอยู่ในช่วง $[a,b]$ มีค่าเท่ากับพื้นที่ที่แรเงาในรูปคือผลการอินทิเกรตฟังก์ชันความหนาแน่นของความน่าจะเป็นระหว่างช่วง $[a,b]$"
   ]
  },
  {
   "cell_type": "code",
   "execution_count": 2,
   "metadata": {},
   "outputs": [],
   "source": [
    "# normal_curve.py\n",
    "\n",
    "import numpy as np\n",
    "import matplotlib.pyplot as plt\n",
    "from scipy.stats import norm\n",
    "# if using a Jupyter notebook, inlcude:\n",
    "%matplotlib inline"
   ]
  },
  {
   "cell_type": "code",
   "execution_count": 3,
   "metadata": {},
   "outputs": [],
   "source": [
    "# define constants\n",
    "mu = 998.8 \n",
    "sigma = 73.10\n",
    "x1 = 900\n",
    "x2 = 1100"
   ]
  },
  {
   "cell_type": "code",
   "execution_count": 4,
   "metadata": {},
   "outputs": [],
   "source": [
    "# calculate the z-transform\n",
    "z1 = ( x1 - mu ) / sigma\n",
    "z2 = ( x2 - mu ) / sigma"
   ]
  },
  {
   "cell_type": "code",
   "execution_count": 5,
   "metadata": {},
   "outputs": [],
   "source": [
    "x = np.arange(z1, z2, 0.001) # range of x in spec\n",
    "x_all = np.arange(-10, 10, 0.001) # entire range of x, both in and out of spec\n",
    "# mean = 0, stddev = 1, since Z-transform was calculated\n",
    "y = norm.pdf(x,0,1)\n",
    "y2 = norm.pdf(x_all,0,1)"
   ]
  },
  {
   "cell_type": "code",
   "execution_count": 6,
   "metadata": {},
   "outputs": [
    {
     "data": {
      "image/png": "[encoded data removed]",
      "text/plain": [
       "<Figure size 648x432 with 1 Axes>"
      ]
     },
     "metadata": {
      "needs_background": "light"
     },
     "output_type": "display_data"
    }
   ],
   "source": [
    "# build the plot\n",
    "fig, ax = plt.subplots(figsize=(9,6))\n",
    "plt.style.use('fivethirtyeight')\n",
    "ax.plot(x_all,y2)\n",
    "\n",
    "ax.fill_between(x,y,0, alpha=0.3, color='b')\n",
    "ax.fill_between(x_all,y2,0, alpha=0.1)\n",
    "ax.set_xlim([-4,4])\n",
    "ax.set_xlabel('# of Standard Deviations Outside the Mean')\n",
    "ax.set_yticklabels([])\n",
    "ax.set_title('Probability Density Function')\n",
    "\n",
    "plt.savefig('normal_curve.png', dpi=72, bbox_inches='tight')\n",
    "plt.show()"
   ]
  },
  {
   "cell_type": "markdown",
   "metadata": {},
   "source": [
    "## ตัวแปรสุ่มอันหนึ่งสามารถมีฟังก์ชันความหนาแน่นของความน่าจะเป็นได้มากมาย"
   ]
  },
  {
   "cell_type": "code",
   "execution_count": 7,
   "metadata": {},
   "outputs": [
    {
     "data": {
      "image/png": "[encoded data removed]",
      "text/plain": [
       "<Figure size 648x432 with 1 Axes>"
      ]
     },
     "metadata": {},
     "output_type": "display_data"
    }
   ],
   "source": [
    "# build the plot\n",
    "fig, ax = plt.subplots(figsize=(9,6))\n",
    "plt.style.use('fivethirtyeight')\n",
    "ax.plot(x_all,y2)\n",
    "\n",
    "ax.fill_between(x,y,0, alpha=0.3, color='b')\n",
    "ax.fill_between(x_all,y2,0, alpha=0.1)\n",
    "ax.set_xlim([-4,4])\n",
    "ax.set_xlabel('# of Standard Deviations Outside the Mean')\n",
    "ax.set_yticklabels([])\n",
    "ax.set_title('Probability Density Function')\n",
    "\n",
    "plt.savefig('normal_curve.png', dpi=72, bbox_inches='tight')\n",
    "plt.show()"
   ]
  },
  {
   "cell_type": "markdown",
   "metadata": {},
   "source": [
    "* ตัวแปรสุ่มอันหนึ่งสามารถมีฟังก์ชันความหนาแน่นของความน่าจะเป็น(probability densityfunction) ได้มากมายโดยทั่วไปเรามักเรียกคุณสมบัตินี้ว่า “การไม่มีความเป็นหนึ่งเดียวของฟังก์ชันความหนาแน่นของความน่าจะเป็น(non-uniqueness of p.d.f.)” อย่างไรก็ตามถึงแม้ว่าจะมีฟังก์ชันจำนวนมากมายที่แทนตัวแปรสุ่มตัวหนึ่งได้ แต่เรามักจะเลือกใช้อันที่เป็นฟังก์ชันต่อเนื่อง(continuous function) เพื่อให้สะดวกต่อการวิเคราะห์"
   ]
  },
  {
   "cell_type": "markdown",
   "metadata": {},
   "source": [
    "## ตัวอย่าง : ตัวแปรสุ่มต่อเนื่อง(Continuous Random Variables)\n",
    "\n",
    "**Example**\n",
    "\n",
    "พิจารณาตัวแปรสุ่ม $X$ ที่มีฟังก์ชันความหนาแน่นของความน่าจะเป็น (p.d.f.) เป็นดังต่อไปนี้ \n",
    "\n",
    "$$f(x) = \\begin{Bmatrix}\n",
    "\\frac{x}{2}, ถ้า x ∈ [0,2]\\\\\n",
    "0, สำหรับกรณีอื่น\\\\\n",
    "\\end{Bmatrix}$$\n",
    "    \n",
    "* ความน่าจะเป็นที่ค่าที่เกิดขึ้นจริงจะอยู่ในช่วง $[1,3]$ เท่ากับ\n",
    "    \n",
    "$$Pr(1 ≤ X ≤ 3) = \\int_1^2\\frac{x}{2} dx + \\int_2^3 0dx = \\frac{x^2}{4} |_1^2 = \\frac{3}{4}$$\n",
    "\n",
    "* ในทางปฏิบัติเรามักจะอ้างถึงคุณสมบัติที่สำคัญสองประการของฟังก์ชันความหนาแน่นของความน่าจะเป็น(probability density function)ดังต่อไปนี้"
   ]
  },
  {
   "cell_type": "markdown",
   "metadata": {},
   "source": [
    "## ความน่าจะเป็นเท่ากับศูนย์ไม่ได้หมายความว่าเป็นไปไม่ได้"
   ]
  },
  {
   "cell_type": "code",
   "execution_count": 8,
   "metadata": {},
   "outputs": [
    {
     "data": {
      "image/png": "[encoded data removed]",
      "text/plain": [
       "<Figure size 648x432 with 1 Axes>"
      ]
     },
     "metadata": {},
     "output_type": "display_data"
    }
   ],
   "source": [
    "# build the plot\n",
    "fig, ax = plt.subplots(figsize=(9,6))\n",
    "plt.style.use('fivethirtyeight')\n",
    "ax.plot(x_all,y2)\n",
    "\n",
    "ax.fill_between(x,y,0, alpha=0.3, color='b')\n",
    "ax.fill_between(x_all,y2,0, alpha=0.1)\n",
    "ax.set_xlim([-4,4])\n",
    "ax.set_xlabel('# of Standard Deviations Outside the Mean')\n",
    "ax.set_yticklabels([])\n",
    "ax.set_title('Probability Density Function')\n",
    "\n",
    "plt.savefig('normal_curve.png', dpi=72, bbox_inches='tight')\n",
    "plt.show()"
   ]
  },
  {
   "cell_type": "markdown",
   "metadata": {},
   "source": [
    "* ความน่าจะเป็นของค่าจำนวนจริงค่าใดค่าหนึ่งมีค่าเท่ากับศูนย์หากฟังก์ชันเป็นแบบต่อเนื่อง เพราะพื้นที่ใต้กราฟของฟังก์ชันต่อเนื่องณจุดใดจุดหนึ่งมีค่าเท่ากับศูนย์เสมอนั่นคือ\n",
    "<center>$Pr(a≤X≤a) = Pr(X = a) =$ $\\int_a^a$ $f(x)dx = 0$\n",
    "    \n",
    "* ไม่ได้หมายความว่า $X = a$ เป็นไปไม่ได้ดังที่ได้อภิปรายมาแล้วอย่างไรก็ตามความน่าจะเป็นระหว่างช่วง $[a−ϵ,a+ ϵ]$ สำหรับ $ϵ > 0$ ใดๆย่อมมีค่ามากกว่าศูนย์เสมอนั่นคือ \n",
    "<center>$Pr(a−ϵ ≤X≤a+ ϵ) =$ $\\int_{a-ϵ}^{a+ϵ}$ $f(x)dx = 2ϵf(a)>0$"
   ]
  },
  {
   "cell_type": "markdown",
   "metadata": {},
   "source": [
    "## คุณสมบัติพื้นฐานของตัวแปรสุ่มต่อเนื่อง\n",
    "\n",
    "**Theorem**\n",
    "\n",
    "ฟังก์ชันความหนาแน่นของความน่าจะเป็น(probability density function) $f$ ใดๆจะต้องสอดคล้องกับเงื่อนไขสองข้อต่อไปนี้\n",
    "**<center>$f(x) ≥ 0$, สำหรับทุกค่าจำนวนจริง $x$,      ---------(9)**\n",
    "**<center>$\\int_{-\\infty}^{\\infty}$ $f(x)dx = 1$      ---------(10)**\n",
    "\n",
    "    \n",
    "* ฟังก์ชันความหนาแน่นของความน่าจะเป็น (p.d.f.) ไม่มีขอบเขตบนซึ่ง **“แตกต่าง”** จากความน่าจะเป็นที่มีทั้งขอบเขตล่างที่ต้องมีค่ามากกว่าศูนย์และขอบเขตบนที่ต้องมีค่าไม่เกินหนึ่ง \n",
    "    \n",
    "* ฟังก์ชันความหนาแน่นของความน่าจะเป็น (p.d.f.) **“ไม่ใช่ความน่าจะเป็น”** ทำให้ไม่จำเป็นต้องมีค่าน้อยกว่าหนึ่ง\n",
    "    \n",
    "* ประโยชน์อย่างหนึ่งของทฤษฎีบทนี้คือหาค่าคงที่มาตรฐาน (normalizing constant) สำหรับฟังก์ชันความหนาแน่นของความน่าจะเป็น (p.d.f.) ดังตัวอย่างต่อไปนี้ "
   ]
  },
  {
   "cell_type": "markdown",
   "metadata": {},
   "source": [
    "## ตัวอย่างการหาค่าคงที่มาตรฐาน (normalizing constant) ของการแจกแจกเอกรูป (uniform distribution)\n",
    "\n",
    "**Example (การแจกแจงเอกรูป (uniform distribution) )**\n",
    "\n",
    "พิจารณาตัวแปรสุ่ม $X$ ที่มีฟังก์ชันความหนาแน่นของความน่าจะเป็น (p.d.f.) เป็นดังต่อไปนี้\n",
    "\n",
    "$$Z(x,y)=\\begin{Bmatrix}\n",
    "c, ถ้า x∈ [a,b] \\\\\n",
    "0, ถ้าเป็นอย่างอื่น\\\\\n",
    "\\end{Bmatrix}$$\n",
    "    \n",
    "คำถามก็คือค่าคงที่มาตรฐาน (normalizing constant) $c$ ต้องมีค่าเท่าใดฟังก์ชัน $f$ จึงจะเป็นฟังก์ชันความหนาแน่นของความน่าจะเป็น (p.d.f.)? \n",
    "* จากสมการที่ 9 ส่งผลให้ค่าคงที่ $c$ จะต้องไม่น้อยกว่าศูนย์ ดังนั้น $c ≥ 0$ \n",
    "* ส่วนสมการที่ 10 มีผลทำให้\n",
    "**<center>$\\int_a^b$ $cdx = 1 ⇒ c(b−a) = 1 ⇒ c =$ $\\frac{1}{b-a}$**\n",
    "    \n",
    "* ฟังก์ชันความหนาแน่นของความน่าจะเป็น (p.d.f.) ของตัวแปรสุ่มที่มีการแจกแจงเอกรูป (uniform distribution) คือ \n",
    "\n",
    "$$Z(x,y)=\\begin{Bmatrix}\n",
    "\\frac{1}{b-a}, ถ้า x∈ [a,b] \\\\\n",
    "0, ถ้าเป็นอย่างอื่น\\\\\n",
    "\\end{Bmatrix}$$"
   ]
  },
  {
   "cell_type": "markdown",
   "metadata": {},
   "source": [
    "## ตัวอย่างการหาค่าคงที่มาตรฐาน (normalizing constant) ของการแจกแจงแบบปกติ (normal distribution)\n",
    "### Example (การแจกแจงแบบปกติ (normal distribution) )\n",
    "พิจารณาตัวแปรสุ่ม $X$ ที่มีฟังก์ชันความหนาแน่นของความน่าจะเป็น (p.d.f.) เป็นแบบปกติ (normal) ดังต่อไปนี้ \n",
    "\n",
    "$$f(x) = $ce^{-\\frac{(x-µ)^2}{2σ^2}}$$\n",
    "    \n",
    "โดยที่ $µ$ คือค่าจำนวนจริงที่แทนค่าความคาดหวัง(expectation) และ $σ$ คือค่าจำนวนจริงที่เป็นบวกที่แทนค่าความเบี่ยงเบนมาตรฐาน(standard deviation) ซึ่งจะอภิปรายอย่างละเอียดในบท Expectation and Moments โดยหลักการเราสามารถหาค่าคงที่มาตรฐาน (normalizingconstant) สำหรับการแจกแจงแบบปกติ (normal distribution) ได้โดยใช้สมการที่ 10 ดังต่อไปนี้ \n",
    "    \n",
    "$$1 =\\int_{-\\infty}^{\\infty} ce^(-\\frac{(x−µ)^2}{2σ^2})dx = cσ \\int_{-\\infty}^\\infty e^{\\frac{-1}{2} (\\frac{(x−µ)}{σ})^2} d \\frac{x-µ}{σ}$$\n",
    "\n",
    "$$cσ√2π ⇒ c = \\frac{1}{√2πσ2}$$"
   ]
  },
  {
   "cell_type": "markdown",
   "metadata": {},
   "source": [
    "## ตัวอย่างการหาค่าคงที่มาตรฐาน (normalizing constant) ของการแจกแจงแบบปกติ (normal distribution) : การใช้เทคนิคพิกัดเชิงขั้ว \n",
    "### Example (การแจกแจงแบบปกติ (normal distribution) )\n",
    "โดยในที่นี้เราได้ประยุกตืใช้เทคนิคการใช้พิกัดเชิงขั้ว(polar coordinates) เพื่อหาแสดงว่า $\\int_{-\\infty}^\\infty$  $e^{\\frac{-y^2}{2}}$ $dy = \\sqrt{2π}$ ซึ่งมีขั้นตอนดังต่อไปนี้ เริ่มด้วยการกำหนดให้"
   ]
  },
  {
   "cell_type": "markdown",
   "metadata": {},
   "source": [
    "$$I = \\int_{\\infty}^{\\infty} e^(−\\frac{y^2}{2}) dy$$\n",
    "\n",
    "ดังนั้น\n",
    "\n",
    "$$i^2 = \\int_{\\infty}^{\\infty} e^(−\\frac{y^2}{2})dy \\int_{\\infty}^{\\infty} e^(−\\frac{z^2}{2})dz = \\int_{\\infty}^{\\infty} \\int_{\\infty}^{\\infty} e^(−\\frac{y^2+z^2}{2})dz dy$$\n",
    "\n",
    "ขั้นตอนต่อไปคือการแปลง $(y,z)$ ให้อยู่ในรูปของพิกัดเชิงขั้ว(polar coordinates) โดยใช้\n",
    "    \n",
    "$$y = rcosθ ,z = rsinθ$$"
   ]
  },
  {
   "cell_type": "markdown",
   "metadata": {},
   "source": [
    "## ตัวอย่างการหาค่าคงที่มาตรฐาน (normalizing constant) ของการแจกแจงแบบปกติ (normal distribution) : สรุปผล \n",
    "### Example (การแจกแจงแบบปกติ (normal distribution) )\n",
    "\n",
    "\n",
    "$$y^2+ z^2 = r^2 ,dzdy = rdrdθ$$\n",
    "\n",
    "ดังนั้น\n",
    "    \n",
    "$$i^2 = \\int_{-\\infty}^{\\infty} \\int_{-\\infty}^{\\infty} e^{−\\frac{y^2+z^2}{2}} dz dy $$\n",
    "\n",
    "$$= \\int_{0}^{2θ} \\int_{0}^{\\infty} e^{−\\frac{r^2}{2}}rd rdθ$$\n",
    "\n",
    "$$= \\int_{0}^{2θ} \\int_{0}^{\\infty} e^{−\\frac{r^2}{2}} d \\left( \\frac{r^2}{2} \\right) dθ $$\n",
    "\n",
    "$$= \\int_{0}^{2θ} -e^{−\\frac{r^2}{2}} |_{0}^{\\infty} dθ $$\n",
    "\n",
    "$$=\\int_{0}^{2θ} dθ = 2π$$\n",
    "    \n",
    "$$i = \\int_{-\\infty}^{\\infty} e^{−\\frac{y^2}{2}} dy = \\sqrt{2π} $$\n",
    "    \n",
    "<img src=\"images/2.2.png\" width=300 height=300/>"
   ]
  },
  {
   "cell_type": "markdown",
   "metadata": {},
   "source": [
    "## ฟังก์ชันความน่าจะเป็นสะสม (The Cumulative Distribution Function)\n",
    "* ที่ผ่านมาเราอธิบายการแจกแจงของตัวแปรสุ่มต่อเนื่องและไม่ต่อเนื่องด้วยฟังก์ชันที่แตกต่างกันซึ่งในทางคณิตศาสตร์ล้วไม่ค่อยสะดวกนัก \n",
    "* ฟังก์ชันที่สามารถอธิบายการแจกแจงของตัวแปรสุ่มทั้งสองประเภทให้ได้โดยเรียกฟังก์ชันอันใหม่นี้ว่าฟังก์ชันความน่าจะเป็นสะสม(cumulativedistributionfunction)\n",
    "    > มีคุณสมบัติที่ตัวแปรสุ่มตัวใดตัวหนึ่งจะมีฟังก์ชันความน่าจะเป็นสะสมเพียงอันเดียว (uniqueness)\n",
    "    \n",
    "    > ฟังก์ชันความน่าจะเป็นสะสมเป็นจุดเชื่อมระหว่างทฤษฎีความน่าจะเป็นพื้นฐานและทฤษฎีมาตรวัดความน่าจะเป็น(probabilitymeasuretheory) ซึ่งใช้ฟังก์ชันความน่าจะเป็นสะสมเป็นมาตรวัด(measure) สำหรับการอินทิเกรต\n",
    "\n",
    "## นิยาม : ฟังก์ชันความน่าจะเป็นสะสม (The Cumulative Distribution Function)\n",
    "### Deﬁnition (ฟังก์ชันความน่าจะเป็นสะสม (Cumulative Distribution Function : C.D.F.) \n",
    "ฟังก์ชันความน่าจะเป็นสะสม(cumulative distribution function) หรือฟังก์ชันความน่าจะเป็น (distribution function) ของตัวแปรสุ่ม $X$ ซึ่งเรียกสั้นๆว่า C.D.F. ของ $X$ คือฟังก์ชัน \n",
    "\n",
    "**<center>$F(x) = Pr(X ≤ x)$, สำหรับ $−∞ < x < ∞$      ---------(11)**\n",
    "    \n",
    "* ฟังก์ชันความน่าจะเป็นสะสม (cumulative distribution function) ที่นิยามนี้ใช้ได้กับทั้งตัวแปรสุ่มต่อเนื่องและไม่ต่อเนื่อง"
   ]
  },
  {
   "cell_type": "markdown",
   "metadata": {},
   "source": [
    "## ตัวอย่าง : ฟังก์ชันความน่าจะเป็นสะสม (The Cumulative Distribution Function) \n",
    "### Example\n",
    "\n",
    "ตัวอย่างนี้แสดงให้เห็นถึงวิธีการแปลงฟังก์ชันความหนาแน่นของความน่าจะเป็น (p.d.f.) ให้เป็นฟังก์ชันความน่าจะเป็นสะสม (C.D.F.) โดยใช้ตัวแปรสุ่ม $X$ ที่มีการแจกแจงดังต่อไปนี้\n",
    "$$f(x)=\\begin{Bmatrix}\n",
    "2e^{-2x}, ถ้า x > 0 \\\\\n",
    "0, ถ้าเป็นอย่างอื่น\\\\\n",
    "\\end{Bmatrix}$$\n",
    "\n",
    "* ฟังก์ชันความน่าจะเป็นสะสม(cumulative distribution function) หรือ C.D.F. ของตัวแปรสุ่มXคือฟังก์ชัน\n",
    "    \n",
    "$$F(x) = Pr(X≤x)=\\begin{Bmatrix}\n",
    "\\int_0^x 2e^{-2y} dy = 1-e^{-2x}, สำหรับ x > 0 \\\\\n",
    "0, ถ้าเป็นอย่างอื่น\\\\\n",
    "\\end{Bmatrix}$$\n",
    "    \n",
    "* สังเกตุว่าเพื่อความสะดวกจึงเปลี่ยนตัวแปรสำหรับการอินทิเกรตจาก $x$ เป็น $y$ เพราะฟังก์ชันความน่าจะเป็นสะสมหรือ C.D.F. นิยามโดยใช้ $x$ ไปแล้ว "
   ]
  },
  {
   "cell_type": "markdown",
   "metadata": {},
   "source": [
    "## รูปของฟังก์ชันความน่าจะเป็นสะสม (The Cumulative Distribution Function)\n"
   ]
  },
  {
   "cell_type": "code",
   "execution_count": 9,
   "metadata": {},
   "outputs": [],
   "source": [
    "import scipy.stats as ss\n",
    "\n",
    "def plot_exponential(x_range, mu=0, sigma=1, cdf=False, **kwargs):\n",
    "    '''\n",
    "    Plots the exponential distribution function for a given x range\n",
    "    If mu and sigma are not provided, standard exponential is plotted\n",
    "    If cdf=True cumulative distribution is plotted\n",
    "    Passes any keyword arguments to matplotlib plot function\n",
    "    '''\n",
    "    x = x_range\n",
    "    if cdf:\n",
    "        y = ss.expon.cdf(x, mu, sigma)\n",
    "    else:\n",
    "        y = ss.expon.pdf(x, mu, sigma)\n",
    "    plt.plot(x, y, **kwargs)"
   ]
  },
  {
   "cell_type": "code",
   "execution_count": 10,
   "metadata": {},
   "outputs": [
    {
     "data": {
      "image/png": "[encoded data removed]",
      "text/plain": [
       "<Figure size 432x288 with 1 Axes>"
      ]
     },
     "metadata": {},
     "output_type": "display_data"
    }
   ],
   "source": [
    "x = np.linspace(0, 5, 5000)\n",
    "\n",
    "plot_exponential(x, 0, 1, color='red', lw=2, ls='-', alpha=0.5, label='pdf')\n",
    "plot_exponential(x, 0, 1, cdf=True, color='blue', lw=2, ls='-', alpha=0.5, label='cdf')\n",
    "plt.legend();"
   ]
  },
  {
   "cell_type": "markdown",
   "metadata": {},
   "source": [
    "## ตัวอย่าง : ฟังก์ชันความน่าจะเป็นสะสมของตัวแปรสุ่มเบอร์นูลี \n",
    "### Example\n",
    "\n",
    "พิจารณาตัวแปรสุ่มเบอร์นูลี (Bernoulli random variable) $X$ ที่มีพารามิเตอร์ $p$ ดังนั้น $Pr(X = 0) = 1−p$ และ $Pr(X = 1) = p$ ในกรณีนี้เราสามารถเขียนฟังก์ชันความน่าจะเป็นสะสมหรือ C.D.F. ได้เป็น \n",
    "\n",
    "$$F(x)=\\begin{Bmatrix}\n",
    "0, สำหรับ x > 0 \\\\\n",
    "1-p, สำหรับ  0 \\leqslant x < 1\\\\\n",
    "1, สำหรับ  x \\geqslant 1\\\\\n",
    "\\end{Bmatrix}$$\n",
    "    \n",
    "ตัวอย่างเช่นเมื่อกำหนดเมื่อ $p =$ $\\frac{1}{3}$\n",
    "\n",
    "<img src=\"images/2.3.png\" width=300 height=300/>"
   ]
  },
  {
   "cell_type": "markdown",
   "metadata": {},
   "source": [
    "## คุณสมบัติพื้นฐานของฟังก์ชันความน่าจะเป็นสะสม (C.D.F.)\n",
    "\n",
    "**Theorem**\n",
    "\n",
    "ฟังก์ชัน $F(x)$ เป็นฟังก์ชันไม่ลดลง (decreasing function) เมื่อค่า $x$ เพิ่มขึ้นซึ่งหมายความว่าถ้า $x_1$ $<$ $x_2$ แล้ว $F(x_1) ≤ F(x_2)$ \n",
    "\n",
    "**Proof.**\n",
    "\n",
    "ถ้า $(x_1 ≤ x_2)$ แล้วเหตุการณ์${X ≤ x_1}$ จะเป็นสับเซ็ตของ ${X ≤ x_2}$ ดังนั้น $Pr(X ≤ x_1) ≤ Pr (X ≤ x_2)$ ซึ่งหมายความว่า $F(x_1) ≤ F(x_2)$ \n",
    "\n",
    "**Theorem**\n",
    "\n",
    "$\\lim_{x \\to \\infty}$ $F(x) = 0$ และ $\\lim_{x \\to \\infty}$ $F(x) = 1$"
   ]
  },
  {
   "cell_type": "markdown",
   "metadata": {},
   "source": [
    "## คุณสมบัติพื้นฐานของฟังก์ชันความน่าจะเป็นสะสม (C.D.F.) เมื่อตัวแปรสุ่ที่มีค่ามากกว่าค่าที่สนใจ \n",
    "\n",
    "**Theorem**\n",
    "\n",
    "สำหรับค่าจำนวนจริง $x$ ใดๆ\n",
    "\n",
    "**<center>$Pr(X > x) = 1−F(x)$      ---------(12)**\n",
    "    \n",
    "**Proof**\n",
    "    \n",
    "เริ่มจากการที่เหตุการณ์ ${X > x}$ และ ${X≤x}$ ไม่มีส่วนร่วมกัน (disjoint) และยูเนียนของทั้งสองเหตุการณ์ครอบคลุมปริภูมิตัวอย่าง (sample space) นั่นคือทั้งสองเหตุการณ์นี้เป็นการแบ่งส่วน(partition) ของปริภูมิตัวอย่างดังนั้น\n",
    "\n",
    "<center>$Pr(X ≤ x) + Pr(X > x) = 1 ⇒ Pr(X > x) = 1−F(x)$"
   ]
  },
  {
   "cell_type": "markdown",
   "metadata": {},
   "source": [
    "## คุณสมบัติพื้นฐานของฟังก์ชันความน่าจะเป็นสะสม (C.D.F.) เมื่อตัวแปรสุ่มอยู่ระหว่างค่าที่สนใจ\n",
    "\n",
    "**Theorem**\n",
    "\n",
    "สำหรับค่าจำนวนจริง $x_1$ และ $x_2$ ที่ $x_1 < x_2$\n",
    "\n",
    "**<center>$Pr(x_1 < X ≤ x_2) = F(x_2) − F(x_1)$      ---------(13)**\n",
    "    \n",
    "**Proof.**\n",
    "    \n",
    "กำหนดให $A = {x_1 < X ≤ x_2}, B = {x_1 ≤ X}$ และ $C = {X ≤ x_2}$ เมื่อพิจารณาอย่างรอบคอบ จะเห็นได้ว่าเหตุการณ์ $A$ และ $B$ เป็นการแบ่งส่วน(partition) ของ $C$ นั่นคือ $A∩B = ∅$ และ $A∪B = C$ ดังนั้น \n",
    "\n",
    "<center>$Pr(x_1 < X ≤ x_2) + Pr(X ≤ x_1) = Pr(X ≤ x_2) ⇒ Pr(x_1 < X ≤ x_2) = F(x_2)−F(x_1)$ \n",
    "    \n",
    "ซึ่งเป็นผลมาจากการแทนค่า $Pr(X ≤ x_n) = F(x_n)$"
   ]
  },
  {
   "cell_type": "markdown",
   "metadata": {},
   "source": [
    "## ทฤษฎีความต่อเนื่องของฟังก์ชันความน่าจะเป็นสะสม (C.D.F.)\n",
    "\n",
    "**Theorem**\n",
    "\n",
    "กำหนดให้ตัวแปรสุ่ม $X$ มีการกระจายต่อเนื่องโดยมี $f(x)$ และ $F(x)$ แทนฟังก์ชันความหนาแน่นของความน่าจะเป็น(probability density function) และฟังก์ชันความน่าจะเป็นสะสม(cumulative distribution function) ดังนั้น \n",
    "* ฟังก์ชันความน่าจะเป็นสะสม(cumulative distribution function)\n",
    "\n",
    "**<center>F(x) = $\\int_x^{-\\infty}$ $f(y) dy$      ---------(14)**\n",
    "\n",
    "    และมีความต่อเนื่อง(continuous) ทุกๆค่าจำนวนจริง $x$\n",
    "\n",
    "* ฟังก์ชันความหนาแน่นของความน่าจะเป็น (probability density function)\n",
    "**<center>$f(x) =$ $\\frac{dF(x)}{dx}$      ---------(15)**\n",
    "    \n",
    "สำหรับทุกๆค่าจำนวนจริง $x$ ที่ฟังก์ชัน $f(x)$ มีความต่อเนื่อง(continuous)"
   ]
  },
  {
   "cell_type": "markdown",
   "metadata": {},
   "source": [
    "## ตัวอย่าง : การหา P.D.F. จาก C.D.F.\n",
    "\n",
    "**Example**\n",
    "\n",
    "พิจารณาตัวแปรสุ่ม $X$ ที่มีการแจกแจงแบบเลขชี้กำลัง (exponential distribution) ด้วยค่าพารามิเตอร์ $λ > 0$ ดังนี้ \n",
    "\n",
    "$$F(x)=\\begin{Bmatrix}\n",
    "0, สำหรับ x < 0 \\\\\n",
    "1 - e^{−λx}, สำหรับ  x \\geqslant 0\\\\\n",
    "\\end{Bmatrix}$$\n",
    "    \n",
    "ดังนั้นฟังก์ชันความหนาแน่นของความน่าจะเป็น (p.d.f.) ของตัวแปรสุ่ม $X$ ที่มีการแจกแจงแบบเลขชี้กำลัง คือ \n",
    "    \n",
    "$$f(x)=\\begin{Bmatrix}\n",
    "0, สำหรับ x < 0 \\\\\n",
    "\\frac{d[1−e^{−λx}]}{dx} = λe^{-λx} , สำหรับ x \\geqslant 0\\\\\n",
    "\\end{Bmatrix}$$\n",
    "    \n",
    "**บทเรียน** : ฟังก์ชันความน่าจะเป็นสะสม (C.D.F.) ของตัวแปรสุ่มต่อเนื่องนั้นมีความต่อเนื่องที่ทุกค่าจำนวนจริงในขณะที่ฟังก์ชันความหนาแน่นของความน่าจะเป็น (p.d.f.) อาจจะไม่มีความต่อเนื่องที่บางค่าได้"
   ]
  },
  {
   "cell_type": "markdown",
   "metadata": {},
   "source": [
    "อ้างอิง: [$Lecture Note^1$](http://riped.utcc.ac.th/tee/wp-content/uploads/sites/3/2019/08/stat-thai.pdf)"
   ]
  }
 ],
 "metadata": {
  "kernelspec": {
   "display_name": "Python 3",
   "language": "python",
   "name": "python3"
  },
  "language_info": {
   "codemirror_mode": {
    "name": "ipython",
    "version": 3
   },
   "file_extension": ".py",
   "mimetype": "text/x-python",
   "name": "python",
   "nbconvert_exporter": "python",
   "pygments_lexer": "ipython3",
   "version": "3.8.1"
  }
 },
 "nbformat": 4,
 "nbformat_minor": 2
}
