{
 "cells": [
  {
   "cell_type": "markdown",
   "metadata": {},
   "source": [
    "# <center> Conditional Distribution and Function of Random Variable"
   ]
  },
  {
   "cell_type": "markdown",
   "metadata": {},
   "source": [
    "## การแจกแจงแบบมีเงื่อนไข (Conditional Distributions)\n",
    "   - การวิเคราะห์ทางการเงินและเศรษฐศาสตร์มักให้ความสนใจในการพยากรณ์โดยมี “เงื่อนไขมาจากสิ่งที่เราทราบ” แล้ว\n",
    "        *  ต้องการทราบว่า ผลตอบแทนของหลักทรัพย์มีค่าเท่าไหร่ หากเราทราบว่า $\\rightarrow$ “ธนาคารแห่งประเทศไทยประกาศขึ้นอัตราดอกเบี้ยนโยบาย”\n",
    "        *  ต้องการทราบว่า อัตราการออมของครัวเรือนในชนบท $\\rightarrow$ “ที่ระดับรายได้ต่างๆ” มีค่าเป็นเท่าใด"
   ]
  },
  {
   "cell_type": "markdown",
   "metadata": {},
   "source": [
    "## การแจกแจงแบบมีเงื่อนไขของตัวแปรสุ่มไม่ต่อเนื่อง\n",
    "<p>การแจกแจงแบบมีเงื่อนไขของตัวแปรสุ่มไม่ต่อเนื่อง (discrete) “เป็นผลโดยตรง” จากหลักการความน่าจะเป็นแบบมีเงื่อนไข (conditional probability)</p>\n",
    "    <p> ฟังก์ชันความน่าจะเป็นของตัวแปรสุ่ม X ภายใต้เงื่อนไขของตัวแปรสุ่ม Y = y นิยามได้เป็น </p>\n",
    "    <p><center> $ g_1 (x | y) {\\displaystyle \\equiv }   Pr (X = x | Y = y) = \\left(\\frac{ Pr (X = x และ Y = y)}{Pr(Y=y)}\\right) = \\left(\\frac{f(x,y)}{f_2(y)}\\right)$ "
   ]
  },
  {
   "cell_type": "markdown",
   "metadata": {},
   "source": [
    "## นิยาม: การแจกแจงแบบมีเงื่อนไขของตัวแปรสุ่มไม่ต่อเนื่อง\n",
    "  **Definition**\n",
    "      <p>$\\rightarrow$ กำหนดให้ $ X $ และ $ Y $ คือตัวแปรสุ่มไม่ต่อเนื่อง (discrete) ที่มี $f(x,y)$ แทนฟังก์ชันความน่าจะเป็นร่วม (Joint Probabillity Function) </p>\n",
    "      <p>$\\rightarrow f_2(y)$ แทนฟังก์ชันความน่าจะเป็นตามขอบ (Marginal Probabillity Function) ของตัวแปรสุ่ม $Y$ ดังนั้น สำหรับค่าจำนวนจริง $y$ ที่ $f_2(y) > 0 $ คือ</p>\n",
    "      <p><center> $ g_1 (x | y)  {\\displaystyle \\equiv } \\left(\\frac{f(x,y)}{f_2(y)}\\right)$\n",
    "      <p>เรามักเรียก $g_1$ ว่าฟังก์ชันความน่าจะเป็นแบบมีเงื่อนไข (Conditional Probabillity Function) ของ $X$ ภายใต้เงื่อนไขของ $Y$</p>\n",
    "      <p>ส่วนฟังก์ชัน $g_1 (·|y) $ คือการแจกแจงแบบมีเงื่อนไข (conditional distribution) ของ $X$ เมื่อค่าของ $Y = y$</p> \n",
    "      <p>ในทำนองเดียวกัน การแจกแจงแบบมีเงื่อนไข (conditional distribution)ของ $Y$ เมื่อค่าของ $X = x$ สำหรับค่าจำนวนจริง $x$ ที่ $f_1(x) > 0$ คือ </p>\n",
    "      <p><center> $ g_2 (y | x)  {\\displaystyle \\equiv } \\left(\\frac{f(x,y)}{f_1(x)}\\right)$ \n",
    "      "
   ]
  },
  {
   "cell_type": "markdown",
   "metadata": {},
   "source": [
    "## นิยาม: การแจกแจงแบบมีเงื่อนไขของตัวแปรสุ่มต่อเนื่อง\n",
    "  **Definition**\n",
    "          <p>$\\rightarrow$ กำหนดให้ $ X $ และ $ Y $ คือตัวแปรสุ่มต่อเนื่อง (continuos) ที่มี $f(x,y)$ แทนฟังก์ชันความหนาแน่นของความน่าจะเป็นร่วม (Joint Density Probabillity Function) </p>\n",
    "      <p>$\\rightarrow f_1(x)$ และ $f_2(y)$ แทนฟังก์ชันความหนาแน่นของความน่าจะเป็นตามขอบ (Marginal Density Probabillity Function) ของตัวแปรสุ่ม $X$ และ $Y$ ตามลำดับ </p> \n",
    "      <p>ดังนั้น สำหรับค่าจำนวนจริง $y$ ที่ $f_2 (y) > 0$ การแจกแจงแบบมีเงื่อนไข (conditional distribution) ของ $X$ เมื่อค่าของ $Y = y$  คือ</p>\n",
    "      <p><center> $ g_1 (x | y)  {\\displaystyle \\equiv } \\left(\\frac{f(x,y)}{f_2(y)}\\right) , สำหรับ -\\infty < x < \\infty $\n",
    "      <p>ในทำนองเดียวกัน สำหรับค่าจำนวนจริง $x $ ที่ $f_1 (x) > 0$ การแจกแจงแบบมีเงื่อนไข (conditional distribution) ของ $Y$ เมื่อค่าของ $X = x$ คือ  </p>\n",
    "      <p><center> $ g_2 (y | x)  {\\displaystyle \\equiv } \\left(\\frac{f(x,y)}{f_1(x)}\\right), สำหรับ -\\infty < x < \\infty $ \n",
    "      <p>ส่วนกรณีที่ $f_2 (y) = 0$ หรือ $f_1 (x) = 0$ เราสามารถกำหนดค่าของการแจกแจงแบบมีเงื่อนไข $g_1 (x|y)$ หรือ $g_2 (y|x)$ ตามลำดับ</p>\n",
    "      <p>ได้โดยอิสระ <B>ตราบเท่าที่การแจกแจงแบบมีเงื่อนไขนั้นเป็นฟังก์ชันความหนาแน่นของความน่าจะเป็น  </B> </p> "
   ]
  },
  {
   "cell_type": "markdown",
   "metadata": {},
   "source": [
    "## ทฤษฎี: การแจกแจงแบบมีเงื่อนไขเป็นการแจกแจงแบบหนึ่ง\n",
    "**Theorem**</p>\n",
    " <p>กำหนดให้ $X$ และ $Y$ คือตัวแปรสุ่มมต่อเนื่อง (continuous) สำหรับค่า $y$ ใด ๆ การแจกแจงแบบมีเงื่อนไข (conditional distribution)</p> \n",
    " <p> $\\rightarrow g_1 (x|y)$ มีคุณสมบัติเป็นฟังก์ชันความหนาแน่นของความน่าจะเป็น (Probabillity Density Function ) ที่เป็นฟังก์ชันของตัวแปร x </p>\n",
    " <p>ในทำนองเดียวกัน สำหรับค่า $x$ ใด ๆ การแจกแจงแบบมีเงื่อนไข (conditional distribution)</p> $\\rightarrow g_2 (y|x) $ มีคุณสมบัติเป็นนฟังก์ชันความหนาแน่นของความน่าจะเป็น (Probabillity Density Function) ที่เป็นฟังก์ชันของตัวแปร $y$"
   ]
  },
  {
   "cell_type": "markdown",
   "metadata": {},
   "source": [
    "## การพิสูจน์: การแจกแจงแบบมีเงื่อนไขเป็นการแจกแจงแบบหนึ่ง\n",
    "<B>Proof.</B>\n",
    "<p>พิสูจน์สำหรับ $g_2 (y|x)$  โดยเริ่มจากกรณีที่ $f_1 (x) > 0$ </p>\n",
    "<p>$\\rightarrow$ การแจกแจงแบบมีเงื่อนไข (conditional distribution) $g_2 (y|x)$ จะต้องสอดคลล้องตาม </p>\n",
    "<p><center> $ g_2 (y | x)  {\\displaystyle \\equiv } \\left(\\frac{f(x,y)}{f_1(x)}\\right), สำหรับ -\\infty < x < \\infty $  </p>\n",
    "    <p>ซึ่งมีผลทำให้ $g_2 (y|x) ≥ 0$ </p>\n",
    "    <p>เนื่องจากทั้งตัวตั้งมีค่าเป็นบวกหรือศูนย์ส่วนตัวหารมีค่ามากกว่าศูนย์</p> <p>ส่วนที่เหลือคือการพิสูจน์ว่า\n",
    "$g_2 (y|x)$ สอดคล้องกับ “คุณสมบัติผลรวมเท่ากับหนึ่ง” โดย </p>\n",
    "<p><center>$$\\int_{-\\infty}^{\\infty} g_2 (y|x) dy = \\int_{-\\infty}^{\\infty} \\left(\\frac{f(x,y)}{f_1(x)}\\right) dy = \\left(\\frac{1}{f_1(x)}\\right) \\int_{-\\infty}^{\\infty} f(x,y) dy= \\left(\\frac{1}{f_1(x)}\\right)  f_1 (x) = 1 $$ \n",
    "    <p>$\\rightarrow$ ความน่าจะเป็นตามขอบ (Marginal Probabillity Density Function) ของ ตัวแปรสุ่ม $X$ คือ $f_1 (x) = $$\\int_{-\\infty}^{\\infty} f(x,y) dy $\n",
    "        <p> $\\rightarrow$ กรณีที่ $f_1 (x) = 0$ นิยามข้างต้น ได้กำหนดให้ $g_2 (y|x)$ มีคุณสมบัติเป็นฟังก์ชันความหนาแน่นของความน่าจะเป็น (Probabillity Density Function) อยู่แล้ว\n",
    "<p> $\\rightarrow$ กรณีของตัวแปรสุ่มไม่ต่อเนื่อง (discrete) การแจกแจงแบบมีเงื่อนไขมีคุณสมบัติเป็นฟังก์ชันความน่า\n",
    "จะเป็น (Probabillity Function) เช่นเดียวกัน\n",
    "    "
   ]
  },
  {
   "cell_type": "markdown",
   "metadata": {},
   "source": [
    "## ความสัมพันธ์ระหว่างการแจกแจงแบบมีเงื่อนไขกับการแจกแจงร่วม\n",
    "<p>$\\rightarrow$ กำหนดให้ $X$ และ $Y$ เป็นตัวแปรสุ่มที่มีการแจกแจง $f_1(x)$ และ $f_2(y)$ ตามลำดับ </p>\n",
    "<p>$\\rightarrow$ กำหนดให้ $g_1(x|y)$ และ $g_2(y|x)$ แทนการแจกแจงแบบมีเงื่อนไขของ $X$ เมื่อค่าของ $Y = y$ และการแจกแจงแบบมีเงื่อนไขของ $Y$ เมื่อค่าของ $X = x$ ตามลำดับ </p>\n",
    "<p>ดังนั้น การแจกแจงร่วมของ $X$ และ $Y$ สามารถหาค่าได้จาก</p>\n",
    "<p><center> $f(x,y)= g_1(x|y)f_2(y)$\n",
    "<p><center> $f(x,y)= g_2(x|y)f_1(x)$\n",
    "  <p>โดยที่สมการแรกเป็นจริงสำหรับทุกๆ ค่า $x$ และค่า $y$ ที่ $f_2(y) > 0$ และในทางกลับกันสมการที่สองเป็นจริงสำหรับทุกๆ ค่า $y$ และค่า $x$ ที่ $f_1 (x) > 0$"
   ]
  },
  {
   "cell_type": "markdown",
   "metadata": {},
   "source": [
    "## กฏของความน่าจะเป็นรวม (Law of total probability)\n",
    "\n",
    "<B>Theorem</B>\n",
    "<p>ฟังก์ชันความหนาแน่นของความน่าจะเป็นตามขอบ (Marginal Proballity Density Function) </p>\n",
    "<p>และฟังก์ชันความหนาแน่นของความน่าจะเป็นแบบมีเงื่อนไข (Conditional Probabillity Density Function)</p> \n",
    "<p>สำหรับตัวแปรสุ่ม X และ Y สอดคล้องกับกฏของความน่าจะเป็นรวม (Law of total probability) ดังต่อไปนี</p>\n",
    "<p><center>$$f_1(x)=\\int_{-\\infty}^{\\infty} g_1 (x|y)f_2(y)  dy  $$\n",
    "    <p><center>$$f_2(y)=\\int_{-\\infty}^{\\infty} g_2 (y|x)f_1(x)  dx  $$\n",
    "        <p>โดยที่ $f_1 (x)$ และ $f_2 (y)$ แทนฟังก์ชันความหนาแน่นของความน่าจะเป็นตามขอบ (Aarginal\n",
    "Probabillity Density Function) ของ $X$ และ $Y$ ตามลำดับ <p>และ $g_1 (x|y)$ แทนฟังก์ชันความหนาแน่นของความน่าจะเป็น\n",
    "แบบมีเงื่อนไขของ $X$ เมื่อค่าของ $Y = y$ <p>และ $g_2 (y|x)$ แทนฟังก์ชันความหนาแน่นของความน่าจะเป็นแบบมีเงื่อนไขของ $Y$ เมื่อค่าของ $X = x$"
   ]
  },
  {
   "cell_type": "markdown",
   "metadata": {},
   "source": [
    "## ทฤษฎีบทของเบส์ (Bayes’ Theorem)\n",
    "<B>Theorem (ทฤษฎีบทของเบส์ (Bayes’ Theorem))</B>\n",
    "<p>กำหนดให้ $X$ และ $Y$ เป็นตัวแปรสุ่ม <p>โดยที่ $f_1 (x)$ และ $f_2 (y)$ แทนฟังก์ชันความหนาแน่นของความน่าจะเป็นตามขอบ (Marginal Probabillity Density Function) ของ $X$ และ $Y$ ตามลำดับ <p>ความสัมพันธ์ระหว่างฟังก์ชันความหนาแน่นของความน่าจะเป็นแบบมีเงื่อนไข (Conditional Probability Density Function) สามารถเขียนได้ในรูปสมการดังต่อไปนี้\n",
    "    <p><center>$$ g_1 (x|y)  =  \\left(\\frac{g_2(y|x)f_1(x)}{f_2(y)}\\right)  $$ <p><center>$$ g_2 (y|x)  =  \\left(\\frac{g_1(x|y)f_2(y)}{f_1(x)}\\right)  $$\n",
    "      <p>$\\rightarrow$  ในทางปฏิบัติทฤษฎีของเบส์ (Bayes’ Theorem) ช่วยให้เราสามารถคำนวณหาฟังก์ชันการแจกแจง (distribution function) <p>ที่เกี่ยวข้องในทุกรูปแบบไม่ว่าจะเป็นการแจกแจงร่วมการแจกแจงตามขอบของทุกตัวแปร \n",
    "          <p>$\\rightarrow$ ในกรณีที่ทราบการแจกแจงย่อยเพียงสองอย่าง คือ การแจกแจงตามขอบและการแจกแจงแบบมีเงื่อนไข <p>โดยมักจะใช้ร่วมกับกฏของความน่าจะเป็นรวม (Law of Total Probability)"
   ]
  },
  {
   "cell_type": "markdown",
   "metadata": {},
   "source": [
    "## ตัวอย่าง: การแจกแจงแบบมีเงื่อนไข\n",
    "สมมติให้ค่า $X$ คือค่าที่สุ่มจากการแจกแจงเอกรูป (Uniform Distribution) ในช่วง $[0, 1]$ <p>และ $Y$\n",
    "คือค่าที่สุ่มหลังจากที่ทราบว่าค่า $X = x$ จากการแจกแจงเอกรูป (Uniform Distribution) ในช่วง\n",
    "$[x, 1]$ <p>คำถามก็คือ ฟังก์ชันความหนาแน่นของความน่าจะเป็นตามขอบ (Marginal Probabillity Density Function) ของ $Y$จะมีลักษณะอย่างไร ?\n",
    "   <p>$\\rightarrow$ เนื่องจาก $X$ มีการแจกแจงแบบเอกรูปในช่วง $[0, 1]$ <p>ดังนั้น เราสามารถเขียนฟังก์ชันความหนาแน่นของความน่าจะเป็นตามขอบ (Marginal Probabillity Density Function) ของ $X$ ได้เป็น <p><center> $f_1(x) = \\begin{cases} 1,  & \\mbox{สำหรับ }0 \\leq x \\leq 1 \\\\0, & \\mbox{สำหรับกรณีอื่น}\\end{cases}$\n",
    "       <p>$\\rightarrow$ ฟังก์ชันความหนาแน่นของความน่าจะเป็นแบบมีเงื่อนไข (Conditional Probabillity Density Function) ของ $Y$ เมื่อ\n",
    "ค่าของ $X = x$ เท่ากับ <p><center> $g_2(y|x) = \\begin{cases} \\left(\\frac{1}{1-x}\\right),  & \\mbox{สำหรับ }x \\leq y \\leq 1 \\\\0, & \\mbox{สำหรับกรณีอื่น}\\end{cases}$\n",
    "\n"
   ]
  },
  {
   "cell_type": "markdown",
   "metadata": {},
   "source": [
    "## วิธีทำ: การแจกแจงแบบมีเงื่อนไข\n",
    "<B>Example</B>\n",
    "<p>$\\rightarrow$ ใช้กฏการคูณเราจะพบว่า ฟังก์ชันความหนาแน่นของความน่าจะเป็นร่วม (Joint Probabillity Density Function) ของ $(X,Y)$ เท่ากับ\n",
    "<p><center> <p><center> $f(x,y) = \\begin{cases} \\left(\\frac{1}{1-x}\\right),  & \\mbox{สำหรับ }0< x \\leq y \\leq 1 \\\\0, & \\mbox{สำหรับกรณีอื่น}\\end{cases}$\n",
    "<p>$\\rightarrow$  เราสามารถหาฟังก์ชันความหนาแน่นของความน่าจะเป็นตามขอบ (Marginal Probabillity Density Function) ของ $Y$\n",
    "<p><center> $f_2(y) = \\begin{cases} \\int_{0}^{y} \\left(\\frac{1}{1-x}\\right)  dx  = -ln(1-y),  & \\mbox{สำหรับ }0 \\leq y \\leq 1 \\\\0, & \\mbox{สำหรับกรณีอื่น}\\end{cases}$\n",
    "<p>$\\rightarrow$ เราสามารถหาฟังก์ชันความหนาแน่นของความน่าจะเป็นแบบมีเงื่อนไข (Conditional Probabillity Density Function) ของ $X$ <p>เมื่อค่า\n",
    "ของ $Y = y$ โดยประยุกต์ใช้ทฤษฎีบทของเบส์ (Bayes’ theorem)\n",
    "    <p><center> $g_1(x|y) = \\begin{cases} \\left(\\frac{\\frac{1}{1-x}}{-ln(1-y)}\\right) =-\\left(\\frac{1}{(1-x)ln(1-y)}\\right),  & \\mbox{สำหรับ }0 < x \\leq y \\leq 1 \\\\0, & \\mbox{สำหรับกรณีอื่น}\\end{cases}$\n",
    "<p>$\\rightarrow$ ผลลัพธ์เดียวกันนี้สามารถหาได้จากการใช้นิยามของฟังก์ชันความหนาแน่นของความน่าจะเป็นแบบมีเงื่อนไข (Conditional Probabillity Density Function) <p>เพราะเราทราบฟังก์ชันความหนาแน่นของความน่าจะเป็นร่วม (Joint Probabillity Density Function)\n",
    "        "
   ]
  },
  {
   "cell_type": "markdown",
   "metadata": {},
   "source": [
    "## ความสัมพันธ์ระหว่างความเป็นอิสระต่อกันและการแจกแจงแบบมีเงื่อนไข\n",
    "<B>Theorem</B>\n",
    "<p>$\\rightarrow$ กำหนดให้ $X$ และ $Y$ เป็นตัวแปรสุ่มที่มีการแจกแจง $f_1 (x)$ และ $f_2 (y)$ ตามลำดับ \n",
    "  <p>$\\rightarrow$  ในทำนองเดียวกัน กำหนดให้ $g_1 (x|y)$ และ $g_2 (y|x)$ แทนการแจกแจงแบบมีเงื่อนไขของ $X$ เมื่อค่าของ\n",
    "$Y = y$ <p>และการแจกแจงแบบมีเงื่อนไขของ $Y$ เมื่อค่าของ $X = x$ ตามลำดับ ดังนั้น $X$ และ $Y$ เป็นอิสระต่อกัน (independent) <p>ก็ต่อเมื่อ สำหรับทุกๆ ค่าของ $y$ ที่ $f_2 (y) > 0$ และทุกๆ ค่าของ $x$ <p><center> $g_1(x|y) = f_1(x)$ <p>และสำหรับทุกๆ ค่าของ $x$ ที่ $f_1 (x) > 0$ และทุกๆ ค่าของ $y$<p><center> $g_2(y|x) = f_2(y)$"
   ]
  },
  {
   "cell_type": "markdown",
   "metadata": {},
   "source": [
    "## ฟังก์ชันของตัวแปรสุ่ม (Functions of Random Variables)\n",
    "<p>$\\rightarrow$ ตัวแปรพื้นฐานส่วนใหญ่มักจะอยู่ในรูปของ ตัวแปรสุ่ม เช่น รายได้, อัตราผลตอบแทน\n",
    "<p>$\\rightarrow$ คำตอบที่ได้จากแบบจำลองของตัวแปรเหล่านี้เป็น ตัวแปรสุ่ม เช่นกัน\n",
    "<p>$\\rightarrow$ ดังนั้น เพื่อให้เข้าใจคำตอบที่ได้ จึงจำเป็นจะต้องหาคุณสมบัติของคำตอบที่ได้ในฐานะที่เป็นตัวแปรสุ่ม\n",
    "<p>$\\rightarrow$ ต้องการหา “การแจกแจงของฟังก์ชันของตัวแปรสุ่ม”"
   ]
  },
  {
   "cell_type": "markdown",
   "metadata": {},
   "source": [
    "## ทฤษฎี: การแจกแจงของฟังก์ชันของตัวแปรสุ่มไม่ต่อเนื่อง\n",
    "<B>Theorem</B>\n",
    "<p>$\\rightarrow$ กำหนดให้ $X$ เป็นตัวแปรสุ่มไม่ต่อเนื่องที่มีฟังก์ชันความน่าจะเป็น (Probabillity Function) $f$ <p>และ $Y = r(X)$ เป็น\n",
    "<B>ฟังก์ชัน</B> ที่นิยามบนเซ็ตของค่าที่เป็นไปได้ทั้งหมดของ $X$ <p>ดังนั้น ฟังก์ชันความน่าจะเป็น (Probabillity Function) ของ\n",
    "$Y$ ซึ่งแทนด้วย $g$ มีค่าเท่ากับ<p><center> $g(y) = f_1(x) = Pr(Y=y)= Pr ( r(X) = y )= \\sum_{x:r(X)=y} {f(x)}$ <p>สำหรับแต่ละค่า $y$ ที่เป็นไปได้สำหรับตัวแปรสุ่ม $Y$"
   ]
  },
  {
   "cell_type": "markdown",
   "metadata": {},
   "source": [
    "## ทฤษฎี: ฟังก์ชันการแจกแจงของฟังก์ชันของตัวแปรสุ่มต่อเนื่อง\n",
    "<p>$\\rightarrow$ การแจกแจงของตัวแปรสุ่มต่อเนื่องสามารถคำนวณได้โดยใช้หลักการสองขั้นตอน\n",
    "    <p>1.หาฟังก์ชันการแจกแจงสะสม (Cumulative Distribution Function)\n",
    "<p>2.หาฟังก์ชันความหนาแน่นของความน่าจะเป็น (Probabillity Density Function) จากอนุพันธ์ของฟังก์ชันการแจกแจงสะสม (Cumulative Distribution Function)\n",
    "<p><B>Theorem</B>\n",
    "<p>กำหนดให้ $X$ เป็นตัวแปรสุุ่มต่อเนื่องที่มีฟังก์ชันความหนาแน่นของความน่าจะเป็น (Probabillity Density Function) $f$ \n",
    "   <p> และ $Y = r(X)$ เป็นฟังก์ชันที่นิยามบนเซ็ตของค่าที่เป็นไปได้ทั้งหมดของ $X $\n",
    "      <p> ดังนั้น ฟังก์ชันการแจกแจงสะสม (Cumulative Distribution Function) ของ $Y$ ซึ่งแทนด้วย $G$ มีค่าเท่ากับ\n",
    "          <p><center> $g(y) = f_1(x) = Pr(Y=y)= Pr ( r(X) = y )= \\int_{x:r(X)=y}  f(x)  dx$\n",
    "              <p>สำหรับแต่ละค่า $y$ ที่เป็นไปได้สำหรับตัวแปรสุ่ม $Y$ และถ้าฟังก์ชันการแจกแจงสะสม (Cumulative Distribution Function) ของ\n",
    "$Y$ สามารถหาค่าอนุพันธ์ได้ <p>ฟังก์ชันความหนาแน่นของความน่าจะเป็น (Probabillity Density Function) จะมีค่าเท่ากับ\n",
    "             <p><center> $ g(y)=\\left(\\frac{dG(y)}{dy}\\right)$"
   ]
  },
  {
   "cell_type": "markdown",
   "metadata": {},
   "source": [
    "## ตัวอย่าง: การแจกแจงของฟังก์ชันของตัวแปรสุ่ม เมื่อตัวแปรสุ่ม X มีการแจกแจงเอกรูป\n",
    "<B>Example</B>\n",
    "สมมติว่าตัวแปรสุ่ม $X$ มีการแจกแจงเอกรูป (Uniform Distribution) ในช่วง $[0, 1]$ แล้วตัวแปรสุ่ม $Y = X^2$ มีการแจกแจงอย่างไร ?\n",
    "<p>$\\rightarrow$ เนื่องจาก $X$ มีการแจกแจงแบบเอกรูป ดังนั้น ฟังก์ชันความหนาแน่นของความน่าจะเป็น (Probabillity Density Function) ของ $X$ มีค่าเท่ากับ\n",
    "    <p><center> $f(x) = \\begin{cases} 1 ,  & \\mbox{สำหรับ }0   \\leq x \\leq 1 \\\\0, & \\mbox{สำหรับกรณีอื่น}\\end{cases}$\n",
    "     <p>$\\rightarrow$ ในช่วง $0 ≤ x ≤ 1$ แล้ว $0 ≤ y ≤ 1$ <p>ดังนั้น เราจะต้องคำนวณหาฟังก์ชันการแจกแจงสะสม (Cumulative Distribution Function) ของ $Y$ สำหรับค่า $0 ≤ y ≤ 1$ ดังต่อไปนี้\n",
    "<p><center> $ g(y)= Pr(Y=y) = Pr(X^2=y)=Pr(-\\sqrt{y}\\leq x \\leq \\sqrt{y})=Pr(0 \\leq x \\leq \\sqrt{y})=\\int_{0}^{y}  f(x)  dx=\\sqrt{y}$\n",
    "   <p> โดยหนึ่งในขั้นตอนการคำนวณได้ประยุกต์ใช้การที่ $f (x) = 0$ เมื่อ $x < 0$\n",
    "    <p>$\\rightarrow$ คำนวณหาค่าฟังก์ชันความหนาแน่นของความน่าจะเป็น (Probabillity Density Function) ได้จากอนุพันธ์ของ $G (y)$\n",
    "        <p><center> $g(y) = \\begin{cases} \\left(\\frac{1}{2\\sqrt{y}}\\right) ,  & \\mbox{สำหรับ }0   \\leq y \\leq 1 \\\\0, & \\mbox{สำหรับกรณีอื่น}\\end{cases}$"
   ]
  },
  {
   "cell_type": "markdown",
   "metadata": {},
   "source": [
    "## ตัวอย่าง: การแจกแจงของฟังก์ชันของตัวแปรสุ่มเมื่อ ตัวแปรสุ่ม X มีการแจกแจงแบบปกติ\n",
    "<B>Example</B>\n",
    "สมมติว่า $X$ เป็นตัวแปรสุ่มที่มีการแจกแจงแบบปกติ (Normal Distribution) ที่มีพารามิเตอร์ $µ$ และ $σ$ <p>ซึ่งมีฟังก์ชันความหนาแน่นของความน่าจะเป็น (Probabillity Density Function) เท่ากับ\n",
    "    <p><center> $ f(x)=\\left(\\frac{1}{\\sqrt{2\\piσ^2}}\\right) e^\\frac{-(x-µ)^2}{{2σ^2}}$\n",
    "    <p>คำถามก็คือ ตัวแปรสุ่ม $Y = aX + b $ซึ่งเป็นฟังก์ชันเชิงเส้นของ $X$ มีการแจกแจงอย่างไร ?\n",
    "     <p>$\\rightarrow$   เช่นเดียวกับตัวอย่างก่อนหน้านี้ เราเริ่มจากการหาฟังก์ชันการแจกแจงสะสม (Cumulative Distribution Function) ของ $Y$ <p>แล้วจึงหาฟังก์ชันความหนาแน่นของความน่าจะเป็น (Probabillity Density Function) จากการหาอนุพันธ์ในทางเทคนิค เราจำเป็นต้องแยกออกเ็นสองกรณี"
   ]
  },
  {
   "cell_type": "markdown",
   "metadata": {},
   "source": [
    "## วิธีทำ: การแจกแจงของฟังก์ชันของตัวแปรสุ่มเมื่อ ตัวแปรสุ่ม X มีการแจกแจงแบบปกติ \n",
    "<B>กรณีที่ $a > 0$</B>\n",
    "<p><center> $ g(y)= Pr(Y\\leq y) = Pr(aX+b \\leq y)=Pr(-\\sqrt{y}\\leq x \\leq \\sqrt{y})=Pr(x \\leq \\frac{y-b}{a})=\\int_{-\\infty}^{\\frac{y-b}{a}}  \\left(\\frac{1}{\\sqrt{2\\piσ^2}}\\right) e^\\frac{-(x-µ)^2}{{2σ^2}}  dx$\n",
    "    <p><b>การหาอนุพันธ์</b>\n",
    "<p><center>$ g(y)=\\left(\\frac{dG(y)}{dy}\\right)=\\frac {d \\int_{-\\infty}^{\\frac{y-b}{a}}  \\left(\\frac{1}{\\sqrt{2\\piσ^2}}\\right) e^\\frac{-(x-µ)^2}{{2σ^2}}  dx}{dy}= \\left(\\frac{1}{a \\sqrt{2\\piσ^2}}\\right) e^\\frac{-(\\frac{y-b}{a}-µ)^2}{{2σ^2}}=\\left(\\frac{1}{ \\sqrt{2\\pi(aσ)^2}}\\right) e^\\frac{-({y}-(aµ+b))^2}{{2(aσ)^2}}  $\n",
    "    <p><B>กรณีที่ $a < 0$</B>\n",
    "<p><center> $ g(y)= Pr(Y\\leq y) = Pr(aX+b \\leq y)=Pr(-\\sqrt{y}\\leq x \\leq \\sqrt{y})=Pr(x \\geq \\frac{y-b}{a})=1- \\int_{-\\infty}^{\\frac{y-b}{a}}  \\left(\\frac{1}{\\sqrt{2\\piσ^2}}\\right) e^\\frac{-(x-µ)^2}{{2σ^2}}  dx$\n",
    "    <p><b>การหาอนุพันธ์</b>\n",
    "<p><center>$ g(y)=\\left(\\frac{dG(y)}{dy}\\right)=\\frac {-d \\int_{-\\infty}^{\\frac{y-b}{a}}  \\left(\\frac{1}{\\sqrt{2\\piσ^2}}\\right) e^\\frac{-(x-µ)^2}{{2σ^2}}  dx}{dy}= \\left(\\frac{1}{a \\sqrt{2\\piσ^2}}\\right) e^\\frac{-(\\frac{y-b}{a}-µ)^2}{{2σ^2}}=\\left(\\frac{1}{ \\sqrt{2\\pi(aσ)^2}}\\right) e^\\frac{-({y}-(aµ+b))^2}{{2(aσ)^2}}  $"
   ]
  },
  {
   "cell_type": "markdown",
   "metadata": {},
   "source": [
    "## ฟังก์ชันของตัวแปรสุ่มที่มีการแจกแจงแบบปกติ (normal distribution)\n",
    "<p><b>Theorem</b>\n",
    "<p>สมมุติให้ $X$ เป็นตัวแปรสุ่มต่อเนื่องที่มี $f$ เป็นฟังก์ชันความหนาแน่นของความน่าจะเป็น (Probabillity Density Function)\n",
    "<p>และตัวแปรสุ่ม $Y = aX + b$ โดยที่ $a\\neq 0$ แล้ว ฟังก์ชันความหนาแน่นของความน่าจะเป็น\n",
    "(Probabillity Density Function) ของ $Y$ เท่ากับ<p><center>$ g(y)=\\frac{1}{|a|}f\\left(\\frac{y-b}{a}\\right)$, สำหรับ $-\\infty \\leq y \\leq \\infty$\n",
    "   <p>$\\rightarrow$ ทฤษฎีบทนี้เป็นกรณีพิเศษของทฤษฎีบทที่กล่าวถึงการแปลงการแจกแจงด้วยฟังก์ชันหนึ่งต่อหนึ่งที่หาอนุพันธ์ได้ (one-to-one and differentiable function)\n"
   ]
  },
  {
   "cell_type": "markdown",
   "metadata": {},
   "source": [
    "## ทฤษฎี: การแปลงค่าของฟังก์ชันของตัวแปรสุ่ม\n",
    "<p><b>Theorem</b></p>\n",
    "<p>$\\rightarrow$ กำหนดให้ $X$ เป็นตัวแปรสุ่มต่อเนื่องที่มี $f$ เป็นฟังก์ชันความหนาแน่นของความน่าจะเป็น (Probabillity Density Function)\n",
    "โดยที่ $Pr(a < X < b) = 1$ <p>และตัวแปรสุ่ม $Y = r(X)$ โดยที่ฟังก์ชัน $r(x)$ เป็นฟังก์ชันหนึ่งต่อหนึ่งที่หาอนุพันธ์ได้ (one-to-one and differentiable function) \n",
    "สำหรับ $a < x < b$ <p>$ซึ่งมีผลทำให้เกิดภาพฉาย^a$ (image) ของช่วง $(a, b)$ เท่ากับ $(α, β)$\n",
    "   <p>$\\rightarrow$ กำหนดให้ $s(y)$ คือฟังก์ชันผกผัน (inverse function) ของ $r(x)$ นั่นคือ $x = s(y)$ <p>ดังนั้น\n",
    "ฟังก์ชันความหนาแน่นของความน่าจะเป็น (Probabillity Density Function) ของ $Y$ มีค่าเท่ากับ<p><center> $g(y) = \\begin{cases} f(r(x)) |\\frac{d(s(y))}{dy}| ,  & \\mbox{สำหรับ }α\\leq y \\leq β \\\\0, & \\mbox{สำหรับกรณีอื่น}\\end{cases}$\n",
    "<p>$^aหากพิจารณาอย่างไม่เป็นทางการ$ ภาพฉาย (image) หมายถึงเซ็ตของจำนวนจริงที่เป็นผลลัพธ์ของฟังก์ชัน $r$ ที่เป็นไปได้ทั้งหมด <p>หรือในทางเทคนิค เราอาจจะเขียนได้เป็น $r : (a, b) \\rightarrow (α, β)$\n",
    "    "
   ]
  },
  {
   "cell_type": "markdown",
   "metadata": {},
   "source": [
    "## การพิสูจน์: การแปลงค่าของฟังก์ชันของตัวแปรสุ่ม\n",
    "<B>Proof.</B>\n",
    "การพิสูจน์แบ่งออกเป็นสองส่วน ดังต่อไปนี\n",
    "<p>$\\rightarrow$ กรณีที่ $r$ เป็นฟังก์ชั่นที่เพิ่มขึ้น (increasing function): ผลที่ตามมาก็คือ $s$ ก็เป็นฟังก์ชั่นที่เพิ่มขึ้น <p>ซึ่งช่วยให้เราเขียนฟังก์ชันการแจกแจงสะสม (Cumulative Distribution Function) ของ $Y$ สำหรับ $y ∈ (α, β)$ <p><center> $ g(y)= Pr(Y \\leq y) = Pr(r(x) \\leq y)=Pr(x\\leq s(y))=F(s(y))$ <p>เราสามารถประยุกต์ใช้กฏลูกโซ่ (chain rule) เพื่อหาอนุพันธ์ของ $G$ ได้ดังต่อไปนี้<p><center>$ g(y)= \\frac{dG(y)}{dy}= \\frac{dF(s(y))}{dy}= \\left(\\frac{dF(s(y))}{dx}\\right)\\left(\\frac{ds(y)}{dy}\\right)=f(s(y))\\left(\\frac{ds(y)}{dy}\\right)=f(s(y))|\\frac{ds(y)}{dy}|$\n",
    "   <p>$\\rightarrow$  กรณีที่ $r$ เป็นฟังก์ชั่นที่ลดลง (decreasing function): ผลที่ตามมาก็คือ $s$ ก็เป็นฟังก์ชั่นที่ลดลง <p>ซึ่งช่วยให้เราเขียนฟังก์ชันการแจกแจงสะสม (Cumulative Distribution Function) ของ $Y$ สำหรับ $y ∈ (α, β)$<p><center> $ g(y)= Pr(Y \\leq y) = Pr(r(x) \\leq y)=Pr(x\\leq s(y))=1-F(s(y))$ <p>เราสามารถประยุกต์ใช้กฏลูกโซ่ (chain rule) เพื่อหาอนุพันธ์ของ $G$ ได้ดังต่อไปนี้<p><center>$ g(y)= \\frac{dG(y)}{dy}= -\\frac{dF(s(y))}{dy}= -\\left(\\frac{dF(s(y))}{dx}\\right)\\left(\\frac{ds(y)}{dy}\\right)= -f(s(y))\\left(\\frac{ds(y)}{dy}\\right)=f(s(y))|\\frac{ds(y)}{dy}|$\n"
   ]
  },
  {
   "cell_type": "markdown",
   "metadata": {},
   "source": [
    "## ตัวอย่าง: การแปลงค่าของฟังก์ชันของตัวแปรสุ่ม\n",
    "\n",
    "<B>Example</B>\n",
    "สมมุติให้ $X$ เป็นตัวแปรสุ่มที่บอกถึงอัตราการให้บริการลูกค้าที่เข้าแถวรอของธนาคารแห่งหนึ่ง\n",
    "<p>โดยกำหนดให้ $f$ แทนฟังก์ชันความหนาแน่นของความน่าจะเป็น (Probabillity Density Function) ของ $X$\n",
    "<p>คำถามที่สนใจก็คือ การแจกแจงของเวลาที่ใช้ในการรอ (Waiting Time) เป็นอย่างไร ?\n",
    "   <p>$\\rightarrow$ กำหนดให้ เวลาที่ใช้ในการรอ (Waiting Time) $Y$ เป็นส่วนกลับของอัตราการให้บริการ นั่นคือ $Y =\\left(\\frac{1}{x}\\right)$ โดยนิยามฟังก์ชัน $r(x) =\\left(\\frac{1}{x}\\right)$\n",
    "<p>ดังนั้น $s(y) = \\left(\\frac{1}{y}\\right)$ และอนุพันธ์ของ $s$ เท่ากับ $  \\frac{ds(y)}{dy}= -\\frac{1}{y^2}$\n",
    "    <p>$\\rightarrow$ ซึ่งมีค่าน้อยกว่าศูนย์และ $  |\\frac{ds(y)}{dy}|= \\frac{1}{y^2}$ ดังนั้น ฟังก์ชันความหนาแน่นของความน่าจะเป็น (Probabillity Density Function) ของ $Y$ เท่ากับ $g(y)=f \\left(\\frac{1}{y}\\right)\\frac{1}{y^2}$\n"
   ]
  },
  {
   "cell_type": "markdown",
   "metadata": {},
   "source": [
    "## ฟังก์ชันของตัวแปรสุ่มสองตัวขึ้นไป (Functions of Two or More Random Variables)\n",
    "หลักการที่ใช้ในการแปลงการแจกแจงในกรณีของฟังก์ชันของตัวแปรสุ่มสองตัวขึ้นไปก็ยังเป็นเช่นเดิม\n",
    "<p>$\\rightarrow$ หาฟังก์ชันการแจกแจงสะสม (Cumulative Distribution Function)\n",
    "<p>$\\rightarrow$ หาฟังก์ชันความหนาแน่นของความน่าจะเป็น (Probabillity Density Function) จากอนุพันธ์ของฟังก์ชันการแจกแจงสะสม Cumulative Distribution Function)\n",
    "<p>$\\rightarrow$ มีความแตกต่างกันบ้างในทางเทคนิค โดยเฉพาะสูตรที่ใช้ในการแปลงโดยตรง (ในทำนองเดียวกับทฤษฎีบทที่แล้ว) <p>ที่จำเป็นต้องใช้เครื่องมือที่เรียกว่าจาโคเบียนเมตริกซ์ (Jacobian matrix)"
   ]
  },
  {
   "cell_type": "markdown",
   "metadata": {},
   "source": [
    "## ทฤษฎี: การแจกแจงของฟังก์ชันของตัวแปรสุ่มสองตัวขึ้นไป <p>(Functions of Two or More Random Variables)\n",
    "<p>$\\rightarrow$ กำหนดให้ $X_1, \\cdots , X_n$ เป็นตัวแปรสุ่มต่อเนื่องที่มี $f$ แทนฟังก์ชันความหนาแน่นของความน่าจะเป็นร่วม (Joint Probabillity Density Function)\n",
    "<p>สมมติให้เซ็ต $S ⊂ R^n$ โดยที่ $Pr((X1, \\cdots , Xn) ∈ S) = 1$ พิจารณาตัวแปรสุ่ม $Y1, \\cdots,Yn$ ซึ่งเป็นฟังก์ชันของ $X1, \\cdots , Xn$ ดังนี้\n",
    "    <p><center>$Y_1 = r_1 (X_1,\\cdots , X_n)$ <p><center> $\\vdots$<p><center>$Y_n = r_n (X_1,\\cdots , X_n)$\n",
    "      <p>$\\rightarrow$  โดยที่ $r_i$ สำหรับ $i = 1,\\cdots ,n$ เป็นฟังก์ชันหนึ่งต่อหนึ่งที่หาอนุพันธ์ได้ (one-to-one and differentiable function) ซึ่งแปลงค่าจากเซ็ต $S$ ไปสู่เซ็ต $T ⊂ R^n$ และกำหนดให้ฟังก์ชันผกผัน $s_i$ ที่สอดคล้องกับฟังก์ชัน $r_i$ สำหรับ $i = 1,\\cdots ,n $ เท่ากับ<p><center>$X_1 = s_1 (Y_1,\\cdots , Y_n)$ <p><center> $\\vdots$<p><center>$X_n = s_n (Y_1,\\cdots , Y_n)$\n",
    "        <p><B>Theorem</B> ฟังก์ชันความหนาแน่นของความน่าจะเป็นร่วม (Joint Probabillity Density Function) ของ $Y_1,\\cdots ,Y_n$ หาได้จาก\n",
    "            <p><center>$g(y_1, \\cdots ,y_n) =f(s_1, \\cdots , s_n)|J|$ สำหรับ $ (y_1, cdots ,y_n) ∈ T$ และ $g(y_1, \\cdots ,y_n) =0$ สำหรับกณีอื่น\n",
    "                <p>โดยที่ $J$ แทนดีเทอร์มิแนนต์ (Determinant) ของจาโคเบียนเมตริกซ์ (Jacobian matrix) ซึ่งมีค่าเท่ากับ\n",
    "                    <p><center>$J =det \\begin{bmatrix}\\frac {\\partial s_1}{\\partial y_1} & \\cdots & \\frac {\\partial s_1}{\\partial y_n}\\\\ \\vdots & \\ddots & \\vdots \\\\ \\frac {\\partial s_n}{\\partial y_1} & \\cdots & \\frac {\\partial s_n}{\\partial y_n}\\end{bmatrix}$ <p>ในที่นี้สัญลักษณ์det หมายถึงดีเทอร์มิแนนต์(determinant) ของเมตริกซ์จัตุรัส"
   ]
  },
  {
   "cell_type": "markdown",
   "metadata": {},
   "source": [
    "## ตัวอย่าง: การแจกแจงของฟังก์ชันของตัวแปรสุ่มสองตัวขึ้นไป\n",
    "<B>Example</B> พิจารณาตัวแปรสุ่มต่อเนื่อง $X$ และ $Y$ ซึ่งมีฟังก์ชันความหนาแน่นของความน่าจะเป็นร่วม (Joint Probabillity Density Function) เท่ากับ\n",
    "<p><center> $f(x_1,x_2) = 4xy$ สำหรับ $0 < x1 < 1$ และ $0 < y < 1$ และ $f(x_1,x_2) = 0$ สำหรับกรณีอื่น\n",
    "   <p> สิ่งที่ต้องการทราบในตัวอย่างนี้คือ ฟังก์ชันความหนาแน่นของความน่าจะเป็นร่วม (Joint Probabillity Density Function) ตัวแปรสุ่ม $Z_1=\\frac{X}{Y}$ และ $Z_2=XY$ <p>$\\rightarrow$ เราสามารถเขียนฟังก์ชันที่เราสนใจได้เป็น $Z_1(x,y)=\\frac{X}{Y}$ และ $Z_2(x,y)=XY$<p>$\\rightarrow$ เราสามารถหาฟังก์ชันผกผันของฟังก์ชันทั้งสอง $x_1=s_1(Z_1,Z_2)=\\sqrt\\frac{Z_1}{Z_2}$ และ $x_2=s_2(Z_1,Z_2)=\\sqrt{(Z_1)(Z_2)}$ <p> $S$ ในตัวอย่างนี้เท่ากับ $S =\\{(x, y)∈  R^2 : 0 < x_1 < 1 และ 0 < y < 1\\}$ เราหาเซ็ต T ได้ดังต่อไปนี้  <p>$\\rightarrow$ เนื่องจาก $x > 0, y > 0, z_1 = xy$ และ $z_2 = xy$ ดังนั้น $z_1, z_2 > 0$ <p>เราสามารถประยุกต์ใช้ฟังก์ชันผกผันร่วมกับเงื่อนไขของ $x$ และ $y$ ที่กำหนดให้ $0 < x1 < 1$ และ $0 < y < 1$ ในการคำนวณหาเซ็ต $T =\\{(z_1,z_2)∈  R^2 : 0 < z_2 < \\frac{1}{z_1} และ 0 < z_2 < z_1\\}$ <p>$\\rightarrow$ หาดีเทอร์มิแนนต์(determinant) ของจาโคเบียนเมตริกซ์(Jacobian matrix) <p><center>$J =det \\begin{bmatrix}\\frac {\\partial s_1}{\\partial z_1}  & \\frac {\\partial s_1}{\\partial 2_2}\\\\ \\frac {\\partial s_2}{\\partial z_1}  & \\frac {\\partial s_2}{\\partial z_2}\\end{bmatrix}$ = $det \\begin{bmatrix}\\frac {1}{2}\\sqrt\\frac {z_2}{z_1}  & \\frac {1}{2}\\sqrt\\frac {z_1}{z_2}\\\\ -\\frac {1}{2}\\sqrt\\frac {z_2}{z_1^3}  & \\frac {1}{2}\\sqrt\\frac {1}{z_1z_2}=\\frac{1}{2z_1}\\end{bmatrix}$ <p>เนื่องจาก $z_1 > 0$ ดังนั้น $|J|= \\frac{1}{2z_1}$ และฟังก์ชันความหนาแน่นของความน่าจะเป็นร่วม (Joint Probabillity Density Function) ตัวแปรสุ่ม $Z_1 =\\frac{X}{Y}$และ $Z_2 = XY$ เท่ากับ <p><center> $g(z_1,z_2)=2\\frac{z_2}{z_1}$ สำหรับ $(z_1,z_2)∈T$ และ $g(z_1,z_2)=0$ สำหรับกรณีอื่น"
   ]
  },
  {
   "cell_type": "markdown",
   "metadata": {},
   "source": [
    "## ทฤษฎี: การแจกแจงของฟังก์ชันของตัวแปรสุ่มสองตัวขึ้นไปของฟังก์ชันเชิงเส้น\n",
    "<B>Theorem</B> กำหนดให้ $X = (X_1, \\cdots,X_n)$ เป็นตัวแปรสุ่มต่อเนื่องที่มีฟังก์ชันความหนาแน่นของความน่าจะเป็นร่วม (Joint Probabillity Density Function) $f$ <p>และนิยามฟังก์ชันเชิงเส้น $Y=AX$ โดยที่ $A$ คือเมทริกซ์ไม่เอกฐาน (Nonsingular Matrix) ที่มีขนาด $n \\times n$ (บางครั้งเราเรียกค่าจำนวนจริงในเมทริกซ์นี้ว่าค่าสัมประสิทธิ์) <p>ดังนั้น ฟังก์ชันความหนาแน่นของความน่าจะเป็นร่วม\n",
    "(Joint Probabillity Density Function) ของ $Y$ หาได้จาก <p><center> $g(y)= \\frac{1}{|det A|}f(A^{-1}y)$ โดยที่ $A^{-1}$ แทนส่วนผกผันของ $A$"
   ]
  },
  {
   "cell_type": "markdown",
   "metadata": {},
   "source": [
    "## สรุป: การหาการแจกแจงของฟังก์ชันของตัวแปรสุ่มสองตัวขึ้นไป\n",
    "<B>ทฤษฎีบทสองอันหลังนั้นมีประโยชน์ต่อการหาการแจกแจงของฟังก์ชันของตัวแปรสุ่มอย่างมาก</B>\n",
    "<p><b> มีข้อจำกัดในบางประการ</b>\n",
    "<p> $\\rightarrow$ จำนวนฟังก์ชันที่พิจารณาต้องเท่ากับจำนวนตัวแปรสุ่มพื้นฐาน เพื่อให้จาโคเบียนเมตริกซ์ (Jacobian matrix) เป็นจัตุรัสจึงจะหาค่าได้\n",
    "<p>$\\rightarrow$ เราอาจจะสนใจปัญหาที่มีจำนวนฟังก์ชันแตกต่างจากจำนวนตัวแปรสุ่มพื้นฐาน ซึ่งโดยมากมักจะมีจำนวนฟังก์ชันน้อยกว่าจำนวนตัวแปร\n",
    "<p><b>ยกตัวอย่างเช่น การประมาณการณ์สมการเชิงเส้นอย่างง่ายมักจะมีฟังก์ชันเดียวแต่มีตัวแปรสุ่มพื้นฐานจำนวนมาก</b>\n",
    "<p>$\\rightarrow$ กรณีเช่นนี้เราสามารถกลับไปใช้หลักพื้นฐานที่เริ่มจากการหาฟังก์ชันการแจกแจงสะสม(Cumulative Distribution Function)\n",
    "<p>$\\rightarrow$ แล้วจึงหาฟังก์ชันความหนาแน่นของความน่าจะเป็น (Probabillity Density Function) จากอนุพันธ์ของฟังก์ชันการแจกแจงสะสม (Cumulative Distribution Function)\n"
   ]
  },
  {
   "cell_type": "markdown",
   "metadata": {},
   "source": [
    "## ตัวอย่าง: การหาการแจกแจงของฟังก์ชันของตัวแปรสุ่มหลายตัว<p>ในกรณีที่ไม่สามารถหาจาโคเบียนเมตริกซ์(Jacobian matrix) ได้\n",
    "<p><b>Example</b>\n",
    "พิจารณาตัวอย่างสุ่ม (Random Sample) ขนาด $n$ ซึ่งสุ่มเลือกมาจากตัวแปรสุ่ม $X_1, X_2, \\cdots, X_n$ โดยที่แต่ละตัวมีฟังก์ชันความหนาแน่นของความน่าจะเป็น (Probabillity Density Function) $f$ และฟังก์ชันการแจกแจงสะสมร่วม (Cumulative Distribution Function) $F$ ที่เหมือนกัน พิจารณาตัวแปรสุ่มที่แทนค่าสูงสุด $Y_m$ และค่าต่ำสุด $Y_0$ ของตัวแปรสุ่มเหล่านั้นดังต่อไปนี้ <p><center> $Y_m = \\max\\{X_1,X_2,\\cdots,X_n\\} ,\\ Y_0 = \\max\\{X_1,X_2,\\cdots,X_n\\}$<p>สิ่งที่ต้องการทราบคือการแจกแจงของ $Y_m\\ และ\\ Y_0$ ซึ่งสามารถคำนวณได้ตามขั้นตอนต่อไปนี้\n",
    "    <p>$\\rightarrow$ กำหนดฟังก์ชันการแจกแจงสะสม (Cumulative Distribution Function) ของค่าสูงสุด $ Y_m$ <p><center>$g(y)=Pr(Y_m \\leq Y)=Pr(X_1 \\leq y,X_2\\leq y,\\cdots , X_n \\leq y)$ <p>$\\rightarrow$ การที่ข้อมูลเป็นแบบตัวอย่างสุ่ม (Random Sample) ทำให้ทราบว่า $X_1, X_2,\\cdots , X_n $เป็นอิสระต่อกัน (independent) ดังนั้น <p><center>$g_m(y)=Pr(X_1 \\leq y,X_2\\leq y,\\cdots , X_n \\leq y)=Pr(X_1 \\leq y)Pr(X_2 \\leq y)\\cdots Pr(X_n \\leq y)=[F(y)]^N$\n",
    "    "
   ]
  },
  {
   "cell_type": "markdown",
   "metadata": {},
   "source": [
    "## วิธีทำ: การหาการแจกแจงของฟังก์ชันของตัวแปรสุ่มหลายตัว<p>ในกรณีที่ไม่สามารถหาจาโคเบียนเมตริกซ์(Jacobian matrix) ได้\n",
    "<B>Example</B>\n",
    "<p>$\\rightarrow$ ฟังก์ชันความหนาแน่นของความน่าจะเป็น (Probabillity Density Function) ของ $Y_n$ หาได้จากอนุพันธ์ของ $G_n (y)$ ดังนี้<p><center>$g_m(y)=\\frac{dG_m(y)}{dy}=nf(y)[F(y)]^{N-1}$ <p>$\\rightarrow$ การแจกแจงของฟังก์ชันค่าต่ำสุด $Y_0$ เป็นดังนี้<p><center>$ \\begin{align}\n",
    " g_0(y) & =Pr(y_0 \\leq y)=1-Pr(y_0 > y)\\\\ &=1-Pr(X_1 >y,X_2> y,\\cdots , X_n > y) \\\\\n",
    "      & = 1-Pr(X_1 > y)Pr(X_2 > y)\\cdots Pr(X_n > y)\\\\ &=1-[1-F(y)]^N \\end{align}$<p><center>$g(y)=\\frac{dG(y)}{dy}=nf(y)[1-F(y)]^{N-1}$<p>$\\rightarrow$ กำหนดให้ $A$ แทนเหตุการณ์ที่ $Y_m \\leq y_m$ นั่นคือเซ็ต $\\{(x_1, \\cdots,x_n) : Y_m \\leq y_m\\}$ และ $B$ แทนเหตุการณ์ที่ $Y_0 \\leq y_0$\n",
    "    <p>$\\rightarrow$ นั่นคือเซ็ต $\\{(x_1, \\cdots,x_n) : Y_m \\leq y_m\\}$ และจากทฤษฎีบทที่ผ่านๆ มากล่าวว่า $Pr (A \\cap B) = Pr (A) - Pr (A \\cap B^c)$\n",
    "เราสามารถเขียน $G$ ได้เป็น <p><center>$\\begin{align}\n",
    "G(y_0,y_m) & = Pr(Y_0 \\leq y_0,Y_m \\leq y_m)\\\\ &=Pr(Y_m \\leq y_m)- Pr(Y_m \\leq y_m,Y_0,y_0) \\\\\n",
    "      & = G_m(y_m)-Pr(y_0 < X_1 \\leq y_m, \\cdots , y_0 < X_n \\leq y_m)\\\\ &= G_m(y_m)-\\prod_{i=1}^{n} Pr(y_0 < X_i \\leq y_m)\\\\&=[F(y_m)]^N-[F(y_m)-F(y_0)]^N\\end{align}$\n",
    "    <p>และฟังก์ชันความหนาแน่นของความน่าจะเป็นร่วม (Joint Probabillity Density Function) ในกรณีที่ $-\\infty < y_0 < y_m < \\infty$ สามารถหาได้จาก\n",
    "อนุพันธ์ของ $G (y_0, y_m)$ ดังนี้ <p><center>$g(y_0,y_m)= \\left(\\frac{\\partial^2G_m(y_0,y_m)}{\\partial y_0 \\partial y_m}\\right)=n(n-1)f(y_0)f(y_m)[F(y_m)-F(y_0)]^{N-2}$ <p>ส่วนในกรณีอื่นๆ จะกำหนดให้ $g(y_0,y_m)=0$\n",
    "    \n",
    "   \n",
    "   "
   ]
  },
  {
   "cell_type": "markdown",
   "metadata": {},
   "source": [
    "## ตัวอย่าง: การแจกแจงของค่าพิสัย (range)\n",
    "<b>Example</b> พิจารณาฟังก์ชัน $Z = Y_m - Y_0$ ซึ่งเรียกว่าค่าพิสัย (range) คำถามก็คือการแจกแจงของค่าพิสัยเป็นอย่างไร ?\n",
    "<p>$\\rightarrow$ เราทราบแล้วว่าฟังก์ชันความหนาแน่นของความน่าจะเป็นร่วม (Joint Probabillity Density Function) ของตัวแปรสุ่ม $(Y_0, Y_m)$ เท่ากับ\n",
    "    <p><center>$g(y_0,y_m)= \\left(\\frac{\\partial^2G_m(y_0,y_m)}{\\partial y_0 \\partial y_m}\\right)=n(n-1)f(y_0)f(y_m)[F(y_m)-F(y_0)]^{N-2}$ \n",
    "   <p>$\\rightarrow$ เราสามารถเทียบเคียงฟังก์ชันค่าพิสัย $Z$ กับฟังก์ชันเชิงเส้นในตัวอย่างที่ 3.31 ใน <B>$Lecture Note^1$</B> ได้โดยกำหนดให้\n",
    "$a_1 = -1, a_2 = 1, และ\\ b = 0$ ดังนั้น ฟังก์ชันความหนาแน่นของความน่าจะเป็น (Probabillity Density Function) ของ $Z$ เท่ากับ\n",
    "       <p><center>$ h(z) = \\int_{-\\infty}^{\\infty}g(y_n-z,y_n) dy_n$\n",
    "          <p>$\\rightarrow$ เรายังสามารถประยุกต์ใช้หลักการเปลี่ยนตัวแปรการอินทิเกรต (change of variable) โดยกำหนดให้ $w = y_n - z$ <p> ดังนั้น\n",
    "$dy_n = dw\\ และ\\ y_n = w + z $ เพื่อแปลงฟังก์ชันความหนาแน่นของความน่าจะเป็น (p.d.f.) ของ $Z$ เป็น\n",
    "            <p><center>$ h(z) = \\int_{-\\infty}^{\\infty}g(w,w+z) dw$"
   ]
  },
  {
   "cell_type": "markdown",
   "metadata": {},
   "source": [
    "อ้างอิง: [$Lecture Note^1$](http://riped.utcc.ac.th/tee/wp-content/uploads/sites/3/2019/08/stat-thai.pdf)"
   ]
  }
 ],
 "metadata": {
  "kernelspec": {
   "display_name": "Python 3",
   "language": "python",
   "name": "python3"
  },
  "language_info": {
   "codemirror_mode": {
    "name": "ipython",
    "version": 3
   },
   "file_extension": ".py",
   "mimetype": "text/x-python",
   "name": "python",
   "nbconvert_exporter": "python",
   "pygments_lexer": "ipython3",
   "version": "3.8.1"
  }
 },
 "nbformat": 4,
 "nbformat_minor": 2
}
