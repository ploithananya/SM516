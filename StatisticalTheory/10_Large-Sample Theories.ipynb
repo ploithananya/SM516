{
 "cells": [
  {
   "cell_type": "markdown",
   "metadata": {},
   "source": [
    "# <center>(Large-Sample Theories)"
   ]
  },
  {
   "cell_type": "markdown",
   "metadata": {},
   "source": [
    "# <center>ทฤษฎีที่อ้างอิงกับกลุ่มตัวอย่างขนาดใหญ่"
   ]
  },
  {
   "cell_type": "markdown",
   "metadata": {},
   "source": [
    "## บทนำ\n",
    "\n",
    "บทนี้นำเสนอทฤษฎีบทที่เป็นรากฐานที่สำคัญทางสถิติสองอัน\n",
    "   - กฎว่าด้วยตัวอย่างขนาดใหญ่(Law of Large Number)\n",
    "   - ทฤษฎีบทลิมิตของค่ากลาง(Central Limit Theorem)\n"
   ]
  },
  {
   "cell_type": "markdown",
   "metadata": {},
   "source": [
    "## กฎว่าด้วยจำนวนมาก(Law of Large Numbers\n",
    "    \n",
    "   - กฎว่าด้วยตัวอย่างขนาดใหญ่(Law of Large Numbers)เป็นทฤษฎีบทที่สำคัญทางสถิติที่\n",
    "    **ทำให้สามารถประมาณค่า(estimate) ค่าคาดหมาย(mean)ของตัวแปรที่สนใจ(ซึ่งเป็นค่า\n",
    "    ทางทฤษฎี)ด้วยค่าเฉลี่ย(average)** \n",
    "   - กฎว่าด้วยตัวอย่างขนาดใหญ่(Law of Large Numbers)เกี่ยวข้องกับการลู่เข้าเชิงความน่า\n",
    "    จะเป็น(converge in probability)"
   ]
  },
  {
   "cell_type": "markdown",
   "metadata": {},
   "source": [
    "## **นิยาม: การลู่เข้าเชิงความน่าจะเป็น(converge in probability)**\n",
    "  "
   ]
  },
  {
   "cell_type": "markdown",
   "metadata": {},
   "source": [
    "### Definition\n",
    "\n",
    "<p style=\"text-indent: 2.5em;\">อันดับของตัวแปรสุ่ม $X_1, X_2, . . . ลู่เข้าสู่ตัวแปรสุ่ม X $ในเชิงความน่าจะเป็น (converge to X inprobability) ถ้า สำหรับทุก ๆ ค่า $\\epsilon > 0$\n"
   ]
  },
  {
   "cell_type": "markdown",
   "metadata": {},
   "source": [
    "$$\\lim_{n\\to\\infty} Pr(|X_n - X|< \\epsilon) = 1 \\Leftrightarrow \\lim_{n\\to\\infty}Pr(|X_n - X|\\geq \\epsilon) = 0$$ "
   ]
  },
  {
   "cell_type": "markdown",
   "metadata": {},
   "source": [
    "ซึ่งอาจจะเขียนแทนด้วย $X_n \\rightarrow X$    หรือ    $plim X_n = X$  "
   ]
  },
  {
   "cell_type": "markdown",
   "metadata": {},
   "source": [
    "* การลู่เข้าเชิงความน่าจะเป็น (converge in probability) คือความน่าจะเป็นที่$X_n$ จะมีค่าใกล้เคียงกับ $c$ นั้นมีค่าเข้าใกล้หนึ่งเมื่อ $n$ ลู่เข้าสู่อนันต์หรือเมื่อ n มีค่าสูงมาก ๆ แล้วโอกาสที่ค่าของตัวแปรสุ่ม $X_n$ จะแตกต่างจาก $c$ นั้นจะมีค่าเข้าใกล้ศูนย์มาก ๆ\n",
    "\n",
    "* เหตุผลที่สำคัญที่ทำให้ต้องพิจารณาในรูปแบบของการลู่เข้าเชิงความน่าจะเป็น (convergein probability) เพราะว่าในโลกของความน่าจะเป็น หรือความไม่แน่นอน ไม่สามารถระบุค่าอะไรได้อย่างแน่นอน\n",
    "\n",
    "* เหตุการณ์อื่น ๆ ที่มีความน่าจะเป็นลู่เข้าสู่ศูนย์ไม่ได้หมาย"
   ]
  },
  {
   "cell_type": "markdown",
   "metadata": {},
   "source": [
    "## ทฤษฎี: กฎว่าด้วยจำนวนมาก(Law of Large Numbers)"
   ]
  },
  {
   "cell_type": "markdown",
   "metadata": {},
   "source": [
    "### Theorem\n",
    "<p style=\"text-indent: 2.5em;\"> สมมุติให้$X_1, . . . , X_n$ คือกลุ่มตัวอย่างขนาด $n$ตัวอย่างที่สุ่มมาจากการแจกแจงที่มีค่าคาดหมาย (mean) $E[X]   = \\mu$ และค่าความแปรปรวน (variance) มีค่าจำกัดและกำหนดให้ $\\bar{x}_n = \\frac{\\sum_{k=1}^n X_i}{n}$ คือค่าคาดหมายจากตัวอย่าง (sample mean) แล้ว"
   ]
  },
  {
   "cell_type": "markdown",
   "metadata": {},
   "source": [
    "$$ \\bar{x}_n \\rightarrow E[X] = \\mu $$"
   ]
  },
  {
   "cell_type": "markdown",
   "metadata": {},
   "source": [
    "### Proof\n",
    "* จากทฤษฎีที่ว่า $E[\\bar{X}_n] = และ Var [\\bar{X}_n] = \\frac{\\sigma^2}{n}$ สามารถประยุกต์อสมการเชบิเชฟ (Chebyshev Inequality) $(Pr(|\\bar{x}_n - \\mu| \\geq \\epsilon) \\leq \\frac{\\frac{\\sigma^2}{n}}{\\epsilon^2}$ เพื่อแสดงว่า สำหรับทุก ๆ ค่าจำนวนจริง $\\epsilon > 0$\n",
    "\n",
    "$$Pr(|\\bar{x}_n - \\mu| \\leq \\epsilon) = 1-Pr(|\\bar{x}_n - \\mu| \\geq \\epsilon)\\geq 1 -\\frac{\\frac{\\sigma^2}{n}}{\\epsilon^2} $$\n",
    "\n",
    "* ซึ่งลู่เข้าสู่หนึ่งเมื่อ $n$ ลู่เข้าสู่อนันต์แล้ว $\\lim_{n\\to\\infty} Pr(|\\bar{x}_n - \\mu| \\leq \\epsilon)\\geq\\lim_{n\\to\\infty} 1 - \\frac{\\frac{\\sigma^2}{n}}{\\epsilon^2} = 1$<br><br>\n",
    "\n",
    "* เนื่องจากความน่าจะเป็นมีค่าไม่เกินหนึ่ง ดังนั้น จึงสามารถสรุปได้ว่า สำหรับทุก ๆ ค่าจำนวนจริง $\\epsilon > 0  แล้ว\n",
    "$ $$\\lim_{n\\to\\infty} Pr(|\\bar{x}_n - \\mu| \\leq \\epsilon) = 1$$"
   ]
  },
  {
   "cell_type": "markdown",
   "metadata": {},
   "source": [
    "## การประยุกต์ใช้กฎว่าด้วยจำนวนมาก (Law of Large Numbers)"
   ]
  },
  {
   "cell_type": "markdown",
   "metadata": {},
   "source": [
    "* กฎว่าด้วยตัวอย่างขนาดใหญ่ (Law of Large Numbers) ระบุว่า “ค่าคาดหมายจากตัวอย่าง(sample mean)<br>$ X_n จะมีค่าใกล้เคียงกับค่าคาดหมาย (mean) E[X]$   = เมื่อกลุ่มตัวอย่างมีขนาดใหญ่” \n",
    "\n",
    "* หมายความว่า หากมีข้อมูลขนาดใหญ่มากพอแล้ว ค่าเฉลี่ยเลขคณิต (arithmeticaverage)$x_n$ <br>ที่คำนวณจากตัวอย่างสุ่ม (random sample)จะมีค่าใกล้เคียงกับค่าคาดหมาย (mean) $E[X]   = \\mu $\n",
    "\n",
    "* การประมาณค่าคาดหมาย (mean) ของตัวแปรต่าง ๆ นิยมใช้ค่าเฉลี่ยเลขคณิต (arithmeticaverage) ของตัวแปรนั้น\n",
    "\n",
    "* การประยุกต์ใช้กฎว่าด้วยตัวอย่างขนาดใหญ่ (Law of Large Numbers) ที่น่าสนใจอันหนึ่งคือการสร้างกราฟแสดงความถี่ (histogram)"
   ]
  },
  {
   "cell_type": "markdown",
   "metadata": {},
   "source": [
    "\n"
   ]
  },
  {
   "cell_type": "markdown",
   "metadata": {},
   "source": [
    "## นิยาม : กราฟแสดงความถี่ (histogram)"
   ]
  },
  {
   "cell_type": "markdown",
   "metadata": {},
   "source": [
    "**Definition**<br><br>\n",
    "<p style=\"text-indent: 2.5em;\">กำหนดให้ $x_1, . . . ,x_n$  คือค่าจำนวนจริงที่ $a < x_i < b $ สำหรับทุก $i และa, b $คือค่าคงที่เราสามารถ\n",
    "สร้างกราฟแสดงความถี่ (histogram) จากเซ็ตของจำนวนจริงดังกล่าวได้โดยเลือกจำนวนเต็ม $k > 1$ และ\n",
    "แบ่งช่วง $[a, b]$ เป็น$ k$ ช่วงที่มีความกว้างเท่ากันที่ $\\frac{b-a}{k}$ หลังจากนั้น ให้นับดูว่ามีกี่จำนวนจากเซ็ตัดงกล่าวที่\n",
    "มีค่าตกอยู่ในช่วงย่อย (subinterval) แต่ละช่วง $j  = 1, . . . ,k$  และแทนจำนวนที่นับได้ด้วย $c_j$ ขั้นตอนต่อ\n",
    "ไปคือการเลือกรูปแบบของกราฟแสดงความถี่ (histogram) ซึ่งทำได้ด้วยการเลือกจำนวนจริง $r (โดยทั่วไปใช้ r  = n )$ เพื่อกำหนดระดับความสูงของแต่ละแท่งตามสมการ <br>\n",
    "$ระดับความสูงของแท่ง_j$ $$\\frac{c_j}{n}$$ <br>\n",
    "    \n",
    "* ระดับความสูงเท่ากับสัดส่วนของจำนวนที่ตกอยู่ในแต่ละช่วง ซึ่งเป็นกรณีที่ได้รับความนิยมมากที่สุดเพราะมีความสัมพันธ์กับฟังก์ชันความหนาแน่นความน่าจะเป็น (p.d.f.)\n",
    "\n",
    "* ทฤษฎีบทต่อไปนี้ ประยุกต์ใช้กฎว่าด้วยตัวอย่างขนาดใหญ่ (Law of Large Numbers) เพื่อบอกว่า ในกรณีที่$r  = n$  นั้นลู่เข้าสู่ค่าความน่าจะเป็นที่จะสุ่มได้จำนวนที่มีค่าอยู่ในช่วงนั้น"
   ]
  },
  {
   "cell_type": "markdown",
   "metadata": {},
   "source": [
    "## ทฤษฎี : กราฟแสดงความถี่ (histogram)"
   ]
  },
  {
   "cell_type": "markdown",
   "metadata": {},
   "source": [
    "**Theorem<br>**\n",
    "\n",
    "<p style=\"text-indent: 2.5em;\">กำหนดให้$X_1, X_2, . . .$ เป็นอันดับของตัวแปรสุ่มที่มีการแจกแจงเหมือนกันและเป็นอิสระต่อกัน\n",
    "(i.i.d.) และค่าคงที่$c_1 < c_2$ พร้อมทั้งกำหนดให้$Y_i  = 1$ ถ้า$c_1\\leq x_i \\leq c_2$ และ $Y_i = 0$ ถ้าไม่ใช่แล้ว $\\bar{Y_n}=\\frac{1}{n}\\sum_{i=1}^n Y_i$ คือสัดส่วนของ $X_1, X_2, . . . ที่มีค่าอยู่ในช่วง [c_1,c_2) และ$ $$\\bar{Y_n} \\rightarrow Pr(c_1\\leq X_i \\leq c_2)$$"
   ]
  },
  {
   "cell_type": "markdown",
   "metadata": {},
   "source": [
    "**Proof.**<br>\n",
    "<p style=\"text-indent: 2.5em;\">จากนิยามที่กำหนดให้จะเห็นได้ว่า $Y_1,Y_2, . . .$ เป็นตัวแปรสุ่มแบบเบอร์นูลี (Bernoulli) ด้วยค่าพารามิเตอร์ $p = Pr(c_1 \\leq X_i \\leq c_2)$ ที่มีการแจกแจงเหมือนกันและเป็นอิสระต่อกัน (i.i.d.) ดังนั้น สามารถประยุกต์ใช้กฎว่าด้วยตัวอย่างขนาดใหญ่ (Law of Large Numbers) เพื่อสรุปว่า $\\bar{Y_n} \\rightarrow p$ เพราะ $p$ คือค่าคาดหมายของ $Y_i$ ในขณะเดียวกัน $p = Pr(c_1 \\leq X_i \\leq c_2)$"
   ]
  },
  {
   "cell_type": "markdown",
   "metadata": {},
   "source": [
    "## **ตัวอย่าง: การสร้างกราฟแสดงความถี่(Histogram)**\n",
    "\n",
    " - ตัวอย่างต่อไปนี้แสดงการสร้างกราฟแสดงความถี่(Histogram) ของอัตราผลตอบแทน(Returns) ของตลาดหลักทรัพย์แห่งประเทศไทย\n",
    " - ประเด็นสำคัญของตัวอย่างนี้คือ บทบาทจองความกว้างแถบความถี่(Bandwidth) $[c_1,c_2)$ ต่อความราบเรียบ(Smoothness) ของกราฟแสดงความถี่(Histogram) โดยจะเห็นว่า กราฟแสดงความถี่จะมีความราบเรียบมากขึ้นเมื่อความกว้างแถบความถี่(Bandwidth) มีค่าสูงขึ้น"
   ]
  },
  {
   "cell_type": "markdown",
   "metadata": {},
   "source": [
    "## **ตัวอย่าง: การสร้างกราฟแสดงความถี่(Histogram)ของอัตราผลตอบแทนต่อปี**\n",
    "\n",
    "**Example**\n",
    "\n",
    "<p style=\"text-indent: 2.5em;\">พิจารณาข้อมูลรายวันของอัตราผลตอบแทนต่อปี(Annualized Returns) ของตลาดหลักทรัพย์แห่งประเทศไทยระหว่าง 1 มกราคม 2015 ถึง 30 กันยายน 2018 โดยในกราฟแรกกำหนดให้ความกว้างแถบความถี่(Bandwidth) แต่ละแถบมีความกว้างเท่าๆ กันที่ 0.005 หรือร้อยละ 0.5 และเพื่อความสะดวก กำหนดให้ค่าต่ำสุดเท่ากับ -0.05 และสูงสุดเท่ากับ 0.05 ส่วนในกราฟที่สอง กำหนดให้กว้าง 0.001 หรือร้อยละ 0.1 <br>\n",
    "<img src=\"images/11.1.png\" width=720 align=\"center\">\n"
   ]
  },
  {
   "cell_type": "markdown",
   "metadata": {},
   "source": [
    "## **ตัวอย่าง: สรุปการสร้างกราฟแสดงความถี่(Histogram) ของอัตราผลตอบแทนต่อปี**"
   ]
  },
  {
   "cell_type": "markdown",
   "metadata": {},
   "source": [
    "\n",
    "\n",
    "**Example**\n",
    "\n",
    " - บทเรียนที่สำคัญจากตัวอย่างนี้คือ **กราฟแรกมีความราบเรียบมากกว่ากราฟที่สอง** ซึ่งสามารถอธิบายได้โดยพิจารณา\n",
    "     - ตัวแปรสุ่ม $X$ มีการแจกแจงทวินาม(Binomial Distribution) ด้วยค่าพารามิเตอร์ $n$ และ $p$\n",
    "     - ตัวแปรสุ่ม $Y$ ซึ่งมีการแจกแจงทวินาม(Binomial Distribution) ด้วยค่าพารามิเตอร์ $n$ และ $\\frac{p}{m}$ โดยที่ $m > 1$\n",
    "     - เราสามารถสร้างตัวแปรใหม่ $Z = mY$ ที่มีค่าคาดหมาย(Mean) เท่ากับ $\\mu z = np$ ซึ่งมีค่าเท่ากับค่าคาดหมายของ $X$ แต่มีค่าความแปรปรวน(Variance) เท่ากับ $\\muู^2_z = m^2 n\\frac{p}{m}(1-\\frac{p}{m}) = mnp(1-\\frac{p}{m})$ ในขณะเดียวกัน ค่าความแปรปรวน(Variance) ของ $X$ มีค่าเท่ากับ $\\muู^2_x = np(1-p)$\n",
    " - หากพิจารณาในกรณีที่ $p$ มี**ค่าน้อยมาก**(กรณีที่กำหนดให้ความกว้างแถบความถี่(Bandwidth) $[c_1,c_2)$ มีค่าน้อยมาก) จนทำให้สามารถกำหนดให้ค่า $p^2\\approx mnp$ นั่นคือ ค่าความแปรปรวน(Variance) ของ $Z$ มีค่าประมาณ $m$ เท่าของค่าคามแปรปรวน(Variance) ของ $X$\n",
    " - ผลการคำนวณในตัวอย่างนี้แสดงให้เห็นว่า ตัวแปร $X$ และ $Z$ มีค่าคาดหมายที่**เท่ากัน** แต่มีช่วงความกว้างแถบความถี่(Bandwidth) ที่กว้างกว่าเพราะ $m > 1$ นอกจากนี้ การที่ค่าความแปรปรวน(Variance) ของ $Z$ มีค่าความแปรปรวนมากกว่าค่าคามแปรปรวน(Variance) ของ $X$ สะท้อนให้เห็นว่า กราฟแสดงความถี่จะมีความราบเรียบมากขึ้นเมื่อความกว้างแถบแถบความถี่(Bandwidth) มีค่าสูงขึ้น\n",
    "     "
   ]
  },
  {
   "cell_type": "markdown",
   "metadata": {},
   "source": [
    "## การลู่เข้าเชิงความน่าจะเป็น(Converge in Probability)"
   ]
  },
  {
   "cell_type": "markdown",
   "metadata": {},
   "source": [
    "\n",
    "\n",
    " - ทฤษฎีบทต่อไปนี้เป็นการขยายผลการลู่เข้าเชิงความน่าจะเป็น(Converge in Probability) สำหรับฟังก์ชันเชิงเส้นและฟังก์ชันต่อเนื่อง(Continuous) ที่ลู่เข้าเชิงน่าจะเป็น ซึ่งทำให้สามารถประยุกต์ใช้กฎว่าด้วยตัวอย่างขนาดใหญ่(Law of Large Numbers) กับค่าสถิติที่เป็นฟังก์ชันของค่าความคาดหมายตจากตัวอย่าง(Simple Mean) "
   ]
  },
  {
   "cell_type": "markdown",
   "metadata": {},
   "source": [
    "## ทฤษฎี: การลู่เข้าเชิงความน่าจะเป็น(Converge in Probability) สำหรับตัวอย่างขนาดใหญ่(Law of Large Numbers)\n"
   ]
  },
  {
   "cell_type": "markdown",
   "metadata": {},
   "source": [
    "\n",
    "\n",
    "**Theorem**\n",
    "\n",
    "<p style=\"text-indent: 2.5em;\">สมมุติว่า $X_n\\overset{p}{\\rightarrow} X$ และ $Y_n\\overset{p}{\\rightarrow} Y$ แล้ว $X_n + Y_n\\overset{p}{\\rightarrow} X+Y$ \n",
    "\n",
    "**Proof**\n",
    "\n",
    " - กำหนดให้ $\\varepsilon>0$ ที่สอดคล้องกับอสมการต่อไปนี้ $$ |(X_n+Y_n)-(X+Y)| \\ge\\varepsilon$$ \n",
    " \n",
    " \n",
    " - ดังนั้น อสมการสามเหลี่ยม(Triangle Inequality) ช่วยให้สามารถบอกได้ว่า \n",
    " \n",
    " \n",
    " $$|X_n-X|+|Y_n-Y| \\ge |(X_n+Y_n)-(X+Y)|\\ge\\varepsilon$$\n",
    " \n",
    " \n",
    " - เราสามารถประยุกต์ใช้กับค่าความน่าจะเป็นได้ว่า \n",
    " \n",
    " $$ Pr(|(X_n+Y_n)-(X+Y)| \\ge\\varepsilon)\\le Pr(|X_n-X|+|Y_n-Y| \\ge\\varepsilon)$$"
   ]
  },
  {
   "cell_type": "markdown",
   "metadata": {},
   "source": [
    "## การพิสูจน์: การลู่เข้าเชิงความน่าจะเป็นสำหรับตัวอย่างขนาดใหญ่"
   ]
  },
  {
   "cell_type": "markdown",
   "metadata": {},
   "source": [
    "\n",
    "\n",
    "**Proof**\n",
    "\n",
    " - เพื่อให้สามารถเขียนพจน์ด้านขวาในรูปของ $|X_n-X|$ และ $|Y_n-Y|$ จำเป็นต้องพิสูจน์ว่าเหตุการณ์ \n",
    " \n",
    " $$ A= \\{|X_n-X|+|Y_n-Y| \\ge\\varepsilon\\}$$\n",
    " \n",
    " \n",
    " - กำหนดให้ $\\varepsilon >0$ ที่สอดคล้องกับอสมการ $|(X_n+Y_n)-(X+Y)| \\ge\\varepsilon$ ดังนั้น **อสมการสามเหลี่ยม(Triangle Inequality)** ช่วยให้สามารถบอกได้ว่า\n",
    " \n",
    " \n",
    " $$|X_n-X|+|Y_n-Y|\\ge |(X_n+Y_n)-(X+Y)|\\ge\\varepsilon$$\n",
    " \n",
    " - เราสามารถประยุกต์ใช้กับค่าความน่าจะเป็นได้ว่า $$Pr(|X_n+Y_n|-|X+Y|\\ge\\varepsilon)\\le Pr(|X_n-X|+|Y_n-Y| \\ge\\varepsilon)$$\n",
    " \n",
    " \n",
    " - เพื่อให้สามารถเขียนพจน์ด้านขวาในรูปของ $|X_n-X|$ และ $|Y_n-Y|$ จำเป็นต้องพิสูจน์ว่าเหตุการณ์\n",
    " \n",
    " $$A=\\{|X_n-X|+|Y_n-Y| \\ge\\varepsilon\\}$$\n",
    " \n",
    "     เป็นสับเซ็ตของเหตุการณ์ $B=\\{|X_n-X|\\ge \\frac{\\varepsilon}{2}\\}\\cup\\{|Y_n-Y|\\ge \\frac{\\varepsilon}{2}\\}$\n",
    "     \n",
    "     \n",
    " - เลือก $\\frac{\\varepsilon}{k}$ สำหรับ $X$ และ $\\frac{(k-1)\\varepsilon}{k}$ สำหรับ $Y$ โดยที่ค่าจำนวนจริง $k>1$ ซึ่งเห็นได้อย่างชัดเจนจากรูปถัดไป "
   ]
  },
  {
   "cell_type": "markdown",
   "metadata": {},
   "source": [
    "## การพิสูจน์: รูปเพื่อใช้ในการพิสูจน์ การลู่เข้าเชิงความน่าจะเป็นสำหรับตัวอย่างขนาดใหญ่"
   ]
  },
  {
   "cell_type": "markdown",
   "metadata": {},
   "source": [
    "\n",
    "**Figure:** พื้นที่ที่อยู่เนือเส้น $|X_n-X|+|Y_n-Y|=\\varepsilon$ แทนเหตุการณ์ $A$ ซึ่งเห็นได้ชัดเจนว่าเป็นส่วนหนึ่งของเหตุการณ์ $B$ ส่วนพื้นที่สามเหลี่ยมสองอันด้านล่างเส้น $|X_n-X|+|Y_n-Y|=\\varepsilon$ แทนส่วนที่อยู่ในพื้นที่ $B$ แต่ไม่อยู่ใน $A$ ดังนั้น จึงสามารถสรุปได้ว่า $A\\subset B$"
   ]
  },
  {
   "cell_type": "markdown",
   "metadata": {},
   "source": [
    "<img src=\"images/11.2.png\" width=720 align=\"center\">"
   ]
  },
  {
   "cell_type": "markdown",
   "metadata": {},
   "source": [
    "## การพิสูจน์: สรุปผลการพิสูจน์การลู่เข้าเชิงความน่าจะเป็นสำหรับตัวอย่างขนาดใหญ่"
   ]
  },
  {
   "cell_type": "markdown",
   "metadata": {},
   "source": [
    "\n",
    "\n",
    "**Proof**\n",
    "\n",
    " - ผลที่ตามมาก็คือ $$Pr(|X_n-X|+|Y_n-Y| \\ge\\varepsilon)\\le Pr(|X_n-X|\\ge \\frac{\\varepsilon}{2})+Pr|Y_n-Y|\\ge \\frac{\\varepsilon}{2})$$ $$-Pr(|X_n-X|\\ge \\frac{\\varepsilon}{2}และ |ํY_n-Y|\\ge \\frac{\\varepsilon}{2})$$ $$\\le Pr(|X_n-X|\\ge \\frac{\\varepsilon}{2}+|Y_n-Y|\\ge \\frac{\\varepsilon}{2})$$\n",
    " \n",
    " - ดังนั้น $$Pr(|(X_n+Y_n)-(X+Y)|\\ge\\varepsilon)\\le Pr(|X_n-X|\\ge \\frac{\\varepsilon}{2})+Pr(|Y_n-Y|\\ge \\frac{\\varepsilon}{2})$$\n",
    " \n",
    " \n",
    " - ในขณะเดียวกัน คุณสมบัติการลู่เข้าเชิงความน่าจะเป็นของ $X_n$ และ $Y_n$ ทำให้สรุปได้ว่า \n",
    " \n",
    " $$\\lim_{n \\to \\infty}Pr(|(X_n+Y_n)-(X+Y)|\\ge\\varepsilon)\\le \\lim_{n \\to \\infty}Pr(|X_n-X|\\ge \\frac{\\varepsilon}{2})+\\lim_{n \\to \\infty}Pr(|Y_n-Y|\\ge \\frac{\\varepsilon}{2})=0$$\n",
    " \n",
    " \n",
    " - หมายความว่า <center>$X_n + Y_n\\overset{p}{\\rightarrow} X+Y$"
   ]
  },
  {
   "cell_type": "markdown",
   "metadata": {},
   "source": [
    "## ทฤษฎี: การลู่เข้าเชิงความน่าจะเป็น(Convergence in Probability) เมื่อมีค่าคงที่คูณกับตัวแปรสุ่ม\n",
    "\n",
    "**Theorem**\n",
    "\n",
    "<p style=\"text-indent: 2.5em;\">สมมุติว่า $X_n\\overset{p}{\\rightarrow} X$ และ $a$ เป็นค่าคงที่ แล้ว $aX_n\\overset{p}{\\rightarrow} aX$\n",
    "\n",
    "**Proof**\n",
    "\n",
    "<p style=\"text-indent: 2.5em;\"> ถ้า $a=0$ ค่าลิมิตต้องเท่ากับศูนย์อย่างแน่นอน ดังนั้น จำเป็นต้องพิสูจน์เพิ่มเติมเฉพาะในกรณที่ $a\\neq 0$ โดยเริ่มจากการกำหนดให้ $\\varepsilon>0$ ดังนั้น\n",
    "\n",
    "$$\\lim_{n \\to \\infty}Pr(|aX_n-aX|\\ge\\varepsilon)=\\lim_{n \\to \\infty}Pr(a|X_n-X|\\ge\\varepsilon)= \\lim_{n \\to \\infty}Pr(|X_n-X|\\ge\\frac{\\varepsilon}{|a|})=0$$"
   ]
  },
  {
   "cell_type": "markdown",
   "metadata": {},
   "source": [
    "## ทฤษฎี: การลู่เข้าเชิงความน่าจะเป็น(Convergence in Probability) สำหรับฟังก์ชันตัวแปรสุ่ม"
   ]
  },
  {
   "cell_type": "markdown",
   "metadata": {},
   "source": [
    "\n",
    "\n",
    "**Theorem**\n",
    "\n",
    "<p style=\"text-indent: 2.5em;\">ถ้า $X_n\\overset{p}{\\rightarrow} c$ และ $g(x)$ เป็นฟังกืชันที่ต่อเนื่องที่จุด $x=c$ แล้ว $g(X_n)\\overset{p}{\\rightarrow} g(c)$\n",
    "\n",
    "**Proof**\n",
    "\n",
    "   - กำหนดให้ $\\varepsilon>0$ เนื่องจาก $g(x)$ เป็นฟังก์ชันที่ต่อเนื่องที่จุด $c$ ดังนั้น จะต้องมีค่าคงที่ $\\delta >0$ ที่ทำให้ $|g(x)-g(a)|<\\varepsilon$ สำหรับทุกๆ ค่า $x$ ที่สอดคล้องกับเงื่อนไข $|x-c|<\\delta$ ดังนั้น \n",
    "   \n",
    "   $$|g(x)-g(c)|\\ge\\varepsilon\\Rightarrow  |x-c|\\ge\\delta$$ \n",
    "   \n",
    "   - เราสามารถเขียนในรูปของเหตุการณ์ได้ว่า \n",
    "   \n",
    "   $$\\{|g(x)-g(c)|\\ge\\varepsilon\\}\\subset\\{|x-c|\\ge\\delta\\} \\\\ดังนั้น\\\\ Pr(|g(x)-g(c)|\\ge\\varepsilon)\\le Pr(|x-c|\\ge\\delta)$$\n",
    "   \n",
    "   โดยนิยามของการลู่เข้าเชิงความน่าจะเป็น $X_n\\overset{p}{\\rightarrow} c$ ค่าลิมิตของพจน์ด้านขวามือมีค่าเท่ากับ \n",
    "   \n",
    "   $$\\lim_{n \\to \\infty}Pr(|x-c|\\ge\\delta)=0$$\n",
    "   \n",
    "   \n",
    "   - สรุปได้ว่า <center>$\\lim_{n \\to \\infty}Pr(|g(x)-g(c)|\\ge\\varepsilon)=0\\Rightarrow  g(x_n)\\overset{p}{\\rightarrow} g(c)$"
   ]
  },
  {
   "cell_type": "markdown",
   "metadata": {},
   "source": [
    "## ทฤษฎี: การลู่เข้าเชิงความน่าจะเป็น(Convergence in Probability) เมื่อมีค่าคงที่คูณกับตัวแปรสุ่ม"
   ]
  },
  {
   "cell_type": "markdown",
   "metadata": {},
   "source": [
    "\n",
    "\n",
    " - ทฤษฎีบทนี้สามารถขยายผลสู่กรณีของเวคเตอร์ของตัวแปรสุ่ม $Z_n$ นั่นคือ ถ้า $Z_n\\overset{p}{\\rightarrow} z$ และ $g(x)$ เป้นฟังก์ชันที่ต่อเนื่องี่จุด $x=z$ แล้ว $g(Z_n)\\overset{p}{\\rightarrow}  g(z)$ ดังแสดงตัวอย่างในรุปของฟังก์ชันผลคูณในทฤษฎีบทต่อไปนี้\n",
    " \n",
    " \n",
    "**Theorem**\n",
    "\n",
    "<p style=\"text-indent: 2.5em;\">สมมุติว่า $X_n\\overset{p}{\\rightarrow} X$ และ $Y_n\\overset{p}{\\rightarrow} Y$ แล้ว $X_nY_n\\overset{p}{\\rightarrow} XY$\n",
    "\n",
    "**Proof**\n",
    "\n",
    "<p style=\"text-indent: 2.5em;\">พิจารณาผลคูณ\n",
    "\n",
    "$$X_nY_n = \\frac{1}{2}X_n^2 + \\frac{1}{2}Y_n^2 - \\frac{1}{2}(X_n+Y_n)^2\\overset{p}{\\rightarrow} \\frac{1}{2}X^2 + \\frac{1}{2}Y^2 = \\frac{1}{2}(X-Y)^2 = XY$$\n",
    "\n",
    " - ตัวอย่างต่อไปนี้แสดงการประยุกต์กฎว่าด้วยตัวอย่างขนาดใหญ่(Law of LArge Numbers) และคุณสมบัติการลู่เข้าดชิงความน่าจะเป็นเพื่อหาค่าลิมิตของค่าความแปรปรวนจากตัวอย่าง(Sample Variance)"
   ]
  },
  {
   "cell_type": "markdown",
   "metadata": {},
   "source": [
    "## ตัวอย่าง: การประยุกต์กฎว่าด้วยตัวอย่างขนาดใหญ่"
   ]
  },
  {
   "cell_type": "markdown",
   "metadata": {},
   "source": [
    "\n",
    "\n",
    "**Example**\n",
    "\n",
    "<p style=\"text-indent: 2.5em;\">สมมุติว่า $X_1,...,X_n$ คือตัวอย่างสุ่มที่เลือกมาจากการแจกแจงที่ค่าคาดหมายเท่ากับ $\\mu$ และค่าความแปรปรวนเท่ากับ $\\sigma^2$ \n",
    "พิจารณาค่าคามแปรปรวนจากตัวอย่าง(Sample Variance) \n",
    "\n",
    "$$S_n^2 = \\frac{1}{1-n}\\sum_{i=1}^{n}(X_i-\\overline X_n)^2 = \\frac{n}{n-1}[\\frac{\\sum_{i=1}^{n}X_i^2}{n}-\\overline X_n^2]$$\n",
    "\n",
    " - กฎว่าด้วยตัวอย่างขนาดใหญ่(Law of Large Numbers) ช่วยให้สรุปได้ว่า \n",
    " \n",
    " $$\\overline X_n\\overset{p}{\\rightarrow} \\mu$$\n",
    " \n",
    " $$\\frac{\\sum_{i=1}^{n}X_i^2}{n}\\overset{p}{\\rightarrow} E[X_i^2] = \\sigma^2+\\mu^2$$\n",
    " \n",
    " - ในขณะเดียวกัน ทฤษฎีบทก่อนหน้านี้ช่วยให้สามารถสรุปได้ว่า \n",
    " \n",
    " $$\\overline X_n^2\\overset{p}{\\rightarrow} \\mu^2$$\n",
    " \n",
    " \n",
    " - ดังนั้น <center>$S_n^2 = \\frac{1}{1-n}[\\frac{\\sum_{i=1}^{n}X_i^2}{n}-\\overline X_n^2]\\overset{p}{\\rightarrow} (\\lim_{n \\to \\infty}\\frac{n}{n-1})[\\sigma^2+\\mu^2-\\mu^2]=\\sigma^2$"
   ]
  },
  {
   "cell_type": "markdown",
   "metadata": {},
   "source": [
    "## ทฤษฎีบทลิมิตของค่ากลาง(the Central Limit Theorem)"
   ]
  },
  {
   "cell_type": "markdown",
   "metadata": {},
   "source": [
    "\n",
    "\n",
    " - ทฤษฎีบทลิมิตค่ากลาง(the Central Limit Theorem หรือเรียกสั้นๆ ส่า CTL) เป็นทฤษฎีทางสถิติที่มีความสำคัญมากอันหนึ่ง ถึงแม้ว่าทฤษฎีบทนี้จะ**มีข้อจำกัดในกรณีที่กลุ่มตัวอย่างมีขนาดเล็ก(Finite Sample)**\n",
    " - ทฤษฎีบทนี้ตั้งอยู่บน**พื้นฐานของการค่าลิมิต** เมื่อกลุ่มตัวอย่างมีขนาดใหญ่มากพอ(Large Sample)\n",
    " - ในปัจจุบัน ความสามารถของคอมพิวเตอร์ที่พัฒนาอย่างก้าวกระโดดได้ช่วยให้สามารถคำนวณหาการแจกแจงของค่าสถิติในกรณีที่ตัวอย่างมีขนาดจำกัด(Finite Sample) ได้สะดวกมากบิ่งขึ้น(ยกตัวอย่างเช่น วิธี Bootstrapping)\n",
    " - ทฤษฎีบทลิมิตของค่ากลาง(CLT) ก็ยังเป็นสิ่งที่นักวิเคราะห์ข้อมูล **ต้องทำความเข้าใจ เพราะเป็นรากฐานที่สำคัญ** ที่นำไปสู่วิธีการทางสถิติและสูตรที่ใช้ในการคำนวณการแจกแจงของค่าสถิติในโปรแกรมทางสถิติที่ใช้อยู่ในปัจจุบัน\n",
    " - ทฤษฎีบทนี้ถูกเรียกว่า ทฤษฎีบทลิมิตของค่ากลาง(CLT) ก็เพราะมันเกี่ยวข้องกับค่ากลางซึ่งในที่นี้หมายถึงค่าคาดหมายจากตัวอย่าง(Sample Mean) $\\overline X_n = \\frac{\\sum_{i=1}^{n}X_i}{n}$\n",
    " - ทฤษฎีบทนี้กล่าวว่า สำหรับกลุ่มตัวอย่างสุ่ม(Random Sample) ขนาด $n$ ตัวอย่าง ที่ถูกสุ่มมาจากการแจกแจงที่มีค่าคาดหมาย $\\mu$ และค่าความแปรปรวน$\\sigma^2$ เราสามารถประมาณค่าการแจกแจงของค่าคาดหมายจากตัวอย่าง(Sample Mean) ได้โดยใช้การแจกแจงปกติ(Normal Distribution)\n",
    "     - ค่าคาดหมายเท่ากับ $\\mu$ และค่าความแปรปรวน $\\frac{\\sigma^2}{n}$\n",
    "     - สุ่มตัวอย่าง $n$ ตัวอย่างจากการแจกแจงปกติ(Normal Distribution)\n",
    "     - การสุ่มจากการแจกแจงใดๆ ขอเพียงแต่ว่า **เป็นการสุ่มอย่างอิสระจากการแจกแจงเดียวกัน**"
   ]
  },
  {
   "cell_type": "markdown",
   "metadata": {},
   "source": [
    "## ทฤษฎี: ทฤษฎีบทลิมิตของค่ากลาง(The central Limit Theorem) ของ Lindeberg and Levy"
   ]
  },
  {
   "cell_type": "markdown",
   "metadata": {},
   "source": [
    "\n",
    "**Theorem (Lindeberg and Levy)**\n",
    "\n",
    "<p style=\"text-indent: 2.5em;\">ถ้าตัวแปรสุ่ม $X_1,...,X_n$ เป็นตัวอย่างสุ่ม(Random Sample) ขนาด $n$ ตัวอย่าง ซึ่งสุ่มมาจากการแจกแจงเดียวกัน ที่มีค่าคาดหมาย $\\mu$ และค่าความแปรปรวน $\\sigma^2 <\\infty$ แล้ว สำหรับค่าคงที่ $X$ ใดๆ$$\\lim_{n \\to \\infty}Pr(\\frac{\\overline X_n-\\mu}{\\frac{\\sigma}{\\sqrt{n}}}\\le x) = \\Phi(x)$$\n",
    "\n",
    "<p style=\"text-indent: 2.5em;\"> โดยที่ $\\Phi$ แทนฟังกืชันความน่าจะเป็นสะสม(C.D.F) ของการแจกแจงปกติมาตรฐาน(Standard Normal Distribution)\n",
    "\n",
    " - ยิ่งไปกว่านั้น ในทางทฤษฎี เราสามารถเขียนทฤษฎีบทลิมิตของค่ากลาง(CLT) โดยใช้หลักการลู่เข้าเชิงการแจกแจง(Convergence in Distribution) ซึ่งมีนิยามดังต่อไปนี้\n",
    "\n",
    "## **นิยาม: การลู่เข้าเชิงการแจกแจง(Convergence in Distribution)**\n",
    "\n",
    "**Definition (Convergence in Distribution หรือ Asymptotic Distribution)**\n",
    "\n",
    "<p style=\"text-indent: 2.5em;\"> กำหนดให้ $Y_1,Y_2,...$ เป็นอันดับของตัวแปรสุ่ม และ $F_n$ แทนฟังก์ชันความน่าจะเป็นสะสม(C.D.F) ของ $Y_n$ สำหรับ $n = 1,2,...$ และกำหนดให้ $F^*$ เป็นฟังก์ชันความน่าจะเป็นสะสม(C.D.F) อันหนึ่ง ดังนั้นอันดับของ $Y_1,Y_2,...$ ลู่เข้าเชิงการแจกแจง(Convergence in Distribution) สู่ $F^*$ ถ้า\n",
    "\n",
    "$$\\lim_{n \\to \\infty} F_n(y) = F^*(y)$$\n",
    "\n",
    "สำหรับทุกๆ ค่า $y$ ที่ $F^*(y)$ ต่อเนื่อง(Continuous) และเพื่อความกระชับ เราอาจจะกล่าวสั้นๆ แทนได้ว่า $Y_n$ ลู่เข้าเชิงความน่าจะเป็นสู่ $F^*$ ซึ่งอาจเขียนแทนได้ด้วย \n",
    "\n",
    "$$Y_n\\overset{d}{\\rightarrow}F^*$$\n",
    "\n",
    "และเรียก $F^*$  ว่าการแจกแจงที่ลิมิต(Asymptotic Distribution) ของ $Y_n$\n",
    "   - ทฤษฎีบทลิมิตของค่ากลาง(CLT) สำหรับตัวอย่างสุ่มสามารถเขียนใหม่ในรูปของการลู่เข้าเชิงการแจกแจงได้ดังต่อไปนี้"
   ]
  },
  {
   "cell_type": "markdown",
   "metadata": {},
   "source": [
    "**Theorem (Lindeberg and Levy)**\n",
    "\n",
    "<p style=\"text-indent: 2.5em;\">ถ้าตัวแปรสุ่ม $X_1,...,X_n$ เป็นตัวอย่างสุ่ม(Random Sample) ขนาด $n$ ตัวอย่าง ซึ่งสุ่มมาจากการแจกแจงเดียวกัน ที่มีค่าคาดหมาย $\\mu$ และค่าความแปรปรวน $\\sigma^2 <\\infty$ แล้ว สำหรับค่าคงที่ $X$ ใดๆ\n",
    "\n",
    "$$\\sqrt{n} (\\frac{\\overline X_n-\\mu}{\\sigma})\\overset{d}{\\rightarrow}N(0,1)$$\n",
    "\n",
    " - เพื่อให้เข้าใจทฤษฎีบทลิมิตของค่ากลาง(CLT) ได้ดี ขอนำเสนอผลการจำลอง(simulation) ทั้ง 1000 ครั้ง จากการแจกแจงรูปแบบต่างๆ ดัวอย่างต่อไปนี้"
   ]
  },
  {
   "cell_type": "markdown",
   "metadata": {},
   "source": [
    "## ตัวอย่าง: การทำ Simulation ของฟังก์ชันการกระจายแบบ Uniform: f(x) = 1 for $0\\le x\\le 1$"
   ]
  },
  {
   "cell_type": "markdown",
   "metadata": {},
   "source": [
    "<img src=\"images/11.3.png\" width=720 align=\"center\">"
   ]
  },
  {
   "cell_type": "markdown",
   "metadata": {},
   "source": [
    "## ตัวอย่าง: การทำ Simulation ของฟังก์ชันการกระจายแบบ Log-normal: logX$\\sim$N(0,1) for X > 0"
   ]
  },
  {
   "cell_type": "markdown",
   "metadata": {},
   "source": [
    "<img src=\"images/11.4.png\" width=720 align=\"center\">"
   ]
  },
  {
   "cell_type": "markdown",
   "metadata": {},
   "source": [
    "## ตัวอย่าง: การทำ Simulation ของฟังก์ชันการกระจายแบบ Poisson: f(x) = $\\frac{e^{-1}}{x!}$ for x = 0,1,2..."
   ]
  },
  {
   "cell_type": "markdown",
   "metadata": {},
   "source": [
    "<img src=\"images/11.5.png\" width=720 align=\"center\">"
   ]
  },
  {
   "cell_type": "markdown",
   "metadata": {},
   "source": [
    "## ตัวอย่าง: การทำ Simulation ของฟังก์ชันการกระจายแบบ Poisson: f(x) = $e^{-x}$ for x $\\ge$ 0"
   ]
  },
  {
   "cell_type": "markdown",
   "metadata": {},
   "source": [
    "<img src=\"images/11.6.png\" width=720 align=\"center\">"
   ]
  },
  {
   "cell_type": "markdown",
   "metadata": {},
   "source": [
    "## ทฤษฎีบทลิมิตของค่ากลาง(the Central Limit Theorem)"
   ]
  },
  {
   "cell_type": "markdown",
   "metadata": {},
   "source": [
    "\n",
    "\n",
    "**Theorem**\n",
    "\n",
    "<p style=\"text-indent: 2.5em;\">ถ้า $X_n\\overset{p}{\\rightarrow} X$ แล้ว $X_n\\overset{d}{\\rightarrow} X$\n",
    "\n",
    "\n",
    "**Theorem**\n",
    "\n",
    "<p style=\"text-indent: 2.5em;\">ถ้า $X_n\\overset{d}{\\rightarrow} c$ โดยที่ $c$ เป็นค่าคงที่ แล้ว $X_n\\overset{p}{\\rightarrow} c$\n",
    "\n",
    "\n",
    "**Theorem**\n",
    "\n",
    "<p style=\"text-indent: 2.5em;\">ถ้า $X_n\\overset{d}{\\rightarrow} X$ และ $ํY_n\\overset{p}{\\rightarrow} 0$ แล้ว $X_n + Y_n\\overset{d}{\\rightarrow} X$\n",
    "\n",
    "\n",
    "**Theorem (Slutsky's Theorem)**\n",
    "\n",
    "<p style=\"text-indent: 2.5em;\">กำหนดให้ $X,X_nA_n,B_n$ เป็นตัวแปรสุ่ม(Random Variable) ส่วน $a$ และ $b$ เป็นค่าคงที่ ดังนั้นถ้า $X_n\\overset{d}{\\rightarrow} X, A_n\\overset{p}{\\rightarrow} a$ และ $ฺB_n\\overset{p}{\\rightarrow} b$ แล้ว\n",
    "\n",
    "$$A_n + B_nX_n\\overset{d}{\\rightarrow} a+bX$$"
   ]
  },
  {
   "cell_type": "markdown",
   "metadata": {},
   "source": [
    "**Theorem**\n",
    "\n",
    "<p style=\"text-indent: 2.5em;\">สมมุติว่า $X_n\\overset{d}{\\rightarrow} X$ และ $g$ เป็นฟังกืชันที่ต่อเนื่องตอดช่วงค้ำจุน(Support) ของ $X$ แล้ว $g(X_n)\\overset{d}{\\rightarrow} g(X)$"
   ]
  },
  {
   "cell_type": "markdown",
   "metadata": {},
   "source": [
    "* ในทางคณิตศาสตร์  ทฤษฎีบทนี้กล่าวว่า การลู่เข้าเชิงการแจกแจง (convergence in distribution) สามารถส่งผ่านฟังก์ชันต่อเนื่องได้ โดยมีทฤษฎีบทของสลูสกี้ (Slutsky’ s Theorem) เป็นกรณีพิเศษสำหรับฟังก์ชันเชิงเส้นซึ่งต่อเนื่องตลอดช่วงค้ำจุน\n",
    "\n",
    "* ถึงแม้ว่าทฤษฎีบทนี้จะช่วยให้สามารถหาการแจกแจงที่ลิมิตของฟังก์ชันต่อเนื่องของตัวแปรสุ่มที่ลู่เข้าเชิงการแจกแจงได้ แต่ในทางปฏิบัติก็ยังมีความยุ่งยากพอสมควร เพราะต้องแปลงการแจกแจงของ $X$ ให้เป็นการแจกแจงของ $g(X)$ ซึ่งก็ขึ้นอยู่กับรูปแบบของฟังก์ชัน $g$\n",
    "\n",
    "* ในทางปฏิบัติ จึงนิยมใช้วิธีการเดลต้า (Delta method) ซึ่งสามารถประยุกต์ใช้กับการแจกแจงปกติได้อย่างสะดวก ดังแสดงในทฤษฎีบทต่อไปนี้"
   ]
  },
  {
   "cell_type": "markdown",
   "metadata": {},
   "source": [
    "## วิธีการเดลต้า (Delta method)"
   ]
  },
  {
   "cell_type": "markdown",
   "metadata": {},
   "source": [
    "**Theorem**<br>\n",
    "<p style=\"text-indent: 2.5em;\">สมมุติว่า $g$ เป็นฟังก์ชันที่หาค่าอนุพันธ์อันดับหนึ่ง (first-order derivative) ได้ที่จุด $\\theta และค่าอนุพันธ์อันดับหนึ่ง g′(\\theta) \\neq 0 $และ"
   ]
  },
  {
   "cell_type": "markdown",
   "metadata": {},
   "source": [
    "$$\\sqrt[]{n}(X_n-\\theta)\\overset{d}{\\rightarrow} N(0,\\sigma^2)$$"
   ]
  },
  {
   "cell_type": "markdown",
   "metadata": {},
   "source": [
    "แล้ว"
   ]
  },
  {
   "cell_type": "markdown",
   "metadata": {},
   "source": [
    "$$\\sqrt[]{n}(g(X_n)-g(\\theta))\\overset{d}{\\rightarrow} N(0,[g'(\\theta)^2\\sigma^2])$$"
   ]
  },
  {
   "cell_type": "markdown",
   "metadata": {},
   "source": [
    "* สังเกตว่าวิธีการเดลต้า (Delta method) นี้ใช้ได้กับการแจกแจงปกติ (normal distribution) และฟังก์ชันที่ค่าอนุพันธ์อันดับหนึ่ง (first-order derivative) ไม่เท่ากับศูนย์ ณ จุดที่สนใจเท่านั้น"
   ]
  },
  {
   "cell_type": "markdown",
   "metadata": {},
   "source": [
    "## ตัวอย่าง: การประยุกต์ใช้วิธีการเดลต้า (Delta method)"
   ]
  },
  {
   "cell_type": "markdown",
   "metadata": {},
   "source": [
    "**Example**<br>\n",
    "<p style=\"text-indent: 2.5em;\">กำหนดให้$X_1, X_2,  , X_n$ เป็นตัวแปรสุ่ม ที่มี ค่าคาดหวัง คือ $\\mu$ และความแปรปรวน คือ $\\sigma^2$ จงหาว่า ฟังก์ชันการแจกแจง ของ $\\frac{1}{X_n}$"
   ]
  },
  {
   "cell_type": "markdown",
   "metadata": {},
   "source": [
    "* วิธีการเดลต้า (Delta method) เรากำหนดให้"
   ]
  },
  {
   "cell_type": "markdown",
   "metadata": {},
   "source": [
    "$$g(\\bar{X_n}) = \\frac{1}{\\bar{X_n}} และ g'(\\bar{X_n}) = -(\\frac{1}{\\bar{X_n}})^2$$ "
   ]
  },
  {
   "cell_type": "markdown",
   "metadata": {},
   "source": [
    "* ดังนั้น"
   ]
  },
  {
   "cell_type": "markdown",
   "metadata": {},
   "source": [
    "$$\\sqrt[]{n}(g(X_n)-g(\\theta))\\overset{d}{\\rightarrow} N(0,[g'(\\theta)]^2\\sigma^2)$$"
   ]
  },
  {
   "cell_type": "markdown",
   "metadata": {},
   "source": [
    "$$ \\sqrt[]{n}(\\frac{1}{\\bar{X_n}}-\\frac{1}{\\mu}) \\overset{d}{\\rightarrow} N(0,[-(\\frac{1}{\\mu^2})]^2\\sigma^2) $$"
   ]
  },
  {
   "cell_type": "markdown",
   "metadata": {},
   "source": [
    "* สรุปได้่ว่า $\\frac{1}{\\bar{X_n}}$ มีการแจกแจงปกติที่มีค่าคาดหวังคือ $\\frac{1}{\\mu}$ และความแปรปรวน คือ $\\frac{\\sigma^2}{n\\mu^4}$"
   ]
  },
  {
   "cell_type": "markdown",
   "metadata": {},
   "source": [
    "อ้างอิง: [$Lecture Note^1$](http://riped.utcc.ac.th/tee/wp-content/uploads/sites/3/2019/08/stat-thai.pdf)"
   ]
  }
 ],
 "metadata": {
  "kernelspec": {
   "display_name": "Python 3",
   "language": "python",
   "name": "python3"
  },
  "language_info": {
   "codemirror_mode": {
    "name": "ipython",
    "version": 3
   },
   "file_extension": ".py",
   "mimetype": "text/x-python",
   "name": "python",
   "nbconvert_exporter": "python",
   "pygments_lexer": "ipython3",
   "version": "3.8.1"
  }
 },
 "nbformat": 4,
 "nbformat_minor": 2
}
