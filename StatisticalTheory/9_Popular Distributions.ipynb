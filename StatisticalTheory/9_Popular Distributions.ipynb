{
 "cells": [
  {
   "cell_type": "markdown",
   "metadata": {},
   "source": [
    " # <center>การแจกแจงที่เป็นที่นิยม(Popular Distributions)"
   ]
  },
  {
   "cell_type": "markdown",
   "metadata": {},
   "source": [
    "## ฟังก์ชันความหนาแน่นของความน่าจะเป็น(p.d.f.) ของการแจกแจงปกติมาตรฐานหลายตัวแปร(Multivariate Normal Distribution)\n",
    "\n",
    " - สิ่งที่ขาดหายไปจากฟังก์ชันความหนาแน่นความน่าจะเป็น(p.d.f.) ของตัวแปรสุ่มตัวเดียว คือ **ความแปรปรวน(Covariance) หรือสหสัมพันธ์(Correlation) ซึ่งจะปรากฎในกรณีที่มีตัวแปรหลายตัว**\n",
    " - เริ่มจากตัวแปรสุ่มปกติมาตรฐานที่เป็นอสระต่อกัน ซึ่งเขียนแทนด้วยเวคเตอร์สุ่ม (Random Vector) $Z = [Z_1,...,Z_n]^{'}$ โดยที่ $X^{'}$ หมายถึง เมทริกซ์สลับเปลี่ยน(Transpose Matrix) ของ $X$ และ $Z_i \\sim N(0,1)$ มีการแจกแจงปกติมาตรฐาน(Standard Normal) และเป็นอิสระต่อกัน(Independent)\n",
    " - นั่นคือตัวแปรสุ่มเหล่านี้มีการแจกแจงเหมือนกันและเป็นอิสระต่อกัน(Identically and Independently Distribution หรือ i.i.d.) ซึ่งในกรณีที่การแจกแจงเป็นแบบปกติมาตรฐาน สามารถเขียนแทนด้วย $Z\\sim N(0,I_n)$\n",
    " - ฟังก์ชันความหนาแน่นของความน่าจะเป็น(p.d.f.) ของ $Z$ คือ\n",
    " \n",
    " $$f(z) = \\prod_{i=1}^{n}\\phi(z_i) = \\prod_{i=1}^{n}(\\frac{1}{2 \\pi})^{\\frac{1}{2}} exp\\{-\\frac{1}{2}z_i^{2}\\} = (\\frac{1}{2\\pi})^{\\frac{n}{2}}exp\\{-\\frac{1}{2}\\sum_{i=1}^{n}z_i^{2}\\} = \\frac{1}{(2\\pi)^{\\frac{n}{2}}}exp\\{-\\frac{1}{2}z^{'}z\\} $$ <div align ='right'> (1)</div>"
   ]
  },
  {
   "cell_type": "markdown",
   "metadata": {},
   "source": [
    "## ฟังก์ชันก่อกำเนิดโมเมนต์(m.g.f.) ของการแจกแจงปกติมาตรฐานหลายตัวแปร(Multivariate Normal Distribution)\n",
    "\n",
    " - สมการข้างต้นเป็นผลมาจากที่ตัวแปรทั้งหมดมีการแจกแจงปกติมาตรฐานเหมือนกันและเป็นอิสระต่อกัน(i.i.d.)\n",
    " - ชัดเจนว่า ค่าคาดหมาย(Mean) และเมทริกซ์ของค่าความแปรปรวนร่วม(Covariance Matrix) ของ $Z$ มีค่าเท่ากับ $0$ และ $I_n$ ตามลำดับ\n",
    " - ส่วนของฟังก์ชันก่อกำเนิดโมเมนต์(m.g.f.) ของ $Z$ สามารถเขียนได้เป็น $$\\Psi(t) = E[exp\\{Z^{'}t\\}] = E[exp\\{\\sum_{i=1}^{n}Z_it_i\\}] = E[\\prod_{i=1}^{n} exp\\{Z_it_i\\}] = \\prod_{i=1}^{n} E[exp\\{Z_it_i\\}] \\\\= \\prod_{i=1}^{n}\\Psi_z(t_i) = \\prod_{i=1}^{n} e^{\\frac{1}{2}t_i^{2}}\\\\= exp\\{\\frac{1}{2}\\sum_{i=1}^{n}t_i^{2}\\} = exp\\{\\frac{1}{2}t^{'}t\\}$$ <div align ='right'> (2)</div>\n",
    " \n",
    " \n",
    " - เราสามารถสร้างเวคเตอร์ของตัวแปรสุ่มปกติ(Normal Random Vector) $X$ ที่มีค่าคาดหมาย(Mean) เท่ากับ $\\mu$ และเมทริกซ์ของค่าความแปรปรวนร่วม(Covariance Matrix) เท่ากับ $\\sum$"
   ]
  },
  {
   "cell_type": "markdown",
   "metadata": {},
   "source": [
    "## การสร้างเวคเตอร์ของตัวแปรสุ่มปกติ(Normal Random Vector) ของการแจกแจงปกติมาตรฐานหลายตัวแปร(Multivariate Normal Distribution)\n",
    "\n",
    "\n",
    " - ในการสร้างเวคเตอร์ของตัวแปรสุ่มปกติ(Normal Random Vector) จะคล้ายกับตัวแปรสุ่มตัวเดียวที่มีการแจกแจงปกติแบบมาตรฐาน แต่มี **ความยุ่งยากทางเทคนิค** ในการนิยามค่าความเบี่ยงเบนในรูปของเมทริกซ์ ซึ่งต้องใช้เทคนิคที่เรียกว่า **การแยกส่วนสเปกตรัล(Spectral Decomposition)**\n",
    " - เริ่มจากคุณสมบัติที่สำคัญอันหนึ่งของเมทริกซ์ของค่าความแปรปรวนร่วม(Variance-Covariance Matrix) $\\sum$ คือ มันเป็น **เมทริกซ์จัตุรัสและสมมาตร(Symmetric Square Matrix)** และ **คุณสมบัติเป้นบวกเกือบแน่นอน(Positive Semidefinite)** ซึ่งทำให้สามารถใช้หลักการทางพีชคณิตเชิงเส้น(Linear Algebra) แยกส่วน $\\sum$ ออกได้เป็น\n",
    " \n",
    " $$\\sum = \\Gamma^{'}\\Lambda\\Gamma $$ <div align ='right'> (3)</div>\n",
    " \n",
    " \n",
    " \n",
    "โดยที่ $\\Gamma$ เป็นเมทริกซ์แนวทแยง(Diagonal Matrix) $$\\Lambda = \\begin{bmatrix} \\lambda_1  & 0 & ... & 0 & 0 \\\\ 0 & \\lambda_2 & ... & 0 & 0 \\\\ \\vdots  & \\vdots  & \\ddots & \\vdots  & \\vdots \\\\ 0 & 0 & ... &  \\lambda_n-1 & 0 \\\\ 0 & 0 & ... & 0 & \\lambda_n\\end{bmatrix}$$ <div align ='right'> (4)</div>\n",
    "\n",
    "และ $\\Gamma$ เป็นเมทริกซ์ตั้งฉาก(Orthogonal MAtrix) นั่นคือ $\\Gamma^{-1} = \\Gamma^{'}$\n",
    " \n",
    " - สรุปได้ว่า $\\Gamma^{-1}\\Gamma^{'} = I$ โดยทั่วไปเพื่อความสะดวก เรามักจะเรียงลำดับ $\\lambda_i$ จากมากไปหาน้อย นั่นคือ $\\lambda_1\\ge \\lambda_2\\ge ...\\ge \\lambda_n\\ge 0$ และเรียก $\\lambda_i$ แต่ละตัวว่า ค่าลักษณะเฉพาะ(Eigenvalue) ส่วนคอลัมน์ที่ $i$ แต่ละอัน(สอดคล้องกับ $\\lambda_i$) ซึ่งแทนด้วย $\\gamma_i$ มักเรียกว่าเวคเตอร์ลักษณะเฉพาะ(Eigenvector) ของ $\\sum$"
   ]
  },
  {
   "cell_type": "markdown",
   "metadata": {},
   "source": [
    "## การสร้างเวคเตอร์ของตัวแปรสุ่มปกติ(Normal Random Vector) ของการแจกแจงปกติมาตรฐานหลายตัวแปร(Multivariate Normal Distribution) Con't\n",
    "\n",
    " - จากการที่ เราสามารถเขียนเมทริกซ์ของค่าความแปรปรวนร่วม(Variance-covariance Matrix) $\\sum$ ในรูปของค่าลักษณะเฉพาะ(Eigenvalue) และเวคเตอร์ลักษณะเฉพาะ(Eigenvector) ได้ดังนี้ $$\\sum = \\Gamma^{'}\\Lambda\\Gamma = \\sum_{i=1}^{n}\\lambda_i \\gamma_i \\gamma_i^{'}$$<div align ='right'> (5)</div>\n",
    " \n",
    " - ประโยชน์ที่สำคัญของการแยกส่วนนี้ก็คือ การได้มากซึ่งเมทริกซ์แนวทแยง(Diagonal Matrix) $\\Lambda$ ซึ่งค่าลักษณะเฉพาะ(Eigenvalue)$\\lambda_i$ แต่ละค่ามีค่าไม่ติดลบ(Nonnegative) ซึ่่งช่วยให้สามารถนิยามรากที่สอง(Square Root) ของ $\\Lambda$ ได้เป็น \n",
    " \n",
    " $$\\Lambda^{\\frac{1}{2}} = \\begin{bmatrix} \\sqrt{\\lambda_1} & 0 & ... & 0 & 0 \\\\ 0 & \\sqrt{\\lambda_2} & ... & 0 & 0 \\\\ \\vdots  & \\vdots  & \\ddots & \\vdots   & \\vdots  \\\\ 0 & 0 & ... & \\sqrt{\\lambda_n-1} & 0 \\\\ 0 & 0 & ... & 0 & \\sqrt{\\lambda_n}\\end{bmatrix}$$<div align ='right'> (6)</div>\n",
    " \n",
    "ซึ่งคุณสมบัติคล้ายกับรากกำลังสองของจำนวนจริง นั่นคือ $$\\Lambda^{\\frac{1}{2}}\\Lambda^{\\frac{1}{2}} = \\Lambda$$<div align ='right'> (7)</div>\n",
    "\n",
    " - เราสามารถเขียนสมการแยกส่วนสเปกตรัล(Spectral Decomposition) ใหม่ได้เป็น\n",
    " \n",
    " $$\\sum = \\Gamma\\Lambda^{\\frac{1}{2}}\\Lambda^{\\frac{1}{2}}\\Gamma = (\\Gamma^{'}\\Lambda^{\\frac{1}{2}}\\Gamma)(\\Gamma^{'}\\Lambda^{\\frac{1}{2}}\\Gamma)$$<div align ='right'> (8)</div>\n",
    " \n",
    " \n",
    " - ใช้คุณสมบัติการตั้งฉาก(Orthogonal) ของเมทริกซ์ $\\Gamma$ นั่นคือ $\\Gamma\\Gamma^{'} = I$ ผลที่ตามมาจากสมการด้านบนคือ ทำให้สามารถนิยามรากที่สอง(Square Root) ของ $\\sum$ ได้เป็น \n",
    " \n",
    " $$\\sum \\ ^{\\frac{1}{2}} = \\Gamma^{'}\\Lambda^{\\frac{1}{2}}\\Gamma$$<div align ='right'> (9)</div>\n",
    " \n",
    " \n",
    " - หากเมทริกซ์ของค่าความแปรปรวนร่วม(Variance-covariance Matrix) $\\sum$ เป็นบวกแน่นอน(Positive Definite หรือ p.d.) แล้วค่าลักษณะเฉพาะ(Eigenvalue) มีค่าเป็นบวกทุกค่า นั่นคือ $\\lambda_i > 0$ สำหรับทุกๆ $i = 1,...,n$ ซึ่งมีผลทำให้ค่าดีเทอร์มิแนนต์(Determinant) ของ $\\Lambda^{\\frac{1}{2}}$ มีค่ามากกว่าศูนย์แน่นอน ทำให้สามารถหาเมทริกซ์ส่วนกลับ(Inverse Matrix) ของ $\\Lambda^{\\frac{1}{2}}$ ได้ ดังนั้น จึงสามารถนิยามเมทริกซ์ส่วนกลับ(Inverse Matrix) ของ $\\sum^{\\frac{1}{2}}$ ได้เป็น \n",
    " \n",
    " $$\\sum\\ ^ {\\frac{-1}{2}}= \\Gamma^{'}\\Lambda^{\\frac{-1}{2}}\\Gamma$$<div align ='right'> (10)</div>\n",
    " \n",
    "\n",
    "โดยที่ $\\Lambda^{\\frac{-1}{2}}$ แทนเมทริกซ์ส่วนกลับ(Inverse Matrix) ของ $\\Lambda^{\\frac{1}{2}}$\n"
   ]
  },
  {
   "cell_type": "markdown",
   "metadata": {},
   "source": [
    "## ฟังก์ชันก่อกำเนิดโมเมนต์(m.g.f.) ของการแจกแจงปกติหลายตัวแปร(Multivariate Normal Distribution)\n",
    "\n",
    " - สร้างเวคเตอร์ของตัวแปรสุ่มปกติ(Normal Random Vector) $X\\sim N(\\mu,\\sum)$ ที่มีค่าคาดหมาย(mean) เท่ากับ $\\mu$ และเมริกซ์ของค่าความแปรปรวนร่วม(Covariance Matrix) เท่ากับ $\\sum$ โดยกำหนดให้\n",
    " $$X = \\sum\\ ^{\\frac{1}{2}} Z + \\mu$$ <div align ='right'> (11)</div>\n",
    " \n",
    " - ฟังก์ชันก่อกำเนิดโมเมนต์(m.g.f.) ของ $X$ เท่ากับ \n",
    " \n",
    " $$\\Psi_x(t) = E[exp\\{X^{'}t\\}] = E[exp\\{(\\sum\\ ^{\\frac{1}{2}} Z + \\mu)^{'}t\\}] = exp\\{\\mu^{'}t\\}E[exp\\{Z^{'}(\\sum\\ ^ \\frac{1}{2}t)\\}] \\\\ = exp\\{\\mu^{'}t\\}exp\\{\\frac{1}{2}(\\sum\\ ^ {\\frac{1}{2}}t)^{'}(\\sum\\ ^ {\\frac{1}{2}}t)\\}= exp\\{\\mu^{'}t + \\frac{1}{2}t^{'}\\sum t\\}$$ <div align ='right'> (12)</div>\n",
    " \n",
    " - ประยุกต์ใช้ฟังก์ชันก่อกำเนิดโมเมนต์(m.g.f.) ของ $Z$ ในสมการที่ 2 โดยใช้ $\\sum\\ ^{\\frac{1}{2}} t$ แทน $t$ สังเกตด้วยว่า ฟังก์ชันก่อกำเนิดโมเมนต์(m.g.f.) ในที่นี้สามารถหาค่าได้ตราบเท่าที่เมทริกซ์ของค่าความแปรปรวนร่วม(Variance-covarian Matrix) $\\sum$ เป็นบวกเกือบแน่นอน(p.s.d.) ในขณะที่ ฟังก์ชันความหนาแน่นของความน่าจะเป็น(p.d.f.) ของ $X$ จะหาค่าได้ก็ต่อเมื่อ $\\sum$ เป็นบวกแน่นอน(p.d.) ทั้งนี้เพระาการแปลงฟังก์ชันความหนาแน่นของความน่าจะเป็น(p.d.f.) จำเป็นต้องใช้ค่าดีเทอร์มิแนนต์(Determinant) ของ $\\sum\\ ^{\\frac{-1}{2}}$"
   ]
  },
  {
   "cell_type": "markdown",
   "metadata": {},
   "source": [
    "## ฟังก์ชันความหนาแน่นของความน่าจะเป็น(p.d.f.) ของการแจกแจงปกติหลายตัวแปร(Multivariate Normal Distribution)\n",
    "\n",
    "หาก $\\sum$ เป็นบวกแน่นอน(p.d.) แล้ว จะสามารถเขียนสมการที่ 11 ใหม่ได้เป็น $$Z = \\sum\\ ^{\\frac{-1}{2}}(X-\\mu)$$<div align ='right'> (13)</div>\n",
    "\n",
    "ดังนั้น ฟังก์ชันความหนาแน่นของความน่าจะเป็น(p.d.f.) ของ $X$ คือ\n",
    "\n",
    "$$f(x) = \\frac{1}{(2\\pi)^{\\frac{n}{2}}|det\\sum|^{\\frac{1}{2}}}exp\\{\\frac{-1}{2}(x-\\mu)^{'}\\sum\\ ^{-1}(x-\\mu)\\}$$<div align ='right'> (14)</div>\n",
    "\n",
    " "
   ]
  },
  {
   "cell_type": "markdown",
   "metadata": {},
   "source": [
    "## ทฤษฎี: ความสัมพันธ์เชิงเส้นของการแจกแจงปกติหลายตัวแปร(Multivariate Normal Distribution)\n",
    "\n",
    "\n",
    "**Theorem**\n",
    "\n",
    ">กำหนดให้ $X$ เป็นเวคเตอร์ของตัวแปรสุ่ม $n$ ตัว ซึ่งมีการแจกแจงร่วมแบบปกติ นั่นคือ $X\\sim N(\\mu,\\sum)$ และ $Y = AX+b)$ โดยที่ $A$ เป็นเมทริกซ์ของค่าคงที่ขนาด $m x n$ และ $b$ เป็นเวคเตอร์ของค่าคงที่ $m$ ตัว แล้ว $Y\\sim N(A\\mu + b,A\\sum A^{'})$\n",
    "\n",
    "**Proof**\n",
    "\n",
    "ฟังก์ชันก่อกำเนิดโมเมนต์(m.g.f.) ของ $Y$ เท่ากับ \n",
    "\n",
    "$$\\Psi_y(t) = E[exp\\{Y^{'}t\\}] = E[exp\\{(AX+b)^{'}t\\}] \\\\ =exp\\{b^{'}t\\}E[exp\\{X^{'}(A^{'}t)\\}] = exp\\{b^{'}t\\}exp\\{\\mu^{'}(A^{'}t) +\\frac{1}{2}(A^{'}t)^{'} + \\sum(A^{'}t)\\} \\\\ =exp\\{(A\\mu +b)^{'}t +\\frac{1}{2}t^{'}(A\\sum A^{'})t\\}$$\n",
    "\n",
    "นั่นคือ $Y\\sim N(A\\mu + b,A\\sum A^{'})$"
   ]
  },
  {
   "cell_type": "markdown",
   "metadata": {},
   "source": [
    "## ประโยชน์ในการแฟลงตัวแปรสุ่มในรูปแบบฟังก์ชันเชิงเส้น(Linear Transformation)\n",
    "\n",
    "\n",
    " - ทฤษฎีบทด้านบนยังช่วยให้สามารถหาการแจกแจงของตัวแปรสุ่มเพียงบางส่วนในกรณีที่การแจกแจงร่วมเป็นแบบปกติ โดยเริ่มจากการที่สามารถแบ่งเวคเตอร์ $X$ ออกได้เป็นสองส่วน คือ $$X = \\begin{bmatrix} X_m \\\\ X_k\\end{bmatrix}$$ <div align ='right'> (15)</div>\n",
    " \n",
    "   โดยที่ $X_m$ คือเวคเตอร์ของตัวแปรสุ่มที่น่าสนใจ โดยในที่นี้กำหนดให้มีขนาด $m$ ในขณะที่ตัวแปรสุ่ม $X_k$ มีขนาด $k=n-m$\n",
    "   \n",
    " - กำหนดให้ $b=0$ และ\n",
    " \n",
    " $$X = \\begin{bmatrix} I_{mm}& 0_{mk}\\\\ 0_{km} & 0_{kk}\\end{bmatrix}$$<div align ='right'> (16)</div>\n",
    " \n",
    "   จะทำให้ฟังก์ชันที่เกิดจากการแปลงค่าโดยใช้ $A$ และ $b$ เท่ากับ $$Y = \\begin{bmatrix} I_{mm}& 0_{mk}\\end{bmatrix}\\begin{bmatrix} X_m\\\\ X_k\\end{bmatrix} = X_m$$"
   ]
  },
  {
   "cell_type": "markdown",
   "metadata": {},
   "source": [
    "## สรุป: การแปลงตัวแปรสุ่มในรูปแบบฟังก์ชันเชิงเส้น (Linear Transformation)\n",
    "\n",
    " - เราสามารถแบ่ง ค่าคาดหมาย(Mean) และเมทริกซ์ความแปรปรวนร่วม(Variance-covarian Matrix) ของ $X$ ได้เป็น $$\\mu =\\begin{bmatrix} \\mu_m\\\\ \\mu_k\\end{bmatrix}$$<div align ='right'> (17)</div>\n",
    " \n",
    " และ $$\\sum = \\begin{bmatrix} \\sum_{mm} & \\sum_{mk}\\\\ \\sum_{km} & \\sum_{kk}\\end{bmatrix}$$<div align ='right'> (18)</div>\n",
    " \n",
    "   โดยที่ $\\sum_{mk}$ คือเมทริกซ์ความแปรปรวนร่วม(Variance-covarian Matrix) ระหว่าง $X_m$ และ $X_k$\n",
    "   \n",
    " - ค่าคาดหมาย(Mean) และเมทริกซ์ความแปรปรวนร่วม(Variance-covarian Matrix) ของ $Y$ สามารถแบ่งส่วนได้เป็น \n",
    " \n",
    " $$\\begin{bmatrix} I_{mm}& 0_{mk}\\end{bmatrix}\\begin{bmatrix} \\mu_m\\\\ \\mu_k \\end{bmatrix}= \\mu_m$$<div align ='right'> (19)</div>\n",
    " \n",
    " และ <center>$\\begin{bmatrix} I_{mm}& 0_{mk}\\end{bmatrix}\\begin{bmatrix} \\sum_{mm} & \\sum_{mk}\\\\ \\sum_{km} & \\sum_{kk}\\end{bmatrix}\\begin{bmatrix} I_{mm}\\\\ 0_{mk} \\end{bmatrix}= \\sum_{mm}$<div align ='right'> (20)</div>\n",
    " \n",
    " - สรุปได้ว่า $Y = X_m\\sim N(\\mu_m,\\sum_{mm})$ กล่าวคือ การแจกแจงร่วมเป็นแบบปกติ แล้วการแจกแจงของตัวแปรสุ่มบางส่วนก็จะมีการแจกแจงปกติเช่นกัน โดยที่ค่าคาดหมาย(Mean) และค่าความแปรปรวน(Variance) ของชุดตัวแปรบางส่วนสามารถหาได้จากค่าสถิติของตัวแปรสุ่มทั้งหมดได้ไม่ยากนัก"
   ]
  },
  {
   "cell_type": "markdown",
   "metadata": {},
   "source": [
    "## ตัวอย่าง: การหาฟังก์ชันความหนาแน่นของความน่าจะเป็นร่วม(p.d.f) ของ $X_1$ และ $X_2$\n",
    "\n",
    "**Example**\n",
    "\n",
    "พิจารณาตัวแปรสุ่มสองตัว $X_1$ และ $X_2$ ที่มีการแจกแจงปกติ(Normally Distributed) ด้วยค่าคาดหมาย($\\mu_1,\\mu_2)$ และเมทริกซ์ความแปรปรวนร่วม(Variance-covarian Matrix) \n",
    "\n",
    "$$\\sum = \\begin{bmatrix} \\sigma_1^{2} & \\sigma_{12}\\\\ \\sigma_{12} & \\sigma_2^{2}\\end{bmatrix}$$\n",
    "\n",
    "จะเห็นได้ว่า det$\\sum = \\sigma_1^{2}\\sigma_2^{2}-\\sigma_{12}^{2} = \\sigma_1^{2}\\sigma_2^{2}(1-\\rho ^{2})$ โดยที่ $\\rho$ แทนค่าสหสัมพันธ์ระหว่าง $X_1$ และ $X_2$ ดังนั้น ส่วนกลับ(Inverse) ของ $\\sum$ เท่ากับ \n",
    "\n",
    "$$\\sum\\ ^{-1} = \\frac{1}{\\sigma_1^{2}\\sigma_2^{2}(1-\\rho ^{2})}\\begin{bmatrix} \\sigma_2^{2} & -\\sigma_{12}\\\\ -\\sigma_{12} & \\sigma_1^{2}\\end{bmatrix}$$\n",
    "\n",
    " - สามารถคำนวณได้ว่า $$(x-\\mu)^{'}\\sum\\ ^{-1}(x-\\mu) = \\begin{bmatrix} x_1-\\mu_1, x_2-\\mu_2\\end{bmatrix}\\frac{1}{\\sigma_1^{2}\\sigma_2^{2}(1-\\rho ^{2})}\\begin{bmatrix} \\sigma_2^{2} & -\\sigma_{12}\\\\ -\\sigma_{12} & \\sigma_1^{2}\\end{bmatrix}\\begin{bmatrix} x_1-\\mu_1 \\\\  x_2-\\mu_2 \\end{bmatrix} \\\\=\\frac{1}{1-\\rho^{2}}[(\\frac{x_1-\\mu_1}{\\sigma_1})^{2}-2\\rho(\\frac{x_1-\\mu_1}{\\sigma_1})(\\frac{x_2-\\mu_2}{\\sigma_2})+(\\frac{x_2-\\mu_2}{\\sigma_2})^{2}]$$"
   ]
  },
  {
   "cell_type": "markdown",
   "metadata": {},
   "source": [
    "## ตัวอย่าง: การหาฟังก์ชันความหนาแน่นของความน่าจะเป็นร่วม(p.d.f) ของ $X_1$ และ $X_2$\n",
    "\n",
    "**Example**\n",
    "\n",
    " - ฟังก์ชันความหนาแน่นของความน่าจะเป็นร่วม(p.d.f.) ของ $X_1$ และ $X_2$ คือ \n",
    " \n",
    " $$f(x_1,x_2) = \\frac{1}{2\\pi\\sigma_1\\sigma_2\\sqrt{1-\\rho^2}}e^{\\frac{-Q}{2}}$$\n",
    "<div align ='right'> (21)</div>\n",
    "\n",
    "โดยที่ \n",
    "\n",
    "$$Q = \\frac{1}{1-\\rho^{2}}[(\\frac{x_1-\\mu_1}{\\sigma_1})^{2}-2\\rho(\\frac{x_1-\\mu_1}{\\sigma_1})(\\frac{x_2-\\mu_2}{\\sigma_2})+(\\frac{x_2-\\mu_2}{\\sigma_2})^{2}]$$<div align ='right'> (22)</div>\n",
    "\n",
    " - ถ้า $\\rho=0$ แล้ว ฟังก์ชันความหนาแน่นของความน่าจะเป็นร่วม(p.d.f.) ของ $X_1$ และ $X_2$ คือ\n",
    " \n",
    " $$Q = \\frac{1}{2\\pi\\sigma_1\\sigma_2\\sqrt{1-\\rho^2}}exp\\{\\frac{-1}{2}[(\\frac{x_1-\\mu_1}{\\sigma_1})^{2}+(\\frac{x_2-\\mu_2}{\\sigma_2})^{2}]\\} \\\\ =[\\frac{1}{\\sqrt{2\\pi\\sigma_1^{2}}}e^{\\frac{-1}{2}(\\frac{x_1-\\mu_1}{\\sigma_1})^{2}}][\\frac{1}{\\sqrt{2\\pi\\sigma_2^{2}}}e^{\\frac{-1}{2}(\\frac{x_2-\\mu_2}{\\sigma_2})^{2}}] = f_1(x_1)f_2(x_2)$$\n",
    " \n",
    " - หมายความว่า $X_1$ และ $X_2$ เป็นอิสระต่อกัน กล่าวคือ ในกรณีของการแจกแจงปกติ(Normally Distribution) การไม่มีสหสัมพันธ์(Uncorrelated) หมายถึงการเป็นอิสระต่อกัน(Independent) ด้วย"
   ]
  },
  {
   "cell_type": "markdown",
   "metadata": {},
   "source": [
    "## ทฤษฎี: ความเป้นอิสระต่อกัน(Independent) ของตัวแปรสุ่ม\n",
    "\n",
    "**Theorem**\n",
    "\n",
    ">กำหนดให้ $X\\sim N(\\mu, \\sum)$ และสามารถแยกส่วนลดได้เป็นสองส่วนคือ $X = (X_m,X_k)$ ซึ่งสอดคล้องกับสมการที่ 15, 17 และ 18 ดังนั้น $X_m$ และ $X_k$ เป็นอิสระต่อกัน(Independent) ก็ต่อเมื่อ $\\sum_{mk} = 0$\n",
    "\n",
    "**Proof**\n",
    "\n",
    "พิจารณาฟังก์ชันก่อกำเนิดโมเมนต์(m.g.f.) ของ $X$ ในรูปของ $t_m$ และ $t_k$ \n",
    "\n",
    "\\\n",
    " <center>$\\Psi(t_m,t_k) = exp\\{\\mu_m^{'}t_m+\\mu_k^{'}t_k+\\frac{1}{2}[t_{mm}^{'} \\sum_{mm} t_m+t_k^{'} \\sum_{mm} t_k+t_m^{'}\\sum_{mk} t_k+t_k^{'} \\sum_{km}t_m\\}\\\\ = exp\\{\\mu_m^{'}t_m+\\mu_k^{'}t_k+\\frac{1}{2}[t_{m}^{'}\\sum_{mm}t_k+t_{k}^{'}\\sum_{mm}t_k]\\}exp\\{\\frac{1}{2}[t_{m}^{'}\\sum_{mk}t_k+t_{k}^{'}\\sum_{km}t_m]\\}$<div align ='right'> (23)</div>\n",
    "\n",
    "\n",
    "<center>$\\Psi(t_m,t_k) = exp\\{\\mu_m^{'}t_m+\\frac{1}{2}[t_{m}^{'}\\sum_{mm}t_m]\\}exp\\{\\mu_k^{'}t_k+\\frac{1}{2}           [t_{k}^{'}\\sum_{mm}t_k]\\} \\\\=exp\\{\\mu_m^{'}t_m+\\mu_k^{'}t_k+\\frac{1}{2}[t_{m}^{'}\\sum_{mm}t_m+t_{k}^{'}\\sum_{mm}t_k]\\}$<div align ='right'> (24)</div>\n",
    "\n",
    "\n",
    "<center>$exp\\{\\frac{1}{2}[t_{m}^{'}\\sum_{mk}t_k+t_{k}^{'}\\sum_{km}t_m]\\} = 1 \\Rightarrow t_{m}^{'}\\sum_{mk}t_k+t_{k}^{'}\\sum_{km}t_m = 0 $\n",
    "\n",
    "ซึ่งจะเป็นจริงก็ต่อเมื่อ $\\sum_{mk} = \\sum_{km}^{'} = 0$"
   ]
  },
  {
   "cell_type": "markdown",
   "metadata": {},
   "source": [
    "## ทฤษฎี: การแจกแจงแบบมีเงื่อนไข(Conditional Distribution) เป็นการแจกแจงแบบปกติ(Normal)\n",
    "\n",
    "**Theorem**\n",
    "\n",
    ">กำหนดให้ $X\\sim N(\\mu,\\sum)$ และสามารถแยกส่วนได้เป็นสองส่วนคือ $X = (X_m,X_k)$ ซึ่งสอดคล้องกับสมการที่ 15, 17 และ 18 และสมมุติว่า $\\sum$ เป็นบวกแน่นอน(Positive Definite) ดังนั้น การแจกแจงแบบเงื่อนไข(Conditional Distribution) ของ $X_m$ เมื่อทราบ $X_k$ เป็นแบบปกติ(Normal) นั่นคือ \n",
    "\n",
    "\\\n",
    "  <center>$X_m|X_k\\sim N(\\mu_m+\\sum_{mk}\\sum_{kk}^{-1}(X_k-\\mu_k),\\sum_{mm}=\\sum_{mk}\\sum_{kk}^{-1}\\sum_{km})$<div align ='right'> (25)</div>\n"
   ]
  },
  {
   "cell_type": "markdown",
   "metadata": {},
   "source": [
    "## การพิสูจน์: การแจกแจงแบบมีเงื่อนไข(Condition Distribution) เป็นการแจกแจงแบบปกติ(Normal)\n",
    "\n",
    "**Proof**\n",
    "\n",
    " - กำหนดให้ $W=X_m-\\sum_{mk}\\sum_{kk}^{-1}X_k$ และ \n",
    " \n",
    "\\\n",
    " <center>$\\begin{bmatrix} W\\\\ X_2 \\end{bmatrix} = \\begin{bmatrix} I_{m} & -\\sum_{mk}\\sum_{kk}^{-1}\\\\ 0 & I_{k}\\end{bmatrix}\\begin{bmatrix} X_1\\\\ X_2 \\end{bmatrix}$\n",
    "    \n"
   ]
  },
  {
   "cell_type": "markdown",
   "metadata": {},
   "source": [
    "- คำนวณหาเมทริกซ์ของค่าความแปรปรวน(Variance-covariance Matrix) ได้เป็น \n",
    "\n",
    "\\\n",
    " <center>$\\begin{bmatrix} I_{m} & -\\sum_{mk}\\sum_{kk}^{-1}\\\\ 0 & I_{k}\\end{bmatrix}\\begin{bmatrix} X_1\\\\ X_2 \\end{bmatrix}\\begin{bmatrix} \\sum_{mm} & \\sum_{mk}\\\\ \\sum_{km} & \\sum_{kk}\\end{bmatrix}\\begin{bmatrix} I_{m} & 0\\\\ -\\sum_{mk}\\sum_{kk}^{-1} & I_{k}\\end{bmatrix} = \\begin{bmatrix} \\sum_{mm}-\\sum_{mk}\\sum_{kk}^{-1}\\sum_{km} & 0 \\\\ 0 & \\sum_{kk}\\end{bmatrix}$\n"
   ]
  },
  {
   "cell_type": "markdown",
   "metadata": {},
   "source": [
    " - เห็นได้ว่า $W$ และ $X_k$ เป็นอิสระต่อกัน(Independent) ดังนั้น **การแจกแจงแบบมีเงื่อนไข $W|X_k$ จะเหมือนกับการแจกแจงของ $W$** ซึ่งเป็นการแจกแจงปกติ(Normal Distribution) ด้วยค่าคาดหมาย(Mean) เท่ากับ $\\mu_m-\\sum_{mk}\\sum_{kk}^{-1}\\mu_k$ และสามารถสรุปได้ว่า\n",
    "\n",
    "\\\n",
    " <center>$W|X_k\\sim N(\\mu_m-\\sum_{mk}\\sum_{kk}^{-1}\\mu_k,\\sum_{mm}-\\sum_{mk}\\sum_{kk}^{-1}\\sum_{km})$\n",
    "    "
   ]
  },
  {
   "cell_type": "markdown",
   "metadata": {},
   "source": [
    " - ในขณะเดียวกัน เนื่องจากสิ่งที่เราสนใจคือการแจกแจงอบบมีเงื่อนไขเมื่อทราบ $X_k$ ดังนั้น การบวกเพิ่มด้วยฟังก์ชันของ $X_k$ เข้าไปย่อม**มีผลต่อเช่นเดียวกับการบวกเพิ่มด้วยค่าคงที่** ซึ่งมีผลต่อค่าคาดหมาย แต่**ไม่มีผลต่อค่าความแปรปรวน**\n",
    " - เราสามารถคำนวณหา $X_m$ ได้จาก $W+\\sum_{mk}\\sum_{kk}^{-1}x_k = x_m$ ดังนั้น การแจกแจงแบบมีเงื่อนไข(Conditional Distribution) ของ $X_m$ เมื่อทราบ $X_k$ เท่ากับ \n",
    "\n",
    "\\\n",
    " <center>$X_m|X_k\\sim N(\\mu_m-\\sum_{mk}\\sum_{kk}^{-1}\\mu_k+\\sum_{mk}\\sum_{kk}^{-1}X_k,\\sum_{mm}-\\sum_{mk}\\sum_{kk}^{-1}\\sum_{km})$"
   ]
  },
  {
   "cell_type": "markdown",
   "metadata": {},
   "source": [
    "## ตัวอย่าง: การคำนวณหาค่าคาดหมายแบบมีเงื่อนไข(Conditional Mean)\n",
    "\n",
    "**Example**\n",
    "\n",
    "เช่นเดียวกับตัวอย่างที่แล้ว สมมุติให้ตัวแปรสุ่ม $X_1$ และ $X_2$ มีการแจกแจงปกติ(Normally Distributed) ด้วยค่าคาดหมาย $(\\mu_1,\\mu_2) และเมทริกซ์ความแปรปรวนร่วม(Variance-covariance Matrix)\n",
    "\n",
    "$$\\sum = \\begin{bmatrix} \\sigma_1^{2} & \\sigma_{12}\\\\ \\sigma_{12} & \\sigma_2^{2}\\end{bmatrix}$$\n",
    "\n",
    " - ใช้สมการที่ 25 เพื่อคำนวณหาค่าคาดหมายแบบมีเงื่อนไข(Conditional Mean) ของ $X_1$ เมื่อทราบ $X_2=x_2$ ได้เป็น\n",
    " \n",
    "<center>$E[X_1|X_2] = \\mu_1+\\sum_{12}\\sum_{22}^{-1}(X_2-\\mu_2) = \\mu_1+(\\rho\\sigma_1\\sigma_2)(\\sigma_2^2)^{-1}(x_2-\\mu_2) =\\mu_1+\\rho\\frac{\\sigma_1}{\\sigma_2}(x_2-\\mu_2)$\n"
   ]
  },
  {
   "cell_type": "markdown",
   "metadata": {},
   "source": [
    "- ฟังก์ชันเชิงเส้น(Linear Function) ของ $x_2$ สังเกตได้ว่าเราไม่ได้กำหนดหรือบังคับให้ค่าคาดหมายแบบมีเงื่อนไข(Conditional Mean) นี้มีความสัมพันธ์เชิงเส้นแต่อย่างใด แต่คุณสมบัติของการแจกแจงปกติ นอกจากนี้ ยังสามารถเขียนในรูปของตัวแปรสุ่มได้เป็น \n",
    " \n",
    " \n",
    " \n",
    "<center>$E[X_1|X_2] =\\mu_1+\\rho\\frac{\\sigma_1}{\\sigma_2}(x_2-\\mu_2)$<div align ='right'> (26)</div>"
   ]
  },
  {
   "cell_type": "markdown",
   "metadata": {},
   "source": [
    "### การแจกแจงไคกำลังสอง(Chi-square Distribution)\n",
    "\n",
    " - การแจกแจงไคกำลังสอง(Chi-square Distribution) เป็นการแจกแจงอีกแบบหนึ่งที่ได้รับความนิยม และเป็นหนึ่งในการแจกแจงแบบแกมมา(Gamma Distribution)\n",
    " - คุณสมบัติหนึ่งที่มีความสำคัญในทางสถิติและจะมีประโยชน์สำหรับการหาการแจกแจงของค่าสถิติที่ใช้ในการทดสอบสมมุติฐานในอนาคต\n",
    " - เราสามรถสร้างตัวแปรที่มีการแจกแจงไคกำลังสอง(Chi-square Distribution) ได้ด้วยการนำเอาตัว**แปรสุ่มที่มีการแจกแจงปกติมาตรฐาน(Standard Normal) มายกกำลังสอง** กล่าวคือ ตัวแปรไคกำลังสอง(Chi-square) คือกำลังสองของตัวแปรปกติ(Normal)\n",
    " - กำหนดให้ $X$ เป็นตัวแปรสุ่มที่มีการแจกแจงไคกำลังสอง(Chi-square Distribution) ด้วยระดับความอิสระ(Degree of Freedom) เท่ากับ $r$ นั่นคือ $X\\sim\\chi^2(r)$ ดังนั้น ฟังก์ชันความหนาแน่นของความน่าจะเป็นร่วม(p.d.f.) ของ $X$ คือ $$f(x)=\\begin{cases}\n",
    "\\frac{1}{\\Gamma(\\frac{r}{2})2^{\\frac{r}{2}}}x^{\\frac{r-2}{2}}e^{\\frac{-x}{2}} & 0< x <\\infty\\\\\n",
    "0 & \\text{otherwise}\n",
    "\\end{cases}$$<div align ='right'> (27)</div>\n",
    "\n",
    "โดยที่ $\\Gamma(z) = \\int_{0}^{\\infty}X^{z-1}e^{-x}dx$ แทนฟังก์ชันแกมมา(Gamma Function)"
   ]
  },
  {
   "cell_type": "markdown",
   "metadata": {},
   "source": [
    "## ฟังก์ชันความหนาแน่นของความน่าจะเป็นร่วม(p.d.f.) และฟังก์ชันก่อกำเนินโมเมนต์(m.g.f.) ของการแจกแจงไคกำลังสอง(Chi-square distribution)\n",
    "\n",
    " - ต่าแกมมาฟังก์ชันอันหนึ่งที่มีความสัมพันธ์กับการแจกแจงปกติมาตรฐานคือค่าที่มาจากกรณีที่ระดับความอิสระ(Degree of Freedom) $r=1$ ซึ่งมีค่าเท่ากับ $\\Gamma(\\frac{1}{2}) = \\sqrt{\\pi}$ ดังนั้นฟังก์ชันความหนาแน่นของความน่าจะเป็นร่วม(p.d.f.) ของ $\\chi^2(1)$ คือ\n",
    " \n",
    "$$f(x)=\\begin{cases}\n",
    "\\frac{1}{\\sqrt{2\\pi x}}e^{\\frac{-x}{2}} & 0< x <\\infty\\\\\n",
    "0 & \\text{otherwise}\n",
    "\\end{cases}$$<div align ='right'> (28)</div>\n",
    "\n",
    "- ฟังก์ชันก่อกำเนิดโมเมนต์(m.g.f.) ของ $X$ เท่ากับ $$\\Psi(t) = (1-2t)^{\\frac{-r}{2}} \\  ,  สำหรับ \\ t<\\frac{1}{2}$$<div align ='right'> (29)</div>\n",
    "\n",
    "- ค่าคาดหมาย(Mean) ของ$\\chi^2(r)$ เท่ากับ  $\\Psi^{1}(0)=r$ \n",
    "\n",
    "  และค่าความแปรปรวน(Variance) ของ $\\chi^{2}(r)$ เท่ากับ  $\\Psi^{2}(0)-r^2 = r(r+2)-r^2 = 2r$"
   ]
  },
  {
   "cell_type": "markdown",
   "metadata": {},
   "source": [
    "## กำลังสองของการแจกแจงปกติเป็นการแจกแจงไคกำลังสอง(Chi-square Distribution) ด้วยระดับความอิสระ(Degree of Freedom) r=1\n",
    "\n",
    "**Theorem**\n",
    "\n",
    "สมมุติให้ $X\\sim N(0,1)$ แล้ว ตัวแปรสุ่ม $Y=X^2\\sim\\chi^2(r)$\n",
    "\n",
    "**Proof**\n",
    "\n",
    " - เริ่มจากฟังก์ชันความน่าจะเป็นสะสม(C.D.F) ของ $Y$ เท่ากับ\n",
    " \n",
    " $$G(Y) = Pr(Y\\le y)=Pr(x^2\\le y) = Pr(-\\sqrt{y}\\le x\\le\\sqrt{y}), \\ สำหรับ \\ y>0$$\n",
    " \n",
    " \n",
    " - เนื่องจาก $\\sim N(0,1)$ ดังนั้น สำหรับ $y>0$ \n",
    " \n",
    " $$G(Y) = Pr(-\\sqrt{y}\\le x\\le\\sqrt{y}) = \\int-\\sqrt{y}^{\\sqrt{y}}\\frac{1}{\\sqrt{2\\pi}}e^{\\frac{-z^2}{2}}dz = 2\\int 0^{\\sqrt{y}}\\frac{1}{\\sqrt{2\\pi}}e^{\\frac{-z^2}{2}}dz$$\n",
    " \n",
    " \n",
    " - สมการสุดท้ายเป็นผลมาจากความสมมาตรของการแจกแจงปกติ หลังจากนั้นคือการเปลี่ยนตัวแปรการอินทริเกรต โดยกำหนดให้ $w=z^2$ ซึ่งส่งผลให้ $dz = \\frac{dw}{2\\sqrt{w}}$ ดังนั้น $$G(Y) =\\int 0^{y}\\frac{1}{\\sqrt{2\\pi w}}e^{\\frac{-w}{2}}dz$$\n",
    " \n",
    "   ซึ่งมีค่าเท่ากับฟังก์ชันความน่าจะเป็นสะสม(C.D.F.) ของ $\\chi^2(1)$ ตามที่ต้องการ\n",
    " "
   ]
  },
  {
   "cell_type": "markdown",
   "metadata": {},
   "source": [
    "## ผลบวกของตัวแปรสุ่มที่เป็นอิสระต่อกัน(Independent) เป็นการแจกแจงไคกำลังสอง(Chi-square Distribution)\n",
    "\n",
    " - คุณสมบัติอีกอันหนึ่งที่การแจกแจงไคกำลังสอง(Chi-square) ที่คล้ายกับคุณสมบัติของการแจกแจงปกติ(Normal) คือคุณสมบัติการรักษารูปแบบการกระจาย กล่าวคือ ผลบวกของตัวแปรสุ่มที่เป็นอิสระต่อกัน(Independent) และแต่ละตัวมีการแจกแจงไคกำลังสอง(Chi-square) จะมีการแจกแจงไคกำลังสอง(Chi-square)\n",
    " \n",
    "\n",
    "**Theorem**\n",
    "\n",
    ">สมมุติให้ $X_i\\sim\\chi^2(r_i)$ สำหรับ $i=1,...,n$ และ $X_1,...,X_n$ เป็นอิสระต่อกัน(Independent) \n",
    ">แล้วตัวแปรสุ่ม $Y=\\sum_{i=1}^{n}X_i\\sim\\chi^2(R)$ โดยที่ $R=\\sum_{i=1}^{n}r_i$\n",
    "\n",
    "**Proof**\n",
    "\n",
    "เนื่องจาก $X_1,...,X_n$ เป็นอิสระต่อกัน(Independent) ดังนั้น ฟังก์ชันก่อกำเนิดโมเมนต์(m.g.f.) ของ $Y$ เท่ากับ $$\\Psi_y(t) = \\prod_{i=1}^{n}(1-2t)^{\\frac{-r_i}{2}} = (1-2t)^{\\frac{-\\sum_{i=1}^{n}r_i}{2}}$$\n",
    "\n",
    "ซึ่งมีค่าเท่ากับฟังก์ชันก่อกำเนิดโมเมนต์(m.g.f.) ของการแจกแจงไคกำลังสอง(Chi-square) ที่มีระดับคามอิสระ(Degree of Freedom) เท่ากับ $\\sum_{i=1}^{n}r_i$"
   ]
  },
  {
   "cell_type": "markdown",
   "metadata": {},
   "source": [
    "## ทฤษฎีการแจกแจงไคกำลังสอง(Chi-square Distribution)\n",
    "\n",
    "**Theorem**\n",
    "\n",
    ">สมมุติให้ $X\\sim N(\\mu,\\sum)$ โดยที่ $\\sum$ เป็นบวกแน่นอน(Positive Definite) แล้ว ตัวแปรสุ่ม $Y = (X-\\mu)^{'}\\sum^{-1}(X-\\mu)\\sim \\chi^{2}(n)$ โดยที่ $n$ คือจำนวนตัวแปรสุ่มทั้งหมดใน $X$\n",
    "\n",
    "**Proof**\n",
    "\n",
    ">กำหนดให้ $Z=\\sum^{\\frac{-1}{2}}(X-\\mu)$ และจากที่อภิปรายหน้านี้ ทำให้ทราบดรว่า $Z\\sim N(0,I_n)$ และกำหนดให้ $W = Z^{'}Z = \\sum_{i=1}^{n}Z^2_i$ เนื่องจาก $Z_i\\sim N(0,1)$ ส่งผลให้ $Z^2_i\\sim\\chi^2(1)$ ดังนั้น จึงสามารถประยุกต์ใช้ทฤษฎีบทที่แล้ว สรุปได้ว่า $\\sum_{i=1}^{n}Z^2_i\\sim\\chi^2(n)$ นั่นคือ $W\\sim \\chi^2(n)$ ซึ่งก็คือผลลัพธ์ที่ต้องการ"
   ]
  },
  {
   "cell_type": "markdown",
   "metadata": {},
   "source": [
    "## ตัวอย่างการแจกแจงไคกำลังสอง(Chi-square Distribution)\n",
    "\n",
    ">พิจารณาแบบจำลองเชิงเส้น $$Y=X\\beta+\\varepsilon$$\n",
    "\n",
    ">โดยที่ $\\beta$ ตือเวคเตอร์ของพารามิเตอร์ที่ต้องการประมาณค่า(Vector of Estimated Parameter) และสมมุติให้ค่าคลาดเคลื่อน(Error Terms) $\\varepsilon\\sim N(0,\\sum)$ และสมมุติว่ามีข้อมูลแบบตัวอย่างสุ่มขนาด $n$ ตัวอย่าง ดังนั้น ในการทดสองสมมุติฐานที่เกี่ยวข้องกับแบบจำลองเชิงเส้นนี้ จำเป็นจะต้องหาการแจกแจงของ $\\varepsilon^{'}\\sum^{-1}\\varepsilon$ ซึ่งเมื่อประยุกต์ใช้ทฤษฎีบทที่ผ่านมาจะสามารถสรุปได้ว่า$\\varepsilon^{'}\\sum^{-1}\\varepsilon\\sim \\chi^2(n)$\n",
    "\n",
    " - การแจกแจงไคกำลังสอง(Chi-square Distribution) ยังมีความสำคัญเพราะเป็นส่วนสำคัญในการสร้างการแจกแจงที(t Distribution) และการแจกแจงเอฟ(F Distribution)\n"
   ]
  },
  {
   "cell_type": "markdown",
   "metadata": {},
   "source": [
    "## การแจกแจงที(t distribution)\n",
    "\n",
    " - กำหนดให้ $X\\sim N(0,1)$ และ $Y\\sim \\chi^2(r)$ และเป็นอิสระต่อกัน(Independent) ดังนั้น\n",
    " \n",
    " $$T=\\frac{X}{\\sqrt{\\frac{Y}{r}}}$$<div align ='right'> (30)</div>\n",
    " \n",
    ">มีการแจกแจงที(t Diatribution) ด้วยระดับความอิสระ(Degree of Freedom) $r$ ซึ่งมักแทนด้วย $t(r)$ นั่นคือ การแจกแจงที(t Diatribution) เกิดจากการผสมผสานกันของการแจกแจงปกติ(Normal) และการแจกแจงไคกำลังสอง(Chi-square Distribution)\n",
    "\n",
    " - ฟังก์ชันความหนาแน่นของความน่าจะเป็นร่วม(p.d.f.) ของ $T$ ด้วยระดับความอิสระ(Degree of Freedom) $r$ คือ \n",
    " \n",
    " $$f(t)=\\frac{\\Gamma(\\frac{1+r}{2})}{\\Gamma(\\frac{r}{2})\\sqrt{\\pi r}}(1+\\frac{t^2}{r})^{\\frac{-1-r}{2}}$$<div align ='right'> (31)</div>\n",
    " \n",
    ">ในทางปฏิบัติต่าสถิติจากการแจกแจงทีมีค่าใกล้เคียงค่าสถิติจากการแจกแจงปกติอย่างมาก โดยเฉพาะอย่างยิ่งเมื่อกลุ่มตัวอย่างหรือระดับความอิสระ(Degree of Freedom) มีค่ามากพอ นั่นคือ $\\lim_{x \\to \\infty} t(r)\\sim N(0,1)$"
   ]
  },
  {
   "cell_type": "markdown",
   "metadata": {},
   "source": [
    "## กราฟแสดงการแจกแจงที(t Distribution)"
   ]
  },
  {
   "cell_type": "code",
   "execution_count": 8,
   "metadata": {},
   "outputs": [
    {
     "data": {
      "text/plain": [
       "<matplotlib.legend.Legend at 0x2267a5e1748>"
      ]
     },
     "execution_count": 8,
     "metadata": {},
     "output_type": "execute_result"
    },
    {
     "data": {
      "image/png": "[encoded data removed]",
      "text/plain": [
       "<Figure size 432x288 with 1 Axes>"
      ]
     },
     "metadata": {
      "needs_background": "light"
     },
     "output_type": "display_data"
    }
   ],
   "source": [
    "## Basic T-Distribution\n",
    "import scipy.stats as st\n",
    "import matplotlib.pyplot as plt\n",
    "import numpy as np\n",
    "\n",
    "## Setup      \n",
    "dof = 23        # Degrees of freedom\n",
    "alpha = 0.05    # Significence level\n",
    "ntails = 2      # Number of tails \n",
    "\n",
    "## Calculate critical t-score\n",
    "tcrit = abs(st.t.ppf(alpha/ntails, dof))\n",
    "# +=2.068\n",
    "\n",
    "plt.figure()\n",
    "xs = np.linspace(-10,10,1000)\n",
    "plt.plot(xs, st.t.pdf(xs,dof), 'k', label=\"T-Distribution PDF\")\n",
    "\n",
    "## Plot some vertical lines representing critical t-score cutoff\n",
    "critline = np.linspace(0,alpha/ntails)  # y range for critical line, AKA probability from 0-p*\n",
    "xs_1 = len(critline) * [-tcrit]         # X ranges for plotting\n",
    "xs_2 = len(critline) * [tcrit]\n",
    "plt.plot(xs_1, critline, 'r', label=\"-t* for dof=23\")\n",
    "plt.plot(xs_2, critline,'r', label=\"t* for dof=23\")\n",
    "plt.legend()"
   ]
  },
  {
   "cell_type": "markdown",
   "metadata": {},
   "source": [
    "## การแจกแจงเอฟ(F distribution)\n",
    "\n",
    " - กำหนดให้ $X\\sim^2(r_1)$ และ $ํY\\sim^2(r_2)$ และเป็นอิสระต่อกัน(Independent) ดังนั้น\n",
    " \n",
    " $$F=\\frac{\\frac{X}{r_1}}{\\frac{Y}{r_2}}$$<div align ='right'> (32)</div>\n",
    " \n",
    ">มีการแจกแจงเอฟ(F distribution) ด้วยระดับความอิสระ(Degree of Freedom) $r_1$ และ $r_2$ ซึ่งมักแทนด้วย $F(r_1,r_2)$ นั่นคือ การแจกแจงเอฟ(F distribution) เป็น**ผลลัพธ์จากการหารกันของไคกำลังสอง(Chi-square Distribution) สองอัน**\n",
    "\n",
    " - ฟังก์ชันความหนาแน่นของความน่าจะเป็นร่วม(p.d.d.) ของ $T$ ด้วยระดับความอิสระ(Degree of Freedom) $r$ คือ\n",
    "\n",
    "$$f(x)=\\begin{cases}\n",
    "\\frac{\\Gamma(\\frac{r_1+r_2}{2})(\\frac{r_1}{r_2})^{\\frac{r_1}{2}}}{\\Gamma(\\frac{r_1}{2})\\Gamma(\\frac{r_2}{2})}x^{\\frac{r_1-2}{2}}(1+\\frac{r_1}{r_2}X)^{\\frac{-r_1-r_2}{2}} & 0< x <\\infty\\\\\n",
    "0 & \\text{otherwise}\n",
    "\\end{cases}$$<div align ='right'> (33)</div>\n",
    "\n",
    " - นอกจากนี้ ยังสามารถแสดงได้ว่า ลิมิตของการแจกแจงเอฟ คือการแจกแจงไคกำลังสอง นั่นคือ \n",
    " \n",
    " $$\\lim_{r_2 \\to \\infty} F(r_1,r_2)\\sim\\chi^2(r_1)$$<div align ='right'> (34)</div> $$\\lim_{r_1 \\to \\infty}\\lim_{r_2 \\to \\infty}F(r_1,r_2)\\sim N(0,1)$$<div align ='right'> (35)</div>"
   ]
  },
  {
   "cell_type": "markdown",
   "metadata": {},
   "source": [
    "## การแจกแจงของตัวแปรสุ่มไม่ต่อเนื่อง\n",
    "\n",
    " - การแจกแจงแบบ Bernoulli(Bernoulli Distribution)\n",
    " - การแจกแจงแบบ Binomial(Binomial Distribution)\n",
    " - การแจกแจงแบบ Poisson(Poisson Distribution)"
   ]
  },
  {
   "cell_type": "markdown",
   "metadata": {},
   "source": [
    "## การแจกแจงแบบ Bernoulli(Bernoulli Distribution)\n",
    "\n",
    " - กำหนดให้ $X$ เป็นตัวแปรสุ่มที่ไม่ต่อเนื่อง ดังนั้น ฟังก์ชันความน่าจะเป็น(p.f.) ของ $X$ ที่พารามิเตอร์ $p$ คือ\n",
    " \n",
    "$$f(x)=\\begin{cases}\n",
    "p^x(1-p)^{1-x} & x \\in \\{0,1\\}\\\\\n",
    "0 & \\text{otherwise}\n",
    "\\end{cases}$$<div align ='right'> (36)</div>\n",
    "\n",
    " - ฟังก์ชันก่อกำเนิดโมเมนต์(m.g.f.) ของ $X$ สำหรับ $-\\infty<t<\\infty$ คือ\n",
    " \n",
    " $$\\Psi(t)  =E(e^{tx})= pe^{t}+(1-p)$$<div align ='right'> (37)</div>\n",
    " \n",
    " - ค่าคาดหมาย(Mean) เท่ากับ $\\Psi^1(0) = p$\n",
    " - ค่าความแปรปรวน(Variance) เท่ากับ $\\Psi^2(0)-p^2 = p-p^2 = p(1-p)$"
   ]
  },
  {
   "cell_type": "markdown",
   "metadata": {},
   "source": [
    "## การแจกแจงแบบ Binomial(Binomial Distribution)\n",
    "\n",
    " - กำหนดให้ $X$ เป็นตัวแปรสุ่มที่ไม่ต่อเนื่อง ดังนั้น ฟังก์ชันความน่าจะเป็น(p.f.) ของ $X$ ที่พารามิเตอร์ $n$ และ $p$ คือ\n",
    " \n",
    " $$f(x)=\\begin{cases}\n",
    "\\binom{n}{x}p^x(1-p)^{n-x} & x \\in \\{0,1,2,...\\}\\\\\n",
    "0 & \\text{otherwise}\n",
    "\\end{cases}$$<div align ='right'> (38)</div>\n",
    "\n",
    " - ฟังก์ชันก่อกำเนิดโมเมนต์(m.g.f.) ของ $X$ สำหรับ $-\\infty<t<\\infty$ คือ\n",
    " \n",
    "$$\\Psi(t)  =E(e^{tx})= (pe^{t}+(1-p))^n$$<div align ='right'> (39)</div>\n",
    "\n",
    " - ค่าคาดหมาย(Mean) เท่ากับ $\\Psi^1(0) = np$\n",
    " - ค่าคสามแปรปรวน(Variance) เท่ากับ $\\Psi^2(0)-(np)^2 = (n(n-1)p^2+np)-(np)^2 = np(1-p)$\n",
    " "
   ]
  },
  {
   "cell_type": "markdown",
   "metadata": {},
   "source": [
    "## ความสัมพันธ์ระหว่าง Bernoulli Distribution และ Binomial Distribution\n",
    "\n",
    "**Theorem**\n",
    "\n",
    ">สมมุติให้ $X_i$ มีการแจกแจงแบบ Bernoulli Distribution ที่พารามิเตอร์ $p$ สำหรับ $i=1,...,n$ และ $X_1,...,X_n$ เป็นอิสระต่อกัน(Independent) แล้ว ตัวแปรสุ่ม $Y = \\sum_{i=1}^{n}X_i$ จะมีการแจกแจงแบบ Binomial Distribution ที่พารามิเตอร์ $n$ และ $p$\n",
    "\n",
    "**Proof**\n",
    "\n",
    ">เนื่องจาก $X_1,...,X_2$ เป็นอิสระต่อกัน(Independent) ดังนั้น ฟังก์ชันก่อกำเนิดโมเมนต์(m.g.f.) ของ $Y$ เท่ากับ \n",
    "\n",
    "$$\\Psi_y(t)  =E(e^{ty})=E(e^{t\\sum_{i=1}^{n}X_i}) = \\prod_{i=1}^{n}E(e^{tX_i}) = (pe^{t}+(1-p))^n$$\n",
    "\n",
    ">ซึ่งมีค่าเท่ากับฟังก์ชันก่อกำเนิดโมเมนต์(m.g.f.) ของการแจกแจงแบบ Binomial Distribution ที่พารามิเตอร์ $n$ และ $p$"
   ]
  },
  {
   "cell_type": "markdown",
   "metadata": {},
   "source": [
    "## การแจกแจงแบบ Poisson(Poisson Distribution)\n",
    "\n",
    " - กำหนดให้ $X$ เป็นตัวแปรสุ่มที่ไม่ต่อเนื่อง ดังนั้น ฟังกืชันความน่าจะเป็น(p.f.) ของ $X$ ที่พารามิเตอร์ $\\lambda$ คือ\n",
    " \n",
    " $$f(x)=\\begin{cases}\n",
    "\\frac{e^{-\\lambda}\\lambda^x}{x!} & x \\in \\{0,1,2,...\\}\\\\\n",
    "0 & \\text{otherwise}\n",
    "\\end{cases}$$<div align ='right'> (40)</div>\n",
    "\n",
    " - ฟังก์ชันก่อกำเนิดโมเมนต์(m.g.f.) ของ $X$ สำหรับ $-\\infty<t<\\infty$ คือ $$\\Psi(t)  =E(e^{tx})= \\sum_{x=0}^{\\infty}\\frac{e^{tx}e^{-\\lambda}\\lambda^x}{x!} = e^{\\lambda(e^t-1)}$$<div align ='right'> (41)</div>\n",
    " \n",
    " - ค่าคาดหมาย(Mean) เท่ากับ $\\Psi^1(0) = \\lambda$\n",
    " - ค่าความแปรปรวน(Variance) เท่ากับ $\\Psi^2(0)-\\lambda^2 = (\\lambda^2+\\lambda)-\\lambda^2 = \\lambda$"
   ]
  },
  {
   "cell_type": "markdown",
   "metadata": {},
   "source": [
    "## ผลรวมของตัวแปรสุ่มที่มีการแจกแจงแบบ Poisson จะมีการแจกแจงแบบ Poison\n",
    "\n",
    "**theorem**\n",
    "\n",
    ">สมมุติให้ $X_i$ มีการแจกแจงแบบ Poisson(Poisson Distribution) ที่พารามิเตอร์ $\\lambda_i$ สำหรับ $i=1,...,n$ และ $X_1,...,X_n$ เป็นอิสระต่อกัน(Independent) แล้ว ตัวแปรสุ่ม $Y=\\sum_{i=1}^{n}X_i$ จะมีการแจกแจงแบบ Poisson(Poisson Distribution) ที่มีพารามิเตอร์ $\\lambda_y = \\sum_{i=1}^{n}\\lambda_i$\n",
    "\n",
    "**Proof**\n",
    ">เนื่องจาก $X_1,...,X_n$ เป็นอิสระต่อกัน(Independent) ัดังนั้น ฟังก์ชันก่อกำเนิดโมเมนต์(m.g.f.) ของ $Y$ เท่ากับ \n",
    "\n",
    "$$\\Psi_y(t) = \\prod_{i=1}^{n}e^{\\lambda_i(e^t-1)} = e^{(\\sum_{i=1}^{n}\\lambda_i)(e^t-1)}$$\n",
    "\n",
    "\n",
    ">ซึ่งมีค่าเท่ากับฟังก์ชันก่อกำเนิกโมเมนต์(m.g.f.) ของการแจกแจงแบบ Poisson(Poisson Distribution) ที่มีพารามิเตอร์ $\\lambda_y = \\sum_{i=1}^{n}\\lambda_i$"
   ]
  },
  {
   "cell_type": "markdown",
   "metadata": {},
   "source": [
    "## ความสัมพันธ์ระหว่างการแจกแจงแบบ Poisson และ การแจกแจงแบบ Binomial\n",
    "\n",
    "**Theorem**\n",
    ">ในกรณี พารามิเตอร์ $n$ ของการแจกแจงแบบ Binomial Distribution มีค่ามาก($n\\rightarrow \\infty$) ฟังก์ชันการแจกแจงจะลู่เข้าสู่ การแจกแจงแบบ Poisson Distribution ที่พารามิเตอร์ $\\lambda = np$"
   ]
  },
  {
   "cell_type": "markdown",
   "metadata": {},
   "source": [
    "**Proof**\n",
    "\n",
    ">ในกรณี พารามิเตอร์ $n$ ของการแจกแจงแบบ binomial มีค่ามาก($n\\rightarrow \\infty$) ฟังก์ชันการแจกแจงจะลู่เข้าสู่ การแจกแจงแบบ Poisson Distribution ที่พารามิเตอร์ $\\lambda$ \n",
    "\n",
    "$$f(x) = \\binom{n}{x}p^x(1-p)^{n-x} = \\frac{(n)(n-1)(n-3)...(n-x+1)}{x!}p^x(1-p)^{n-x}$$\n",
    "\n",
    ">ให้ $\\lambda = np$ $$f(x) = \\frac{\\lambda^x}{x!}(\\frac{n}{n}.\\frac{n-1}{n}.\\frac{n-2}{n},...,\\frac{n-x+1}{n}.(1-\\frac{\\lambda}{n})^{n})(1-\\frac{\\lambda}{n})^{-x}$$\n",
    "\n",
    ">ถ้า ($n\\rightarrow\\infty$) แล้ว $$\\displaystyle \\lim_{n \\to \\infty}\\frac{n}{n}.\\frac{n-1}{n}.\\frac{n-2}{n},...,\\frac{n-x+1}{n}.(1-\\frac{\\lambda}{n})^{n})=1 $$ และ $$\\displaystyle \\lim_{n \\to \\infty}(1-\\frac{\\lambda}{n})^{-x}=e^{-\\lambda}$$\n",
    "\n",
    "$$f(x) = \\frac{\\lambda^x}{x!}e^{-\\lambda}$$<div align ='right'> (42)</div>"
   ]
  },
  {
   "cell_type": "markdown",
   "metadata": {},
   "source": [
    "อ้างอิง: [$Lecture Note^1$](http://riped.utcc.ac.th/tee/wp-content/uploads/sites/3/2019/08/stat-thai.pdf)"
   ]
  }
 ],
 "metadata": {
  "kernelspec": {
   "display_name": "Python 3",
   "language": "python",
   "name": "python3"
  },
  "language_info": {
   "codemirror_mode": {
    "name": "ipython",
    "version": 3
   },
   "file_extension": ".py",
   "mimetype": "text/x-python",
   "name": "python",
   "nbconvert_exporter": "python",
   "pygments_lexer": "ipython3",
   "version": "3.8.1"
  }
 },
 "nbformat": 4,
 "nbformat_minor": 2
}
