{
 "cells": [
  {
   "cell_type": "markdown",
   "metadata": {},
   "source": [
    "# <center> Covariance, Correlation, and Moments\n",
    "\n"
   ]
  },
  {
   "cell_type": "markdown",
   "metadata": {},
   "source": [
    "## ความแปรปรวนร่วมและสหสัมพันธ์ (Covariance and Correlation)"
   ]
  },
  {
   "cell_type": "markdown",
   "metadata": {},
   "source": [
    " * ความแปรปรวนร่วมและสหสัมพันธ์ คือ “ความสัมพันธ์ระหว่างตัวแปรสุ่ม” เป็นสิ่งที่นักวิเคราะห์ต้องการทราบ\n"
   ]
  },
  {
   "cell_type": "markdown",
   "metadata": {},
   "source": [
    "##### Definition"
   ]
  },
  {
   "cell_type": "markdown",
   "metadata": {},
   "source": [
    "    กำหนดให้ X และ Y เป็นตัวแปรสุ่มที่ค่าคาดหมายมีค่าจำกัด และ E[X] = µX และ E[Y] = µY\n",
    "\n",
    "ความแปรปรวนร่วม (covariance) ของ X และ Y นิยามได้เป็น"
   ]
  },
  {
   "cell_type": "markdown",
   "metadata": {},
   "source": [
    "<center> Cov[X,Y] = E[(X − µX) (Y − µY)]"
   ]
  },
  {
   "cell_type": "markdown",
   "metadata": {},
   "source": [
    "ถ้าค่าคาดหมายมีค่าจำกัด"
   ]
  },
  {
   "cell_type": "markdown",
   "metadata": {},
   "source": [
    "* ความแปรปรวนร่วม (covariance) ก็คือค่าคาดหมายของฟังก์ชันของ “ตัวแปรสุ่ม” อย่างหนึ่งนั่นเอง"
   ]
  },
  {
   "cell_type": "markdown",
   "metadata": {},
   "source": [
    "## ทฤษฎี: ความแปรปรวนร่วม(Covariance)"
   ]
  },
  {
   "cell_type": "markdown",
   "metadata": {},
   "source": [
    "##### Theorem"
   ]
  },
  {
   "cell_type": "markdown",
   "metadata": {},
   "source": [
    "    สำหรับตัวแปรสุ่ม X และ Y ที่ความแปรปรวนร่วม (covariance) มีค่าจำกัดใดๆ"
   ]
  },
  {
   "cell_type": "markdown",
   "metadata": {},
   "source": [
    "<center> $Cov[X,Y] = E[XY] − E[X]E[Y]$ "
   ]
  },
  {
   "cell_type": "markdown",
   "metadata": {},
   "source": [
    "##### Proof."
   ]
  },
  {
   "cell_type": "markdown",
   "metadata": {},
   "source": [
    "    กำหนดให้ E[X] = µX และ E[Y] = µY"
   ]
  },
  {
   "cell_type": "markdown",
   "metadata": {},
   "source": [
    "    Cov[X,Y] = E[(X − µX) (Y − µY)] = E[XY − µXY − µYX + µXµY]\n",
    "    \n",
    "             = E[XY] − µXE[Y] − µYE[X] + µXµY\n",
    "             \n",
    "             = E[XY] − µXµY = E[XY] − E[X]E[Y]"
   ]
  },
  {
   "cell_type": "markdown",
   "metadata": {},
   "source": [
    "## ข้อสังเกตของความแปรปรวนร่วม (Covariance)"
   ]
  },
  {
   "cell_type": "markdown",
   "metadata": {},
   "source": [
    "* ข้อจำกัดอย่างหนึ่งคือการที่ขนาดของความแปรปรวนร่วม (covariance) ขึ้นอยู่กับขนาดของแต่ละตัวแปร\n",
    "* การเปรียบเทียบค่าความแปรปรวนร่วม (covariance) บอกได้ยาก ว่าตัวแปรคู่ใดมีความสัมพันธ์ระหว่างกัน (association) มากกว่ากัน\n",
    "* เราต้องหานิยามค่าสถิติที่บอกถึง ความสัมพันธ์แต่ไม่ขึ้นอยู่กับขนาดของแต่ละตัวแปรโดยตรง หรือมีการปรับขนาด (re-scaling) นั่นเอง"
   ]
  },
  {
   "cell_type": "markdown",
   "metadata": {},
   "source": [
    "## นิยาม: สหสัมพันธ์ (Correlation)"
   ]
  },
  {
   "cell_type": "markdown",
   "metadata": {},
   "source": [
    "##### Definition"
   ]
  },
  {
   "cell_type": "markdown",
   "metadata": {},
   "source": [
    "    กำหนดให้ X และ Y เป็นตัวแปรสุ่มที่ความแปรปรวน (variance) มีค่าจำกัด นั่นคือ "
   ]
  },
  {
   "cell_type": "markdown",
   "metadata": {},
   "source": [
    "<center> $\\sigma _{X}^{2}< \\infty$  และ $\\sigma _{ํY}^{2}< \\infty$"
   ]
  },
  {
   "cell_type": "markdown",
   "metadata": {},
   "source": [
    "    สหสัมพันธ์ (correlation) ของ X และ Y นิยามได้เป็น "
   ]
  },
  {
   "cell_type": "markdown",
   "metadata": {},
   "source": [
    "<center> $\\rho [X,Y] =\\frac{Cov[X,Y]}{\\sigma _{X}\\sigma _{Y}}$"
   ]
  },
  {
   "cell_type": "markdown",
   "metadata": {},
   "source": [
    "* ค่าสมบูรณ์ของสหสัมพันธ์มีค่าน้อยกว่าหรือเท่ากับหนึ่งเสมอ\n"
   ]
  },
  {
   "cell_type": "markdown",
   "metadata": {},
   "source": [
    "## ทฤษฎี : สหสัมพันธ์ (Correlation)"
   ]
  },
  {
   "cell_type": "markdown",
   "metadata": {},
   "source": [
    "##### Theorem"
   ]
  },
  {
   "cell_type": "markdown",
   "metadata": {},
   "source": [
    "    สำหรับตัวแปรสุ่ม X และ Y ใดๆ ที่ E[XY] หาค่าได้"
   ]
  },
  {
   "attachments": {
    "image.png": {
     "image/png": "[encoded data removed]"
    }
   },
   "cell_type": "markdown",
   "metadata": {},
   "source": [
    "![image.png](attachment:image.png)"
   ]
  },
  {
   "cell_type": "markdown",
   "metadata": {},
   "source": [
    "    ความสัมพันธ์นี้เป็นจริงในรูปแบบสมการก็ต่อเมื่อมีจำนวนจริงที่ไม่เท่ากับศูนย์ a ̸= 0 และ b ̸= 0 ที่ทำให้ aX + bY = 0 ด้วยความน่าจะเป็นเท่ากับหนึ่ง\n"
   ]
  },
  {
   "cell_type": "markdown",
   "metadata": {},
   "source": [
    "##### Proof."
   ]
  },
  {
   "cell_type": "markdown",
   "metadata": {},
   "source": [
    "กรณีที่ "
   ]
  },
  {
   "cell_type": "markdown",
   "metadata": {},
   "source": [
    "<center> $E(X)^{2}$ = $\\infty$ หรือ $E(Y)^{2}$ = $\\infty$"
   ]
  },
  {
   "cell_type": "markdown",
   "metadata": {},
   "source": [
    "   * ไม่จำเป็นต้องพิสูจน์อะไรมากเพราะพจน์ด้านขวาเท่ากับอนันต์ดังนั้นอสมการเป็นจริง"
   ]
  },
  {
   "cell_type": "markdown",
   "metadata": {},
   "source": [
    "  <center> $E(X)^{2} = 0 $"
   ]
  },
  {
   "cell_type": "markdown",
   "metadata": {},
   "source": [
    "   * สามารถพิสูจน์ได้โดยเริ่มจาก Pr(X = 0) = 1 ดังนั้น E[XY] = 0 ซึ่งมีผลทำให้อสมการที่นี้เป็นจริงเช่นกัน\n"
   ]
  },
  {
   "cell_type": "markdown",
   "metadata": {},
   "source": [
    " <center> $E(Y)^{2} = 0$"
   ]
  },
  {
   "cell_type": "markdown",
   "metadata": {},
   "source": [
    "* ก็สามารถพิสูจน์ได้ในทำนองเดียวกัน"
   ]
  },
  {
   "cell_type": "markdown",
   "metadata": {},
   "source": [
    "## พิสูจน์: สหสัมพันธ์ (Correlation)"
   ]
  },
  {
   "cell_type": "markdown",
   "metadata": {},
   "source": [
    "##### Proof.\n"
   ]
  },
  {
   "cell_type": "markdown",
   "metadata": {},
   "source": [
    "* กรณีที่ 0 < $E(X)^{2}$ < $\\infty$  และ 0 < $E(Y)^{2}$ < $\\infty$ สามารถพิสูจน์ได้โดยเริ่มจากการพิจารณาความสัมพันธ์ต่อไปนี้\n",
    "สำหรับค่าจำนวนจริงที่ไม่เท่ากับศูนย์a, b ใดๆ\n"
   ]
  },
  {
   "cell_type": "markdown",
   "metadata": {},
   "source": [
    "<center> $E[(aX + bY)^{2}] = a^{2}E(X)^{2}+ b^{2}E(Y)^{2}+ 2abE[XY] \\geq 0$"
   ]
  },
  {
   "cell_type": "markdown",
   "metadata": {},
   "source": [
    "<center> $E[(aX - bY)^{2}] = a^{2}E(X)^{2}+ b^{2}E(Y)^{2}- 2abE[XY] \\geq 0$"
   ]
  },
  {
   "cell_type": "markdown",
   "metadata": {},
   "source": [
    "* หากเลือก $a=\\sqrt{E(Y)^{2}}$ และ $b=\\sqrt{E(X)^{2}}$ จะสามารถเขียนสมการได้ไหม่เป็น"
   ]
  },
  {
   "cell_type": "markdown",
   "metadata": {},
   "source": [
    "<center> $E[XY] \\geq  - \\sqrt{E(X)^{2}E(Y)^{2}}$"
   ]
  },
  {
   "cell_type": "markdown",
   "metadata": {},
   "source": [
    "<center> $E[XY] \\leq   \\sqrt{E(X)^{2}E(Y)^{2}}$"
   ]
  },
  {
   "cell_type": "markdown",
   "metadata": {},
   "source": [
    "<center> $E(XY)^{2} \\leq E(X)^{2}E(Y)^{2}$"
   ]
  },
  {
   "cell_type": "markdown",
   "metadata": {},
   "source": [
    "* สรุปได้ว่า"
   ]
  },
  {
   "cell_type": "markdown",
   "metadata": {},
   "source": [
    "<center>$E[(aX + bY)^{2}] = 0\\rightarrow Pr (aX + bY = 0) = 1$\n",
    "<center>$E[(aX - bY)^{2}] = 0\\rightarrow Pr (aX - bY = 0) = 1$"
   ]
  },
  {
   "cell_type": "markdown",
   "metadata": {},
   "source": [
    "## ทฤษฎี: อสมการโคชีและชวาร์ซ (Cauchy-Schwarz Inequality)"
   ]
  },
  {
   "cell_type": "markdown",
   "metadata": {},
   "source": [
    "##### Theorem"
   ]
  },
  {
   "cell_type": "markdown",
   "metadata": {},
   "source": [
    " กำหนดให้ X และ Y เป็นตัวแปรสุ่มที่ความแปรปรวน (variance) มีค่าจำกัด นั่นคือ $\\sigma _{X}^{2} <\\infty$ และ $\\sigma _{Y}^{2} <\\infty$ สหสัมพันธ์ (correlation) ของ X และ Y มีค่าอยู่ระหว่าง [−1, 1] นั่นคือ"
   ]
  },
  {
   "cell_type": "markdown",
   "metadata": {},
   "source": [
    "<center>  $- 1 \\leq \\rho  [X,Y] \\leq  1$"
   ]
  },
  {
   "cell_type": "markdown",
   "metadata": {},
   "source": [
    "และความแปรปรวนร่วม (covariance) ของ X และ Y มีความสัมพันธ์กับความแปรปรวน(variance) ของแต่ละตัวแปรสุ่มดังนี้"
   ]
  },
  {
   "cell_type": "markdown",
   "metadata": {},
   "source": [
    "<center>$ (Cov[X,Y])^{2}\\leq \\sigma _{X}^{2}\\sigma _{Y}^{2}$"
   ]
  },
  {
   "cell_type": "markdown",
   "metadata": {},
   "source": [
    "โดยที่ อสมการที่ จะเป็นจริงในรูปแบบสมการก็ต่อเมื่อ มีจำนวนจริงที่ไม่เท่ากับศูนย์ a, b ̸= 0และจำนวนจริง c ที่ทำให้ aX + bY = c ด้วยความน่าจะเป็นเท่ากับ 1"
   ]
  },
  {
   "cell_type": "markdown",
   "metadata": {},
   "source": [
    "## พิสูจน์: ทฤษฎีของอสมการโคชีและชวาร์ซ (Cauchy-Schwarz Inequality)"
   ]
  },
  {
   "cell_type": "markdown",
   "metadata": {},
   "source": [
    "##### Proof."
   ]
  },
  {
   "cell_type": "markdown",
   "metadata": {},
   "source": [
    "    ประยุกต์ใช้ทฤษฎีบทก่อนหน้านี้ เพื่อแสดงว่า"
   ]
  },
  {
   "cell_type": "markdown",
   "metadata": {},
   "source": [
    "<center> $(Cov[X,Y])^{2} = (E[(X -\\mu _{X}) (Y -\\mu _{Y})])^{2} \\leq E[(X -\\mu _{X})]^{2}E[(X -\\mu _{Y})]^{2}= \\sigma _{X}^{2}\\sigma _{Y}^{2}$"
   ]
  },
  {
   "cell_type": "markdown",
   "metadata": {},
   "source": [
    "    ซึ่งจะเป็นจริงในรูปแบบสมการก็ต่อเมื่อมีจำนวนจริงที่ไม่เท่ากับศูนย์a ̸= 0 และ b ̸= 0 ที่ทำให้ aX + bY = 0 ด้วยความน่าจะเป็นเท่ากับหนึ่ง เช่นเดียวกับกรณีของทฤษฎีก่อนหน้านี้ ยิ่งไปกว่านั้นความสัมพัน์ที่ได้นำไปสู่ข้อสรุปที่ว่า"
   ]
  },
  {
   "cell_type": "markdown",
   "metadata": {},
   "source": [
    " <center>$-\\sigma _{X}^{2}\\sigma _{Y}^{2} \\leq Cov[X,Y]\\leq \\sigma _{X}^{2}\\sigma _{Y}^{2} \\rightarrow -1 \\leq \\frac{Cov[X,Y]}{\\sigma _{X}^{2}\\sigma _{Y}^{2}} \\leq 1 \\rightarrow -1 \\leq \\rho [X,Y] \\leq 1$"
   ]
  },
  {
   "cell_type": "markdown",
   "metadata": {},
   "source": [
    "* “ค่าสมบูรณ์ของสหสัมพันธ์มีค่าน้อยกว่าหรือเท่ากับหนึ่ง” เสมอ"
   ]
  },
  {
   "cell_type": "markdown",
   "metadata": {},
   "source": [
    "## นิยาม: สหสัมพันธ์เชิงบวกและเชิงลบ (positively and negatively correlated)"
   ]
  },
  {
   "cell_type": "markdown",
   "metadata": {},
   "source": [
    "##### Definition"
   ]
  },
  {
   "cell_type": "markdown",
   "metadata": {},
   "source": [
    "    ตัวแปรสุ่ม X และ Y มีสหสัมพันธ์เชิงบวก (positively correlated) ถ้า ρ [X,Y] > 0 และมีสหสัมพันธ์เชิงลบ (negatively correlated) ถ้า ρ [X,Y] < 0 ส่วนกรณีที่ ρ [X,Y] = 0 หมายความว่า X และ Y ไม่มีสหสัมพันธ์ (uncorrelated)"
   ]
  },
  {
   "cell_type": "markdown",
   "metadata": {},
   "source": [
    "* ความสัมพันธ์ระหว่างความเป็นอิสระต่อกัน (independent) และการไม่มีสหสัมพันธ์ (uncorrelated) ซึ่งกล่าวว่า “ตัวแปรสุ่มที่เป็นอิสระต่อกันต้องไม่มีสหสัมพันธ์”\n"
   ]
  },
  {
   "cell_type": "markdown",
   "metadata": {},
   "source": [
    "## ทฤษฎี: การไม่มีสหสัมพันธ์ (uncorrelated)"
   ]
  },
  {
   "cell_type": "markdown",
   "metadata": {},
   "source": [
    "##### Theorem"
   ]
  },
  {
   "cell_type": "markdown",
   "metadata": {},
   "source": [
    "   ถ้าตัวแปรสุ่ม X และ Y เป็นอิสระต่อกัน (independent) และ $\\sigma _{X}^{2}< \\infty$  และ $\\sigma _{ํY}^{2}< \\infty$ แล้ว"
   ]
  },
  {
   "cell_type": "markdown",
   "metadata": {},
   "source": [
    "<center> $Cov[X,Y] = ρ [X,Y] = 0$"
   ]
  },
  {
   "cell_type": "markdown",
   "metadata": {},
   "source": [
    "##### Proof"
   ]
  },
  {
   "cell_type": "markdown",
   "metadata": {},
   "source": [
    "เนื่องจาก X และ Y เป็นอิสระต่อกัน (independent)\n",
    "* E[XY] = E[X]E[Y] ซึ่งหมายความว่า E[XY] − E[X]E[Y] = Cov[X,Y] = 0\n",
    "* ผลที่ตามมาอีกอย่างหนึ่งก็คือ ρ [X,Y] = 0\n",
    "* ตัวแปรสุ่มที่ไม่มีสหสัมพันธ์อาจจะไม่เป็นอิสระต่อกันก็ได้\n",
    "* สะท้อนให้เห็นว่า การเป็นอิสระต่อกัน (independent) นั้นเป็น “ข้อจำกัดที่เข้มข้น มากกว่า” การไม่มีสหสัมพันธ์ (uncorrelated)"
   ]
  },
  {
   "cell_type": "markdown",
   "metadata": {},
   "source": [
    "## ตัวอย่าง: ค่าสหสัมพันธ์ และ การเป็นอิสระต่อกัน"
   ]
  },
  {
   "cell_type": "markdown",
   "metadata": {},
   "source": [
    "    กำหนดให้X เป็นตัวแปรสุ่มที่มีค่าที่เป็นไปได้สามค่าคือ {−1, 0, 1} และมีความน่าจะเป็นเท่ากับ"
   ]
  },
  {
   "cell_type": "markdown",
   "metadata": {},
   "source": [
    "<center> $Pr (X = −1) = Pr (X = 0) = Pr (X = 1) = \\frac{1}{3}$"
   ]
  },
  {
   "cell_type": "markdown",
   "metadata": {},
   "source": [
    "สมมุติให้$Y = X^{2}$ ดังนั้น X และ Y ไม่เป็นอิสระต่อกันอย่างชัดเจน ส่วนที่เหลืออยู่คือการตรวจสอบว่า X และ Y มีสหสัมพันธ์ต่อกันหรือไม่?"
   ]
  },
  {
   "cell_type": "markdown",
   "metadata": {},
   "source": [
    "* หาว่า E[X] = 0\n",
    "* ค่าสหสัมพันธ์ของ X และ Y"
   ]
  },
  {
   "cell_type": "markdown",
   "metadata": {},
   "source": [
    "<center> Cov[X,Y] = E[XY] − E[X]E[Y] = E[XY]"
   ]
  },
  {
   "cell_type": "markdown",
   "metadata": {},
   "source": [
    "<center> = Pr (X = −1,Y = 1) (−1) + Pr (X = 0,Y = 0) (0) + Pr (X = 1,Y = 1) (1)"
   ]
  },
  {
   "cell_type": "markdown",
   "metadata": {},
   "source": [
    "<center> = $-\\frac{1}{3} + 0 + \\frac{1}{3} = 0 $ "
   ]
  },
  {
   "cell_type": "markdown",
   "metadata": {},
   "source": [
    "* X และ Y ไม่มีสหสัมพันธ์ (uncorrelated) ทั้งที่ไม่เป็นอิสระต่อกัน"
   ]
  },
  {
   "cell_type": "markdown",
   "metadata": {},
   "source": [
    "## ข้อสังเกต: ค่าสหสัมพันธ์ และ การเป็นอิสระต่อกัน"
   ]
  },
  {
   "cell_type": "markdown",
   "metadata": {},
   "source": [
    "* ตัวอย่างนี้คือความสัมพันธ์ระหว่าง X และ Y เป็นแบบไม่เป็นเชิงเส้น (nonlinear)\n",
    "   \n",
    "  * มีส่วนสำคัญที่ทำให้เกิดปรากฏการณ์ที่ตัวแปรสุ่มสองตัวที่ไม่เป็นอิสระต่อกัน แต่กลับไม่มีสหสัมพันธ์ (uncorrelated)\n",
    "  \n",
    "  \n",
    "  \n",
    "* แต่ถ้าความสัมพันธ์ของตัวแปรเป็นแบบเชิงเส้น (linear) จะสามารถสรุปได้ว่า ตัวแปรสุ่มสองตัวที่ไม่เป็นอิสระต่อกันจะมีสหสัมพันธ์ต่อกัน"
   ]
  },
  {
   "cell_type": "markdown",
   "metadata": {},
   "source": [
    "##### Theorem"
   ]
  },
  {
   "cell_type": "markdown",
   "metadata": {},
   "source": [
    "กำหนดให้ X เป็นตัวแปรสุ่มที่ 0 < $\\sigma _{X}^{2}< \\infty$  < ∞ และ Y = aX + b สำหรับค่าคงที่ a ̸= 0 และ b แล้วสามารถสรุปได้ว่า\n"
   ]
  },
  {
   "cell_type": "markdown",
   "metadata": {},
   "source": [
    "1. ถ้า a > 0 แล้ว ρ [X,Y] = 1\n",
    "\n",
    "\n",
    "2. ถ้า a < 0 แล้ว ρ [X,Y] = −1"
   ]
  },
  {
   "cell_type": "markdown",
   "metadata": {},
   "source": [
    "## สหสัมพันธ์ใช้วัดความสัมพันธ์เชิงเส้นเป็นหลัก"
   ]
  },
  {
   "cell_type": "markdown",
   "metadata": {},
   "source": [
    "##### Theorem"
   ]
  },
  {
   "cell_type": "markdown",
   "metadata": {},
   "source": [
    "กำหนดให้ X และ Y เป็นตัวแปรสุ่มที่ความแปรปรวน (variance) มีค่าจำกัด นั่นคือ $\\sigma _{X}^{2}< \\infty$ และ $\\sigma _{Y}^{2}< \\infty$\n",
    "ถ้า |ρ [X,Y] | = 1 แล้ว \n",
    "จะต้องมีค่าคงที่ a $\\neq $ 0, b $\\neq $ 0, และ c ที่ทำให้ aX + bY = c ด้วยความน่าจะเป็นเท่ากับหนึ่ง"
   ]
  },
  {
   "cell_type": "markdown",
   "metadata": {},
   "source": [
    "##### Proof."
   ]
  },
  {
   "cell_type": "markdown",
   "metadata": {},
   "source": [
    "เริ่มจากอสมการโคชีและชวาร์ซ (Cauchy-Schwarz Inequality)\n",
    "    "
   ]
  },
  {
   "cell_type": "markdown",
   "metadata": {},
   "source": [
    "<center> $(Cov[X,Y])^{2} \\leq \\sigma _{X}^{2}\\sigma _{Y}^{2}$"
   ]
  },
  {
   "cell_type": "markdown",
   "metadata": {},
   "source": [
    "ซึ่งจะเป็นจริงในรูปแบบสมการก็ต่อเมื่อมีจำนวนจริงที่ไม่เท่ากับศูนย์a, b $\\neq$ 0 และจำนวนจริง c\n",
    "ที่ทำให้aX + bY = c ด้วยความน่าจะเป็นเท่ากับ 1 ซึ่งหมายความว่า ถ้า"
   ]
  },
  {
   "cell_type": "markdown",
   "metadata": {},
   "source": [
    "<center> $(Cov[X,Y])^{2} = \\sigma _{X}^{2}\\sigma _{Y}^{2}$"
   ]
  },
  {
   "cell_type": "markdown",
   "metadata": {},
   "source": [
    "ก็ต่อเมื่อมีจำนวนจริงที่ไม่เท่ากับศูนย์a, b $ \\neq$ 0 และจำนวนจริง c ที่ทำให้aX + bY = c ด้วยความน่าจะเป็นเท่ากับ 1"
   ]
  },
  {
   "cell_type": "markdown",
   "metadata": {},
   "source": [
    "## ทฤษฎี: ผลรวมเชิงเส้นของความแปรปรวนร่วมสำหรับตัวแปรสุ่ม 2 ตัว"
   ]
  },
  {
   "cell_type": "markdown",
   "metadata": {},
   "source": [
    "##### Theorem"
   ]
  },
  {
   "cell_type": "markdown",
   "metadata": {},
   "source": [
    "ถ้า X และ Y เป็นตัวแปรสุ่มที่ความแปรปรวน (variance) มีค่าจำกัด นั่นคือ $\\sigma _{X}^{2}< \\infty$ และ $\\sigma _{Y}^{2}< \\infty$ แล้ว "
   ]
  },
  {
   "cell_type": "markdown",
   "metadata": {},
   "source": [
    "<center> $ Var [aX + bY + c] = a^{2} Var [X] + b^{2}  Var [Y]+ 2abCov[X,Y] $"
   ]
  },
  {
   "cell_type": "markdown",
   "metadata": {},
   "source": [
    "* ทฤษฎีบทต่อไปนี้แสดงวิธีการคำนวณค่าความแปรปรวนของผลรวมของตัวแปรสุ่มสองตัว ซึ่งรวมทั้งกรณีที่ตัวแปรสุ่มทั้งสองมีสหสัมพันธ์ต่อกันด้วย"
   ]
  },
  {
   "cell_type": "markdown",
   "metadata": {},
   "source": [
    "## ทฤษฎี: ผลรวมเชิงเส้นของความแปรปรวนร่วมสำหรับตัวแปรสุ่มหลายตัว"
   ]
  },
  {
   "cell_type": "markdown",
   "metadata": {},
   "source": [
    "##### Theorem"
   ]
  },
  {
   "cell_type": "markdown",
   "metadata": {},
   "source": [
    "ถ้า X1, . . . , Xn เป็นตัวแปรสุ่มที่ความแปรปรวน (variance) มี่าจำกัด นั่นคือ Var [Xi] $< \\infty $ แล้ว\n"
   ]
  },
  {
   "cell_type": "markdown",
   "metadata": {},
   "source": [
    "<center> $Var[\\sum_{i=1}^{n} a_{i} x_{i}] = \\sum_{i=1}^{n} {a_{i}}^{2} Var [x_{i}] + 2 a_{i}a_{j}\\sum_{i<j}^{} Cov [x_{i},x_{j}]$"
   ]
  },
  {
   "cell_type": "markdown",
   "metadata": {},
   "source": [
    "##### Proof."
   ]
  },
  {
   "cell_type": "markdown",
   "metadata": {},
   "source": [
    "<center> $Var[\\sum_{i=1}^{n} a_{i} x_{i}] = Cov [\\sum_{i=1}^{n}a_{i} x_{i} ,\\sum_{j=1}^{n}a_{j} x_{j}] = \\sum_{i=1}^{n}  \\sum_{j=1}^{n}a_{i}a_{j} Cov [x_{i},x_{j}]$\n",
    "    \n",
    "    "
   ]
  },
  {
   "cell_type": "markdown",
   "metadata": {},
   "source": [
    "<center> $=\\sum_{i=1}^{n} {a_{i}}^{2}Cov [x_{i},x_{j}] + \\sum_{i\\neq j}^{}a_{i}a_{j} Cov [x_{i},x_{j}]$"
   ]
  },
  {
   "cell_type": "markdown",
   "metadata": {},
   "source": [
    "<center> $=\\sum_{i=1}^{n} {a_{i}}^{2}Cov [x_{i}] +2a_{i}a_{j} \\sum_{i< j}^{} Cov [x_{i},x_{j}]$"
   ]
  },
  {
   "cell_type": "markdown",
   "metadata": {},
   "source": [
    "## ตัวอย่าง: ขอบเขตของค่าคาดหมายและความแปรปรวนของกลุ่มหลักทรัพย์(mean-variance frontier)"
   ]
  },
  {
   "cell_type": "markdown",
   "metadata": {},
   "source": [
    "กำหนดให้$R_{i}$ แทนอัตราผลตอบแทนรวม (gross return) ต่อปีของกองทุนรวม (mutual fund) i สำหรับ i = 1, . . . ,n และกำหนดให้ $\\alpha_{i} \\epsilon [0, 1]$ โดยที่ $\\sum \\alpha _{i} =1$ แทนสัดส่วนการลงทุนในกองทุน i ของกลุ่มหลักทรัพย์ (portfolio) ที่สนใจ\n",
    "\n",
    "สิ่งที่ต้องการทราบคือกลุ่มหลักทรัพย์ (portfolio) คืออัตราผลตอบแทนรวมของกลุ่มหลักทรัพย์(portfolio) หลังจากลงทุนเป็นเวลาหนึ่งปี\n"
   ]
  },
  {
   "cell_type": "markdown",
   "metadata": {},
   "source": [
    "<center> $ R = \\sum_{i=1}^{n} \\alpha_{i} R_{i}$"
   ]
  },
  {
   "cell_type": "markdown",
   "metadata": {},
   "source": [
    "ซึ่งเป็นตัวแปรสุ่มเพราะเป็นฟังก์ชันของตัวแปรสุ่ม"
   ]
  },
  {
   "cell_type": "markdown",
   "metadata": {},
   "source": [
    "## รูปแสดงขอบเขตของค่าคาดหมายและความแปรปรวนของกลุ่มหลักทรัพย์(mean-variance frontier)"
   ]
  },
  {
   "cell_type": "markdown",
   "metadata": {},
   "source": [
    "        ยกตัวอย่างกองทุนรวม 5 กองทุน ซึ่งประกอบไปด้วย ABSM, 1AMSET50, BTP, CGLTF, ABAG และใช้ข้อมูลอัตราผลตอบแทนรวมสุทธิตั้งแต่11/9/2017 จนถึง 11/9/2018 และ แสดงเป็นกราฟความสัมพันธ์และจัดกลุ่มหลักทรัพย์ได้คือ"
   ]
  },
  {
   "cell_type": "markdown",
   "metadata": {},
   "source": [
    "<img src=\"images/6.1.jpg\" width = 750 align=\"center\">"
   ]
  },
  {
   "cell_type": "markdown",
   "metadata": {},
   "source": [
    "## โมเมนต์และฟังก์ชันก่อกำเนิดโมเมนต์ (Moments and Moment Generating Function)"
   ]
  },
  {
   "cell_type": "markdown",
   "metadata": {},
   "source": [
    "* ที่ผ่านมา คุณสมบัติทั้งหมดของตัวแปรสุ่มในรูปของ ฟังก์ชันการแจกแจง (distribution function) ไม่ว่าจะเป็นในรูปของฟังก์ชันความหนาแน่นของความน่าจะเป็น (p.d.f.) หรือ ฟังก์ชันความน่าจะเป็นสะสม (C.D.F.)\n",
    "\n",
    "\n",
    "* “ค่าคาดหมาย (expectation)” เป็นเครื่องมือที่ช่วย “สรุปคุณสมบัติของการแจกแจง” ให้เข้าใจได้ง่ายและสะดวกมากยิ่งขึ้น แต่ค่าคาดหมาย (expectation) อันเดียว “ไม่สามารถบ่งบอก” ถึงคุณสมบัติของการแจกแจงได้ครบถ้วน\n",
    "\n",
    "\n",
    "* หากรวบรวมเอาค่าคาดหมายของฟังก์ชันยกกำลังของตัวแปรสุ่มสำหรับทุกๆ ค่ายกกำลังที่เป็นจำนวนเต็มบวกแล้วก็จะได้คุณสมบัติที่ครบถ้วนตามที่ต้องการ นักสถิติมักเรียกค่าคาดหมายของฟังก์ชันยกกำลังของตัวแปรสุ่มว่า ค่าโมเมนต์ (moment)\n",
    "\n",
    "\n",
    "* ที่สำคัญเราสามารถรวบรวมเอาค่าโมเมนต์ทั้งหมดนั้นมาไว้ด้วยกันในรูปของฟังก์ชัน โดยเรียกฟังก์ชันนี้ว่า ฟังก์ชันก่อกำเนิดโมเมนต์ (moment generating function หรือ m.g.f.)\n",
    "\n",
    "\n",
    "* การแจกแจงอันใดอันหนึ่ง มีฟังก์ชันก์อกำเนิดโมเมนต์ (m.g.f.) ได้เพียงอันเดียว (unique)\n",
    "\n",
    "\n",
    "* โมเมนต์ (moment) ที่ k ของ X คือค่าคาดหมายของ $X^{k}$ ซึ่งแทนด้วย $E[X^{k}]$\n",
    "    *  µ = E[X] แทนค่าคาดหมายของ X\n",
    "\n",
    "\n",
    "* ส่วน $E[(X-\\mu )^{k}]$ นั้นจะถูกเรียกว่า โมเมนต์ศูนย์กลาง (central moment) ที่ k ของ x\n",
    "    * โมเมนต์ศูนย์กลางที่สองก็คือค่าความแปรปรวน $E[(X-\\mu )^{2}] = Var(X)$\n",
    "    * ส่วนโมเมนต์ศูนย์กลางที่สามนั้นใช้เพื่อบ่งบอกถึงความสมมาตร (symmetry) ของการแจกแจงซึ่งวัดด้วยค่าสถิติที่เรียกว่าความเบ้ (skewness)  \n",
    "        ซึ่งนิยามได้เป็น $\\frac{E[(X-\\mu )^{3}]}{\\sigma ^{3}}$"
   ]
  },
  {
   "cell_type": "markdown",
   "metadata": {},
   "source": [
    "## ทฤษฎี: โมเมนต์ที่มีค่าจำกัด\n"
   ]
  },
  {
   "cell_type": "markdown",
   "metadata": {},
   "source": [
    "        ทฤษฎีบทนี้แสดงว่าหากโมเมนต์ที่ k มีค่าจำกัด ค่าโมเมนต์ที่ต่ำกว่านั้น (สำหรับ j < k) จะมีค่าจำกัดเสมอ หมายความว่า หากเราสามารถหาค่าโมเมนต์ในอันดับที่สูงของการแจกแจงได้เราย่อมสามารถหาค่าโมเมนต์ในอันดับที่ต่ำลงมาได้เสมอ\n"
   ]
  },
  {
   "cell_type": "markdown",
   "metadata": {},
   "source": [
    "#### Theorem"
   ]
  },
  {
   "cell_type": "markdown",
   "metadata": {},
   "source": [
    " ถ้า $E[|X|^{k}]< \\infty $ สำหรับค่าจำนวนเต็มบวก k แล้ว $E[|X|^{j}]< \\infty $ สำหรับค่าจำนวนเต็มบวก j ใดๆ ที่ j < k"
   ]
  },
  {
   "cell_type": "markdown",
   "metadata": {},
   "source": [
    "##### Proof."
   ]
  },
  {
   "cell_type": "markdown",
   "metadata": {},
   "source": [
    "กำหนดให้j และ k โดยที่ j < k"
   ]
  },
  {
   "cell_type": "markdown",
   "metadata": {},
   "source": [
    "$E[|X|^{j}]=     \\int_{-\\infty}^{\\infty}|x|^{j} f (x) dx =\\int_{|x|\\leq 1} |x|^{j} f (x) dx + \\int_{|x|>  1} |x|^{j} f (x) dx $"
   ]
  },
  {
   "cell_type": "markdown",
   "metadata": {},
   "source": [
    "$\\leq \\int_{|x|\\leq 1} f (x) dx + \\int_{|x|>  1} |x|^{j} f (x) dx \\leq \\int_{|x|\\leq 1} f (x) dx + \\int_{|x|>  1} |x|^{k} f (x) dx$"
   ]
  },
  {
   "cell_type": "markdown",
   "metadata": {},
   "source": [
    "$\\leq \\int_{|x|\\leq 1} f (x) dx + \\int_{|x|>  1} |x|^{k} f (x) dx + \\int_{-\\infty}^{\\infty}|x|^{k} f (x) dx $"
   ]
  },
  {
   "cell_type": "markdown",
   "metadata": {},
   "source": [
    "$ = Pr (|X| ≤ 1) + E[|X|^{k}] < \\infty $ "
   ]
  },
  {
   "cell_type": "markdown",
   "metadata": {},
   "source": [
    "## นิยาม: ฟังก์ชันก่อกำเนิดโมเมนต์ (m.g.f.)\n"
   ]
  },
  {
   "cell_type": "markdown",
   "metadata": {},
   "source": [
    "##### Definition"
   ]
  },
  {
   "cell_type": "markdown",
   "metadata": {},
   "source": [
    "    กำหนดให้ X เป็นตัวแปรสุ่ม สำหรับค่าจำนวนจริง t ใดๆ นิยามฟังก์ชันก่อกำเนิดโมเมนต์ (m.g.f.) ของ X เป็น"
   ]
  },
  {
   "cell_type": "markdown",
   "metadata": {},
   "source": [
    "<center> $\\psi (t) = E [e^{tx}]$"
   ]
  },
  {
   "cell_type": "markdown",
   "metadata": {},
   "source": [
    "* ทฤษฎีบทนี้นำเสนอวิธีการคำนวณหาค่าโมเมนต์ต่างๆ จากฟังก์ชันก่อกำเนิดโมเมนต์(m.g.f.)"
   ]
  },
  {
   "cell_type": "markdown",
   "metadata": {},
   "source": [
    "##### Theorem"
   ]
  },
  {
   "cell_type": "markdown",
   "metadata": {},
   "source": [
    "        กำหนดให้ X เป็นตัวแปรสุ่มที่ฟังก์ชันก่อกำเนิดโมเมนตื (m.g.f.) มีค่าจำกัดทุกๆ ค่า t ที่อยู่รอบๆ ศูนย์ (t in some open interval around zero) ดังนั้น สำหรับค่าจำนวนเต็มบวก n ใดๆ โมเมนต์ที่ n ของ X มีค่าเท่ากับอนุพันธ์ลำดับที่ n ของฟังก์ชันก่อกำเนิดโมเมนต (m.g.f.) ψ (t) ที่ t = 0 นั่นคือ"
   ]
  },
  {
   "cell_type": "markdown",
   "metadata": {},
   "source": [
    "<center> $E [X^{n}]= \\psi^{n}(0)$ "
   ]
  },
  {
   "cell_type": "markdown",
   "metadata": {},
   "source": [
    "โดยที่ $\\psi^{n}(0)$ หมายถึงอนุพันธ์ลำดับที่ n ของฟังก์ชัน $\\psi (t) $ ที่ t = 0"
   ]
  },
  {
   "cell_type": "markdown",
   "metadata": {},
   "source": [
    "## ทฤษฎี: ฟังก์ชันก่อกำเนิดโมเมนต์ของฟังก์ชันเชิงเส้นของตัวแปรสุ่ม"
   ]
  },
  {
   "cell_type": "markdown",
   "metadata": {},
   "source": [
    "##### Theorem"
   ]
  },
  {
   "cell_type": "markdown",
   "metadata": {},
   "source": [
    "กำหนดให้ X เป็นตัวแปรสุ่มที่ฟังก์ชันก่อกำเนิดโมเมนต์ (m.g.f.) เท่ากับ  $ψ_{x}$ (t) และ Y = aX + b สำหรับจำนวนจริง a และ b ใดๆ แล้ว ตัวแปรสุ่มที่ฟังก์ชันก่อกำเนิดโมเมนต์ (m.g.f.) ของ Y เท่ากับ"
   ]
  },
  {
   "cell_type": "markdown",
   "metadata": {},
   "source": [
    "<center> $ψ_y (t) = e^{bt}ψ_{x} (at)$"
   ]
  },
  {
   "cell_type": "markdown",
   "metadata": {},
   "source": [
    "##### Proof."
   ]
  },
  {
   "cell_type": "markdown",
   "metadata": {},
   "source": [
    "<center>   $ψ_y (t) = E [e^{ty}] = E [e^{t(aX+b)}]= e^{bt}E[e^{at(X)}] = e^{bt}ψ_y (at)$"
   ]
  },
  {
   "cell_type": "markdown",
   "metadata": {},
   "source": [
    "## ฟังก์ชันก่อกำเนิดโมเมนต์ (m.g.f.) ของตัวแปรสุ่มที่เป็นอิสระต่อกัน (independent)"
   ]
  },
  {
   "cell_type": "markdown",
   "metadata": {},
   "source": [
    "    ทฤษฎีบทต่อไปนี้แสดงถึงวิธีการหาฟังก์ชันก่อกำเนิดโมเมนต์ (m.g.f.) ของตัวแปรสุ่มที่เกิดจากการบวกกันของตัวแปรสุ่มที่เป็นอิสระต่อกัน (independent)"
   ]
  },
  {
   "cell_type": "markdown",
   "metadata": {},
   "source": [
    "##### Theorem"
   ]
  },
  {
   "cell_type": "markdown",
   "metadata": {},
   "source": [
    "สมมุติให้ $X_1, . . . , X_n$ เป็นตัวแปรสุ่มที่เป็นอิสระต่อกัน (independent) ที่มีฟังก์ชันก่อกำเนิดโมเมนต์ (m.g.f.) ของแต่ละตัวแปรเท่ากับ $\\psi_i$ (t) สำหรับ i = 1, . . . ,n และกำหนดให้ Y = $\\sum_{i=1}^{n} X_i$ ดังนั้น ฟังก์ชันก่อกำเนิดโมเมนต์ (m.g.f.) ของ Y เท่ากับ \n"
   ]
  },
  {
   "cell_type": "markdown",
   "metadata": {},
   "source": [
    "<center> $\\psi _{y} (t) =\\prod_{i=1}^{n} \\psi _{i} (t)$"
   ]
  },
  {
   "cell_type": "markdown",
   "metadata": {},
   "source": [
    "## นิยาม: ค่ามัธยฐาน (median)"
   ]
  },
  {
   "cell_type": "markdown",
   "metadata": {},
   "source": [
    "    นิยามของค่ามัธยฐาน (median) จำเป็นต้องกำหนดให้ครอบคลุมทั้งกรณีของตัวแปรสุ่มต่อเนื่องและไม่ต่อเนื่อง ดังนี้\n"
   ]
  },
  {
   "cell_type": "markdown",
   "metadata": {},
   "source": [
    "##### Definition"
   ]
  },
  {
   "cell_type": "markdown",
   "metadata": {},
   "source": [
    "    ค่ามัธยฐาน (median) m ของการแจกแจงของตัวแปรสุ่ม X ต่องสอดคล้องกับเงื่อนไขต่อไปนี้"
   ]
  },
  {
   "cell_type": "markdown",
   "metadata": {},
   "source": [
    "<center> $Pr(X \\leq  m)\\geq \\frac{1}{2} และ Pr(X \\geq  m) \\geq \\frac{1}{2}$"
   ]
  },
  {
   "cell_type": "markdown",
   "metadata": {},
   "source": [
    "## ตัวอย่าง: ในกรณีที่มีค่ามัธยฐานค่าเดียวและ มีค่าที่ชัดเจน"
   ]
  },
  {
   "cell_type": "markdown",
   "metadata": {},
   "source": [
    "##### Example"
   ]
  },
  {
   "cell_type": "markdown",
   "metadata": {},
   "source": [
    "พิจารณาตัวแปรสุ่มไม่ต่อเนื่อง X ที่มีการแจกแจงดังนี้\n",
    "\n",
    "\n",
    "\n",
    "\n"
   ]
  },
  {
   "cell_type": "markdown",
   "metadata": {},
   "source": [
    "<center> Pr(X = 1) = 0.2,Pr(X = 3) = 0.4,Pr(X = 5) = 0.1,Pr(X = 7) = 0.3"
   ]
  },
  {
   "cell_type": "markdown",
   "metadata": {},
   "source": [
    "ในกรณีนี้ จะเห็นได้ว่าค่ามัธยฐาน m = 3 เพราะ"
   ]
  },
  {
   "cell_type": "markdown",
   "metadata": {},
   "source": [
    "<center> Pr(X ≤ 3) = 0.6 ≥ 0.5 และ Pr(X ≥ 3) = 0.8 ≥ 0.5"
   ]
  },
  {
   "cell_type": "markdown",
   "metadata": {},
   "source": [
    "ยิ่งไปกว่านั้น ค่าที่เป็นไปได้ของตัวแปรสุ่ม X ค่าอื่นไม่สามารถเป็นค่ามัธยฐานได้ ดังนั้น m = 3 จึงเป็นค่ามัธยฐานเพียงค่าเดียว (unique)"
   ]
  },
  {
   "cell_type": "markdown",
   "metadata": {},
   "source": [
    "## ตัวอย่าง: ในกรณีที่มีค่ามัธยฐานค่าเดียว แต่มีค่าอยู่ระหว่างค่าของตัวแปรสุ่ม"
   ]
  },
  {
   "cell_type": "markdown",
   "metadata": {},
   "source": [
    "##### Example"
   ]
  },
  {
   "cell_type": "markdown",
   "metadata": {},
   "source": [
    "พิจารณาตัวแปรสุ่มไม่ต่อเนื่อง X ที่มีการแจกแจงต่างออกไปจากตัวอย่างก่อนหน้านี้เล็กน้อย\n"
   ]
  },
  {
   "cell_type": "markdown",
   "metadata": {},
   "source": [
    "<center> Pr(X = 1) = 0.1,Pr(X = 3) = 0.4,Pr(X = 5) = 0.2,Pr(X = 7) = 0.3"
   ]
  },
  {
   "cell_type": "markdown",
   "metadata": {},
   "source": [
    "ซึ่งจะเห็นได้ว่า"
   ]
  },
  {
   "cell_type": "markdown",
   "metadata": {},
   "source": [
    "<center> Pr(X ≤ 3) = 0.5 และ Pr(X ≥ 5) = 0.5"
   ]
  },
  {
   "cell_type": "markdown",
   "metadata": {},
   "source": [
    "ดังนั้น ค่าจำนวนจริง m ที่อยู่ระหว่างช่วง 3 ≤ m ≤ 5 ล้วนเป็นค่ามัธยฐานทั้งสิ้นเพราะ ค่ามัธยฐานในกรณีนี้ไม่มากกว่าหนึ่งค่า (not unique) ในทางปฏิบัติ \n",
    "\n",
    "จึงมักนิยมที่จะใช้ค่ากึ่งกลางของช่วงดังกล่าวแทนค่ามัธยฐาน ซึ่งในกรณีมีค่าเท่ากับ 4"
   ]
  },
  {
   "cell_type": "markdown",
   "metadata": {},
   "source": [
    "## ตัวอย่าง: ค่ามัธยฐานในกรณีที่มีค่ามัธยฐานมากกว่าหนึ่งค่า"
   ]
  },
  {
   "cell_type": "markdown",
   "metadata": {},
   "source": [
    "    กรณีที่มีค่ามัธยฐานมากกว่าหนึ่งค่าสามารถเกิดขึ้นกับการแจกแจงแบบต่อเนื่องได้เช่นกัน ดังที่แสดงในตัวอย่างต่อไปนี้\n"
   ]
  },
  {
   "cell_type": "markdown",
   "metadata": {},
   "source": [
    "##### Example"
   ]
  },
  {
   "cell_type": "markdown",
   "metadata": {},
   "source": [
    "* พิจารณาตัวแปรสุ่ม X ที่มีการแจกแจงต่อเนื่องและมีฟังก์ชันความหนาแน่นของความน่าจะเป็น (p.d.f.) เท่ากับ"
   ]
  },
  {
   "cell_type": "markdown",
   "metadata": {},
   "source": [
    "<center> $f(x) =\\left\\{\\begin{matrix}\\frac{1}{4}, สำหรับ - 1 \\leq  x \\leq  1\n",
    "\\\\  \\frac{1}{2}, สำหรับ 3 \\leq  x \\leq 4\n",
    "\\\\ 0, สำหรับกรณีอื่น\n",
    "\\end{matrix}\\right.$"
   ]
  },
  {
   "cell_type": "markdown",
   "metadata": {},
   "source": [
    "* สามารถใช้คำนวณหาฟังก์ชันความน่าจะเป็นสะสม (C.D.F.) ได้เป็น"
   ]
  },
  {
   "cell_type": "markdown",
   "metadata": {},
   "source": [
    "<center> $f(x) =\\left\\{\\begin{matrix} 0, สำหรับ -\\infty \\leq  x \\leq  −1\n",
    "\\\\ \\frac{1}{4} + \\frac{1}{4}x, สำหรับ - 1 \\leq  x \\leq  1\n",
    "\\\\ \\frac{1}{2},สำหรับ 1 \\leq  x \\leq  3\n",
    "\\\\ -1 +\\frac{1}{2}x, สำหรับ 3 \\leq  x \\leq  4\n",
    "\\\\ 1, สำหรับ 4 \\leq  x \\leq  \\infty \n",
    "\\end{matrix}\\right.$"
   ]
  },
  {
   "cell_type": "markdown",
   "metadata": {},
   "source": [
    "## กราฟแสดงค่ามัธยฐานในกรณีที่มีค่ามัธยฐานมากกว่าหนึ่งค่า"
   ]
  },
  {
   "cell_type": "markdown",
   "metadata": {},
   "source": [
    "* $ดูรูปประกอบ จะเห็นได้ว่า ค่าจำนวนจริง m ที่อยู่ระหว่าง 1 \\leq m \\leq 3 ล้วนแต่มีผลทำให้ Pr(X \\leq m) \\geq \\frac{1}{2}\n",
    "และ Pr(X \\geq  m) \\geq \\frac{1}{2}$ นั่นหมายความว่า ค่าจำนวนจริงเหล่านี้ล้วนเป็นค่ามัธยฐาน\n"
   ]
  },
  {
   "cell_type": "markdown",
   "metadata": {},
   "source": [
    "* ในทำนองเดียวกับตัวอย่างก่อนหน้านี้ ในทางปฏิบัติมักนิยมที่จะใช้ค่ากึ่งกลางของช่วงดังกล่าวแทนค่ามัธยฐาน ซึ่งในกรณีมีค่าเท่ากับ 2"
   ]
  },
  {
   "cell_type": "markdown",
   "metadata": {},
   "source": [
    "<img src=\"images/6.2.jpg\" width = 600 align=\"center\">"
   ]
  },
  {
   "cell_type": "markdown",
   "metadata": {},
   "source": [
    "อ้างอิง: [$Lecture Note^1$](http://riped.utcc.ac.th/tee/wp-content/uploads/sites/3/2019/08/stat-thai.pdf)"
   ]
  }
 ],
 "metadata": {
  "kernelspec": {
   "display_name": "Python 3",
   "language": "python",
   "name": "python3"
  },
  "language_info": {
   "codemirror_mode": {
    "name": "ipython",
    "version": 3
   },
   "file_extension": ".py",
   "mimetype": "text/x-python",
   "name": "python",
   "nbconvert_exporter": "python",
   "pygments_lexer": "ipython3",
   "version": "3.8.1"
  }
 },
 "nbformat": 4,
 "nbformat_minor": 2
}
