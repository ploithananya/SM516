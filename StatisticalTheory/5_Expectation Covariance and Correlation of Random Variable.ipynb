{
 "cells": [
  {
   "cell_type": "markdown",
   "metadata": {},
   "source": [
    "# <center>Expectation Covariance and Correlation of Random Variable"
   ]
  },
  {
   "cell_type": "markdown",
   "metadata": {},
   "source": [
    "## ค่าคาดหมายของตัวแปรสุ่ม (Expectation of Radom Variables)"
   ]
  },
  {
   "cell_type": "markdown",
   "metadata": {},
   "source": [
    "- การแจกแจงของตัวแปรสุ่มเป็นเครื่องมือที่เก็บหรือบรรจุคุณสมบัติเชิงความน่าจะเป็น(probabilistic properties) ทั้งหมดของตัวแปรสุ่มนั้น\n",
    "- การแจกแจงมีรายละเอียดมากจนทำให้เข้าใจและนำไปสื่อสารได้ยาก\n",
    "- ตัวแทนที่ได้รับความนิยมเพื่อใช้บอกถึงคุณสมบัติเชิงความน่าจะเป็นที่สำคัญของตัวแปรสุ่มคือ “ค่าคาดหมาย (expectation or expected value or mean)” หรือบางครั้งอาจจะเรียกว่าค่ามัชฌิม"
   ]
  },
  {
   "cell_type": "markdown",
   "metadata": {},
   "source": [
    "### นิยาม: ค่าคาดหมาย (Expectation)"
   ]
  },
  {
   "cell_type": "markdown",
   "metadata": {},
   "source": [
    "**Definition**\n",
    "ค่าคาดหมาย (expectation or expected value or mean) ของตัวแปรสุ่มไม่ต่อเนื่อง (discrete) X เท่ากับ\n",
    "            $$ E[X] =\\sum_x xf(x)dx  ---------(1) $$\n",
    "            \n",
    "โดยที่ f(x) แทนฟังก์ชันความน่าจะเป็น (p.f.) ของ X ส่วนค่าคาดหมายของตัวแปรสุ่มต่อเนื่อง(continuous) เท่ากับ\n",
    "                  $$ E[X] = \\int_{\\infty}^{-\\infty} xf(x)dx  ---------(2) $$    \n",
    "                  \n",
    "                  \n",
    "โดยที่ f(x) แทนฟังก์ชันความหนาแน่นของความน่าจะเป็น (p.d.f.) ของ X\n",
    "\n",
    "- ตัวแปรสุ่มสองตัวที่มีการแจกแจง (distribution) เหมือนกันย่อมมีค่าคาดหมาย (expectation)เหมือนกัน\n",
    "- ค่าคาดหมาย (expectation) เป็นคุณสมบัติของการแจกแจง ทำให้อาจจะใช้ค่าคาดหมายของ\n",
    "ตัวแปรสุ่มกับค่าคาดหมายของการแจกแจงสลับกันไปมาโดยถือว่ามีความหมายเหมือนกัน"
   ]
  },
  {
   "cell_type": "markdown",
   "metadata": {},
   "source": [
    "### ตัวอย่าง: ค่าคาดหมาย (Expectation) ของการแจกแจงปัวซองส์ (Poisson distribution)"
   ]
  },
  {
   "cell_type": "markdown",
   "metadata": {},
   "source": [
    "**Example (การแจกแจงปัวซองส์ (Poisson distribution) สำหรับพารามิเตอร์ λ)**\n",
    "พิจารณาตัวแปรสุ่มแบบปัวซองส์ (Poisson random variable) ซึ่งมีแทนฟังก์ชันความน่าจะเป็น (p.f.) เท่ากับ \n",
    "$$ f(x) = \\{\\frac{\\lambda^xe^{-\\lambda}}{x!} สำหรับ x=0,1,...,0 ,สำหรับกรณีอื่น $$ \n",
    "- ค่าคาดหมาย (expectation) ของ X มีค่าเท่ากับ\n",
    "$$ E[X] = \\sum_{x=0}^{\\infty} x\\frac{\\lambda^xe^{-\\lambda}}{x!} = \\lambda \\begin{bmatrix}\\sum_{x=1}^{\\infty} x\\frac{\\lambda^{x-1} e^{-\\lambda}}{(x-1)!} \\end{bmatrix} =  \\lambda \\begin{bmatrix}\\sum_{x=0}^{\\infty} x\\frac{\\lambda^{x}e^{-\\lambda}}{x!} \\end{bmatrix} = \\lambda $$ <br>\n",
    "จาก $ e^{\\lambda} = 1 + \\frac{\\lambda}{1!} + \\frac{\\lambda^2}{2!} + ... = \\sum_{x=0}^{\\infty}\\frac{\\lambda^x}{x!} $ ดังนั้น <br>\n",
    "$$ \\sum_{x=0}^{\\infty} \\frac{\\lambda^xe^{-\\lambda}}{x!} = 1 $$"
   ]
  },
  {
   "cell_type": "markdown",
   "metadata": {},
   "source": [
    "### ตัวอย่างค่าคาดหมาย (Expectation) ของการแจกแจงแบบปกติ (normal distribution)\n"
   ]
  },
  {
   "cell_type": "markdown",
   "metadata": {},
   "source": [
    "**Example (การแจกแจงแบบปกติ (normal distribution) สำหรับพารามิเตอร์ µ และσ)**\n",
    "พิจารณาตัวแปรสุ่ม X ที่มีฟังก์ชันความหนาแน่นของความน่าจะเป็น (p.d.f.) เท่ากับ \n",
    "$$ f(x) = \\frac{1}{\\sqrt{2\\pi\\sigma^2}}e^{-\\frac{(x-\\mu)^2}{2\\sigma^2}} $$ \n",
    "- ค่าคาดหมาย (expectation) ของ X มีค่าเท่ากับ\n",
    "$$ E(X) =\\int_{-\\infty}^{\\infty} \\frac{x}{\\sqrt{2\\pi\\sigma^2}}e^{-\\frac{(x-\\mu)^2}{2\\sigma^2}}dx $$ \n",
    "- การเปลี่ยนตัวแปรของการอินทิเกรต (change of variables) d $\\begin{bmatrix}\\frac{(x-\\mu)^2}{2\\sigma^2}\\end{bmatrix}= \\begin{bmatrix}\\frac{x-\\mu}{\\sigma^2}\\end{bmatrix}$dx ช่วยให้หาค่าการอินทิเกรตได้เป็น <br>\n",
    "$$ E(X) = \\frac{\\sigma}{\\sqrt{2\\pi}}\\int_{-\\infty}^{\\infty}e^{\\frac{-1}{2}\\begin{bmatrix}\\frac{x-\\mu}{\\sigma^2}\\end{bmatrix}^2} \\begin{bmatrix}\\frac{x-\\mu}{\\sigma^2}\\end{bmatrix}dx + \\int_{-\\infty}^{\\infty}\\mu f(x)dx = \\frac{\\sigma}{\\sqrt{2\\pi}}\\int_{-\\infty}^{\\infty}e^{-\\frac{1}{2}\\begin{bmatrix}\\frac{x-\\mu}{\\sigma^2}\\end{bmatrix}^2} d\\begin{bmatrix}\\frac{(x-\\mu)^2}{2\\sigma^2}\\end{bmatrix}+\\mu = -\\frac{\\sigma}{\\sqrt{2\\pi}}e^{-\\frac{x-\\mu}{\\sigma^2}^2}\\vert_{-\\infty}^{\\infty} + \\mu = \\mu $$"
   ]
  },
  {
   "cell_type": "markdown",
   "metadata": {},
   "source": [
    "### ตัวอย่างค่าคาดหมาย (Expectation) ของการแจกแจงปกติด้วยล็อก (lognormal distribution)"
   ]
  },
  {
   "cell_type": "markdown",
   "metadata": {},
   "source": [
    "**Example (การแจกแจงปกติด้วยล็อก (lognormal distribution))**\n",
    "พิจารณาตัวแปรสุ่ม X ที่มีฟังก์ชันความหนาแน่นของความน่าจะเป็น (p.d.f.) เท่ากับ\n",
    "$$ f(x) = \\{\\frac{1}{x\\sqrt{2\\pi\\sigma^2}}e^{-\\frac{(\\ln x-\\mu)^2}{2\\sigma^2}}   สำหรับ x>0,0,สำหรับกรณีอื่น------(3) $$\n",
    "\n",
    "- ค่าคาดหมาย (expectation) ของ X มีค่าเท่ากับ<br>\n",
    "$$ E[X] = \\int_{0}^{\\infty}x \\begin{bmatrix}\\frac{1}{x\\sqrt{2\\pi\\sigma^2}}e^{-\\frac{(Inx-\\mu)^2}{2\\sigma^2}} \\end{bmatrix} dx $$\n",
    "\n",
    "- กำหนดให้ y = ln x และประยุกต์ใช้เทคนิคการเปลี่ยนตัวแปรของการอินทิเกรต (change of variables) จะได้ว่า\n",
    "$$ E[X] = \\int_{-\\infty}^{\\infty}\\frac{x}{\\sqrt{2\\pi\\sigma^2}}e^{-\\frac{(y-\\mu)^2}{2\\sigma^2}}dy =  \\int_{-\\infty}^{\\infty}\\frac{1}{\\sqrt{2\\pi\\sigma^2}}e^y e^{-\\frac{(y-\\mu)^2}{2\\sigma^2}}dy  = e^{\\mu+\\frac{\\sigma^2}{2}}\\int_{-\\infty}^{\\infty}\\frac{1}{\\sqrt{2\\pi\\sigma^2}}e^{-\\frac{[y-(\\mu+\\sigma^2)]^2}{2\\sigma^2}}dy = e^{\\mu+\\frac{\\sigma^2}{2}} $$\n",
    "\n"
   ]
  },
  {
   "cell_type": "markdown",
   "metadata": {},
   "source": [
    "## ความสัมพันธ์ของค่าคาดหมาย (Expectation)ระหว่าง ของการแจกแจง ปกติด้วยล็อก (lognormal distribution) และการแจกแจงแบบปกติ (normal distribution)\n",
    "\n",
    "- ค่าคาดหมาย (expectation) ของตัวแปรสุ่มปกติด้วยล็อก (lognormal random variable) “มีส่วนสัมพันธ์” กับค่าคาดหมาย (expectation) ของตัวแปรสุ่มปกติ (normal random variable) แต่มีส่วนเพิ่มเติมคือ $\\frac{σ^2}{2}$"
   ]
  },
  {
   "cell_type": "markdown",
   "metadata": {},
   "source": [
    "### ตัวอย่าง: ค่าคาดหมาย (Expectation) ของการแจกแจงที่หาค่าคาดหมาย ไม่ได้ (non-existence of expectation)"
   ]
  },
  {
   "cell_type": "markdown",
   "metadata": {},
   "source": [
    "**Example (การแจกแจงที่หาค่าคาดหมายไม่ได้ (non-existence of expectation) )**\n",
    "\n",
    "พิจารณาตัวแปรสุ่ม X ที่มีฟังก์ชันความหนาแน่นของความน่าจะเป็น (p.d.f.) เท่ากับ\n",
    "$$ f(x) = \\frac{1}{\\pi(1+x^2)} ---------(4) $$  \n",
    "\n",
    "- เราควรตรวจสอบว่าการแจกแจงนี้ถูกต้องตามหลักการ (well-defined distribution) ด้วยการตรวจ สอบว่า\n",
    "$$ \\int_{-\\infty}^{\\infty}f(x)dx = 1 $$\n",
    "\n",
    "- นั่นคือ \n",
    "$$ \\int_{-\\infty}^{\\infty}\\frac{1}{\\pi(1+x^2)}dx = \\frac{1}{\\pi}\\tan^{-1}x\\vert_{-\\infty}^{\\infty} = \\frac{1}{\\pi}\\begin{bmatrix}\\frac{\\pi}{2}-(-\\frac{\\pi}{2}) \\end{bmatrix} = 1 $$"
   ]
  },
  {
   "cell_type": "markdown",
   "metadata": {},
   "source": [
    "### วิธีทำ: ค่าคาดหมาย (Expectation) ของการแจกแจงที่หาค่าคาดหมายไม่ ได้ (non-existence of expectation)"
   ]
  },
  {
   "cell_type": "markdown",
   "metadata": {},
   "source": [
    "**Example (การแจกแจงที่หาค่าคาดหมายไม่ได้ (non-existence of expectation) )**\n",
    "\n",
    "- การแจกแจงนี้ถูกต้องตามหลักการ (well-defined distribution) อันที่จริง การแจกแจงนี้มีชื่อ เฉพาะว่า การแจกแจงโคชี (Cauchy distribution)\n",
    "\n",
    "- แต่ว่า\n",
    "$$ \\int_{0}^{\\infty}\\frac{x}{\\pi(1+x^2)}dx = \\frac{1}{2}\\int_{0}^{\\infty}\\frac{1}{\\pi(1+x^2)}d[1+x^2] = \\frac{1}{2\\pi}\\ln(1+x^2)\\vert_{0}^{\\infty} $$\n",
    "\n",
    "ซึ่งหาค่าไม่ได้เพราะมีค่าไม่จำกัด ในทำนองเดียวกัน\n",
    "$$ \\int_{-\\infty}^{0}\\frac{x}{\\pi(1+x^2)}dx = \\frac{1}{2\\pi}\\ln(1+x^2)\\vert_{-\\infty}^{0} $$\n",
    "\n",
    "- ตัวแปรสุ่มที่มีการแจกแจงโคชี (Cauchy distribution) หาค่าคาดหมายไม่ได้ (non-existence)"
   ]
  },
  {
   "cell_type": "markdown",
   "metadata": {},
   "source": [
    "## ทฤษฎี: กฎของนักสถิติที่ไม่รู้ตัว (Law of the Unconscious Statistician)"
   ]
  },
  {
   "cell_type": "markdown",
   "metadata": {},
   "source": [
    "**Theorem (กฎของนักสถิติที่ไม่รู้ตัว (Law of the Unconscious Statistician))**\n",
    "\n",
    "กำหนดให้ X เป็นตัวแปรสุ่ม และ r เป็นฟังก์ชันค่าจริง ถ้า X มีการแจกแจงต่อเนื่อง (continuous distribution) และค่าคาดหมายมีค่าจำกัด แล้ว\n",
    "\n",
    "$$ E[r(X)] = \\int_{-\\infty}^{\\infty}r(x)f(x)dx ----------(5)$$  \n",
    "\n",
    "ในทำนองเดียวกัน ถ้า X มีการแจกแจงไม่ต่อเนื่อง (discrete distribution) และค่าคาดหมายมีค่า จำกัด แล้ว\n",
    "\n",
    "$$ E[r(X)] = \\sum_{x}r(x)f(x) ---------(6)$$"
   ]
  },
  {
   "cell_type": "markdown",
   "metadata": {},
   "source": [
    "### พิสูจน์: กฎของนักสถิติที่ไม่รู้ตัว (Law of the Unconscious Statistician)"
   ]
  },
  {
   "cell_type": "markdown",
   "metadata": {},
   "source": [
    "**Proof.**\n",
    "\n",
    "- การพิสูจน์ในกรณีของการแจกแจงต่อเนื่อง (continuous distribution)\n",
    "$$ E[r(x)] = \\int_{-\\infty}^{\\infty}r(x)f(x)dx $$\n",
    "\n",
    "กำหนดให้x = s(y) และ ประยุกต์ใช้เทคนิคการเปลี่ยนตัวแปรของการอินทิเกรต (change of variables) จะ ได้ว่า\n",
    "$$ E[r(x)] = \\int_{-\\infty}^{\\infty}yf(s(y))|\\frac{ds(y)}{dy}dy| $$\n",
    "\n",
    "- ทฤษฎีบทที่แล้วว่า ฟังก์ชันความหนาแน่นของความน่าจะเป็น (p.d.f.) ของ Y เท่ากับ\n",
    "$$ g(y) = f(s(y))|\\frac{ds(y)}{dy}| $$\n",
    "\n",
    "- สรุปได้ว่า\n",
    "$$ \\int_{-\\infty}^{\\infty}r(x)f(x)dx = E[r(x)] = \\int_{-\\infty}^{\\infty}yg(y)dy = E[Y] $$"
   ]
  },
  {
   "cell_type": "markdown",
   "metadata": {},
   "source": [
    "### ตัวอย่าง: การหาค่าความคาดหมายของฟังก์ชันตัวแปรสุ่ม"
   ]
  },
  {
   "cell_type": "markdown",
   "metadata": {},
   "source": [
    "**Example**\n",
    "สมมุติว่าเครื่องใช้ไฟฟ้ายี่ห้อหนึ่งมีสัดส่วนหรืออัตราการพัง X ต่อปี แต่นักวิเคราะห์ยังไม่ทราบว่า X มีค่าเท่าใด ดังนั้นจึงควรพิจารณา เป็นตัวแปรสุ่ม\n",
    "\n",
    "- คำถามคือ \n",
    "  * ระยะเวลาที่ใช้ได้ก่อนที่เครื่องใช้ไฟฟ้าจะพัง \n",
    "  * เครื่องใช้ไฟฟ้าแต่ละชิ้นจะใช้ได้นานแค่ไหนจึงจะพัง?\n",
    "- คำตอบคือ\n",
    "  * กำหนดให้ ระยะเวลาที่ใช้ได้ก่อนที่เครื่องใช้ไฟฟ้าจะพัง Y คือ $Y = \\frac{1}{X} $ ชัดเจนว่า ไม่มีทางที่จะ ทราบค่าที่แน่นอนของ Y เนื่องจากไม่ทราบค่าที่แน่นอนของ X\n",
    "  * ค่าคาดหมายของ Y หากทราบการแจกแจงของ X\n",
    "    * สมมุติให้X มีการแจกแจงต่อเนื่องดังนี้\n",
    "     $$ f(x) = \\{ {3x^2 สำหรับ 0<x<1,0,สำหรับกรณีอื่น} $$\n",
    "    * ค่าคาดหมายของระยะเวลาที่ใช้ได้ก่อนที่เครื่องใช้ไฟฟ้าจะพัง Y เท่ากับ\n",
    "    $$ E[Y] = \\int_{0}^{1}\\frac{1}{x}3x^2dx = \\int_{0}^{1}3xdx = \\frac{3}{2} $$\n",
    "  "
   ]
  },
  {
   "cell_type": "markdown",
   "metadata": {},
   "source": [
    "## ทฤษฎี: การหาค่าความคาดหมายของฟังก์ชันตัวแปรสุ่ม\n",
    "- กรณีที่มีตัวแปรสุ่มพื้นฐานมากกว่าหนึ่งตัว"
   ]
  },
  {
   "cell_type": "markdown",
   "metadata": {},
   "source": [
    "**Theorem (กฎของนักสถิติที่ไม่รู้ตัว (Law of the Unconscious Statistician))**\n",
    "\n",
    "กำหนดให้ $ X = (X_1,\\dots, X_n) $ เป็นตัวแปรสุ่มที่มีการแจกแจงร่วม $f(x)$ และ r เป็นฟังก์ชันค่า จริง ถ้า X มีการแจกแจงต่อเนื่อง (continuous distribution) และค่าคาดหมายมีค่าจำกัด แล้ว\n",
    "$$ E[r(X)] = \\int\\dots\\int_{R^n} r(x_1,\\dots,x_n)f(x_1,\\dots,x_n) dx_1\\dots dx_n   ---------(7)$$\n",
    "\n",
    "ในทำนองเดียวกัน ถ้า X มีการแจกแจงไม่ต่อเนื่อง (discrete distribution) และค่าคาดหมายมีค่า จำกัด แล้ว\n",
    "$$ E[r(X)] = \\sum_x (x_1,\\dots,x_n)f(x_1,\\dots,x_n)  ---------(8) $$"
   ]
  },
  {
   "cell_type": "markdown",
   "metadata": {},
   "source": [
    "### ตัวอย่าง: การหาค่าความคาดหมายของฟังก์ชันตัวแปรสุ่มมากกว่าหนึ่งตัว"
   ]
  },
  {
   "cell_type": "markdown",
   "metadata": {},
   "source": [
    "**Example**\n",
    "\n",
    "พิจารณาการสุ่มเลือกจุด (X,Y) จากสี่เหลี่ยมจัตุรัส S ซึ่งครอบคลุมพื้นที่ระหว่าง $0 \\leq x \\leq 1 และ 0 \\leq y \\leq 1 $คำถามก็คือ ค่าคาดหวังของ $ X^ 2 + Y ^2 $ เท่ากับเท่าใด ?\n",
    "\n",
    "- เนื่องจากเป็นการสุ่มเลือก (random) ดังนั้นแต่ละจุดย่อมมีโอกาสที่จะถูกเลือกเท่ากัน ซึ่งมีผลทำให้ สรุปได้ว่า การแจกแจงของ X และ Y เป็นแบบเอกรูป (uniform distribution) และเนื่องจากพื้นที่ ของ S เท่ากับหนึ่งหน่วย ดังนั้น ฟังก์ชันความหนาแน่นของความน่าจะเป็นร่วม (joint p.d.f.) ของ (X,Y) เท่ากับ\n",
    "$$ f(x,y) = \\{ 1 สำหรับ(x,y) \\in S, 0,สำหรับกรณีอื่น $$\n",
    "\n",
    "- ดังนั้น ค่าคาดหวังของ $X^2 + Y^2$ เท่ากับ\n",
    "$$ E[X^2+Y^2] = \\int_{-\\infty}^{\\infty}\\int_{-\\infty}^{\\infty}(X^2+Y^2)f(x,y)dxdy = \\frac{2}{3} $$"
   ]
  },
  {
   "cell_type": "markdown",
   "metadata": {},
   "source": [
    "## ทฤษฎี: ค่าคาดหมาย (Properties of Expectation)"
   ]
  },
  {
   "cell_type": "markdown",
   "metadata": {},
   "source": [
    "**Theorem**\n",
    "- ถ้า $Y = aX + b$ โดยที่ a และ b เป็นค่าคงที่ แล้ว\n",
    "$$ E[Y] = aE[X] + b ---------(9)$$\n",
    "\n",
    "- ถ้ามีค่าคงที่ a ที่ทำให้  $Pr(X \\geq a) = 1$ แล้ว $E[X] \\geq a$ ในทางกลับกัน ถ้ามีค่าคงที่ b ที่ ทำให้ $Pr(X \\leq b) = 1$ แล้ว  $E[X] \\leq b$\n",
    "\n",
    "- ถ้า X = c ด้วยความน่าจะเป็นเท่ากับหนึ่ง แล้ว  $E[X] = c$\n",
    "\n",
    "- สมมุติให้ $E[X] = a$ และกรณีใดกรณีหนึ่งระหว่าง $Pr(X \\geq a) = 1$ หรือ $Pr(X \\leq a) = 1$ เป็นจริง แล้ว $Pr(X = a) = 1$\n",
    "\n",
    "- ถ้า $X_1,\\dots, X_n$ คือตัวแปรสุ่ม n ตัว ที่ค่าคาดหมาย (expectation) ของแต่ละตัวมีค่า จำกัด และ $a_1,\\dots,a_n$ และ b คือค่าคงที่ แล้ว\n",
    "$$ E\\begin{bmatrix}\\sum_{i=1}^{n}a_iX_i+b\\end{bmatrix} = \\sum_{i=1}^{n}a_iE_i[X_i]+b ---------(10)$$"
   ]
  },
  {
   "cell_type": "markdown",
   "metadata": {},
   "source": [
    "### ตัวอย่าง: การหาความคาดหมายของอัตราผลตอบแทนรวมของกองทุนรวม"
   ]
  },
  {
   "cell_type": "markdown",
   "metadata": {},
   "source": [
    "**Example**\n",
    "กำหนดให้Ri แทนอัตราผลตอบแทนรวม (gross return) ต่อปีของกองทุนรวม (mutual fund) i สำหรับ i = 1, . . . ,n กล่าวคือ ลงทุน 1 บาทในกองทุนรวม i จะได้กลับมา $R_i$ บาทหลังจากผ่านไปหนึ่งปี “แต่ ไม่มีใครทราบว่า $R_i$ จริงๆ แล้วเท่าไหร่” เราจึงต้องพิจารณาเป็นตัวแปรสุ่ม นอกจากนี้ กำหนดให้ $\\alpha_i \\in [0, 1]$ โดยที่ $\\sum_{i}\\alpha_i = 1$ แทนสัดส่วนการลงทุนในกองทุน i กล่าวคือ หากมีเงินลงทุนทั้งหมด 10,000 บาท จะลงทุนในกองทุน i ทั้งหมด $10, 000\\alpha_i$ คำถามก็คือ นักลงทุนควรจะคาดหมายที่จะได้รับอัตราผลตอบแทนรวมจากการลงทุนเป็นเท่าไหร่หลังจาก ลงทุนเป็นเวลาหนึ่งปี?\n",
    "\n",
    "- เริ่มจากการสร้างตัวแปรสุ่มที่เรียกว่าอัตราผลตอบแทนรวมจากการลงทุน ซึ่งหาได้จากจำนวนเงินที่ ได้คืนทั้งหมดหารด้วยเงินลงทุน นั่นคือ\n",
    "$$ R = \\sum_{i=1}^{n}\\frac{10,000\\alpha_iR_i}{10,000} = \\sum_{i=1}^{n}\\alpha_iR_i $$\n",
    " * ตราผลตอบแทนรวมจากการลงทุนไม่ขึ้นอยู่กับจำนวนเงินลงทุน\n",
    " * อัตราผลตอบแทนรวมจากการลงทุนมีความสัมพันธ์เชิงเส้นกับอัตราผลตอบแทนรวมของแต่ละกองทุนรวม"
   ]
  },
  {
   "cell_type": "markdown",
   "metadata": {},
   "source": [
    "### วิธีทำ: การหาความคาดหมายของอัตราผลตอบแทนรวมของกองทุนรวม"
   ]
  },
  {
   "cell_type": "markdown",
   "metadata": {},
   "source": [
    "**Example**\n",
    "- จากทฤษฎีของค่าคาดหมาย (expectation) เมื่อ $a_1, . . . ,a_n$ และ b คือค่าคงที่\n",
    "$$ E\\begin{bmatrix}\\sum_{i=1}^{n}a_iX_i + b\\end{bmatrix} = \\sum_{i=1}^{n}a_iE[X_i] + b ---------(11)$$\n",
    "\n",
    "- ค่าคาดหมาย (expectation) ของอัตราผลตอบแทนรวมจากการลงทุนได้เป็น\n",
    "$$ E[R] = E \\begin{bmatrix} \\sum_{i=1}^{n}\\alpha_iR_i \\end{bmatrix} = \\sum_{i=1}^{n}\\alpha_iE[R_i]$$\n",
    "\n",
    "- ค่าคาดหมาย (expectation) ของอัตราผลตอบแทนสุทธิจากการลงทุน (return on investment: ROI) เท่ากับ\n",
    "$$ E[r] = 1 - E[R] = \\sum_{i=1}^{n}\\alpha_iE[1 - R_i] $$"
   ]
  },
  {
   "cell_type": "markdown",
   "metadata": {},
   "source": [
    "### ตัวอย่าง: กราฟแสดงอัตราผลตอบแทนรวม แต่ละกองทุน"
   ]
  },
  {
   "cell_type": "markdown",
   "metadata": {},
   "source": [
    "**Example**\n",
    "- ยกตัวอย่างกองทุนรวม 5 กองทุน ซึ่งประกอบไปด้วย ABSM, 1AMSET50, BTP, CGLTF, ABAG และใช้ข้อมูลอัตราผลตอบแทนรวมสุทธิตั้งแต่ 11/9/2017 จนถึง 11/9/2018 และแสดงเป็นกราฟ เส้นดังต่อไปนี้\n",
    "<img src=\"images/5.1.jpg\" width=10000 align=\"center\">"
   ]
  },
  {
   "cell_type": "markdown",
   "metadata": {},
   "source": [
    "### ตัวอย่าง: ตารางแสดงค่าคาดหมายของอัตราผลตอบแทนรวมแต่ละกองทุน"
   ]
  },
  {
   "cell_type": "markdown",
   "metadata": {},
   "source": [
    "**Example**\n",
    "- ประมาณค่าคาดหมาย (expectation) ของอัตราผลตอบแทนรวมของแต่ละกองทุนรวมด้วย ค่าเฉลี่ยของอัตราผลตอบแทนรวมของกองทุนนั้นโดยใช้ข้อมูลในอดีต\n",
    "<img src=\"images/5.2.jpg\" width=400 align=\"center\">\n",
    "- ค่าเฉลี่ยคือวิธีการประมาณค่าคาดหมายอย่างหนึ่ง แต่ไม่ใช่สิ่งเดียวกัน เพราะค่าคาดหมาย ควรจะเป็นค่าที่แท้จริง (true value) ที่เป็นคุณสมบัติของการแจกแจงหรือตัวแปรสุ่ม ส่วน ค่าเฉลี่ยเป็นเพียงตัวประมาณค่า (estimator) ของค่าคาดหมายตัวหนึ่งเท่านั้น"
   ]
  },
  {
   "cell_type": "markdown",
   "metadata": {},
   "source": [
    "### ตัวอย่าง: ค่าคาดหมาย (expectation) ของจำนวนจดหมายและซองที่ตรงกัน"
   ]
  },
  {
   "cell_type": "markdown",
   "metadata": {},
   "source": [
    "#### Example\n",
    "สมมุติว่า ผู้หญิงคนหนึ่งพิมพ์จดหมาย n ฉบับ และที่อยู่หน้าซองจดหมาย n ซอง แล้วนำจดหมายใส่ซองด้วยวิธีการสุ่ม (random) คำถามก็คือ ค่าคาดหมาย (expectation) ของจำนวนจดหมายและซองที่ตรงกันพอดีมีค่าเท่ากับเท่าไหร่?\n",
    "\n",
    "- กำหนดให้ $X_i$ แทนตัวแปรสุ่มที่ระบุว่าซองที่ i ได้รับจดหมายที่ตรงกันหรือไม่\n",
    "\n",
    "$X_i = \\{ 1 ถ้าซองจดหมายที่ i ตรงกันกับจดหมาย,0 ถ้าซองจดหมายที่ i ไม่ตรงกันกับจดหมาย$\n",
    "\n",
    "- ดังนั้น จำนวนจดหมายและซองที่ตรงกันพอดีเท่ากับ $Y = \\sum_{i=1}^{n} X_i$\n",
    "\n",
    "- ประยุกต์ใช้ทฤษฎีบทที่ว่า $E[Y] = \\sum_{i=1}^{n}E[X_i]$ เพื่อหา ค่าคาดหมาย (expectation) ของ $X_i$ ซึ่งมีค่าเท่ากับ\n",
    "$$E[X_i] = (1) × Pr (X_i = 1) + (0) × Pr (X_i = 0) = Pr (X_i = 1) = \\frac{1}{n}$$\n",
    "\n",
    "- ดังนั้น คำตอบเท่ากับ $E[Y] = \\sum_{i=1}^{n}E[X_i] = \\sum_{i=1}^{n}\\frac{1}{n} = 1$\n",
    "\n",
    "- นั่นคือ ไม่ว่าจะมีจดหมายและซองจดหมายกี่อัน ค่าคาดหมาย (expectation) ของจำนวนจดหมายและซองที่ตรงกันพอดีจะมี ค่าเท่ากับหนึ่งเสมอ"
   ]
  },
  {
   "cell_type": "markdown",
   "metadata": {},
   "source": [
    "## ค่าความคาดหมายของฟังก์ชันไม่ใช่เชิงเส้น\n",
    "\n",
    "- หากฟังก์ชันเป็นแบบเชิงเส้น (linear) แล้วค่าคาดหมายของฟังก์ชันจะเท่ากับฟังก์ชันของค่าคาดหมาย\n",
    "- ข้อสรุปนี้ไม่สามารถใช้ได้กับฟังก์ชันที่ไม่ใช่เชิงเส้นและ ไม่มีข้อสรุปใดๆ ในกรณีที่เป็น ฟังก์ชันทั่วไป\n",
    "- แต่ยังมีฟังก์ชันบางกลุ่มที่มีลักษณะเฉพาะ ยกตัวอย่างเช่น ฟังก์ชันเว้า (concave function) หรือฟังก์ชันนูน (convex function) ซึ่งนำไปสู่ทฤษฎีบทที่สำคัญชื่อ อสมการเจนเซ็น (Jensen’s inequality) ซึ่งมีประโยชน์ต่อวงการเศรษฐศาสตร์ การเงินและการประกันภัย อย่างมาก"
   ]
  },
  {
   "cell_type": "markdown",
   "metadata": {},
   "source": [
    "### นิยาม: ฟังก์ชันเว้า (concave function)"
   ]
  },
  {
   "cell_type": "markdown",
   "metadata": {},
   "source": [
    "#### Definition\n",
    "ฟังก์ชัน g เป็นฟังก์ชันเว้า(concave function) ถ้าสำหรับทุกๆ ค่า$ \\alpha \\in (0, 1)$ และทุกๆ เวคเตอร์x และ y\n",
    "$$ g(\\alpha x + [1 − \\alpha]y) \\leq \\alpha g(x) + [1 − \\alpha]g(y) ---------(12) $$\n",
    "<img src=\"images/1.3.jpg\" width=400 align=\"center\">"
   ]
  },
  {
   "cell_type": "markdown",
   "metadata": {},
   "source": [
    "### นิยาม: ฟังก์ชันนูน (convex function)"
   ]
  },
  {
   "cell_type": "markdown",
   "metadata": {},
   "source": [
    "#### Definition\n",
    "ในทางกลับกัน ฟังก์ชัน g เป็นฟังก์ชันนูน (convex function) ถ้าสำหรับทุกๆ ค่า $α ∈ (0, 1)$ และทุกๆ เวคเตอร์x และ y\n",
    "$$g(αx + [1 − α]y) ≥ αg(x) + [1 − α]g(y) ---------(13)$$\n",
    "<img src=\"images/5.4.jpg\" width=400 align=\"center\">"
   ]
  },
  {
   "cell_type": "markdown",
   "metadata": {},
   "source": [
    "## ทฤษฎี: อสมการเจนเซ็น (Jensen’s Inequality)"
   ]
  },
  {
   "cell_type": "markdown",
   "metadata": {},
   "source": [
    "#### Theorem (อสมการเจนเซ็น (Jensen’s Inequality))\n",
    "กำหนดให้ X แทนเวคเตอร์ของตัวแปรสุ่มที่ค่าคาดหมายมีค่าจำกัด ถ้า g เป็นฟังก์ชัน เว้า(concave function) แล้ว \n",
    "$$ E[g(X)] \\leq g(E[X]) -----------(14)  $$\n",
    "\n",
    "ในทางกลับกัน ถ้า g เป็นฟังก์ชันนูน(convex function) แล้ว\n",
    "\n",
    "$$  E[g(X)] \\leq g(E[X]) ----------(15) $$\n"
   ]
  },
  {
   "cell_type": "markdown",
   "metadata": {},
   "source": [
    "## ทฤษฎี: ความคาดหมายเมื่อตัวแปรสุ่มเป็นอิสระต่อกัน (independent)"
   ]
  },
  {
   "cell_type": "markdown",
   "metadata": {},
   "source": [
    "#### Theorem\n",
    "ถ้า $X_1, . . . , X_n$ เป็นตัวแปรสุ่มที่เป็นอิสระต่อกัน (independent) และมีค่าคาดหมาย (expectation) ที่จำกัด แล้ว\n",
    "\n",
    "$$ E\\begin{bmatrix}\\prod_{i=1}^{n}X_i \\end{bmatrix} = \\prod_{i=1}^{n}E[X_i] ---------(16) $$\n",
    "\n",
    "#### Proof\n",
    "- การพิสูจน์จะพิสูจน์ในกรณีของตัวแปรสุ่มต่อเนื่องเท่านั้น\n",
    "- กำหนดให้$f(x_1,\\dots,x_n)$ แทนฟังก์ชันความหนาแน่นของความน่าจะเป็นร่วม (joint p.d.f.) ของ $(X_1,\\dots, X_n)$ และ $f_i (x_i)$ แทนฟังก์ชันความหนาแน่นของความน่าจะเป็น (p.d.f.) ของ $X_i เนื่องจากX_1,\\dots, X_n$ เป็นตัวแปรสุ่มที่เป็นอิสระต่อกัน (independent)\n",
    "\n",
    "$$ f(x_1,\\dots,x_n) = \\prod_{i=1}^{n}f_i(x_i) $$"
   ]
  },
  {
   "cell_type": "markdown",
   "metadata": {},
   "source": [
    "### การพิสูจน์: ความคาดหมายเมื่อตัวแปรสุ่มเป็นอิสระต่อกัน (independent)"
   ]
  },
  {
   "cell_type": "markdown",
   "metadata": {},
   "source": [
    "#### Proof.\n",
    "\n",
    "- ค่าคาดหมายคือ\n",
    "$$ E\\begin{bmatrix} \\prod_{i=1}^{n}x_i \\end{bmatrix} = \\int_{- \\infty}^{ \\infty}\\dots\\int_{- \\infty}^{ \\infty}\\begin{bmatrix}\\prod_{i=1}^{n}x_i \\end{bmatrix}f(x_i,\\dots,x_n)dx_1\\dots dx_n $$\n",
    "$$ = \\int_{-\\infty}^{ \\infty}\\dots\\int_{-\\infty}^{ \\infty}\\begin{bmatrix}\\prod_{i=1}^{n}x_i \\end{bmatrix}\\begin{bmatrix}\\prod_{i=1}^{n}f_i(x_i) \\end{bmatrix}dx_1\\dots dx_n $$\n",
    "$$ = \\int_{-\\infty}^{ \\infty}\\dots\\int_{-\\infty}^{ \\infty}\\begin{bmatrix}\\prod_{i=1}^{n}xf_i(x_i) \\end{bmatrix}dx_1\\dots dx_n $$\n",
    "$$ = \\prod_{i=1}^{n}\\int_{-\\infty}^{ \\infty}x_if_i(x_i)dx_i = \\prod_{i=1}^{n}E{X_i} $$"
   ]
  },
  {
   "cell_type": "markdown",
   "metadata": {},
   "source": [
    "### ตัวอย่าง: ความคาดหมายเมื่อตัวแปรสุ่มเป็นอิสระต่อกัน"
   ]
  },
  {
   "cell_type": "markdown",
   "metadata": {},
   "source": [
    "#### Example\n",
    "พิจารณากระบวนการกรองน้ำวิธีหนึ่งที่สามารถกรองสิ่งเจือปนออกไปได้ แต่ก็ไม่สามารถบอกได้อย่างแน่นอนร้อยเปอร์เซ็นต์ว่ากรอง ออกไปได้เท่าใด จึงต้องพิจารณาว่าเป็นตัวแปรสุ่ม สมมุติให้ตัวแปรสุ่ม $X_1$ คือสัดส่วนของสิ่งเจือปนที่ถูกกรองออกไปได้ในการกรอง ครั้งที่หนึ่ง และ $X_2$ คือสัดส่วนของสิ่งเจือปนที่ถูกกรองออกไปได้ในการกรองครั้งที่สอง ยิ่งไปกว่านั้น สมมุติว่ากระบวนการกรองทั้ง สองครั้งเป็นอิสระต่อกัน (independent) ที่มีฟังก์ชันความหนาแน่นของความน่าจะเป็น (p.d.f.) เหมือนกันคือ\n",
    "\n",
    "$$ f(x) = \\{ 4x^3 สำหรับ 0 < x < 1, 0, สำหรับกรณีอื่น$$\n",
    "\n",
    "กำหนดให้Y แทนสัดส่วนของสิ่งเจือปนที่เหลืออยู่หลังจากการกรองแล้วสองรอบ ดังนั้น $Y = (1 − X_1) (1 − X_2)$ เนื่องจาก $X_1$ และ $X_2$ เป็นอิสระต่อกัน (independent) จึงสรุปได้ว่า $1 − X_1 และ 1 − X_2$ เป็นอิสระต่อกัน (independent) ดังนั้น ค่าคาด หมายของสัดส่วนของสิ่งเจือปนที่เหลืออยู่หลังจากการกรองแล้วสองรอบเท่ากับ\n",
    "\n",
    "$$ E[Y] = E[(1 − X_1) (1 − X_2)] = E[(1 − X_1)]E[(1 − X_2)] = (1 − E[X_1]) (1 − E[X_2]) $$\n",
    "\n",
    "ในขณะกัน $E[X_i] = \\int_{0}^{1}x4x^3dx = \\frac{4}{5}$ ดังนั้น\n",
    "\n",
    "$$ E[Y] = (1 - E(X_1)(1 - E[X_2])  = \\left(1- {\\frac{4}{5}}^2 \\right) = 0.04  $$"
   ]
  },
  {
   "cell_type": "markdown",
   "metadata": {},
   "source": [
    "## ทฤษฎี: ความคาดหมายเมื่อตัวแปรสุ่มที่มีค่าไม่เป็นลบ (nonnegative random variable )"
   ]
  },
  {
   "cell_type": "markdown",
   "metadata": {},
   "source": [
    "#### Theorem\n",
    "\n",
    "กำหนดให้ X แทนตัวแปรสุ่มที่มีค่าไม่เป็นลบ (nonnegative random variable) ที่มีฟังก์ชันความน่าจะเป็นสะสม (C.D.F.) เท่ากับ F แล้ว\n",
    "\n",
    "$$ E[X] = \\int_{0}^{ \\infty}[1-F(x)]dx ---------(17) $$\n",
    "\n",
    "\n",
    "#### Example\n",
    "สมมุติว่า X คือเวลาที่ลูกค้ารอในการรับบริการ ซึ่งมีฟังก์ชันความน่าจะเป็นสะสม (C.D.F.) เท่ากับ\n",
    "$$ F(x) = \\{ 1 - e^{-2x} สัหรับ 0<x ,0,สำหรับกรณีอื่น $$\n",
    "\n",
    "ดังนั้น ประยุกต์ใช้ทฤษฎีบทนี้จะได้ว่า ค่าคาดหมายของเวลาที่ต้องรอรับบริการเท่ากับ\n",
    "$$ E[X] = \\int_{0}^{ \\infty}e^{-2x}dx = \\frac{1}{2} $$"
   ]
  },
  {
   "cell_type": "markdown",
   "metadata": {},
   "source": [
    "### ความแปรปรวน (Variance)\n",
    "- ความแปรปรวน (variance) เป็นเครื่องมือที่นิยมใช้เพื่อบอกถึงลักษณะ “การกระจายตัว ของการแจกแจง”\n",
    "- การแจกแจงที่แตกต่างกันอาจจะมีค่าคาดหมายที่เท่ากันก็เป็นได้\n",
    "- สะท้อนถึงระดับความไม่มีแบบแผน (randomness) ของตัวแปรสุ่มนั้นอีกด้วย\n",
    "- ในทางเทคนิค ความแปรปรวน (variance) ก็คือ “ค่าคาดหมายของฟังก์ชันของตัวแปรสุ่ม” อย่างหนึ่ง"
   ]
  },
  {
   "cell_type": "markdown",
   "metadata": {},
   "source": [
    "### นิยาม: ความแปรปรวน (Variance)"
   ]
  },
  {
   "cell_type": "markdown",
   "metadata": {},
   "source": [
    "#### Definition\n",
    "\n",
    "กำหนดให้X เป็นตัวแปรสุ่มที่ค่าคาดหมายมีค่าจำกัดเท่ากับ $\\mu = E[X]$ ความแปรปรวน (variance) ของ X นิยามได้เป็น\n",
    "\n",
    "$$ Var [X] = E [ (X − \\mu)^ 2 ]   ---------(18) $$\n",
    "\n",
    "ในกรณีที่ความแปรปรวนหาค่าได้ เราจะเรียกรากที่สอง (square root) ของความแปรปรวน $\\sqrt {Var[X]}$ ว่า ค่าเบี่ยงเบนมาตรฐาน (standard deviation) ซึ่งมักแทนด้วยสัญลักษณ์$σ_x$\n",
    "\n",
    "- หากค่าคาดหมายหาค่าไม่ได้ (does not exist) แล้วค่าความแปรปรวนจะหาค่าไม่ได้ตามไป ด้วย เพราะไม่สามารถนำ X ไปลบกับจำนวนใด\n",
    "- ความแปรปรวน (variance) “ขึ้นอยู่กับการแจกแจงเท่านั้น” กล่าวคือ ตัวแปรสุ่มต่างกัน แต่มีการแจกแจงแบบเดียวกันย่อมมีค่าความแปรปรวน (variance) เท่ากัน เช่นเดียวกับ กรณีของค่าคาดหมาย"
   ]
  },
  {
   "cell_type": "markdown",
   "metadata": {},
   "source": [
    "## ทฤษฎี: ความแปรปรวน (Variance)\n",
    "\n",
    "- สำหรับตัวแปรสุ่ม X ใดๆ\n",
    "$$ Var[X] = E[X^2] - (E[X])^2  ---------(19)$$\n",
    "\n",
    "- กำหนดให้X เป็นตัวแปรสุ่ม ดังนั้น $Var [X] \\geq 0$ และถ้า X เป็นตัวแปรสุ่มที่มีขอบเขต (bounded) แล้ว $Var [X]$ มีค่าจำกัด\n",
    "\n",
    "- กำหนดให้X เป็นตัวแปรสุ่ม ดังนั้น $Var [X] = 0$ ก็ต่อเมื่อ มีค่าคงที่ c ที่ทำให้ $Pr(X = c) = 1$\n",
    "- สำหรับค่าคงที่a และ b ใดๆ กำหนดให้ตัวแปรสุ่ม $Y = aX + b$ แล้ว\n",
    "$$ Var[Y] = a^2Var[X]  ---------(20) $$\n",
    "และ $ \\sigma_Y = |a| \\sigma_X $"
   ]
  },
  {
   "cell_type": "markdown",
   "metadata": {},
   "source": [
    "## ทฤษฎี: ความแปรปรวน (Variance) ของตัวแปรสุ่มที่เป็นอิสระต่อกัน (independent)"
   ]
  },
  {
   "cell_type": "markdown",
   "metadata": {},
   "source": [
    "#### Theorem\n",
    "ถ้า $X_1,\\dots, X_n$ เป็นตัวแปรสุ่มที่เป็นอิสระต่อกัน (independent) และมีค่าคาดหมาย (expectation) ที่จำกัด และ $a_1,\\dots,a_n$ และ b คือค่าคงที่ แล้ว\n",
    "\n",
    "$$ Var\\begin{bmatrix}\\sum_{i=1}^{n}a_iX_i + b\\end{bmatrix} = \\sum_{i=1}^{n}a_i^2Var[X_i]  ---------(21) $$"
   ]
  },
  {
   "cell_type": "markdown",
   "metadata": {},
   "source": [
    "### พิสูจน์: ความแปรปรวนของตัวแปรสุ่มที่เป็นอิสระต่อกัน"
   ]
  },
  {
   "cell_type": "markdown",
   "metadata": {},
   "source": [
    "#### Proof.\n",
    "\n",
    "กำหนดให้ $ \\mu_i = E[X_i]$ ดังนั้น $ E\\begin{bmatrix}\\sum_{i=1}^{n}a_iX_i + b\\end{bmatrix} = \\sum_{i=1}^{n}a_i\\mu_i + b$ และ\n",
    "\n",
    "$$ Var\\begin{bmatrix}\\sum_{i=1}^{n}a_iX_i + b \\end{bmatrix} = E\\begin{bmatrix}\\left(\\left(\\sum_{i=1}^{n}a_iX_i + b \\right)-\\left(\\sum_{i=1}^{n}a_i\\mu_i + b\\right)\\right)^2  \\end{bmatrix} = E\\begin{bmatrix}\\left(\\sum_{i=1}^{n}a_i(X_i - \\mu_i ) \\right)^2 \\end{bmatrix} = \\sum_{i=1}^{n}E\\begin{bmatrix} (a_i(X_i-\\mu_i))^2 \\end{bmatrix} + \\sum_{i \\ne j} a_ia_jE[(X_i - \\mu_i)(X_j - \\mu_j) $$\n",
    "\n",
    "- เพื่อให้ได้คำตอบที่ต้องการจะต้องพิสูจน์ว่า $E[(X_i − \\mu_i) (X_j − \\mu_j)] = 0 $สำหรับทุกๆ $i \\ne j$ ดังนี้\n",
    "$$ E[(X_i - \\mu_i)(X_j - \\mu_j)]  =  E[X_i - \\mu_i]E[X_j - \\mu_j]  =  0 $$\n",
    "\n",
    "- สมการแรกเป็นผลมาจากการที่ $X_1,\\dots, X_n$ เป็นตัวแปรสุ่มที่เป็นอิสระต่อกัน (independent) ดังนั้น จึงสามารถสรุปได้ว่า\n",
    "$$ Var\\begin{bmatrix}\\sum_{i=1}^{n}a_iX_i + b \\end{bmatrix}  = \\sum_{i=1}^{n}a_i^2Var[X_i]$$"
   ]
  },
  {
   "cell_type": "markdown",
   "metadata": {},
   "source": [
    "### นิยาม: ความแปรปรวนร่วมและสหสัมพันธ์ (Covariance and Correlation)"
   ]
  },
  {
   "cell_type": "markdown",
   "metadata": {},
   "source": [
    "- ความแปรปรวนร่วมและสหสัมพันธ์ (Covariance and Correlation) คือ “ความสัมพันธ์ ระหว่างตัวแปรสุ่ม” เป็นสิ่งที่นักวิเคราะห์ต้องการทราบ\n",
    "\n",
    "#### Definition\n",
    "\n",
    "กำหนดให้X และ Y เป็นตัวแปรสุ่มที่ค่าคาดหมายมีค่าจำกัด และ $E[X] = \\mu_X$ และ $E[Y] = \\mu_Y$ ความแปรปรวนร่วม (covariance) ของ X และ Y นิยามได้เป็น\n",
    "\n",
    "$$ Cov[X,Y] = E[(X-\\mu_X)(Y-\\mu_Y)] ---------(22)$$\n",
    "\n",
    "ถ้าค่าคาดหมายมีค่าจำกัด\n",
    "\n",
    "-ความแปรปรวนร่วม (covariance) ก็คือค่าคาดหมายของฟังก์ชันของ “ตัวแปรสุ่ม” อย่าง หนึ่งนั่นเอง"
   ]
  },
  {
   "cell_type": "markdown",
   "metadata": {},
   "source": [
    "## ทฤษฎี: ความแปรปรวนร่วม(Covariance)"
   ]
  },
  {
   "cell_type": "markdown",
   "metadata": {},
   "source": [
    "#### Theorem\n",
    "\n",
    "สำหรับตัวแปรสุ่ม X และ Y ที่ความแปรปรวนร่วม (covariance) มีค่าจำกัดใดๆ\n",
    "$$ Cov[X,Y] = E[XY] - E[X]E[Y]  ---------(23) $$\n",
    "\n",
    "#### Proof\n",
    "กำหนดให้ $E[X] = \\mu_X$ และ $E[Y] = \\mu_Y$\n",
    "\n",
    "$$ Cov[X,Y] = E[(X - \\mu_X)(Y - \\mu_Y)] = E[XY - \\mu_XY - \\mu_YX + \\mu_X\\mu_Y] $$\n",
    "$$= E[XY] - \\mu_XE[Y] - \\mu_YE[X] + \\mu_X\\mu_Y$$\n",
    "$$= E[XY] - \\mu_X\\mu_Y  = E[XY] - E[X]E[Y]  $$"
   ]
  },
  {
   "cell_type": "markdown",
   "metadata": {},
   "source": [
    "### ข้อสังเกตของความแปรปรวนร่วม(Covariance)\n",
    "\n",
    "- ข้อจำกัดอย่างหนึ่งคือการที่ขนาดของความแปรปรวนร่วม (covariance) ขึ้นอยู่กับขนาด ของแต่ละตัวแปร\n",
    "- การเปรียบเทียบค่าความแปรปรวนร่วม (covariance) บอกได้ยากว่าตัวแปรคู่ใดมีความ สัมพันธ์ระหว่างกัน (association) มากกว่ากัน\n",
    "- เราต้องหานิยามค่าสถิติที่บอกถึง ความสัมพันธ์แต่ไม่ขึ้นอยู่กับขนาดของแต่ละตัวแปร โดยตรง หรือมีการปรับขนาด (re-scaling) นั่นเอง"
   ]
  },
  {
   "cell_type": "markdown",
   "metadata": {},
   "source": [
    "### นิยาม: สหสัมพันธ์ (Correlation)"
   ]
  },
  {
   "cell_type": "markdown",
   "metadata": {},
   "source": [
    "#### Definition\n",
    "\n",
    "กำหนดให้X และ Y เป็นตัวแปรสุ่มที่ความแปรปรวน (variance) มีค่าจำกัด นั่นคือ $\\sigma^2_X < \\infty$ และ $\\sigma^2_Y < \\infty$ สหสัมพันธ์ (correlation) ของ X และ Y นิยามได้เป็น\n",
    "\n",
    "$$  \\rho[X,Y] = \\frac{Cov[X,Y]}{\\sigma_X\\sigma_Y} ---------(24) $$\n",
    "\n",
    "- ค่าสมบูรณ์ของสหสัมพันธ์มีค่าน้อยกว่าหรือเท่ากับหนึ่งเสมอ"
   ]
  },
  {
   "cell_type": "markdown",
   "metadata": {},
   "source": [
    "## ทฤษฎี: สหสัมพันธ์ (Correlation)"
   ]
  },
  {
   "cell_type": "markdown",
   "metadata": {},
   "source": [
    "#### Theorem\n",
    "\n",
    "สำหรับตัวแปรสุ่ม X และ Y ใดๆ ที่ $E[XY]$ หาค่าได้\n",
    "\n",
    "$$ (E[XY])^2 \\leq E[X^2]E[Y^2] ---------(25) $$\n",
    "\n",
    "ความสัมพันธ์นี้เป็นจริงในรูปแบบสมการก็ต่อเมื่อมีจำนวนจริงที่ไม่เท่ากับศูนย์$a \\ne 0และ b \\ne 0$ ที่ทำให้ $aX + bY = 0$ ด้วยความน่าจะเป็นเท่ากับหนึ่ง\n",
    "\n",
    "#### Proof\n",
    "\n",
    "- สำหรับกรณีที่ $E [ X^2 ] = \\infty$ หรือ $E [ Y^2 ] = \\infty $ไม่จำเป็นต้องพิสูจน์อะไรมากเพราะพจน์ ด้านขวาเท่ากับอนันต์ดังนั้นอสมการที่ 25 เป็นจริง\n",
    "- ในกรณีที่ $E [ X^2 ] = 0$ นั้นสามารถพิสูจน์ได้โดยเริ่มจาก $Pr(X = 0) = 1$ ดังนั้น $E[XY] = 0$ ซึ่งมีผลทำให้อสมการที่นี้เป็นจริงเช่นกัน\n",
    "- $E [ Y^2 ] = 0$ ก็สามารถพิสูจน์ได้ในทำนองเดียวกัน\n",
    "\n"
   ]
  },
  {
   "cell_type": "markdown",
   "metadata": {},
   "source": [
    "### พิสูจน์: สหสัมพันธ์ (Correlation)"
   ]
  },
  {
   "cell_type": "markdown",
   "metadata": {},
   "source": [
    "#### Proof.\n",
    "\n",
    "กรณีที่$ 0 < E [ X^2 ] < \\infty $และ $0 < E [ Y^2 ] < \\infty $ ซึ่งสามารถพิสูจน์ได้โดยเริ่มจากการพิจารณาความสัมพันธ์ต่อไปนี้ สำหรับค่าจำนวนจริงที่ไม่เท่ากับศูนย์a, b ใดๆ\n",
    "\n",
    "- $$ E[(aX + bY)^2] = a^2E[X^2] + b^2E[Y^2] + 2abE[XY]  \\geq 0  ---------(26)$$\n",
    "- $$ E[(aX - bY)^2] = a^2E[X^2] + b^2E[Y^2] - 2abE[XY] \\geq 0  ---------(27) $$\n",
    "\n",
    "- หากเลือก $a =\\sqrt{ E [Y^2]}$ และ $b = \\sqrt{E[X^2]}$ จะสามารถเขียนสมการที่ 26 และ 27 ตามลำดับ ได้ใหม่เป็น\n",
    "\n",
    "$$ E[XY] \\geq -\\sqrt{E[x^2]E[Y^2]} ---------(28) $$\n",
    "$$ E[XY] \\leq \\sqrt{E[X^2]E[Y^2]} ---------(29) $$\n",
    "$$ (E[XY])^2 \\leq E[X^2]E[Y^2] ---------(30) $$\n",
    "\n",
    "- สรุปได้ว่า\n",
    "$$ E[(aX + bY)^2] = 0 \\Rightarrow Pr(aX + bY = 0) = 1 $$\n",
    "$$ E[(aX - bY)^2] = 0 \\Rightarrow Pr(aX - bY = 0) = 1 $$"
   ]
  },
  {
   "cell_type": "markdown",
   "metadata": {},
   "source": [
    "## ทฤษฎี: อสมการโคชีและชวาร์ซ (Cauchy-Schwarz Inequality)"
   ]
  },
  {
   "cell_type": "markdown",
   "metadata": {},
   "source": [
    "#### Theorem (อสมการโคชีและชวาร์ซ (Cauchy-Schwarz Inequality))\n",
    "\n",
    "กำหนดให้ X และ Y เป็นตัวแปรสุ่มที่ความแปรปรวน (variance) มีค่าจำกัด นั่นคือ $\\sigma^2_X < \\infty$ และ $\\sigma^2_Y < \\infty$ สหสัมพันธ์ (correlation) ของ X และ Y มีค่าอยู่ระหว่าง$[−1, 1]$ นั่นคือ\n",
    "\n",
    "$$ − 1 \\leq \\rho [X,Y] \\leq 1   ---------(31) $$\n",
    "\n",
    "และความแปรปรวนร่วม (covariance) ของ X และ Y มีความสัมพันธ์กับความแปรปรวน (variance) ของแต่ละตัวแปรสุ่มดังนี้\n",
    "\n",
    "$$ (Cov[X,Y])^2 \\geq \\sigma^2_X\\sigma^2_Y ---------(32) $$\n",
    "\n",
    "โดยที่ อสมการที่ จะเป็นจริงในรูปแบบสมการก็ต่อเมื่อ มีจำนวนจริงที่ไม่เท่ากับศูนย์$ a, b \\ne 0 $และจำนวนจริง c ที่ทำให้ $aX + bY = c$ ด้วยความน่าจะเป็นเท่ากับ 1"
   ]
  },
  {
   "cell_type": "markdown",
   "metadata": {},
   "source": [
    "### พิสูจน์ : ทฤษฎีของอสมการโคชีและชวาร์ซ (Cauchy-Schwarz Inequality)"
   ]
  },
  {
   "cell_type": "markdown",
   "metadata": {},
   "source": [
    "#### Proof.\n",
    "\n",
    "ประยุกต์ใช้ทฤษฎีบทก่อนหน้านี้ เพื่อแสดงว่า\n",
    "\n",
    "$$ (Cov[X,Y])^2 = (E[(X - \\mu_X)(Y - \\mu_Y)])^2 \\leq E[(X - \\mu_X)]E[(Y - \\mu_Y)^2] = \\sigma^2_X\\sigma^2_Y  $$\n",
    "\n",
    "ซึ่งจะเป็นจริงในรูปแบบสมการก็ต่อเมื่อมีจำนวนจริงที่ไม่เท่ากับศูนย์$a\\ne0$และ $b\\ne0$ที่ทำให้ $aX + bY = 0$ ด้วยความน่าจะเป็นเท่ากับหนึ่ง เช่นเดียวกับกรณีของทฤษฎีก่อนหน้านี้ ยิ่งไปกว่า นั้นความสัมพันธ์ที่ได้นำไปสู่ข้อสรุปที่ว่า\n",
    "\n",
    "$$ -\\sigma_X\\sigma_Y \\leq Cov[X,Y]\\leq \\sigma_X\\sigma_Y \\Rightarrow -1 \\leq \\frac{Cov[X,Y]}{\\sigma_X\\sigma_Y}\\leq 1 \\Rightarrow -1 \\leq \\rho [X,Y] \\leq 1 $$\n",
    "\n",
    "- “ค่าสมบูรณ์ของสหสัมพันธ์มีค่าน้อยกว่าหรือเท่ากับหนึ่ง” เสมอ"
   ]
  },
  {
   "cell_type": "markdown",
   "metadata": {},
   "source": [
    "อ้างอิง: [$Lecture Note^1$](http://riped.utcc.ac.th/tee/wp-content/uploads/sites/3/2019/08/stat-thai.pdf)"
   ]
  }
 ],
 "metadata": {
  "kernelspec": {
   "display_name": "Python 3",
   "language": "python",
   "name": "python3"
  },
  "language_info": {
   "codemirror_mode": {
    "name": "ipython",
    "version": 3
   },
   "file_extension": ".py",
   "mimetype": "text/x-python",
   "name": "python",
   "nbconvert_exporter": "python",
   "pygments_lexer": "ipython3",
   "version": "3.8.1"
  },
  "widgets": {
   "application/vnd.jupyter.widget-state+json": {
    "state": {},
    "version_major": 2,
    "version_minor": 0
   }
  }
 },
 "nbformat": 4,
 "nbformat_minor": 2
}
