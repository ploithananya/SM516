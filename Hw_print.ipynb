{
 "cells": [
  {
   "cell_type": "markdown",
   "metadata": {},
   "source": [
    "# การบ้าน ให้ทำ nootbooks แสดงรายละเอียดและตัวอย่างการใช้งานคำสั่ง print "
   ]
  },
  {
   "cell_type": "markdown",
   "metadata": {},
   "source": [
    "## การแสดงผลด้วยฟังก์ชัน print()\n",
    "<p style=\"text-indent: 2.5em;\">ในการแสดงผลในภาษา Python นั้นจะใช้ฟังก์ชัน print() เพื่อแสดงผลข้อความ ตัวเลข หรือข้อมูลประเภทอื่นๆ ออกทางหน้าจอหรือสร้าง Http response นี่เป็นรูปแบบของการใช้งานฟังก์ชัน print() ในภาษา Python"
   ]
  },
  {
   "cell_type": "code",
   "execution_count": 2,
   "metadata": {},
   "outputs": [
    {
     "ename": "NameError",
     "evalue": "name 'value' is not defined",
     "output_type": "error",
     "traceback": [
      "\u001b[1;31m---------------------------------------------------------------------------\u001b[0m",
      "\u001b[1;31mNameError\u001b[0m                                 Traceback (most recent call last)",
      "\u001b[1;32m<ipython-input-2-1425eae1974b>\u001b[0m in \u001b[0;36m<module>\u001b[1;34m\u001b[0m\n\u001b[1;32m----> 1\u001b[1;33m \u001b[0mprint\u001b[0m\u001b[1;33m(\u001b[0m\u001b[0mvalue\u001b[0m\u001b[1;33m,\u001b[0m \u001b[1;33m...\u001b[0m\u001b[1;33m,\u001b[0m \u001b[0msep\u001b[0m \u001b[1;33m=\u001b[0m \u001b[1;34m' '\u001b[0m\u001b[1;33m,\u001b[0m \u001b[0mend\u001b[0m \u001b[1;33m=\u001b[0m \u001b[1;34m'\\n'\u001b[0m\u001b[1;33m)\u001b[0m\u001b[1;33m\u001b[0m\u001b[1;33m\u001b[0m\u001b[0m\n\u001b[0m",
      "\u001b[1;31mNameError\u001b[0m: name 'value' is not defined"
     ]
    }
   ],
   "source": [
    "print(value, ..., sep = ' ', end = '\\n')"
   ]
  },
  {
   "cell_type": "markdown",
   "metadata": {},
   "source": [
    "<p style=\"text-indent: 2.5em;\">ในรูปแบบการใช้งาน ฟังก์ชัน print() เราสามารถส่งอาร์กิวเมนต์ได้ตั้งแต่หนึ่งถึงหลายตัวเข้าไปในฟังก์ชัน นอกจากนี้ฟังก์ชันยังมี keyword อาร์กิวเมนต์ sep ซึ่งเป็นตัวแบ่งหากอาร์กิวเมนต์ที่ส่งเข้าไปนั้นมากกว่า 1 ตัว ซึ่งมีค่า default เป็น whitespace และ keyword อาร์กิวเมนต์ end เป็นการแสดงผลในตอนท้ายของฟังก์ชัน ซึ่งมีค่า default เป็น \\n หมายถึงการขึ้นบรรทัดใหม่ มาดูตัวอย่างการใช้งานฟังก์ชัน"
   ]
  },
  {
   "cell_type": "code",
   "execution_count": 12,
   "metadata": {},
   "outputs": [
    {
     "name": "stdout",
     "output_type": "stream",
     "text": [
      "Hello Python\n",
      "My name is Mateo\n",
      "Mercury Venus Earth\n",
      "marcuscode.com\n",
      "2017\n"
     ]
    }
   ],
   "source": [
    "print(\"Hello Python\")\n",
    "print(\"My name is Mateo\")\n",
    "print(\"Mercury\", \"Venus\", \"Earth\")\n",
    "name = \"marcuscode.com\"\n",
    "year = 2017\n",
    "print(name)\n",
    "print(year)"
   ]
  },
  {
   "cell_type": "markdown",
   "metadata": {},
   "source": [
    "<p style=\"text-indent: 2.5em;\">ในตัวอย่าง เป็นการแสดงผลในภาษา Python โดยในคำสั่งแรกและคำสั่งที่สองนั้นเป็นการแสดงข้อความ และในคำสั่งที่สามเป็นการส่งค่าแบบหลายอาร์กิวเมนต์ และในสองคำสั่งสุดท้ายเป็นการแสดงผลข้อมูลจากตัวแปร name และตัวแปร year"
   ]
  },
  {
   "cell_type": "markdown",
   "metadata": {},
   "source": [
    "<p style=\"text-indent: 2.5em;\">นอกจากนี้ เรายังสามารถใช้ keyword อาร์กิวเมนต์สำหรับกำหนดการแสดงผลเพื่อแบ่งแต่ละอาร์กิวเมนต์ และการแสดงผลในตอนท้ายของฟังก์ชัน นี่เป็นตัวอย่างการใช้งาน"
   ]
  },
  {
   "cell_type": "code",
   "execution_count": 13,
   "metadata": {},
   "outputs": [
    {
     "name": "stdout",
     "output_type": "stream",
     "text": [
      "Mercury, Venus, Earth\n",
      "One Two Three "
     ]
    }
   ],
   "source": [
    "print(\"Mercury\", \"Venus\", \"Earth\", sep=', ')\n",
    "print(\"One\", end=' ')\n",
    "print(\"Two\", end=' ')\n",
    "print(\"Three\", end=' ')"
   ]
  },
  {
   "cell_type": "markdown",
   "metadata": {},
   "source": [
    "<p style=\"text-indent: 2.5em;\">ในตัวอย่าง เป็นการใช้งาน keyword อาร์กิวเมนต์ในการจัดรูปแบบการแสดงผล โดยอาร์กิวเมนต์sep เป็นตัวแบ่งการแสดงในแต่ละอาร์กิวเมนต์ และ end เป็นตัวแบ่งการแสดงผลในแต่ละบรรทัด โดยปกติฟังก์ชัน print() จะขึ้นบรรทัดใหม่ทุกครั้ง เราสามารถใช้อาร์กิวเมนต์นี้เพื่อเปลี่ยนเป็นอย่างอื่นได้"
   ]
  },
  {
   "cell_type": "markdown",
   "metadata": {},
   "source": [
    "<p style=\"text-indent: 2.5em;\">นอกจากนี้ฟังก์ชัน print() นั้นยังสามารถส่งพารามิเตอร์ในรูปแบบของ String Formatting ได้โดยการใช้รูปแบบการแปลงข้อมูล ที่คล้ายกับการจัดรูปแบบการแสดงผลในภาษา C นี่เป็นตัวอย่างการใช้งาน"
   ]
  },
  {
   "cell_type": "code",
   "execution_count": 14,
   "metadata": {},
   "outputs": [
    {
     "name": "stdout",
     "output_type": "stream",
     "text": [
      "Python language\n",
      "Version 3.600000\n",
      "123\n",
      "Python 3.600000 123\n"
     ]
    }
   ],
   "source": [
    "lang = \"Python\"\n",
    "version = 3.6\n",
    "print(\"%s language\" % lang)\n",
    "print(\"Version %f\" % version)\n",
    "print(\"%d\" % 123)\n",
    "print(\"%s %f %d\" % (lang, version, 123))"
   ]
  },
  {
   "cell_type": "markdown",
   "metadata": {},
   "source": [
    "<p style=\"text-indent: 2.5em;\">ในตัวอย่าง เป็นการจัดรูปแบบการแสดงผลของ String โดยการแทรกรูปแบบของการแสดงผลใน String literal ได้ เช่น %s สำหรับการแสดงผล String %f สำหรับการแสดงผล Float และ %d สำหรับการแสดงผล Integer"
   ]
  },
  {
   "cell_type": "markdown",
   "metadata": {},
   "source": [
    "<p style=\"text-indent: 2.5em;\">เพราะว่าภาษา Python นั้นสามารถใช้กับการพัฒนาเว็บโดยสร้าง response ในรูปแบบ HTML หรือกำหนด Content type ประเภทต่างๆ ได้ ดังนั้นเราจึงสามารถใช้ฟังก์ชันนี้สำหรับการแสดงผลได้ อย่างไรก็ตามคุณต้องรันโค้ดนี้บนเว็บบราวน์เซอร์เพื่อดูผลลัพธ์ ไม่เช่นนั้นคำสั่งจะแสดงผลโค้ดของ HTML เหมือนที่เราเขียนลงในฟังก์ชันหากใช้แสดงบน Console นี่เป็นตัวอย่างการสร้างหน้าเว็บอย่างง่ายด้วยภาษา Python"
   ]
  },
  {
   "cell_type": "code",
   "execution_count": 11,
   "metadata": {},
   "outputs": [
    {
     "name": "stdout",
     "output_type": "stream",
     "text": [
      "<!DOCTYPE html>\n",
      "<html>\n",
      "<body>\n",
      "<h1>Welcome to Python tutorial on marcuscode.com</h1>\n",
      "</body>\n",
      "</html>\n"
     ]
    }
   ],
   "source": [
    "print('<!DOCTYPE html>');\n",
    "print('<html>');\n",
    "print('<body>');\n",
    "print('<h1>Welcome to Python tutorial on marcuscode.com</h1>');\n",
    "print('</body>');\n",
    "print('</html>');"
   ]
  },
  {
   "cell_type": "code",
   "execution_count": null,
   "metadata": {},
   "outputs": [],
   "source": []
  }
 ],
 "metadata": {
  "kernelspec": {
   "display_name": "Python 3",
   "language": "python",
   "name": "python3"
  },
  "language_info": {
   "codemirror_mode": {
    "name": "ipython",
    "version": 3
   },
   "file_extension": ".py",
   "mimetype": "text/x-python",
   "name": "python",
   "nbconvert_exporter": "python",
   "pygments_lexer": "ipython3",
   "version": "3.8.1"
  }
 },
 "nbformat": 4,
 "nbformat_minor": 2
}
