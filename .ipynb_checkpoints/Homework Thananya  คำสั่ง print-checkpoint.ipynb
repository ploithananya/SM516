{
 "cells": [
  {
   "cell_type": "markdown",
   "metadata": {},
   "source": [
    "# <center>print()"
   ]
  },
  {
   "cell_type": "markdown",
   "metadata": {},
   "source": [
    "This function prints the given object to the screen or to the text stream file.<br><br>\n",
    "The full syntax of print() is:<br>\n",
    "<center><b>print(*objects, sep=' ', end='\\n', file=sys.stdout, flush=False)</b>"
   ]
  },
  {
   "cell_type": "markdown",
   "metadata": {},
   "source": [
    "* <b>objects</b> -> object to the printed. * indicates that there may be more than one object.\n",
    "* <b>sep</b> - objects are separated by sep. <i>Default value: ' '</i>\n",
    "* <b>end</b> -> is printed at last.\n",
    "* <b>file</b> -> must be an object with string method. If omitted it, <i>sys.stdout</i> will be used which prints objects on the screen.\n",
    "* <b>flush</b> - If True, the stream is forcibly flushed. <i>Default value: False</i>"
   ]
  },
  {
   "cell_type": "markdown",
   "metadata": {},
   "source": [
    "<b>Note:</b> <i>sep, end, file and flush</i> are keyword argument. If you want to use any of them, you have to use:<br>\n",
    "`print(*objects, sep='seperator')`<br>\n",
    "not<br>\n",
    "`print(*objects, 'seperator')`"
   ]
  },
  {
   "cell_type": "markdown",
   "metadata": {},
   "source": [
    "## Return Value from print()\n",
    "It doesn't return any values; return <i>None</i>"
   ]
  },
  {
   "cell_type": "code",
   "execution_count": 18,
   "metadata": {},
   "outputs": [
    {
     "name": "stdout",
     "output_type": "stream",
     "text": [
      "\n"
     ]
    }
   ],
   "source": [
    "print() #showing nothing"
   ]
  },
  {
   "cell_type": "code",
   "execution_count": 49,
   "metadata": {},
   "outputs": [
    {
     "name": "stdout",
     "output_type": "stream",
     "text": [
      "Hello\n",
      "None\n"
     ]
    }
   ],
   "source": [
    "value=print('Hello') #showing what value is\n",
    "print(value) #showing None because the value has a result, not any words defining"
   ]
  },
  {
   "cell_type": "markdown",
   "metadata": {},
   "source": [
    "## How print() works in Python?"
   ]
  },
  {
   "cell_type": "code",
   "execution_count": 13,
   "metadata": {},
   "outputs": [
    {
     "name": "stdout",
     "output_type": "stream",
     "text": [
      "88\n",
      "3.14\n",
      "(1+2j)\n",
      "True\n",
      "[1, 2, 3]\n",
      "(1, 2, 3)\n"
     ]
    }
   ],
   "source": [
    "print(88) #showing class integer\n",
    "print(3.14) #showing class float\n",
    "print(1+2j) #showing class complex\n",
    "print(True) #showing class boolean\n",
    "print([1,2,3]) #showing class list\n",
    "print((1,2,3)) #showing class tuple"
   ]
  },
  {
   "cell_type": "code",
   "execution_count": 16,
   "metadata": {},
   "outputs": [
    {
     "name": "stdout",
     "output_type": "stream",
     "text": [
      "{'yellow', 'red', 'green'}\n",
      "{'name': 'Korn', 'age': 20}\n"
     ]
    }
   ],
   "source": [
    "print({'red', 'yellow', 'green'}) #showing class set\n",
    "print({'name':'Korn', 'age':20}) #showing class dictionary"
   ]
  },
  {
   "cell_type": "code",
   "execution_count": 5,
   "metadata": {},
   "outputs": [
    {
     "name": "stdout",
     "output_type": "stream",
     "text": [
      "Hello\n",
      "a = 5\n"
     ]
    }
   ],
   "source": [
    "print(\"Hello\") #showing class string\n",
    "a=5 #assign a\n",
    "print('a =', a) #showing a = previous a that was assigned"
   ]
  },
  {
   "cell_type": "code",
   "execution_count": 6,
   "metadata": {},
   "outputs": [
    {
     "name": "stdout",
     "output_type": "stream",
     "text": [
      "a = 5 = b\n"
     ]
    }
   ],
   "source": [
    "b=a #assign b = previous a\n",
    "print('a =', a, '= b') #showing a = previous a that was assigned = b(string)"
   ]
  },
  {
   "cell_type": "markdown",
   "metadata": {},
   "source": [
    "`' '` seperator is used. Notice, the space between two objects in output.<br>\n",
    "`end` parameter `'\\n'` (newline character) is used. Notice, each print statement displays the output in the new line.<br>\n",
    "`file` is `sys.stdout`. The output is printed on the screen.<br>\n",
    "`flush` is `False`. The stream is not forcibly flushed."
   ]
  },
  {
   "cell_type": "code",
   "execution_count": 7,
   "metadata": {},
   "outputs": [
    {
     "name": "stdout",
     "output_type": "stream",
     "text": [
      "a =11115\n",
      "\n",
      "\n",
      "a =15 "
     ]
    }
   ],
   "source": [
    "print('a =', a, sep='1111', end='\\n\\n\\n') #a=5 is seperated by 1111, \\n is blank line\n",
    "print('a =', a, sep='1', end=' ') #a=5 is seperated by 1, ' ' is empty line"
   ]
  },
  {
   "cell_type": "code",
   "execution_count": 20,
   "metadata": {},
   "outputs": [
    {
     "name": "stdout",
     "output_type": "stream",
     "text": [
      "This is me who is writing\n"
     ]
    }
   ],
   "source": [
    "print('This is', 'me', 'who is', 'writing') #showing with automatic single space between four arg."
   ]
  },
  {
   "cell_type": "code",
   "execution_count": 27,
   "metadata": {},
   "outputs": [
    {
     "name": "stdout",
     "output_type": "stream",
     "text": [
      "Global warming\n",
      "Global warming\n",
      "Global   warming\n",
      "Globalwarming\n",
      "Global warming\n"
     ]
    }
   ],
   "source": [
    "print('Global', 'warming', sep=None) #if sep = None; nothing happen\n",
    "print('Global', 'warming', sep=' ') #sep=' ' is default value\n",
    "print('Global', 'warming', sep='   ')#space inside ' ' has an effect to string\n",
    "print('Global', 'warming', sep='') #trying no space of default value of sep\n",
    "print('Global', 'warming') #trying no assing sep means default value"
   ]
  },
  {
   "cell_type": "code",
   "execution_count": 28,
   "metadata": {},
   "outputs": [
    {
     "name": "stdout",
     "output_type": "stream",
     "text": [
      "Global\n",
      "warming\n"
     ]
    }
   ],
   "source": [
    "print('Global', 'warming', sep='\\n') #\\n also can use in sep"
   ]
  },
  {
   "cell_type": "code",
   "execution_count": 30,
   "metadata": {},
   "outputs": [
    {
     "name": "stdout",
     "output_type": "stream",
     "text": [
      "A\n",
      "B\n",
      "C\n"
     ]
    }
   ],
   "source": [
    "print('A\\nB\\nC') #\\n also can use on objects"
   ]
  },
  {
   "cell_type": "code",
   "execution_count": 31,
   "metadata": {},
   "outputs": [
    {
     "name": "stdout",
     "output_type": "stream",
     "text": [
      "AA. BB. CC. "
     ]
    }
   ],
   "source": [
    "#can use end to join seperate pieces into one line\n",
    "print('AA', end='. ')\n",
    "print('BB', end='. ')\n",
    "print('CC', end='. ')"
   ]
  },
  {
   "cell_type": "code",
   "execution_count": 35,
   "metadata": {},
   "outputs": [
    {
     "name": "stdout",
     "output_type": "stream",
     "text": [
      "How can we prevent from Covid-19?\n",
      " 1. Stay at home.\n",
      " 2. Wash your hand as much as you can.\n",
      " 3. Keep the distance to everybody.\n"
     ]
    }
   ],
   "source": [
    "#try to use \\n and  1st character on the next line\n",
    "print('How can we prevent from Covid-19?', end='\\n 1. ')\n",
    "print('Stay at home.', end='\\n 2. ')\n",
    "print('Wash your hand as much as you can.', end='\\n 3. ')\n",
    "print('Keep the distance to everybody.')"
   ]
  },
  {
   "cell_type": "markdown",
   "metadata": {},
   "source": [
    "## print() with file parameter"
   ]
  },
  {
   "cell_type": "markdown",
   "metadata": {},
   "source": [
    "In Python, you can print <i>objects</i> to the file by specifying the <i>file</i> parameter."
   ]
  },
  {
   "cell_type": "code",
   "execution_count": 9,
   "metadata": {},
   "outputs": [],
   "source": [
    "sourceFile=open('testfile.txt', 'w') #open testfile.txt in writing mode. If it doesn't exist; created & opened in writing mode\n",
    "print('Woww', file=sourceFile) #showing Woww in text file\n",
    "sourceFile.close() #close file"
   ]
  },
  {
   "cell_type": "markdown",
   "metadata": {},
   "source": [
    "## Buffering print()"
   ]
  },
  {
   "cell_type": "code",
   "execution_count": 38,
   "metadata": {},
   "outputs": [
    {
     "name": "stdout",
     "output_type": "stream",
     "text": [
      "3 . . . 2 . . . 1 . . .  Go! \n"
     ]
    }
   ],
   "source": [
    "import time\n",
    "num_sec=3 #define num_sec\n",
    "for countdown in reversed(range(num_sec + 1)): #reversed count and +1 in next position\n",
    "    if countdown>0: #given condition\n",
    "        print(countdown, end=' . . . ') #showing count number and end with . . .\n",
    "        time.sleep(1) #delay 1 second\n",
    "    else:\n",
    "        print( ' Go! ' ) #showing this if the count number isn't > 0"
   ]
  },
  {
   "cell_type": "markdown",
   "metadata": {},
   "source": [
    "## Printing Custom Data Types"
   ]
  },
  {
   "cell_type": "code",
   "execution_count": 46,
   "metadata": {
    "scrolled": true
   },
   "outputs": [
    {
     "name": "stdout",
     "output_type": "stream",
     "text": [
      "Person(name='AA BB', age=10)\n"
     ]
    }
   ],
   "source": [
    "from collections import namedtuple #import namedtuple from collections func.\n",
    "#namedtuple(typename, field_names)\n",
    "Person=namedtuple('Person', 'name age') #define Person\n",
    "X=Person('AA BB', 10) #define X\n",
    "print(X) #showing the result of X"
   ]
  },
  {
   "cell_type": "markdown",
   "metadata": {},
   "source": [
    "## Pretty-Printing Nested Data Structures"
   ]
  },
  {
   "cell_type": "code",
   "execution_count": 4,
   "metadata": {},
   "outputs": [
    {
     "name": "stdout",
     "output_type": "stream",
     "text": [
      "Pretty printing has been turned ON\n"
     ]
    }
   ],
   "source": [
    "%pprint #to turn pretty printing on/off"
   ]
  },
  {
   "cell_type": "code",
   "execution_count": 5,
   "metadata": {},
   "outputs": [],
   "source": [
    "from pprint import pprint as pp #import pprint from pprint, and assign it as pp"
   ]
  },
  {
   "cell_type": "code",
   "execution_count": 6,
   "metadata": {},
   "outputs": [
    {
     "name": "stdout",
     "output_type": "stream",
     "text": [
      "9\n",
      "9\n"
     ]
    }
   ],
   "source": [
    "#showing 9 by using normal print func. and pretty print\n",
    "print(9)\n",
    "pp(9)"
   ]
  },
  {
   "cell_type": "code",
   "execution_count": 7,
   "metadata": {},
   "outputs": [
    {
     "name": "stdout",
     "output_type": "stream",
     "text": [
      "Covid\n",
      "'Covid'\n"
     ]
    }
   ],
   "source": [
    "print('Covid') #showing Covid\n",
    "pp('Covid') #showing 'Covid'; as the result pretty print prints all datas instead of str()"
   ]
  },
  {
   "cell_type": "code",
   "execution_count": 9,
   "metadata": {},
   "outputs": [
    {
     "name": "stdout",
     "output_type": "stream",
     "text": [
      "{'powers': [0, 1, 4, 9]}\n"
     ]
    }
   ],
   "source": [
    "data={'powers': [x**2 for x in range(4)]} #x=any positions counting until 3, and powered by 2\n",
    "pp(data) #showing the result of pp"
   ]
  },
  {
   "cell_type": "code",
   "execution_count": 12,
   "metadata": {},
   "outputs": [
    {
     "name": "stdout",
     "output_type": "stream",
     "text": [
      "{'A': {'B': {'C': {...}}}}\n"
     ]
    }
   ],
   "source": [
    "alphabet={'A' : {'B' : {'C' : {'D' : ['E']}}}} #define alphabet\n",
    "pp(alphabet, depth=3) #showing the result of pp, depth=3 -> count 0,1,2; the rest appear ..."
   ]
  },
  {
   "cell_type": "markdown",
   "metadata": {},
   "source": [
    "## Printing animations"
   ]
  },
  {
   "cell_type": "code",
   "execution_count": 23,
   "metadata": {
    "scrolled": true
   },
   "outputs": [
    {
     "name": "stdout",
     "output_type": "stream",
     "text": [
      " |                       "
     ]
    },
    {
     "ename": "KeyboardInterrupt",
     "evalue": "",
     "output_type": "error",
     "traceback": [
      "\u001b[1;31m---------------------------------------------------------------------------\u001b[0m",
      "\u001b[1;31mKeyboardInterrupt\u001b[0m                         Traceback (most recent call last)",
      "\u001b[1;32m<ipython-input-23-6de675489daf>\u001b[0m in \u001b[0;36m<module>\u001b[1;34m\u001b[0m\n\u001b[0;32m      3\u001b[0m \u001b[1;32mfor\u001b[0m \u001b[0mframe\u001b[0m \u001b[1;32min\u001b[0m \u001b[0mcycle\u001b[0m\u001b[1;33m(\u001b[0m\u001b[1;34mr'-\\|/-\\|/'\u001b[0m\u001b[1;33m)\u001b[0m\u001b[1;33m:\u001b[0m \u001b[1;31m#cycle=animation\u001b[0m\u001b[1;33m\u001b[0m\u001b[1;33m\u001b[0m\u001b[0m\n\u001b[0;32m      4\u001b[0m         \u001b[0mprint\u001b[0m\u001b[1;33m(\u001b[0m\u001b[1;34m'\\r'\u001b[0m\u001b[1;33m,\u001b[0m \u001b[0mframe\u001b[0m\u001b[1;33m,\u001b[0m \u001b[0mend\u001b[0m\u001b[1;33m=\u001b[0m\u001b[1;34m' '\u001b[0m\u001b[1;33m,\u001b[0m \u001b[0mflush\u001b[0m\u001b[1;33m=\u001b[0m\u001b[1;32mTrue\u001b[0m\u001b[1;33m)\u001b[0m \u001b[1;31m#showing cycle\u001b[0m\u001b[1;33m\u001b[0m\u001b[1;33m\u001b[0m\u001b[0m\n\u001b[1;32m----> 5\u001b[1;33m         \u001b[0msleep\u001b[0m\u001b[1;33m(\u001b[0m\u001b[1;36m0.2\u001b[0m\u001b[1;33m)\u001b[0m \u001b[1;31m#delay 0.2 sec\u001b[0m\u001b[1;33m\u001b[0m\u001b[1;33m\u001b[0m\u001b[0m\n\u001b[0m",
      "\u001b[1;31mKeyboardInterrupt\u001b[0m: "
     ]
    }
   ],
   "source": [
    "from itertools import cycle #import cycle from itertools\n",
    "from time import sleep #import sleep from time\n",
    "for frame in cycle(r'-\\|/-\\|/'): #cycle=animation\n",
    "        print('\\r', frame, end=' ', flush=True) #showing cycle, \\r=carriage return\n",
    "        sleep(0.2) #delay 0.2 sec"
   ]
  },
  {
   "cell_type": "code",
   "execution_count": 80,
   "metadata": {},
   "outputs": [
    {
     "name": "stdout",
     "output_type": "stream",
     "text": [
      "[ ##############################  ]  100% "
     ]
    }
   ],
   "source": [
    "from time import sleep #import sleep from time\n",
    "def progress(percent=0, width=30): #assign definition\n",
    "    left=width*percent//100\n",
    "    right=width-left\n",
    "    print('\\r[', '#'*left, ' '*right, ']', #\\r=carriage return\n",
    "          f' {percent:.0f}%', #func. %\n",
    "          sep=' ', end=' ', flush=True) #forcibly flushed=True\n",
    "for i in range(101): #101 positions\n",
    "          progress(i)\n",
    "          sleep(0.05) #deley 0.05 sec"
   ]
  },
  {
   "cell_type": "markdown",
   "metadata": {},
   "source": [
    "## Print Counterparts"
   ]
  },
  {
   "cell_type": "markdown",
   "metadata": {},
   "source": [
    "### Built-In"
   ]
  },
  {
   "cell_type": "code",
   "execution_count": 82,
   "metadata": {},
   "outputs": [
    {
     "name": "stdout",
     "output_type": "stream",
     "text": [
      "Enter your name: Korn\n"
     ]
    }
   ],
   "source": [
    "name=input('Enter your name: ') #assign name, user take responsibility on keyboard"
   ]
  },
  {
   "cell_type": "code",
   "execution_count": 83,
   "metadata": {},
   "outputs": [
    {
     "name": "stdout",
     "output_type": "stream",
     "text": [
      "Korn\n"
     ]
    }
   ],
   "source": [
    "print(name) #showing the result of name that user was input"
   ]
  },
  {
   "cell_type": "code",
   "execution_count": 86,
   "metadata": {},
   "outputs": [
    {
     "name": "stdout",
     "output_type": "stream",
     "text": [
      "········\n"
     ]
    }
   ],
   "source": [
    "from getpass import getpass #import getpass from getpass for user's response\n",
    "password=getpass() #assign password"
   ]
  },
  {
   "cell_type": "code",
   "execution_count": 87,
   "metadata": {},
   "outputs": [
    {
     "name": "stdout",
     "output_type": "stream",
     "text": [
      "1234\n"
     ]
    }
   ],
   "source": [
    "print(password) #showing password"
   ]
  }
 ],
 "metadata": {
  "kernelspec": {
   "display_name": "Python 3",
   "language": "python",
   "name": "python3"
  },
  "language_info": {
   "codemirror_mode": {
    "name": "ipython",
    "version": 3
   },
   "file_extension": ".py",
   "mimetype": "text/x-python",
   "name": "python",
   "nbconvert_exporter": "python",
   "pygments_lexer": "ipython3",
   "version": "3.8.1"
  }
 },
 "nbformat": 4,
 "nbformat_minor": 2
}
