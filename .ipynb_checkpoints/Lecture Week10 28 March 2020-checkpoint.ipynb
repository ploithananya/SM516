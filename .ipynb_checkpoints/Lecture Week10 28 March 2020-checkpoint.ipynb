{
 "cells": [
  {
   "cell_type": "markdown",
   "metadata": {},
   "source": [
    "# Input and Output"
   ]
  },
  {
   "cell_type": "markdown",
   "metadata": {},
   "source": [
    "### ชุดตัวอักษร (Strings) $\\to$ วัตถุ (objects) $\\to$Tuple (immutable)"
   ]
  },
  {
   "cell_type": "code",
   "execution_count": 5,
   "metadata": {},
   "outputs": [
    {
     "data": {
      "text/plain": [
       "' ในปี 2020  มีเหตุการณ์สำคัญคือ การระบาดของไวรัสโควิด-19'"
      ]
     },
     "execution_count": 5,
     "metadata": {},
     "output_type": "execute_result"
    }
   ],
   "source": [
    "' ' ' รูปแบบ (formal) การให้ค่า (literal) ของชุดตัวอักษร ใช้ f หรือ F นำหน้า ' ' ' #docstring\n",
    "\n",
    "ปี = 2020\n",
    "เหตุการณ์ = 'การระบาดของไวรัสโควิด-19'\n",
    "f' ในปี {ปี}  มีเหตุการณ์สำคัญคือ {เหตุการณ์}'"
   ]
  },
  {
   "cell_type": "code",
   "execution_count": 6,
   "metadata": {},
   "outputs": [
    {
     "data": {
      "text/plain": [
       "'ในปี 2020มีเหตุการณ์สำคัญคือการระบาดของไวรัสโควิด-19'"
      ]
     },
     "execution_count": 6,
     "metadata": {},
     "output_type": "execute_result"
    }
   ],
   "source": [
    "'''ใช้ชุดตัวอีกษร รวมกัน (string concatenation)'''\n",
    "'ในปี '+str(ปี)+ 'มีเหตุการณ์สำคัญคือ' +เหตุการณ์"
   ]
  },
  {
   "cell_type": "code",
   "execution_count": 8,
   "metadata": {},
   "outputs": [
    {
     "data": {
      "text/plain": [
       "' 42572654 Yes votes 49.67%'"
      ]
     },
     "execution_count": 8,
     "metadata": {},
     "output_type": "execute_result"
    }
   ],
   "source": [
    "'''ตัวเลข แยกด้วย _'''\n",
    "yes_votes = 42_572_654\n",
    "no_votes = 43_132_495\n",
    "\n",
    "percentage = yes_votes / (yes_votes + no_votes)\n",
    "'{:-9} Yes votes {:2.2%}' .format(yes_votes, percentage)"
   ]
  },
  {
   "cell_type": "code",
   "execution_count": 10,
   "metadata": {},
   "outputs": [
    {
     "data": {
      "text/plain": [
       "0.496733912684756"
      ]
     },
     "execution_count": 10,
     "metadata": {},
     "output_type": "execute_result"
    }
   ],
   "source": [
    "percentage"
   ]
  },
  {
   "cell_type": "markdown",
   "metadata": {},
   "source": [
    "## คำสั่ง print () พิมพ์"
   ]
  },
  {
   "cell_type": "markdown",
   "metadata": {},
   "source": [
    "NB. คำสั่ง print ใน Python 2.x ไม่ได้เป็น function แต่เป็น Expresion $/to$ จัดการพิมพ์ไม่ได้เป็น functionแบบใน Python3\n",
    "print percentage"
   ]
  },
  {
   "cell_type": "code",
   "execution_count": 11,
   "metadata": {},
   "outputs": [
    {
     "name": "stdout",
     "output_type": "stream",
     "text": [
      "Help on built-in function print in module builtins:\n",
      "\n",
      "print(...)\n",
      "    print(value, ..., sep=' ', end='\\n', file=sys.stdout, flush=False)\n",
      "    \n",
      "    Prints the values to a stream, or to sys.stdout by default.\n",
      "    Optional keyword arguments:\n",
      "    file:  a file-like object (stream); defaults to the current sys.stdout.\n",
      "    sep:   string inserted between values, default a space.\n",
      "    end:   string appended after the last value, default a newline.\n",
      "    flush: whether to forcibly flush the stream.\n",
      "\n"
     ]
    }
   ],
   "source": [
    "help(print)"
   ]
  },
  {
   "cell_type": "markdown",
   "metadata": {},
   "source": [
    "ในการจัดรูปแบบในการพิมพ์ทำได้ 3 แบบ\n",
    "\n",
    "1. วิธีเก่าใช้ modulo %\n",
    "2. ใช้ .format() method\n",
    "3. ใช้ f-string"
   ]
  },
  {
   "cell_type": "markdown",
   "metadata": {},
   "source": [
    "## จัดรูปแบบกับช่อง"
   ]
  },
  {
   "cell_type": "code",
   "execution_count": 12,
   "metadata": {},
   "outputs": [
    {
     "data": {
      "text/plain": [
       "1"
      ]
     },
     "execution_count": 12,
     "metadata": {},
     "output_type": "execute_result"
    }
   ],
   "source": [
    "5%4"
   ]
  },
  {
   "cell_type": "code",
   "execution_count": 13,
   "metadata": {},
   "outputs": [
    {
     "name": "stdout",
     "output_type": "stream",
     "text": [
      "ฉันต้องกาฉีดบางอย่างไปที่นี่\n"
     ]
    }
   ],
   "source": [
    "'''ใช้ %s ในการฉีด (inject) ชุดตัวอักษรเข้าไป modulo คือ string formating operator'''\n",
    "print('ฉันต้องกาฉีด%sไปที่นี่'%'บางอย่าง')"
   ]
  },
  {
   "cell_type": "code",
   "execution_count": 15,
   "metadata": {},
   "outputs": [
    {
     "name": "stdout",
     "output_type": "stream",
     "text": [
      "ฉันต้องการฉีดบางอย่างและอีกอย่างไปที่นี่\n"
     ]
    }
   ],
   "source": [
    "'''แบบฉีดหลายที่'''\n",
    "print('ฉันต้องการฉีด%sและ%sไปที่นี่'% ('บางอย่าง','อีกอย่าง') )"
   ]
  },
  {
   "cell_type": "markdown",
   "metadata": {},
   "source": [
    "## การเปลี่ยนรูปแบบเพื่อการพิมพ์\n",
    "\n",
    "* %s ใช้ method str() - string\n",
    "* %r ใช้ method repr() - representation"
   ]
  },
  {
   "cell_type": "code",
   "execution_count": 16,
   "metadata": {},
   "outputs": [
    {
     "name": "stdout",
     "output_type": "stream",
     "text": [
      "หล่อนบอกว่ามีแฟนชื่อ สุเมธ\n",
      "หล่อนบอกว่ามีแฟนชื่อ 'สุเมธ'\n"
     ]
    }
   ],
   "source": [
    "print ('หล่อนบอกว่ามีแฟนชื่อ %s'%'สุเมธ')\n",
    "print ('หล่อนบอกว่ามีแฟนชื่อ %r'%'สุเมธ')"
   ]
  },
  {
   "cell_type": "markdown",
   "metadata": {},
   "source": [
    "print ('หล่อนบอกว่ามีแฟนชื่อ %s'%'สุเมธ\\tใหญ่')\n",
    "print ('หล่อนบอกว่ามีแฟนชื่อ %r'%'สุเมธ\\tใหญ่')"
   ]
  },
  {
   "cell_type": "markdown",
   "metadata": {},
   "source": [
    "* %d รูปแบบตัวเลขเป็นจำนวนเต็ม (integer)"
   ]
  },
  {
   "cell_type": "code",
   "execution_count": 21,
   "metadata": {},
   "outputs": [
    {
     "name": "stdout",
     "output_type": "stream",
     "text": [
      "น้ำหอม Victoria secret ราคา 3.22 บาท\n",
      "น้ำหอม Victoria secret ราคา 3 บาท\n"
     ]
    }
   ],
   "source": [
    "print ('น้ำหอม Victoria secret ราคา %s บาท' %3.22)\n",
    "print ('น้ำหอม Victoria secret ราคา %d บาท' %3.22)"
   ]
  },
  {
   "cell_type": "markdown",
   "metadata": {},
   "source": [
    "tab นึงมี 4 space \n",
    "5 ตำแหน่งนับจุดทศนิยม\n"
   ]
  },
  {
   "cell_type": "markdown",
   "metadata": {},
   "source": [
    "ข้อสอบระดับปริญญาตรี"
   ]
  },
  {
   "cell_type": "markdown",
   "metadata": {},
   "source": [
    "## หลากหลายรูปแบบ"
   ]
  },
  {
   "cell_type": "code",
   "execution_count": 22,
   "metadata": {},
   "outputs": [
    {
     "name": "stdout",
     "output_type": "stream",
     "text": [
      "นางเอกชื่อ มณีจันทร์ มีเงิน 2.56 ล้านบาท สถานภาพ 'ยังโสด'\n"
     ]
    }
   ],
   "source": [
    "print ('นางเอกชื่อ %s มีเงิน%5.2f ล้านบาท สถานภาพ %r' %('มณีจันทร์',2.555,'ยังโสด'))"
   ]
  },
  {
   "cell_type": "markdown",
   "metadata": {},
   "source": [
    "## จัดรูปกับ .format() method"
   ]
  },
  {
   "cell_type": "markdown",
   "metadata": {},
   "source": [
    "รูปแบบ: 'ชุดอักษร {} และ {}'.format('อย่างที่1'.'อย่างที่2')"
   ]
  },
  {
   "cell_type": "code",
   "execution_count": 23,
   "metadata": {},
   "outputs": [
    {
     "name": "stdout",
     "output_type": "stream",
     "text": [
      "โควิดฉีดด้วยศฤงษ์\n"
     ]
    }
   ],
   "source": [
    "print('โควิดฉีดด้วย{}'.format('ศฤงษ์'))"
   ]
  },
  {
   "cell_type": "markdown",
   "metadata": {},
   "source": [
    "### วิธี .format() method ดีกว่าจัดรูปตามช่อง"
   ]
  },
  {
   "cell_type": "markdown",
   "metadata": {},
   "source": [
    "#### 1.วัตถุที่ใส่เข้าไปสามารถชี้ตำแหน่ง"
   ]
  },
  {
   "cell_type": "code",
   "execution_count": 26,
   "metadata": {},
   "outputs": [
    {
     "name": "stdout",
     "output_type": "stream",
     "text": [
      "ลำดับความหล่อศฤงษ์ นภัทร สุเมธ\n"
     ]
    }
   ],
   "source": [
    "print('ลำดับความหล่อ{1} {2} {0}'.format ('สุเมธ','ศฤงษ์','นภัทร'))"
   ]
  },
  {
   "cell_type": "markdown",
   "metadata": {},
   "source": [
    "#### 2. วัตุที่ใส่เข้าไปสามารถใช้ตัวแทน"
   ]
  },
  {
   "cell_type": "code",
   "execution_count": 31,
   "metadata": {},
   "outputs": [
    {
     "name": "stdout",
     "output_type": "stream",
     "text": [
      "ลำดับความหล่อ สุเมธ ศฤงษ์  นภัทร\n"
     ]
    }
   ],
   "source": [
    "print('ลำดับความหล่อ {a} {b} {c}'.format (a='สุเมธ',b='ศฤงษ์',c=' นภัทร'))"
   ]
  },
  {
   "cell_type": "markdown",
   "metadata": {},
   "source": [
    "### การจัดวาง ขยาย และความแม่นยำ .format()"
   ]
  },
  {
   "cell_type": "code",
   "execution_count": 32,
   "metadata": {},
   "outputs": [
    {
     "name": "stdout",
     "output_type": "stream",
     "text": [
      "Name         | Marking \n",
      "Kanchan      |  3.1234 \n",
      "Thananya     |     2.0 \n"
     ]
    }
   ],
   "source": [
    "print( '{0:12} | {1:7} ' .format ('Name' , 'Marking', 'No',20))\n",
    "print( '{0:12} | {1:7} ' .format ('Kanchan' , 3.1234))\n",
    "print( '{0:12} | {1:7} ' .format ('Thananya' , 2.0))"
   ]
  },
  {
   "cell_type": "markdown",
   "metadata": {},
   "source": [
    "ใช้เครื่องหมายกำกับได้\n",
    "\n",
    "* <ชิดซ้าย\n",
    "* ^จัดกลาง\n",
    "* ชิดขวา"
   ]
  },
  {
   "cell_type": "markdown",
   "metadata": {},
   "source": [
    "### จัดรูปแบบการให้ค่าชุดอักษร f-strings"
   ]
  },
  {
   "cell_type": "code",
   "execution_count": 34,
   "metadata": {},
   "outputs": [
    {
     "name": "stdout",
     "output_type": "stream",
     "text": [
      "เธอบอกว่าเธอชื่อธนัญญา\n"
     ]
    }
   ],
   "source": [
    "name = 'ธนัญญา'\n",
    "print(f'เธอบอกว่าเธอชื่อ{name}')"
   ]
  },
  {
   "cell_type": "code",
   "execution_count": 36,
   "metadata": {},
   "outputs": [
    {
     "name": "stdout",
     "output_type": "stream",
     "text": [
      "เธอบอกว่าเธอชื่อ'ธนัญญา'\n"
     ]
    }
   ],
   "source": [
    "print(f'เธอบอกว่าเธอชื่อ{name !r}') #มีฟันหนู"
   ]
  },
  {
   "cell_type": "markdown",
   "metadata": {},
   "source": [
    "#### รูปแบบ \"result: {value:{width.{precision}}\""
   ]
  },
  {
   "cell_type": "code",
   "execution_count": 44,
   "metadata": {},
   "outputs": [
    {
     "name": "stdout",
     "output_type": "stream",
     "text": [
      "My 10 character, four decimal number is:    23.4568\n",
      "My 10 character, four decimal number is:    23.4568\n"
     ]
    }
   ],
   "source": [
    "num = 23.45678\n",
    "print(\"My 10 character, four decimal number is: {0:10.4f}\".format(num))\n",
    "print(f\"My 10 character, four decimal number is: {num:{10}.{6}}\") \n",
    "# ตำแหน่งทศนิยม อยากได้ทศนิยม 4ตัวรวมกับข้างหน้า 2 "
   ]
  },
  {
   "cell_type": "code",
   "execution_count": 45,
   "metadata": {},
   "outputs": [
    {
     "name": "stdout",
     "output_type": "stream",
     "text": [
      "My 10 character, four decimal number is:    23.4500\n",
      "My 10 character, four decimal number is:      23.45\n"
     ]
    }
   ],
   "source": [
    "num = 23.45\n",
    "print(\"My 10 character, four decimal number is: {0:10.4f}\".format(num))\n",
    "print(f\"My 10 character, four decimal number is: {num:{10}.{6}}\") \n"
   ]
  },
  {
   "cell_type": "code",
   "execution_count": 46,
   "metadata": {},
   "outputs": [
    {
     "name": "stdout",
     "output_type": "stream",
     "text": [
      "My 10 character, four decimal number is:    23.4500\n",
      "My 10 character, four decimal number is:    23.4500\n"
     ]
    }
   ],
   "source": [
    "num = 23.45\n",
    "print(\"My 10 character, four decimal number is: {0:10.4f}\".format(num))\n",
    "print(f\"My 10 character, four decimal number is: {num:10.4f}\") \n"
   ]
  },
  {
   "cell_type": "markdown",
   "metadata": {},
   "source": [
    "## คำสั่ง Input"
   ]
  },
  {
   "cell_type": "code",
   "execution_count": 48,
   "metadata": {},
   "outputs": [
    {
     "name": "stdout",
     "output_type": "stream",
     "text": [
      "Help on method raw_input in module ipykernel.kernelbase:\n",
      "\n",
      "raw_input(prompt='') method of ipykernel.ipkernel.IPythonKernel instance\n",
      "    Forward raw_input to frontends\n",
      "    \n",
      "    Raises\n",
      "    ------\n",
      "    StdinNotImplentedError if active frontend doesn't support stdin.\n",
      "\n"
     ]
    }
   ],
   "source": [
    "help (input) #prompt อักษรข้างหน้า"
   ]
  },
  {
   "cell_type": "code",
   "execution_count": 49,
   "metadata": {},
   "outputs": [
    {
     "name": "stdout",
     "output_type": "stream",
     "text": [
      "120\n"
     ]
    }
   ],
   "source": [
    "a= input()"
   ]
  },
  {
   "cell_type": "code",
   "execution_count": 51,
   "metadata": {},
   "outputs": [
    {
     "data": {
      "text/plain": [
       "str"
      ]
     },
     "execution_count": 51,
     "metadata": {},
     "output_type": "execute_result"
    }
   ],
   "source": [
    "type(a) #ชนิดข้อมูล a เป็น string"
   ]
  },
  {
   "cell_type": "code",
   "execution_count": 52,
   "metadata": {},
   "outputs": [
    {
     "name": "stdout",
     "output_type": "stream",
     "text": [
      "Tell me your age28\n",
      "Wow! Your age is  28\n"
     ]
    }
   ],
   "source": [
    "test2word = input(\"Tell me your age\")\n",
    "test2num = int(test2word)\n",
    "print(\"Wow! Your age is \", test2num)"
   ]
  },
  {
   "cell_type": "code",
   "execution_count": 53,
   "metadata": {},
   "outputs": [
    {
     "name": "stdout",
     "output_type": "stream",
     "text": [
      "Tell me your age25.3\n"
     ]
    },
    {
     "ename": "ValueError",
     "evalue": "invalid literal for int() with base 10: '25.3'",
     "output_type": "error",
     "traceback": [
      "\u001b[1;31m---------------------------------------------------------------------------\u001b[0m",
      "\u001b[1;31mValueError\u001b[0m                                Traceback (most recent call last)",
      "\u001b[1;32m<ipython-input-53-8afa3fa97473>\u001b[0m in \u001b[0;36m<module>\u001b[1;34m\u001b[0m\n\u001b[0;32m      1\u001b[0m \u001b[0mtest2word\u001b[0m \u001b[1;33m=\u001b[0m \u001b[0minput\u001b[0m\u001b[1;33m(\u001b[0m\u001b[1;34m\"Tell me your age\"\u001b[0m\u001b[1;33m)\u001b[0m\u001b[1;33m\u001b[0m\u001b[1;33m\u001b[0m\u001b[0m\n\u001b[1;32m----> 2\u001b[1;33m \u001b[0mtest2num\u001b[0m \u001b[1;33m=\u001b[0m \u001b[0mint\u001b[0m\u001b[1;33m(\u001b[0m\u001b[0mtest2word\u001b[0m\u001b[1;33m)\u001b[0m\u001b[1;33m\u001b[0m\u001b[1;33m\u001b[0m\u001b[0m\n\u001b[0m\u001b[0;32m      3\u001b[0m \u001b[0mprint\u001b[0m\u001b[1;33m(\u001b[0m\u001b[1;34m\"Wow! Your age is \"\u001b[0m\u001b[1;33m,\u001b[0m \u001b[0mtest2num\u001b[0m\u001b[1;33m)\u001b[0m\u001b[1;33m\u001b[0m\u001b[1;33m\u001b[0m\u001b[0m\n",
      "\u001b[1;31mValueError\u001b[0m: invalid literal for int() with base 10: '25.3'"
     ]
    }
   ],
   "source": [
    "test2word = input(\"Tell me your age\")\n",
    "test2num = int(test2word)\n",
    "print(\"Wow! Your age is \", test2num)"
   ]
  },
  {
   "cell_type": "code",
   "execution_count": null,
   "metadata": {},
   "outputs": [],
   "source": [
    "test3word = input(\"Tell me your lucky number: \")\n",
    "\n",
    "try:\n",
    "    test3num = int(test3word)\n",
    "    print(\"This is a valid number! Your lucky number is: \", test3num)\n",
    "except ValueError:\n",
    "    print(\"This is not a valid number. It isn't a number at all!\")\n",
    "    print(\"This is a string, go and try again. Better luck next time!\")"
   ]
  },
  {
   "cell_type": "code",
   "execution_count": null,
   "metadata": {},
   "outputs": [],
   "source": [
    "# Makes a function that will contain the\n",
    "# desired program.\n",
    "\n",
    "def example():\n",
    "\n",
    "    # Calls for an infinite loop that keeps executing\n",
    "    # until an exception occurs\n",
    "    while True:\n",
    "        test4word = input(\"What's your name? \")\n",
    "\n",
    "        try:\n",
    "            test4num = int(input(\"From 1 to 7, how many hours do you play in your mobile?\" ))\n",
    "\n",
    "        # If something else that is not the string\n",
    "        # version of a number is introduced, the\n",
    "        # ValueError exception will be called.\n",
    "        except ValueError:\n",
    "            # The cycle will go on until validation\n",
    "            print(\"Error! This is not a number. Try again.\")\n",
    "\n",
    "        # When successfully converted to an integer,\n",
    "        # the loop will end.\n",
    "        else:\n",
    "            print(\"Impressive, \", test4word, \"! You spent\", test4num*60, \n",
    "                  \"minutes or\", test4num*60*60, \"seconds in your mobile!\")\n",
    "            break\n",
    "\n",
    "# The function is called\n",
    "example()"
   ]
  },
  {
   "cell_type": "code",
   "execution_count": null,
   "metadata": {},
   "outputs": [],
   "source": []
  }
 ],
 "metadata": {
  "kernelspec": {
   "display_name": "Python 3",
   "language": "python",
   "name": "python3"
  },
  "language_info": {
   "codemirror_mode": {
    "name": "ipython",
    "version": 3
   },
   "file_extension": ".py",
   "mimetype": "text/x-python",
   "name": "python",
   "nbconvert_exporter": "python",
   "pygments_lexer": "ipython3",
   "version": "3.8.1"
  }
 },
 "nbformat": 4,
 "nbformat_minor": 2
}
