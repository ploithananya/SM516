{
 "cells": [
  {
   "cell_type": "markdown",
   "metadata": {},
   "source": [
    "**<div align=\"right\"> ธนัญญา ธนาวิชิตฤกษ์ <br>วิศวกรรมการเงิน UTCC<br> 1910531201007 </div>**"
   ]
  },
  {
   "cell_type": "markdown",
   "metadata": {},
   "source": [
    "# Chapter 1: Optimization problem"
   ]
  },
  {
   "cell_type": "markdown",
   "metadata": {},
   "source": [
    "## Introduction\n",
    "Optimization problems deal with finding the best way to do a problem, subject to any constraint or restriction on the actions that may be taken to accomplish the task. Many problems can be posed as optimization problems."
   ]
  },
  {
   "cell_type": "markdown",
   "metadata": {},
   "source": [
    "## Example of optimization problems\n",
    "**Financial problem** \n",
    "   - Choosing an investing portfolio to minimize risk or to maximize its return\n",
    "   - Maximizing the profit obtained from selling different products\n",
    "\n",
    "**Engineer**\n",
    "- The design of the shape of an aircraft to maximize the aircraft performance to minimize the construction cost"
   ]
  },
  {
   "cell_type": "markdown",
   "metadata": {},
   "source": [
    "## The standard form of the optimization problems"
   ]
  },
  {
   "cell_type": "markdown",
   "metadata": {},
   "source": [
    "<center> $Min$ $f$($\\bar{x}$) = $f$ $\\in$ & ${\\rm I\\!R^n}$\n",
    "    <center>$Subject$ $to$: ($\\bar{x}$)$\\in$ $\\Omega$ "
   ]
  },
  {
   "cell_type": "markdown",
   "metadata": {},
   "source": [
    "- Where $\\bar{x}$ is a column vector with $n$ elements and $\\bar{x}^T$ is a row vector"
   ]
  },
  {
   "cell_type": "markdown",
   "metadata": {},
   "source": [
    "<center>$$\\bar{x} =\n",
    "\\left[\n",
    "    \\begin{array}{c}\n",
    "     x_1\\\\ x_2 \\\\ . \\\\ . \\\\ . \\\\ n\\\\\n",
    "    \\end{array}\n",
    "\\right],\\;\\;\\bar{x}^T=\\left[\n",
    "    \\begin{array}{rrr}\n",
    "   x_1 & x_2 & . & . & . & n\\\\ \n",
    "   \\end{array}\n",
    "\\right]$$"
   ]
  },
  {
   "cell_type": "markdown",
   "metadata": {},
   "source": [
    "<center>$Or $ $$\\bar{x} =\n",
    "\\left[\n",
    "    \\begin{array}{c}\n",
    "     x_1\\\\ x_2 \\\\ . \\\\ . \\\\ . \\\\ n\\\\\n",
    "    \\end{array}\n",
    "\\right]=\\left[\n",
    "    \\begin{array}{rrr}\n",
    "   x_1 & x_2 & . & . & . & n\\\\ \n",
    "   \\end{array}^T\n",
    "\\right]$$"
   ]
  },
  {
   "cell_type": "markdown",
   "metadata": {},
   "source": [
    "The Euclidean length : $\\parallel \\bar{x}\\parallel$ of $ \\bar\\in\\ {\\rm I\\!R^n}$ is $ \\parallel\\bar{x}\\parallel $ = $(\\sum_{i=0}^n x_i)^\\frac{1}{2}$ =  $\\parallel \\bar{x}\\parallel_2$ (two-norm)\n",
    "\n",
    "The function $f$($\\bar{x}$) is called the objective function.\n",
    "\n",
    "The set $\\Omega$ is subset of n-dimensional euclidean space.\n",
    "\n",
    "${\\rm I\\!R^n}\\;\\; (\\Omega \\subset {\\rm I\\!R^n})$ is called feasible region."
   ]
  },
  {
   "cell_type": "markdown",
   "metadata": {},
   "source": [
    "If $\\Omega$ consists of all points $\\bar{x} \\in {\\rm I\\!R^n}$ which satisfy all constraints $(\\Omega ={\\rm I\\!R^n})$, then the problem is unconstrained.\n",
    "\n",
    "If $(\\Omega \\subset {\\rm I\\!R^n})$, then the problem is constrained."
   ]
  },
  {
   "cell_type": "markdown",
   "metadata": {},
   "source": [
    "Any problem posed as maximization problem can be converted to be a minimization problem by changing the sign of the objective function.\n",
    "\n",
    "\n",
    "\n",
    "<center> The problem:  $Max$ $f$($\\bar{x}$) $\\;\\;$ $\\Rightarrow$$\\;\\;$ $Min$ $- f$($\\bar{x}$)\n",
    "            <center>$\\;\\;$$Subject$ $to$: ($\\bar{x}$)$\\in$ $\\Omega$ \n",
    "                \n",
    "Where $Max$ $f$($\\bar{x}$) and $Min$ $- f$($\\bar{x}$) have the same solution."
   ]
  },
  {
   "cell_type": "markdown",
   "metadata": {},
   "source": [
    "The feasible region $\\Omega$:\n",
    "\n",
    "$\\Omega$ = { $\\bar{x} \\in {\\rm I\\!R^n}|\\ C_i( \\bar{x}) = 0, \\forall_i \\in E (Equality \\;constraints)$} \n",
    "\n",
    "$\\Omega$ = { $\\bar{x} \\in {\\rm I\\!R^n}|\\ C_i( \\bar{x}) \\leqslant 0, \\forall_i \\in I (Inequality \\;constraints)$}"
   ]
  },
  {
   "cell_type": "markdown",
   "metadata": {},
   "source": [
    "### Standard form\n",
    "\n",
    "$Min$ $f$($\\bar{x}$) = $\\bar{x} \\in  {\\rm I\\!R^n}$\n",
    "\n",
    "$Subject$ $to$: \n",
    "- $C_i( \\bar{x}) = 0$, i = 1, 2, ..., m\n",
    "- $C_i( \\bar{x}) \\leqslant$ 0, i = 1, 2, ...,n  "
   ]
  },
  {
   "cell_type": "markdown",
   "metadata": {},
   "source": [
    "## Exercise"
   ]
  },
  {
   "cell_type": "markdown",
   "metadata": {},
   "source": [
    "### Ex.1 (Post office parcle problem)\n",
    "This length plus the girth of any parcel sent through the post must not exceed 1.8 meters and the girth as the distance perpendicular to the lenght around the parcel. What are the dimension of the parcel with rectangular sides of the largest volume that could be sent the post?"
   ]
  },
  {
   "cell_type": "markdown",
   "metadata": {},
   "source": [
    "Let,$\\ x_1 $ = Lenght <br>\n",
    "        $\\;\\;\\;\\;$ $\\ x_2$ = Width<br>$\\;\\;\\;\\;$ $\\ x_3$ = Depth\n",
    "\n",
    "\n",
    "$Max$ $f$($\\bar{x}$) = $\\ x_1 *\\ x_2 * \\ x_3$\n",
    "\n",
    "$Subject$ $to$: \n",
    "- $C_1 $ $\\ x_1 +\\ 2x_2 + \\ 2x_3$  $\\leqslant$ 1.8\n",
    "- $C_2 $: $\\ x_1,\\ x_2, \\ x_3 \\geqslant 0 $\n",
    "- $C_3 $: $\\ x_2, \\ x_3 \\geqslant $$\\ x_1$\n",
    "\n",
    "**Standard form**\n",
    "$Min$ $f$($\\bar{x}$) = $\\ -(x_1 *\\ x_2 * \\ x_3)$\n",
    "\n",
    "$Subject$ $to$: \n",
    "- $C_1 $ $\\ x_1 +\\ 2x_2 + \\ 2x_3 -1.8$   $\\leqslant$ $0$\n",
    "- $C_2 $: $\\ -x_1,\\ -x_2, \\ -x_3 \\leqslant 0 $\n",
    "- $C_3 $: $\\ x_2 -  \\ x_1 \\leqslant $$0$ \n",
    "- $C_4 $: $\\ x_3 - \\ x_1 \\leqslant $$0$ "
   ]
  },
  {
   "cell_type": "markdown",
   "metadata": {},
   "source": [
    "### Ex.2 (Portfoilio optimization)\n",
    "\n",
    "Let $ \\ x_1$ = percentage of assets are allocated to the porperty trust \n",
    "        <br>$\\;\\;\\;\\;$ $\\ x_2$ = percentage of assets are allocated to the share trust\n",
    "        <br>$\\;\\;\\;\\;$ and $0 \\leqslant \\ x_i \\leqslant 1,\\;\\;\\; i = 1, 2 $ \n",
    "        <br>$\\;\\;\\;\\;$ and$\\ x_1 + \\ x_2  \\leqslant 1 $\n",
    "        \n",
    "Constraints: $0.2 \\leqslant \\ x_1 \\leqslant 0.8, \\;\\;\\; \\bar{x}$= $\\left[\n",
    "    \\begin{array}{c}\n",
    "    \\ x_1 \\\\ \\ x_2\n",
    "    \\end{array}\n",
    "\\right]$\n",
    "  <br>$\\;\\;\\;\\;\\;\\;\\;\\;\\;\\;\\;\\;\\;\\;\\;$ $0.1 \\leqslant \\ x_2 \\leqslant 1$\n",
    "  \n",
    "  $\\Omega$ = { $\\bar{x} \\in  {\\rm I\\!R^2}|$ $\\left[\n",
    "    \\begin{array}{c}\n",
    "    0.2 \\\\ 0.1\n",
    "    \\end{array}\n",
    "\\right]$ $\\leqslant \\bar{x} \\leqslant $ $\\left[\n",
    "    \\begin{array}{c}\n",
    "    0.8 \\\\ 1\n",
    "    \\end{array}\n",
    "\\right]$, $\\;\\; \\ x_1 + \\ x_2  \\leqslant 1 $}\n",
    "\n",
    "2.1 Maximize the expected return\n",
    "    Expected return is  $ 0.05\\ x_1 + 0.12 \\ x_2$ = $r^T \\bar{x}$ when r = $\\left[\n",
    "    \\begin{array}{c}\n",
    "   0.05 \\\\ 0.12\n",
    "    \\end{array}\n",
    "\\right]$ and $ \\bar{x}$ = $\\left[\n",
    "    \\begin{array}{c}\n",
    "    \\ x_1 \\\\ \\ x_2\n",
    "    \\end{array}\n",
    "\\right]$\n",
    "\n",
    " $r^T \\bar{x} =  \\bar{x}^Tr$ = $\\left[\n",
    "    \\begin{array}{c}\n",
    "   \\ x_1 & \\ x_2\n",
    "    \\end{array}\n",
    "\\right]$ $\\left[\n",
    "    \\begin{array}{c}\n",
    "   0.05 \\\\ 0.12\n",
    "    \\end{array}\n",
    "\\right]$ = $ 0.05\\ x_1 + 0.12 \\ x_2$ = $r^T \\bar{x}$ \n",
    "\n",
    "Optimization problem: $Max f_r (\\bar{x}) = \\bar{x}^Tr, \\bar{x} \\in {\\rm I\\!R^2} $\n",
    "<br> $\\;\\;\\;\\;\\;\\;\\;\\;\\;\\;\\;\\;\\;\\;\\;\\;\\;\\;\\;\\;\\;\\;\\;\\;\\;\\;\\;\\;Subject$ $ to$ ($\\bar{x}$)$\\in$ $\\Omega$ \n",
    "\n",
    "<br>As the objective and all constraints are linear programming problem."
   ]
  }
 ],
 "metadata": {
  "kernelspec": {
   "display_name": "Python 3",
   "language": "python",
   "name": "python3"
  },
  "language_info": {
   "codemirror_mode": {
    "name": "ipython",
    "version": 3
   },
   "file_extension": ".py",
   "mimetype": "text/x-python",
   "name": "python",
   "nbconvert_exporter": "python",
   "pygments_lexer": "ipython3",
   "version": "3.8.1"
  }
 },
 "nbformat": 4,
 "nbformat_minor": 2
}
