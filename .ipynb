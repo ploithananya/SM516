{
 "cells": [
  {
   "cell_type": "markdown",
   "metadata": {},
   "source": [
    "# <center>SM516 การโปรแกรมขั้นสูง"
   ]
  },
  {
   "cell_type": "markdown",
   "metadata": {},
   "source": [
    "<img src=\"images/Ploythananya.jpg\" width = 120 align=\"right\">"
   ]
  },
  {
   "cell_type": "markdown",
   "metadata": {},
   "source": [
    "**<div align=\"right\"> ธนัญญา ธนาวิชิตฤกษ์ <br>วิศวกรรมการเงิน UTCC<br> ๑๑ มกราคม ๒๕๖๓ </div>**"
   ]
  },
  {
   "cell_type": "markdown",
   "metadata": {},
   "source": [
    "## การวัดผล\n",
    "\n",
    "1. กิจกรรมในห้องเรียน 40%\n",
    "    - สมุดจด 30%\n",
    "    - การโปรแกรม 10%\n",
    "1. การบ้าน 20% $\\rightarrow$ จัดเก็บลงบน **flashdrive** ส่งในวันสอบปลายภาค\n",
    "1. สอบปลายภาค 60% (ได้คะแนนน้อยกว่า 15% ให้เรียนใหม่)"
   ]
  },
  {
   "cell_type": "markdown",
   "metadata": {},
   "source": [
    "## การติดตั้งโปรแกรม\n",
    "\n",
    "* [WinPython](https://winpython.github.io/)\n",
    "![](https://winpython.github.io/images/winpython_title.png)\n"
   ]
  },
  {
   "cell_type": "markdown",
   "metadata": {},
   "source": [
    "### เนื้อหา\n",
    "* Python\n",
    "    - Installation\n",
    "    - Jupyter notebook\n",
    "        - Markdown\n",
    "            - Markdown\n",
    "            - Html\n",
    "            - Latext\n",
    "    - Object Oriented Programming (OOP)\n",
    "        - Object\n",
    "            - Single object\n",
    "            - Containers\n",
    "            - OOP\n",
    "        - Expression\n",
    "            - Corporators\n",
    "            - Logic\n",
    "        - Commands\n",
    "            - Conditions\n",
    "            - Repetition\n",
    "        - Module\n",
    "            - Packages\n",
    "                - Math and cmath\n",
    "                - NumPy\n",
    "                - Mathplotlib\n",
    "                - Pandas\n",
    "                - SymPy\n",
    "        - Program\n",
    "            - Jupyter Notebook/Jupyter Lab\n",
    "            - Vscode\n",
    "            - PyCharm\n",
    "            * Repository and code Version Control (GitHub) \n",
    "            * Python for Finance\n",
    "            * Python for Statistics\n",
    "* R Programing\n"
   ]
  },
  {
   "cell_type": "markdown",
   "metadata": {},
   "source": [
    " `Ploy` "
   ]
  },
  {
   "cell_type": "markdown",
   "metadata": {},
   "source": [
    "## เอกสารอ้างอิง\n",
    "\n",
    "\n",
    "* หนังสือหลักสำหรับ Python คือ Mark Lutz [Learning Python, 5th Edition](https://www.amazon.com/Learning-Python-5th-Mark-Lutz/dp/1449355730)"
   ]
  },
  {
   "cell_type": "markdown",
   "metadata": {},
   "source": [
    "**<u>เอกสาร</u>**"
   ]
  },
  {
   "cell_type": "code",
   "execution_count": 6,
   "metadata": {},
   "outputs": [
    {
     "data": {
      "image/jpeg": "[encoded data removed]",
      "text/html": [
       "\n",
       "        <iframe\n",
       "            width=\"1024\"\n",
       "            height=\"576\"\n",
       "            src=\"https://www.youtube.com/embed/rIzDYaWTJzY\"\n",
       "            frameborder=\"0\"\n",
       "            allowfullscreen\n",
       "        ></iframe>\n",
       "        "
      ],
      "text/plain": [
       "<IPython.lib.display.YouTubeVideo at 0x299ce0b4348>"
      ]
     },
     "execution_count": 6,
     "metadata": {},
     "output_type": "execute_result"
    }
   ],
   "source": [
    "from IPython.lib.display import YouTubeVideo\n",
    "YouTubeVideo('rIzDYaWTJzY', width= 1024, height=576)"
   ]
  },
  {
   "cell_type": "markdown",
   "metadata": {},
   "source": [
    "$\\alpha$\n",
    "$$ax^2+bx+c=0 \\tag{1}$$"
   ]
  },
  {
   "cell_type": "markdown",
   "metadata": {},
   "source": [
    "$$x= \\frac{-b\\pm\\sqrt{b^2-4ac}}{2a}\\tag{2} $$"
   ]
  },
  {
   "cell_type": "markdown",
   "metadata": {},
   "source": [
    "$$\n",
    "\\left[\n",
    "\\begin{array}{rrr}\n",
    "-1 & 0 & 1 \\\\\n",
    "-2 & -3 & 4 \\\\\n",
    "3 & 12 & 256 \\\\\n",
    "\\end{array}\n",
    "\\right]\n",
    "\\left[\n",
    "\\begin{array}{c}\n",
    "x \\\\ y \\\\ z \\\\\n",
    "\\end{array}\n",
    "\\right]\n",
    "=\n",
    "\\left[\n",
    "\\begin{array}{1}\n",
    "8 \\\\ 7 \\\\ 12\n",
    "\\end{array}\n",
    "\\right]\n",
    "\\tag{3} \n",
    "$$"
   ]
  },
  {
   "cell_type": "code",
   "execution_count": null,
   "metadata": {},
   "outputs": [],
   "source": []
  }
 ],
 "metadata": {
  "kernelspec": {
   "display_name": "Python 3",
   "language": "python",
   "name": "python3"
  },
  "language_info": {
   "codemirror_mode": {
    "name": "ipython",
    "version": 3
   },
   "file_extension": ".py",
   "mimetype": "text/x-python",
   "name": "python",
   "nbconvert_exporter": "python",
   "pygments_lexer": "ipython3",
   "version": "3.7.6"
  }
 },
 "nbformat": 4,
 "nbformat_minor": 2
}
